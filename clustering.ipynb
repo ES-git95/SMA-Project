{
 "cells": [
  {
   "cell_type": "code",
   "execution_count": 4,
   "metadata": {},
   "outputs": [],
   "source": [
    "import pandas as pd\n",
    "import numpy as np"
   ]
  },
  {
   "cell_type": "code",
   "execution_count": 5,
   "metadata": {},
   "outputs": [],
   "source": [
    "#Importo data di tweet e retweets\n",
    "tweets=pd.read_csv(\"tweets.csv\")\n",
    "tweets=tweets.drop(\"Unnamed: 0\",axis=1)\n",
    "retweetted=pd.read_csv(\"retweetted.csv\")\n",
    "retweetted=retweetted.drop(\"Unnamed: 0\",axis=1)"
   ]
  },
  {
   "cell_type": "code",
   "execution_count": 6,
   "metadata": {},
   "outputs": [
    {
     "data": {
      "text/html": [
       "<div>\n",
       "<style scoped>\n",
       "    .dataframe tbody tr th:only-of-type {\n",
       "        vertical-align: middle;\n",
       "    }\n",
       "\n",
       "    .dataframe tbody tr th {\n",
       "        vertical-align: top;\n",
       "    }\n",
       "\n",
       "    .dataframe thead th {\n",
       "        text-align: right;\n",
       "    }\n",
       "</style>\n",
       "<table border=\"1\" class=\"dataframe\">\n",
       "  <thead>\n",
       "    <tr style=\"text-align: right;\">\n",
       "      <th></th>\n",
       "      <th>date</th>\n",
       "      <th>id</th>\n",
       "      <th>author_id</th>\n",
       "      <th>text</th>\n",
       "      <th>like</th>\n",
       "      <th>n_rt</th>\n",
       "      <th>author</th>\n",
       "    </tr>\n",
       "  </thead>\n",
       "  <tbody>\n",
       "    <tr>\n",
       "      <th>1042</th>\n",
       "      <td>2021-09-06 20:26:42+00:00</td>\n",
       "      <td>1434976371336433667</td>\n",
       "      <td>420931672</td>\n",
       "      <td>#Cacciari: \"È l'ultimo atto di una vicenda, ormai pluridecennale, noi stiamo passando da 20 anni da emergenza a eme… https://t.co/Et63HUOb3t</td>\n",
       "      <td>1936</td>\n",
       "      <td>797</td>\n",
       "      <td>EmeiMarkus</td>\n",
       "    </tr>\n",
       "    <tr>\n",
       "      <th>1083</th>\n",
       "      <td>2021-12-20 11:35:57+00:00</td>\n",
       "      <td>1472893531769430019</td>\n",
       "      <td>112832545</td>\n",
       "      <td>- Mi racconti una barzelletta?\\r\\n- Tre dosi per poi finire a fare la fila davanti alle farmacie insieme ai #novax. \\r\\n\\r\\n#tamponeobbligatorio</td>\n",
       "      <td>2466</td>\n",
       "      <td>627</td>\n",
       "      <td>_GrayDorian</td>\n",
       "    </tr>\n",
       "    <tr>\n",
       "      <th>1817</th>\n",
       "      <td>2021-12-20 11:35:57+00:00</td>\n",
       "      <td>1472893531769430019</td>\n",
       "      <td>112832545</td>\n",
       "      <td>- Mi racconti una barzelletta?\\r\\n- Tre dosi per poi finire a fare la fila davanti alle farmacie insieme ai #novax. \\r\\n\\r\\n#tamponeobbligatorio</td>\n",
       "      <td>2467</td>\n",
       "      <td>627</td>\n",
       "      <td>_GrayDorian</td>\n",
       "    </tr>\n",
       "    <tr>\n",
       "      <th>1020</th>\n",
       "      <td>2021-12-09 19:45:15+00:00</td>\n",
       "      <td>1469030399368118273</td>\n",
       "      <td>16145985</td>\n",
       "      <td>Domandina semplice semplice: il #covid a #LaScala è stato introdotto dai #NoVax cattivi e fassisti o da qualche pos… https://t.co/iNzaMvB2yp</td>\n",
       "      <td>1383</td>\n",
       "      <td>534</td>\n",
       "      <td>Giorgiolaporta</td>\n",
       "    </tr>\n",
       "    <tr>\n",
       "      <th>2408</th>\n",
       "      <td>2021-12-15 12:03:10+00:00</td>\n",
       "      <td>1471088440259362818</td>\n",
       "      <td>420931672</td>\n",
       "      <td>Dott. Giovanni #Frajese - medico endocrinologo e compagno di studi di #Sileri: \"Tra i 5 e gli 11 anni, secondo voi,… https://t.co/Z4G2bjD5kg</td>\n",
       "      <td>900</td>\n",
       "      <td>526</td>\n",
       "      <td>EmeiMarkus</td>\n",
       "    </tr>\n",
       "  </tbody>\n",
       "</table>\n",
       "</div>"
      ],
      "text/plain": [
       "                           date                   id  author_id  \\\n",
       "1042  2021-09-06 20:26:42+00:00  1434976371336433667  420931672   \n",
       "1083  2021-12-20 11:35:57+00:00  1472893531769430019  112832545   \n",
       "1817  2021-12-20 11:35:57+00:00  1472893531769430019  112832545   \n",
       "1020  2021-12-09 19:45:15+00:00  1469030399368118273   16145985   \n",
       "2408  2021-12-15 12:03:10+00:00  1471088440259362818  420931672   \n",
       "\n",
       "                                                                                                                                                  text  \\\n",
       "1042      #Cacciari: \"È l'ultimo atto di una vicenda, ormai pluridecennale, noi stiamo passando da 20 anni da emergenza a eme… https://t.co/Et63HUOb3t   \n",
       "1083  - Mi racconti una barzelletta?\\r\\n- Tre dosi per poi finire a fare la fila davanti alle farmacie insieme ai #novax. \\r\\n\\r\\n#tamponeobbligatorio   \n",
       "1817  - Mi racconti una barzelletta?\\r\\n- Tre dosi per poi finire a fare la fila davanti alle farmacie insieme ai #novax. \\r\\n\\r\\n#tamponeobbligatorio   \n",
       "1020      Domandina semplice semplice: il #covid a #LaScala è stato introdotto dai #NoVax cattivi e fassisti o da qualche pos… https://t.co/iNzaMvB2yp   \n",
       "2408      Dott. Giovanni #Frajese - medico endocrinologo e compagno di studi di #Sileri: \"Tra i 5 e gli 11 anni, secondo voi,… https://t.co/Z4G2bjD5kg   \n",
       "\n",
       "      like  n_rt          author  \n",
       "1042  1936   797      EmeiMarkus  \n",
       "1083  2466   627     _GrayDorian  \n",
       "1817  2467   627     _GrayDorian  \n",
       "1020  1383   534  Giorgiolaporta  \n",
       "2408   900   526      EmeiMarkus  "
      ]
     },
     "execution_count": 6,
     "metadata": {},
     "output_type": "execute_result"
    }
   ],
   "source": [
    "#lettura dei tweet più retweettati\n",
    "pd.set_option('display.max_colwidth', None)\n",
    "#selezione dei tweet più retwettati \n",
    "top20_rt=retweetted.sort_values(\"n_rt\",ascending=False).drop_duplicates().head(20)\n",
    "top20_rt.head()"
   ]
  },
  {
   "cell_type": "code",
   "execution_count": 13,
   "metadata": {},
   "outputs": [],
   "source": [
    "#selezioniamo gli id dei tweet nella top20_rt raggruppandoli in novax,neutro e provax\n",
    "id_novax=[1434976371336433667,1469030399368118273]\n",
    "id_neutro=[]\n",
    "id_provax=[]"
   ]
  },
  {
   "cell_type": "code",
   "execution_count": 14,
   "metadata": {},
   "outputs": [],
   "source": [
    "#assegnazione cluster novax\n",
    "for codice in id_novax:\n",
    "    top20_rt.loc[top20_rt['id'] ==codice, 'cluster'] = \"novax\"\n",
    "#assegnazione cluster neutro\n",
    "for codice in id_neutro:\n",
    "    top20_rt.loc[top20_rt['id'] ==codice, 'cluster'] = \"neutro\"\n",
    "#assegnazione cluster provax\n",
    "for codice in id_provax:\n",
    "    top20_rt.loc[top20_rt['id'] ==codice, 'cluster'] = \"provax\""
   ]
  },
  {
   "cell_type": "code",
   "execution_count": 11,
   "metadata": {},
   "outputs": [
    {
     "data": {
      "text/plain": [
       "1042    novax\n",
       "1083      NaN\n",
       "1817      NaN\n",
       "1020    novax\n",
       "2408      NaN\n",
       "3027      NaN\n",
       "3993      NaN\n",
       "4591      NaN\n",
       "4163      NaN\n",
       "2709      NaN\n",
       "5433      NaN\n",
       "2999      NaN\n",
       "2403      NaN\n",
       "3596      NaN\n",
       "3085      NaN\n",
       "3358      NaN\n",
       "4813      NaN\n",
       "2970      NaN\n",
       "1021      NaN\n",
       "2745      NaN\n",
       "Name: cluster, dtype: object"
      ]
     },
     "execution_count": 11,
     "metadata": {},
     "output_type": "execute_result"
    }
   ],
   "source": [
    "top20_rt[\"cluster\"]"
   ]
  },
  {
   "cell_type": "code",
   "execution_count": 50,
   "metadata": {},
   "outputs": [
    {
     "data": {
      "text/plain": [
       "1042    novax\n",
       "1083      NaN\n",
       "1817      NaN\n",
       "1020    novax\n",
       "2408    novax\n",
       "3027      NaN\n",
       "3993      NaN\n",
       "4591      NaN\n",
       "4163      NaN\n",
       "2709      NaN\n",
       "5433      NaN\n",
       "2999      NaN\n",
       "2403      NaN\n",
       "3596      NaN\n",
       "3085      NaN\n",
       "3358      NaN\n",
       "4813      NaN\n",
       "2970      NaN\n",
       "1021      NaN\n",
       "2745      NaN\n",
       "Name: cluster, dtype: object"
      ]
     },
     "execution_count": 50,
     "metadata": {},
     "output_type": "execute_result"
    }
   ],
   "source": [
    "top20_rt.loc[(top20_rt['id'] ==1434976371336433667) | (top20_rt['id']==1469030399368118273), 'cluster'] = \"novax\"\n",
    "top20_rt[\"cluster\"]"
   ]
  },
  {
   "cell_type": "code",
   "execution_count": null,
   "metadata": {},
   "outputs": [],
   "source": []
  }
 ],
 "metadata": {
  "interpreter": {
   "hash": "b3ba2566441a7c06988d0923437866b63cedc61552a5af99d1f4fb67d367b25f"
  },
  "kernelspec": {
   "display_name": "Python 3.8.5 64-bit ('base': conda)",
   "language": "python",
   "name": "python3"
  },
  "language_info": {
   "codemirror_mode": {
    "name": "ipython",
    "version": 3
   },
   "file_extension": ".py",
   "mimetype": "text/x-python",
   "name": "python",
   "nbconvert_exporter": "python",
   "pygments_lexer": "ipython3",
   "version": "3.8.5"
  },
  "orig_nbformat": 4
 },
 "nbformat": 4,
 "nbformat_minor": 2
}
