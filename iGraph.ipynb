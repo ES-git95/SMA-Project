{
 "cells": [
  {
   "cell_type": "code",
   "execution_count": 14,
   "metadata": {},
   "outputs": [],
   "source": [
    "import pandas as pd\n",
    "import numpy as np\n",
    "import igraph\n",
    "#igraph.Graph.community_fastgreedy()\n",
    "from igraph import *"
   ]
  },
  {
   "cell_type": "code",
   "execution_count": 15,
   "metadata": {},
   "outputs": [],
   "source": [
    "nodes=pd.read_csv(\"Nodes_df4.csv\")\n",
    "edges=pd.read_csv(\"Edges_df4.csv\")\n",
    "retweetted=pd.read_csv(\"retweetted2_nogreenpass_vaccinatevi_casapound.csv\")\n",
    "lista_edges=list(zip(edges[\"Source\"],edges[\"Target\"]))"
   ]
  },
  {
   "cell_type": "code",
   "execution_count": null,
   "metadata": {},
   "outputs": [],
   "source": []
  },
  {
   "cell_type": "code",
   "execution_count": null,
   "metadata": {},
   "outputs": [
    {
     "data": {
      "text/html": [
       "<div>\n",
       "<style scoped>\n",
       "    .dataframe tbody tr th:only-of-type {\n",
       "        vertical-align: middle;\n",
       "    }\n",
       "\n",
       "    .dataframe tbody tr th {\n",
       "        vertical-align: top;\n",
       "    }\n",
       "\n",
       "    .dataframe thead th {\n",
       "        text-align: right;\n",
       "    }\n",
       "</style>\n",
       "<table border=\"1\" class=\"dataframe\">\n",
       "  <thead>\n",
       "    <tr style=\"text-align: right;\">\n",
       "      <th></th>\n",
       "      <th>Source</th>\n",
       "      <th>Target</th>\n",
       "      <th>Type</th>\n",
       "      <th>Kind</th>\n",
       "      <th>Id</th>\n",
       "      <th>Label</th>\n",
       "      <th>Interval</th>\n",
       "      <th>Weight</th>\n",
       "    </tr>\n",
       "  </thead>\n",
       "  <tbody>\n",
       "    <tr>\n",
       "      <th>0</th>\n",
       "      <td>321228288</td>\n",
       "      <td>1173223843</td>\n",
       "      <td>Directed</td>\n",
       "      <td>NaN</td>\n",
       "      <td>1</td>\n",
       "      <td>NaN</td>\n",
       "      <td>NaN</td>\n",
       "      <td>1.0</td>\n",
       "    </tr>\n",
       "    <tr>\n",
       "      <th>1</th>\n",
       "      <td>1426639026824564737</td>\n",
       "      <td>1364298062919794688</td>\n",
       "      <td>Directed</td>\n",
       "      <td>NaN</td>\n",
       "      <td>2</td>\n",
       "      <td>NaN</td>\n",
       "      <td>NaN</td>\n",
       "      <td>1.0</td>\n",
       "    </tr>\n",
       "    <tr>\n",
       "      <th>2</th>\n",
       "      <td>272945830</td>\n",
       "      <td>2380463039</td>\n",
       "      <td>Directed</td>\n",
       "      <td>NaN</td>\n",
       "      <td>3</td>\n",
       "      <td>NaN</td>\n",
       "      <td>NaN</td>\n",
       "      <td>1.0</td>\n",
       "    </tr>\n",
       "    <tr>\n",
       "      <th>3</th>\n",
       "      <td>745351426117869568</td>\n",
       "      <td>1238800491632607232</td>\n",
       "      <td>Directed</td>\n",
       "      <td>NaN</td>\n",
       "      <td>4</td>\n",
       "      <td>NaN</td>\n",
       "      <td>NaN</td>\n",
       "      <td>1.0</td>\n",
       "    </tr>\n",
       "    <tr>\n",
       "      <th>4</th>\n",
       "      <td>798461063494828032</td>\n",
       "      <td>1173223843</td>\n",
       "      <td>Directed</td>\n",
       "      <td>NaN</td>\n",
       "      <td>5</td>\n",
       "      <td>NaN</td>\n",
       "      <td>NaN</td>\n",
       "      <td>1.0</td>\n",
       "    </tr>\n",
       "  </tbody>\n",
       "</table>\n",
       "</div>"
      ],
      "text/plain": [
       "                Source               Target      Type  Kind  Id  Label  \\\n",
       "0            321228288           1173223843  Directed   NaN   1    NaN   \n",
       "1  1426639026824564737  1364298062919794688  Directed   NaN   2    NaN   \n",
       "2            272945830           2380463039  Directed   NaN   3    NaN   \n",
       "3   745351426117869568  1238800491632607232  Directed   NaN   4    NaN   \n",
       "4   798461063494828032           1173223843  Directed   NaN   5    NaN   \n",
       "\n",
       "   Interval  Weight  \n",
       "0       NaN     1.0  \n",
       "1       NaN     1.0  \n",
       "2       NaN     1.0  \n",
       "3       NaN     1.0  \n",
       "4       NaN     1.0  "
      ]
     },
     "execution_count": 7,
     "metadata": {},
     "output_type": "execute_result"
    }
   ],
   "source": [
    "edges.head()"
   ]
  },
  {
   "cell_type": "markdown",
   "metadata": {},
   "source": [
    "Creazione rete"
   ]
  },
  {
   "cell_type": "code",
   "execution_count": 17,
   "metadata": {},
   "outputs": [
    {
     "data": {
      "text/plain": [
       "5587"
      ]
     },
     "execution_count": 17,
     "metadata": {},
     "output_type": "execute_result"
    }
   ],
   "source": [
    "#g.add_vertices(nodes[\"Id\"],attributes=nodes[[\"Label\",\"Colour\"]])\n",
    "#g=Graph.TupleList(lista_edges,directed=True)\n",
    "#len(g.get_edgelist())\n",
    "#OPPURE\n",
    "g = Graph.DataFrame(edges[[\"Source\",\"Target\"]], directed=True)\n",
    "len(g.get_edgelist())"
   ]
  },
  {
   "cell_type": "code",
   "execution_count": null,
   "metadata": {},
   "outputs": [],
   "source": [
    "#Rappresentazione grafo (per ridere)\n",
    "#layout = g.layout(\"kk\")\n",
    "#plot(g, layout=layout)"
   ]
  },
  {
   "cell_type": "markdown",
   "metadata": {},
   "source": [
    "##### Clustering"
   ]
  },
  {
   "cell_type": "markdown",
   "metadata": {},
   "source": [
    "Betweness"
   ]
  },
  {
   "cell_type": "code",
   "execution_count": 18,
   "metadata": {},
   "outputs": [
    {
     "ename": "KeyboardInterrupt",
     "evalue": "",
     "output_type": "error",
     "traceback": [
      "\u001b[1;31m---------------------------------------------------------------------------\u001b[0m",
      "\u001b[1;31mKeyboardInterrupt\u001b[0m                         Traceback (most recent call last)",
      "\u001b[1;32m<ipython-input-18-701d7d2d1f80>\u001b[0m in \u001b[0;36m<module>\u001b[1;34m\u001b[0m\n\u001b[1;32m----> 1\u001b[1;33m \u001b[0mdendogram\u001b[0m\u001b[1;33m=\u001b[0m\u001b[0mg\u001b[0m\u001b[1;33m.\u001b[0m\u001b[0mcommunity_edge_betweenness\u001b[0m\u001b[1;33m(\u001b[0m\u001b[0mdirected\u001b[0m\u001b[1;33m=\u001b[0m\u001b[1;32mTrue\u001b[0m\u001b[1;33m,\u001b[0m\u001b[0mclusters\u001b[0m\u001b[1;33m=\u001b[0m\u001b[1;36m100\u001b[0m\u001b[1;33m)\u001b[0m\u001b[1;33m\u001b[0m\u001b[1;33m\u001b[0m\u001b[0m\n\u001b[0m\u001b[0;32m      2\u001b[0m \u001b[1;31m#con numeri minori di 84 da errore nel clustering\u001b[0m\u001b[1;33m\u001b[0m\u001b[1;33m\u001b[0m\u001b[1;33m\u001b[0m\u001b[0m\n\u001b[0;32m      3\u001b[0m \u001b[0mbetweenness\u001b[0m\u001b[1;33m=\u001b[0m\u001b[0mdendogram\u001b[0m\u001b[1;33m.\u001b[0m\u001b[0mas_clustering\u001b[0m\u001b[1;33m(\u001b[0m\u001b[0mn\u001b[0m\u001b[1;33m=\u001b[0m\u001b[1;36m84\u001b[0m\u001b[1;33m)\u001b[0m\u001b[1;33m\u001b[0m\u001b[1;33m\u001b[0m\u001b[0m\n\u001b[0;32m      4\u001b[0m \u001b[0mbetweenness\u001b[0m\u001b[1;33m.\u001b[0m\u001b[0msummary\u001b[0m\u001b[1;33m(\u001b[0m\u001b[1;33m)\u001b[0m\u001b[1;33m\u001b[0m\u001b[1;33m\u001b[0m\u001b[0m\n",
      "\u001b[1;32mC:\\ProgramData\\Anaconda3\\lib\\site-packages\\igraph\\__init__.py\u001b[0m in \u001b[0;36mcommunity_edge_betweenness\u001b[1;34m(self, clusters, directed, weights)\u001b[0m\n\u001b[0;32m   1415\u001b[0m           \u001b[0mmodularity\u001b[0m \u001b[1;32mor\u001b[0m \u001b[0mat\u001b[0m \u001b[0mthe\u001b[0m \u001b[0mdesired\u001b[0m \u001b[0mnumber\u001b[0m \u001b[0mof\u001b[0m \u001b[0mclusters\u001b[0m\u001b[1;33m.\u001b[0m\u001b[1;33m\u001b[0m\u001b[1;33m\u001b[0m\u001b[0m\n\u001b[0;32m   1416\u001b[0m         \"\"\"\n\u001b[1;32m-> 1417\u001b[1;33m         \u001b[0mmerges\u001b[0m\u001b[1;33m,\u001b[0m \u001b[0mqs\u001b[0m \u001b[1;33m=\u001b[0m \u001b[0mGraphBase\u001b[0m\u001b[1;33m.\u001b[0m\u001b[0mcommunity_edge_betweenness\u001b[0m\u001b[1;33m(\u001b[0m\u001b[0mself\u001b[0m\u001b[1;33m,\u001b[0m \u001b[0mdirected\u001b[0m\u001b[1;33m,\u001b[0m \u001b[0mweights\u001b[0m\u001b[1;33m)\u001b[0m\u001b[1;33m\u001b[0m\u001b[1;33m\u001b[0m\u001b[0m\n\u001b[0m\u001b[0;32m   1418\u001b[0m         \u001b[1;32mif\u001b[0m \u001b[0mqs\u001b[0m \u001b[1;32mis\u001b[0m \u001b[1;32mnot\u001b[0m \u001b[1;32mNone\u001b[0m\u001b[1;33m:\u001b[0m\u001b[1;33m\u001b[0m\u001b[1;33m\u001b[0m\u001b[0m\n\u001b[0;32m   1419\u001b[0m             \u001b[0mqs\u001b[0m\u001b[1;33m.\u001b[0m\u001b[0mreverse\u001b[0m\u001b[1;33m(\u001b[0m\u001b[1;33m)\u001b[0m\u001b[1;33m\u001b[0m\u001b[1;33m\u001b[0m\u001b[0m\n",
      "\u001b[1;31mKeyboardInterrupt\u001b[0m: "
     ]
    }
   ],
   "source": [
    "dendogram=g.community_edge_betweenness(directed=True,clusters=100)\n",
    "#con numeri minori di 84 da errore nel clustering \n",
    "betweenness=dendogram.as_clustering(n=84)\n",
    "betweenness.summary()"
   ]
  },
  {
   "cell_type": "code",
   "execution_count": 56,
   "metadata": {},
   "outputs": [
    {
     "data": {
      "text/plain": [
       "array([[<AxesSubplot:title={'center':'cluster'}>]], dtype=object)"
      ]
     },
     "execution_count": 56,
     "metadata": {},
     "output_type": "execute_result"
    },
    {
     "data": {
      "image/png": "[encoded data removed]",
      "text/plain": [
       "<Figure size 432x288 with 1 Axes>"
      ]
     },
     "metadata": {
      "needs_background": "light"
     },
     "output_type": "display_data"
    }
   ],
   "source": [
    "#estrazione e plot cluster betweenness (sono tutti dello stesso cluster)\n",
    "clusters_betweenness=pd.DataFrame(betweenness._membership,columns=[\"cluster\"])\n",
    "clusters_betweenness.hist()"
   ]
  },
  {
   "cell_type": "markdown",
   "metadata": {},
   "source": [
    "Eigen Vector"
   ]
  },
  {
   "cell_type": "code",
   "execution_count": 53,
   "metadata": {},
   "outputs": [
    {
     "name": "stderr",
     "output_type": "stream",
     "text": [
      "C:\\ProgramData\\Anaconda3\\lib\\site-packages\\igraph\\__init__.py:1281: RuntimeWarning: This method was developed for undirected graphs at src/community/leading_eigenvector.c:530\n",
      "  membership, _, q = GraphBase.community_leading_eigenvector(\n"
     ]
    },
    {
     "data": {
      "text/plain": [
       "'Clustering with 3735 elements and 119 clusters'"
      ]
     },
     "execution_count": 53,
     "metadata": {},
     "output_type": "execute_result"
    }
   ],
   "source": [
    "#il minor numero di cluster con l'eigen è 84\n",
    "eigen=g.community_leading_eigenvector(clusters=500)\n",
    "eigen.summary()"
   ]
  },
  {
   "cell_type": "code",
   "execution_count": 44,
   "metadata": {},
   "outputs": [
    {
     "data": {
      "text/plain": [
       "array([[<AxesSubplot:title={'center':'cluster'}>]], dtype=object)"
      ]
     },
     "execution_count": 44,
     "metadata": {},
     "output_type": "execute_result"
    },
    {
     "data": {
      "image/png": "[encoded data removed]",
      "text/plain": [
       "<Figure size 432x288 with 1 Axes>"
      ]
     },
     "metadata": {
      "needs_background": "light"
     },
     "output_type": "display_data"
    }
   ],
   "source": [
    "#estrazione e plot cluster betweenness\n",
    "clusters_eigen=pd.DataFrame(eigen._membership,columns=[\"cluster\"])\n",
    "clusters_eigen.hist()"
   ]
  },
  {
   "cell_type": "code",
   "execution_count": 60,
   "metadata": {},
   "outputs": [],
   "source": [
    "nodes[\"eigen\"]=clusters_eigen"
   ]
  },
  {
   "cell_type": "code",
   "execution_count": 62,
   "metadata": {},
   "outputs": [
    {
     "data": {
      "text/html": [
       "<div>\n",
       "<style scoped>\n",
       "    .dataframe tbody tr th:only-of-type {\n",
       "        vertical-align: middle;\n",
       "    }\n",
       "\n",
       "    .dataframe tbody tr th {\n",
       "        vertical-align: top;\n",
       "    }\n",
       "\n",
       "    .dataframe thead th {\n",
       "        text-align: right;\n",
       "    }\n",
       "</style>\n",
       "<table border=\"1\" class=\"dataframe\">\n",
       "  <thead>\n",
       "    <tr style=\"text-align: right;\">\n",
       "      <th></th>\n",
       "      <th>Id</th>\n",
       "      <th>Label</th>\n",
       "      <th>Interval</th>\n",
       "      <th>Colour</th>\n",
       "      <th>eigen</th>\n",
       "    </tr>\n",
       "  </thead>\n",
       "  <tbody>\n",
       "    <tr>\n",
       "      <th>0</th>\n",
       "      <td>321228288</td>\n",
       "      <td>marsion65</td>\n",
       "      <td>NaN</td>\n",
       "      <td>#fb1239</td>\n",
       "      <td>0</td>\n",
       "    </tr>\n",
       "    <tr>\n",
       "      <th>1</th>\n",
       "      <td>1426639026824564737</td>\n",
       "      <td>MaurizioCimino2</td>\n",
       "      <td>NaN</td>\n",
       "      <td>#fb1239</td>\n",
       "      <td>1</td>\n",
       "    </tr>\n",
       "    <tr>\n",
       "      <th>2</th>\n",
       "      <td>272945830</td>\n",
       "      <td>AleC226</td>\n",
       "      <td>NaN</td>\n",
       "      <td>#fb1239</td>\n",
       "      <td>1</td>\n",
       "    </tr>\n",
       "    <tr>\n",
       "      <th>3</th>\n",
       "      <td>745351426117869568</td>\n",
       "      <td>Massimi8900</td>\n",
       "      <td>NaN</td>\n",
       "      <td>#fb1239</td>\n",
       "      <td>84</td>\n",
       "    </tr>\n",
       "    <tr>\n",
       "      <th>4</th>\n",
       "      <td>798461063494828032</td>\n",
       "      <td>IvanoPioli</td>\n",
       "      <td>NaN</td>\n",
       "      <td>#fb1239</td>\n",
       "      <td>87</td>\n",
       "    </tr>\n",
       "    <tr>\n",
       "      <th>5</th>\n",
       "      <td>1053632622465818624</td>\n",
       "      <td>Efisio31251859</td>\n",
       "      <td>NaN</td>\n",
       "      <td>#fb1239</td>\n",
       "      <td>1</td>\n",
       "    </tr>\n",
       "    <tr>\n",
       "      <th>6</th>\n",
       "      <td>1429231388394467332</td>\n",
       "      <td>Ilaria89965081</td>\n",
       "      <td>NaN</td>\n",
       "      <td>#fb1239</td>\n",
       "      <td>1</td>\n",
       "    </tr>\n",
       "    <tr>\n",
       "      <th>7</th>\n",
       "      <td>1000480351905632258</td>\n",
       "      <td>MarceVann</td>\n",
       "      <td>NaN</td>\n",
       "      <td>#fb1239</td>\n",
       "      <td>1</td>\n",
       "    </tr>\n",
       "    <tr>\n",
       "      <th>8</th>\n",
       "      <td>2187420112</td>\n",
       "      <td>brughen</td>\n",
       "      <td>NaN</td>\n",
       "      <td>#fb1239</td>\n",
       "      <td>98</td>\n",
       "    </tr>\n",
       "    <tr>\n",
       "      <th>9</th>\n",
       "      <td>2175541491</td>\n",
       "      <td>47187297Bruna</td>\n",
       "      <td>NaN</td>\n",
       "      <td>#fb1239</td>\n",
       "      <td>99</td>\n",
       "    </tr>\n",
       "    <tr>\n",
       "      <th>10</th>\n",
       "      <td>1197158807140483072</td>\n",
       "      <td>Marc852835993</td>\n",
       "      <td>NaN</td>\n",
       "      <td>#fb1239</td>\n",
       "      <td>1</td>\n",
       "    </tr>\n",
       "    <tr>\n",
       "      <th>11</th>\n",
       "      <td>1320296479437836288</td>\n",
       "      <td>Mariang47614228</td>\n",
       "      <td>NaN</td>\n",
       "      <td>#fb1239</td>\n",
       "      <td>1</td>\n",
       "    </tr>\n",
       "    <tr>\n",
       "      <th>12</th>\n",
       "      <td>1901258058</td>\n",
       "      <td>75Ginny</td>\n",
       "      <td>NaN</td>\n",
       "      <td>#fb1239</td>\n",
       "      <td>100</td>\n",
       "    </tr>\n",
       "    <tr>\n",
       "      <th>13</th>\n",
       "      <td>363701163</td>\n",
       "      <td>iodalmare70</td>\n",
       "      <td>NaN</td>\n",
       "      <td>#fb1239</td>\n",
       "      <td>97</td>\n",
       "    </tr>\n",
       "    <tr>\n",
       "      <th>14</th>\n",
       "      <td>2197175103</td>\n",
       "      <td>grecale66</td>\n",
       "      <td>NaN</td>\n",
       "      <td>#fb1239</td>\n",
       "      <td>84</td>\n",
       "    </tr>\n",
       "    <tr>\n",
       "      <th>15</th>\n",
       "      <td>1444189918276767750</td>\n",
       "      <td>Andrew_bahbah</td>\n",
       "      <td>NaN</td>\n",
       "      <td>#fb1239</td>\n",
       "      <td>100</td>\n",
       "    </tr>\n",
       "    <tr>\n",
       "      <th>16</th>\n",
       "      <td>2370797451</td>\n",
       "      <td>angelo_fornaro</td>\n",
       "      <td>NaN</td>\n",
       "      <td>#fb1239</td>\n",
       "      <td>1</td>\n",
       "    </tr>\n",
       "    <tr>\n",
       "      <th>17</th>\n",
       "      <td>1423614587153305600</td>\n",
       "      <td>NadiaPazienza</td>\n",
       "      <td>NaN</td>\n",
       "      <td>#fb1239</td>\n",
       "      <td>1</td>\n",
       "    </tr>\n",
       "    <tr>\n",
       "      <th>18</th>\n",
       "      <td>721992165505835009</td>\n",
       "      <td>pierluca_mussi</td>\n",
       "      <td>NaN</td>\n",
       "      <td>#fb1239</td>\n",
       "      <td>100</td>\n",
       "    </tr>\n",
       "    <tr>\n",
       "      <th>19</th>\n",
       "      <td>1321232532495544326</td>\n",
       "      <td>RossiniTazio</td>\n",
       "      <td>NaN</td>\n",
       "      <td>#fb1239</td>\n",
       "      <td>1</td>\n",
       "    </tr>\n",
       "  </tbody>\n",
       "</table>\n",
       "</div>"
      ],
      "text/plain": [
       "                     Id            Label  Interval   Colour  eigen\n",
       "0             321228288        marsion65       NaN  #fb1239      0\n",
       "1   1426639026824564737  MaurizioCimino2       NaN  #fb1239      1\n",
       "2             272945830          AleC226       NaN  #fb1239      1\n",
       "3    745351426117869568      Massimi8900       NaN  #fb1239     84\n",
       "4    798461063494828032       IvanoPioli       NaN  #fb1239     87\n",
       "5   1053632622465818624   Efisio31251859       NaN  #fb1239      1\n",
       "6   1429231388394467332   Ilaria89965081       NaN  #fb1239      1\n",
       "7   1000480351905632258        MarceVann       NaN  #fb1239      1\n",
       "8            2187420112          brughen       NaN  #fb1239     98\n",
       "9            2175541491    47187297Bruna       NaN  #fb1239     99\n",
       "10  1197158807140483072    Marc852835993       NaN  #fb1239      1\n",
       "11  1320296479437836288  Mariang47614228       NaN  #fb1239      1\n",
       "12           1901258058          75Ginny       NaN  #fb1239    100\n",
       "13            363701163      iodalmare70       NaN  #fb1239     97\n",
       "14           2197175103        grecale66       NaN  #fb1239     84\n",
       "15  1444189918276767750    Andrew_bahbah       NaN  #fb1239    100\n",
       "16           2370797451   angelo_fornaro       NaN  #fb1239      1\n",
       "17  1423614587153305600    NadiaPazienza       NaN  #fb1239      1\n",
       "18   721992165505835009   pierluca_mussi       NaN  #fb1239    100\n",
       "19  1321232532495544326     RossiniTazio       NaN  #fb1239      1"
      ]
     },
     "execution_count": 62,
     "metadata": {},
     "output_type": "execute_result"
    }
   ],
   "source": [
    "nodes.head(20)"
   ]
  },
  {
   "cell_type": "code",
   "execution_count": 52,
   "metadata": {},
   "outputs": [
    {
     "data": {
      "text/plain": [
       "cluster\n",
       "0          0\n",
       "1        507\n",
       "2         16\n",
       "3          6\n",
       "4          8\n",
       "       ...  \n",
       "114     5700\n",
       "115      690\n",
       "116    12992\n",
       "117     1287\n",
       "118    22184\n",
       "Name: cluster, Length: 119, dtype: int64"
      ]
     },
     "execution_count": 52,
     "metadata": {},
     "output_type": "execute_result"
    }
   ],
   "source": [
    "clusters_eigen.groupby(\"cluster\")[\"cluster\"].sum()"
   ]
  },
  {
   "cell_type": "code",
   "execution_count": 64,
   "metadata": {},
   "outputs": [],
   "source": [
    "nodes.to_csv('nodes_eigen.csv', index=False)"
   ]
  },
  {
   "cell_type": "code",
   "execution_count": 13,
   "metadata": {},
   "outputs": [
    {
     "data": {
      "text/html": [
       "<div>\n",
       "<style scoped>\n",
       "    .dataframe tbody tr th:only-of-type {\n",
       "        vertical-align: middle;\n",
       "    }\n",
       "\n",
       "    .dataframe tbody tr th {\n",
       "        vertical-align: top;\n",
       "    }\n",
       "\n",
       "    .dataframe thead th {\n",
       "        text-align: right;\n",
       "    }\n",
       "</style>\n",
       "<table border=\"1\" class=\"dataframe\">\n",
       "  <thead>\n",
       "    <tr style=\"text-align: right;\">\n",
       "      <th></th>\n",
       "      <th>Id</th>\n",
       "      <th>Label</th>\n",
       "      <th>Interval</th>\n",
       "      <th>Colour</th>\n",
       "      <th>cluster</th>\n",
       "    </tr>\n",
       "  </thead>\n",
       "  <tbody>\n",
       "    <tr>\n",
       "      <th>0</th>\n",
       "      <td>321228288</td>\n",
       "      <td>marsion65</td>\n",
       "      <td>NaN</td>\n",
       "      <td>#fb1239</td>\n",
       "      <td>0</td>\n",
       "    </tr>\n",
       "    <tr>\n",
       "      <th>1</th>\n",
       "      <td>1426639026824564737</td>\n",
       "      <td>MaurizioCimino2</td>\n",
       "      <td>NaN</td>\n",
       "      <td>#fb1239</td>\n",
       "      <td>1</td>\n",
       "    </tr>\n",
       "    <tr>\n",
       "      <th>2</th>\n",
       "      <td>272945830</td>\n",
       "      <td>AleC226</td>\n",
       "      <td>NaN</td>\n",
       "      <td>#fb1239</td>\n",
       "      <td>1</td>\n",
       "    </tr>\n",
       "    <tr>\n",
       "      <th>3</th>\n",
       "      <td>745351426117869568</td>\n",
       "      <td>Massimi8900</td>\n",
       "      <td>NaN</td>\n",
       "      <td>#fb1239</td>\n",
       "      <td>1</td>\n",
       "    </tr>\n",
       "    <tr>\n",
       "      <th>4</th>\n",
       "      <td>798461063494828032</td>\n",
       "      <td>IvanoPioli</td>\n",
       "      <td>NaN</td>\n",
       "      <td>#fb1239</td>\n",
       "      <td>1</td>\n",
       "    </tr>\n",
       "  </tbody>\n",
       "</table>\n",
       "</div>"
      ],
      "text/plain": [
       "                    Id            Label  Interval   Colour  cluster\n",
       "0            321228288        marsion65       NaN  #fb1239        0\n",
       "1  1426639026824564737  MaurizioCimino2       NaN  #fb1239        1\n",
       "2            272945830          AleC226       NaN  #fb1239        1\n",
       "3   745351426117869568      Massimi8900       NaN  #fb1239        1\n",
       "4   798461063494828032       IvanoPioli       NaN  #fb1239        1"
      ]
     },
     "execution_count": 13,
     "metadata": {},
     "output_type": "execute_result"
    }
   ],
   "source": [
    "#creo colonna per i cluster\n",
    "nodes[\"cluster\"]=membership\n",
    "nodes.head()"
   ]
  },
  {
   "cell_type": "markdown",
   "metadata": {},
   "source": [
    "What about controlling the number of clusters? As you know, the leading_eigenvalue method has a clusters parameter for the desired number of clusters, but it's apparently more a guideline than an actual rule: giving clusters=3 results in just 1 cluster with your data, and 2 clusters with mine.\n",
    "\n",
    "You can get more precise control of the number of clusters with a method which returns a VertexDendrogram instead of a Clustering, such as `community_edge_betweenness.\n",
    "\n",
    "com3 = graph2.community_edge_betweenness(clusters=3, directed=False, weights=\"weight\")\n",
    "\n",
    "To get a clustering with n clusters, you call com3.as_clustering(n), which gave exactly n clusters for all my tests."
   ]
  }
 ],
 "metadata": {
  "interpreter": {
   "hash": "b3ba2566441a7c06988d0923437866b63cedc61552a5af99d1f4fb67d367b25f"
  },
  "kernelspec": {
   "display_name": "Python 3.8.5 64-bit ('base': conda)",
   "language": "python",
   "name": "python3"
  },
  "language_info": {
   "codemirror_mode": {
    "name": "ipython",
    "version": 3
   },
   "file_extension": ".py",
   "mimetype": "text/x-python",
   "name": "python",
   "nbconvert_exporter": "python",
   "pygments_lexer": "ipython3",
   "version": "3.8.5"
  },
  "orig_nbformat": 4
 },
 "nbformat": 4,
 "nbformat_minor": 2
}
