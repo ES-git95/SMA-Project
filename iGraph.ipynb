{
 "cells": [
  {
   "cell_type": "code",
   "execution_count": 3,
   "metadata": {},
   "outputs": [],
   "source": [
    "import pandas as pd\n",
    "import numpy as np\n",
    "import igraph\n",
    "#igraph.Graph.community_fastgreedy()\n",
    "from igraph import *"
   ]
  },
  {
   "cell_type": "code",
   "execution_count": 4,
   "metadata": {},
   "outputs": [],
   "source": [
    "nodes=pd.read_csv(\"Nodes_df4.csv\")\n",
    "edges=pd.read_csv(\"Edges_df4.csv\")\n",
    "lista_edges=list(zip(edges[\"Source\"],edges[\"Target\"]))"
   ]
  },
  {
   "cell_type": "markdown",
   "metadata": {},
   "source": [
    "Creazione rete"
   ]
  },
  {
   "cell_type": "code",
   "execution_count": 5,
   "metadata": {},
   "outputs": [
    {
     "data": {
      "text/plain": [
       "5587"
      ]
     },
     "execution_count": 5,
     "metadata": {},
     "output_type": "execute_result"
    }
   ],
   "source": [
    "#g.add_vertices(nodes[\"Id\"],attributes=nodes[[\"Label\",\"Colour\"]])\n",
    "#g=Graph.TupleList(lista_edges,directed=True)\n",
    "#len(g.get_edgelist())\n",
    "#OPPURE\n",
    "g = Graph.DataFrame(edges[[\"Source\",\"Target\"]], directed=True)\n",
    "len(g.get_edgelist())"
   ]
  },
  {
   "cell_type": "code",
   "execution_count": 8,
   "metadata": {},
   "outputs": [],
   "source": [
    "#Rappresentazione grafo (per ridere)\n",
    "#layout = g.layout(\"kk\")\n",
    "#plot(g, layout=layout)"
   ]
  },
  {
   "cell_type": "markdown",
   "metadata": {},
   "source": [
    "##### Clustering"
   ]
  },
  {
   "cell_type": "markdown",
   "metadata": {},
   "source": [
    "Betweness"
   ]
  },
  {
   "cell_type": "code",
   "execution_count": 23,
   "metadata": {},
   "outputs": [
    {
     "data": {
      "text/plain": [
       "'Clustering with 3735 elements and 84 clusters'"
      ]
     },
     "execution_count": 23,
     "metadata": {},
     "output_type": "execute_result"
    }
   ],
   "source": [
    "dendogram=g.community_edge_betweenness(directed=True,clusters=3)\n",
    "#con numeri minori di 84 da errore nel clustering \n",
    "betweenness=dendogram.as_clustering(n=84)\n",
    "betweenness.summary()"
   ]
  },
  {
   "cell_type": "code",
   "execution_count": 56,
   "metadata": {},
   "outputs": [
    {
     "data": {
      "text/plain": [
       "array([[<AxesSubplot:title={'center':'cluster'}>]], dtype=object)"
      ]
     },
     "execution_count": 56,
     "metadata": {},
     "output_type": "execute_result"
    },
    {
     "data": {
      "image/png": "[encoded data removed]",
      "text/plain": [
       "<Figure size 432x288 with 1 Axes>"
      ]
     },
     "metadata": {
      "needs_background": "light"
     },
     "output_type": "display_data"
    }
   ],
   "source": [
    "#estrazione e plot cluster betweenness (sono tutti dello stesso cluster)\n",
    "clusters_betweenness=pd.DataFrame(betweenness._membership,columns=[\"cluster\"])\n",
    "clusters_betweenness.hist()"
   ]
  },
  {
   "cell_type": "markdown",
   "metadata": {},
   "source": [
    "Eigen Vector"
   ]
  },
  {
   "cell_type": "code",
   "execution_count": 12,
   "metadata": {},
   "outputs": [
    {
     "data": {
      "text/plain": [
       "'Clustering with 3735 elements and 84 clusters'"
      ]
     },
     "execution_count": 12,
     "metadata": {},
     "output_type": "execute_result"
    }
   ],
   "source": [
    "#il minor numero di cluster con l'eigen è 84\n",
    "eigen=g.community_leading_eigenvector(clusters=3)\n",
    "eigen.summary()"
   ]
  },
  {
   "cell_type": "code",
   "execution_count": 19,
   "metadata": {},
   "outputs": [
    {
     "data": {
      "text/plain": [
       "array([[<AxesSubplot:title={'center':'0'}>]], dtype=object)"
      ]
     },
     "execution_count": 19,
     "metadata": {},
     "output_type": "execute_result"
    },
    {
     "data": {
      "image/png": "[encoded data removed]",
      "text/plain": [
       "<Figure size 432x288 with 1 Axes>"
      ]
     },
     "metadata": {
      "needs_background": "light"
     },
     "output_type": "display_data"
    }
   ],
   "source": [
    "#estrazione e plot cluster betweenness\n",
    "clusters_eigen=pd.DataFrame(eigen._membership)\n",
    "clusters_eigen.hist()"
   ]
  },
  {
   "cell_type": "code",
   "execution_count": 13,
   "metadata": {},
   "outputs": [
    {
     "data": {
      "text/html": [
       "<div>\n",
       "<style scoped>\n",
       "    .dataframe tbody tr th:only-of-type {\n",
       "        vertical-align: middle;\n",
       "    }\n",
       "\n",
       "    .dataframe tbody tr th {\n",
       "        vertical-align: top;\n",
       "    }\n",
       "\n",
       "    .dataframe thead th {\n",
       "        text-align: right;\n",
       "    }\n",
       "</style>\n",
       "<table border=\"1\" class=\"dataframe\">\n",
       "  <thead>\n",
       "    <tr style=\"text-align: right;\">\n",
       "      <th></th>\n",
       "      <th>Id</th>\n",
       "      <th>Label</th>\n",
       "      <th>Interval</th>\n",
       "      <th>Colour</th>\n",
       "      <th>cluster</th>\n",
       "    </tr>\n",
       "  </thead>\n",
       "  <tbody>\n",
       "    <tr>\n",
       "      <th>0</th>\n",
       "      <td>321228288</td>\n",
       "      <td>marsion65</td>\n",
       "      <td>NaN</td>\n",
       "      <td>#fb1239</td>\n",
       "      <td>0</td>\n",
       "    </tr>\n",
       "    <tr>\n",
       "      <th>1</th>\n",
       "      <td>1426639026824564737</td>\n",
       "      <td>MaurizioCimino2</td>\n",
       "      <td>NaN</td>\n",
       "      <td>#fb1239</td>\n",
       "      <td>1</td>\n",
       "    </tr>\n",
       "    <tr>\n",
       "      <th>2</th>\n",
       "      <td>272945830</td>\n",
       "      <td>AleC226</td>\n",
       "      <td>NaN</td>\n",
       "      <td>#fb1239</td>\n",
       "      <td>1</td>\n",
       "    </tr>\n",
       "    <tr>\n",
       "      <th>3</th>\n",
       "      <td>745351426117869568</td>\n",
       "      <td>Massimi8900</td>\n",
       "      <td>NaN</td>\n",
       "      <td>#fb1239</td>\n",
       "      <td>1</td>\n",
       "    </tr>\n",
       "    <tr>\n",
       "      <th>4</th>\n",
       "      <td>798461063494828032</td>\n",
       "      <td>IvanoPioli</td>\n",
       "      <td>NaN</td>\n",
       "      <td>#fb1239</td>\n",
       "      <td>1</td>\n",
       "    </tr>\n",
       "  </tbody>\n",
       "</table>\n",
       "</div>"
      ],
      "text/plain": [
       "                    Id            Label  Interval   Colour  cluster\n",
       "0            321228288        marsion65       NaN  #fb1239        0\n",
       "1  1426639026824564737  MaurizioCimino2       NaN  #fb1239        1\n",
       "2            272945830          AleC226       NaN  #fb1239        1\n",
       "3   745351426117869568      Massimi8900       NaN  #fb1239        1\n",
       "4   798461063494828032       IvanoPioli       NaN  #fb1239        1"
      ]
     },
     "execution_count": 13,
     "metadata": {},
     "output_type": "execute_result"
    }
   ],
   "source": [
    "#creo colonna per i cluster\n",
    "nodes[\"cluster\"]=membership\n",
    "nodes.head()"
   ]
  },
  {
   "cell_type": "code",
   "execution_count": null,
   "metadata": {},
   "outputs": [],
   "source": [
    "nodes.to_csv('Nodi_prova4.csv', index=False)"
   ]
  },
  {
   "cell_type": "markdown",
   "metadata": {},
   "source": [
    "What about controlling the number of clusters? As you know, the leading_eigenvalue method has a clusters parameter for the desired number of clusters, but it's apparently more a guideline than an actual rule: giving clusters=3 results in just 1 cluster with your data, and 2 clusters with mine.\n",
    "\n",
    "You can get more precise control of the number of clusters with a method which returns a VertexDendrogram instead of a Clustering, such as `community_edge_betweenness.\n",
    "\n",
    "com3 = graph2.community_edge_betweenness(clusters=3, directed=False, weights=\"weight\")\n",
    "\n",
    "To get a clustering with n clusters, you call com3.as_clustering(n), which gave exactly n clusters for all my tests."
   ]
  }
 ],
 "metadata": {
  "interpreter": {
   "hash": "b3ba2566441a7c06988d0923437866b63cedc61552a5af99d1f4fb67d367b25f"
  },
  "kernelspec": {
   "display_name": "Python 3.8.5 64-bit ('base': conda)",
   "language": "python",
   "name": "python3"
  },
  "language_info": {
   "codemirror_mode": {
    "name": "ipython",
    "version": 3
   },
   "file_extension": ".py",
   "mimetype": "text/x-python",
   "name": "python",
   "nbconvert_exporter": "python",
   "pygments_lexer": "ipython3",
   "version": "3.8.5"
  },
  "orig_nbformat": 4
 },
 "nbformat": 4,
 "nbformat_minor": 2
}
