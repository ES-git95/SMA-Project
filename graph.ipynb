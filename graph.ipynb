{
 "cells": [
  {
   "cell_type": "code",
   "execution_count": 1,
   "metadata": {},
   "outputs": [],
   "source": [
    "from igraph import Graph\n",
    "import numpy as np\n",
    "import pandas as pd\n",
    "import igraph\n",
    "import networkx as nx"
   ]
  },
  {
   "cell_type": "code",
   "execution_count": 3,
   "metadata": {},
   "outputs": [],
   "source": [
    "nodes=pd.read_csv('Nodes_definitivo.csv')\n",
    "edges=pd.read_csv('Edges_df6.csv')"
   ]
  },
  {
   "cell_type": "code",
   "execution_count": 5,
   "metadata": {},
   "outputs": [
    {
     "data": {
      "text/plain": [
       "array(['#99cccc', '#b00b69', '#007474', '#042069', '#fb1239'],\n",
       "      dtype=object)"
      ]
     },
     "execution_count": 5,
     "metadata": {},
     "output_type": "execute_result"
    }
   ],
   "source": [
    "nodes[\"Colour\"].unique()\n",
    "#   @EnricoLetta==#b00b69\n",
    "#   #NoGreenPass==#fb1239\n",
    "#   @MatteoSalvinimi==#99cccc\n",
    "#   @CasaPoundItalia==#042069\n",
    "#   #Vaccinatevi==#007474"
   ]
  },
  {
   "cell_type": "code",
   "execution_count": 15,
   "metadata": {},
   "outputs": [
    {
     "data": {
      "text/plain": [
       "hashtags\n",
       "#NoGreenPass        1635\n",
       "#vaccinatevi        1304\n",
       "@CasaPoundItalia     299\n",
       "@EnricoLetta        1147\n",
       "@matteosalvinimi    1249\n",
       "Name: gruppo, dtype: int64"
      ]
     },
     "execution_count": 15,
     "metadata": {},
     "output_type": "execute_result"
    }
   ],
   "source": [
    "nodes.groupby(\"hashtags\")[\"gruppo\"].count()"
   ]
  },
  {
   "cell_type": "code",
   "execution_count": 20,
   "metadata": {},
   "outputs": [
    {
     "data": {
      "text/plain": [
       "hashtags\n",
       "#NoGreenPass        1545\n",
       "#vaccinatevi        1205\n",
       "@CasaPoundItalia     297\n",
       "@EnricoLetta         975\n",
       "@matteosalvinimi    1168\n",
       "Name: gruppo, dtype: int64"
      ]
     },
     "execution_count": 20,
     "metadata": {},
     "output_type": "execute_result"
    }
   ],
   "source": [
    "nodes[nodes[\"Giant_Component\"]==1].groupby(\"hashtags\")[\"gruppo\"].count()"
   ]
  },
  {
   "cell_type": "markdown",
   "metadata": {},
   "source": [
    "#### Individuiamo il Giant Component"
   ]
  },
  {
   "cell_type": "code",
   "execution_count": 4,
   "metadata": {},
   "outputs": [],
   "source": [
    "g_nx=nx.from_pandas_edgelist(edges,source='Source',target='Target')\n",
    "component_subgraph_list = list(nx.connected_components(g_nx))\n",
    "largest_component = list(max(component_subgraph_list,key=len))\n"
   ]
  },
  {
   "cell_type": "code",
   "execution_count": 5,
   "metadata": {},
   "outputs": [],
   "source": [
    "nodes_list=list(nodes.Id)\n",
    "new_edges=edges[(edges['Source'].isin(largest_component)) & (edges['Target'].isin(largest_component))]\n",
    "new_g=Graph.DataFrame(edges=new_edges[['Source','Target']],directed=True)"
   ]
  },
  {
   "cell_type": "code",
   "execution_count": 6,
   "metadata": {},
   "outputs": [],
   "source": [
    "#codice per identificare giant component\n",
    "nodes['Giant_Component']=0\n",
    "\n",
    "colour=[]\n",
    "for index in largest_component:\n",
    "    subset=nodes[nodes.Id==index]\n",
    "    if subset.empty == False:\n",
    "        sub_index=subset.index\n",
    "        nodes.at[sub_index,'Giant_Component']=1\n",
    "    else:\n",
    "        continue"
   ]
  },
  {
   "cell_type": "markdown",
   "metadata": {},
   "source": [
    "#### Applichiamo leading eigenvector"
   ]
  },
  {
   "cell_type": "code",
   "execution_count": 143,
   "metadata": {},
   "outputs": [
    {
     "data": {
      "text/plain": [
       "'Clustering with 5190 elements and 2 clusters'"
      ]
     },
     "execution_count": 143,
     "metadata": {},
     "output_type": "execute_result"
    }
   ],
   "source": [
    "eigen=new_g.community_leading_eigenvector(2)\n",
    "eigen.summary()"
   ]
  },
  {
   "cell_type": "code",
   "execution_count": 144,
   "metadata": {},
   "outputs": [],
   "source": [
    "eigen_nodes=eigen.graph.vs[\"name\"]\n",
    "df_eigen=pd.DataFrame({'nodes':eigen_nodes,'clusters':eigen._membership})"
   ]
  },
  {
   "cell_type": "code",
   "execution_count": 145,
   "metadata": {},
   "outputs": [
    {
     "data": {
      "text/plain": [
       "<AxesSubplot:>"
      ]
     },
     "execution_count": 145,
     "metadata": {},
     "output_type": "execute_result"
    },
    {
     "data": {
      "image/png": "[encoded data removed]",
      "text/plain": [
       "<Figure size 432x288 with 1 Axes>"
      ]
     },
     "metadata": {
      "needs_background": "light"
     },
     "output_type": "display_data"
    }
   ],
   "source": [
    "df_eigen[\"clusters\"].hist()"
   ]
  },
  {
   "cell_type": "code",
   "execution_count": 146,
   "metadata": {},
   "outputs": [
    {
     "data": {
      "text/plain": [
       "clusters\n",
       "0    4073\n",
       "1    1117\n",
       "Name: clusters, dtype: int64"
      ]
     },
     "execution_count": 146,
     "metadata": {},
     "output_type": "execute_result"
    }
   ],
   "source": [
    "df_eigen.groupby(\"clusters\")[\"clusters\"].count()"
   ]
  },
  {
   "cell_type": "code",
   "execution_count": 147,
   "metadata": {},
   "outputs": [],
   "source": [
    "def color_clusters(cluster_df,cluster_field,new_cluster_field_name):\n",
    "    clusters=list(set(cluster_df[cluster_field]))\n",
    "    nodes[new_cluster_field_name]=0\n",
    "\n",
    "    for index, row in cluster_df.iterrows():\n",
    "        subset=nodes[nodes.Id==int(row['nodes'])]\n",
    "        if subset.empty == False:\n",
    "            sub_index=subset.index\n",
    "            for cluster in clusters:\n",
    "                if row['clusters']==cluster:\n",
    "                    nodes.at[sub_index,new_cluster_field_name]=cluster+1\n",
    "        else:\n",
    "            continue"
   ]
  },
  {
   "cell_type": "code",
   "execution_count": 148,
   "metadata": {},
   "outputs": [],
   "source": [
    "color_clusters(df_eigen,'clusters','cluster_eigen')"
   ]
  },
  {
   "cell_type": "code",
   "execution_count": 8,
   "metadata": {},
   "outputs": [],
   "source": [
    "#clusters=list(set(df_eigen.clusters))\n",
    "#nodes['Cluster_eigen']=0\n",
    "#\n",
    "#colour=[]\n",
    "#for index, row in df_eigen.iterrows():\n",
    "#    subset=nodes[nodes.Id==int(row['nodes'])]\n",
    "#    if subset.empty == False:\n",
    "#        sub_index=subset.index\n",
    "#        for cluster in clusters:\n",
    "#            if row['clusters']==cluster:\n",
    "#                nodes.at[sub_index,'Cluster_eigen']=cluster+1\n",
    "#    else:\n",
    "#        continue"
   ]
  },
  {
   "cell_type": "code",
   "execution_count": 3,
   "metadata": {},
   "outputs": [],
   "source": [
    "#utile solo nel caso che il dataframe di partenza presenti gli hex colors invece dei cluster\n",
    "\n",
    "#for i,r in dummy.iterrows():\n",
    "#    if r['Colour']=='#aaaacc':\n",
    "#        dummy.at[i,'Colour']=0\n",
    "#    if r['Colour']=='#007474':\n",
    "#        dummy.at[i,'Colour']=1\n",
    "#    if r['Colour']=='#fb1239':\n",
    "#        dummy.at[i,'Colour']=2"
   ]
  },
  {
   "cell_type": "markdown",
   "metadata": {},
   "source": [
    "#### Creazione indice e applicazione k-means"
   ]
  },
  {
   "cell_type": "code",
   "execution_count": 149,
   "metadata": {},
   "outputs": [],
   "source": [
    "contiguous_nodes_dict={}\n",
    "\n",
    "for node in nodes.Id:\n",
    "    lista_target=list(new_edges[new_edges.Source==node]['Target'])\n",
    "    lista_source=list(new_edges[new_edges.Target==node]['Source'])\n",
    "    lista_tot=lista_target+lista_source\n",
    "    if lista_tot != []:\n",
    "        contiguous_nodes_dict[node]=lista_tot"
   ]
  },
  {
   "cell_type": "code",
   "execution_count": 150,
   "metadata": {},
   "outputs": [],
   "source": [
    "def Jaccard(nodesA,nodesB):\n",
    "    intersect = [value for value in nodesA if value in nodesB]\n",
    "    union=list(set(nodesA+nodesB))\n",
    "    compute_jaccard=len(intersect)/len(union)\n",
    "    return compute_jaccard"
   ]
  },
  {
   "cell_type": "code",
   "execution_count": 29,
   "metadata": {},
   "outputs": [],
   "source": [
    "adj=nx.adjacency_matrix(G_directed)\n",
    "from sklearn.cluster import KMeans\n",
    "kmeans2 = KMeans(n_clusters=2, random_state=0,n_init=100,max_iter=1000).fit(adj)"
   ]
  },
  {
   "cell_type": "code",
   "execution_count": 30,
   "metadata": {},
   "outputs": [],
   "source": [
    "kmeans2=pd.DataFrame({\"gruppo\":kmeans2.labels_})"
   ]
  },
  {
   "cell_type": "code",
   "execution_count": 31,
   "metadata": {},
   "outputs": [
    {
     "data": {
      "text/plain": [
       "gruppo\n",
       "0    4110\n",
       "1    1080\n",
       "Name: gruppo, dtype: int64"
      ]
     },
     "execution_count": 31,
     "metadata": {},
     "output_type": "execute_result"
    }
   ],
   "source": [
    "kmeans2.groupby(\"gruppo\")[\"gruppo\"].count()"
   ]
  },
  {
   "cell_type": "code",
   "execution_count": 151,
   "metadata": {},
   "outputs": [],
   "source": [
    "distance_matrix_j=[[ Jaccard(values_col,values_row) for values_row in contiguous_nodes_dict.values()] for values_col in contiguous_nodes_dict.values()]"
   ]
  },
  {
   "cell_type": "code",
   "execution_count": 152,
   "metadata": {},
   "outputs": [],
   "source": [
    "from sklearn.cluster import KMeans\n",
    "kmeans = KMeans(n_clusters=2, random_state=0,n_init=100,max_iter=1000,algorithm=\"elkan\").fit(distance_matrix_j)"
   ]
  },
  {
   "cell_type": "code",
   "execution_count": 153,
   "metadata": {},
   "outputs": [
    {
     "data": {
      "text/plain": [
       "array([[<AxesSubplot:title={'center':'0'}>]], dtype=object)"
      ]
     },
     "execution_count": 153,
     "metadata": {},
     "output_type": "execute_result"
    },
    {
     "data": {
      "image/png": "[encoded data removed]",
      "text/plain": [
       "<Figure size 432x288 with 1 Axes>"
      ]
     },
     "metadata": {
      "needs_background": "light"
     },
     "output_type": "display_data"
    }
   ],
   "source": [
    "pd.DataFrame(kmeans.labels_).hist()"
   ]
  },
  {
   "cell_type": "code",
   "execution_count": 154,
   "metadata": {},
   "outputs": [],
   "source": [
    "df_means=pd.DataFrame({'nodes':contiguous_nodes_dict.keys(),'clusters':kmeans.labels_})"
   ]
  },
  {
   "cell_type": "code",
   "execution_count": 155,
   "metadata": {},
   "outputs": [],
   "source": [
    "color_clusters(df_means,'clusters','cluster_kmeans')"
   ]
  },
  {
   "cell_type": "code",
   "execution_count": 378,
   "metadata": {},
   "outputs": [],
   "source": [
    "#nodes['Colour']='#aaaacc'\n",
    "#\n",
    "#colour=[]\n",
    "#for index, row in df_means.iterrows():\n",
    "#    subset=nodes[nodes.Id==int(row['nodes'])]\n",
    "#    if subset.empty == False:\n",
    "#        sub_index=subset.index\n",
    "#        if row['clusters']==0:\n",
    "#            nodes.at[sub_index,'Colour']='1'\n",
    "#        if row['clusters']==1:\n",
    "#            nodes.at[sub_index,'Colour']='2'\n",
    "#    else:\n",
    "#        continue"
   ]
  },
  {
   "cell_type": "markdown",
   "metadata": {},
   "source": [
    "#### Girvan-Newman"
   ]
  },
  {
   "cell_type": "code",
   "execution_count": 160,
   "metadata": {},
   "outputs": [],
   "source": [
    "new_G = nx.from_edgelist([(names[x[0]], names[x[1]])\n",
    "                      for names in [new_g.vs['name']] # simply a let\n",
    "                      for x in new_g.get_edgelist()], nx.DiGraph())"
   ]
  },
  {
   "cell_type": "code",
   "execution_count": 161,
   "metadata": {},
   "outputs": [],
   "source": [
    "new_G=new_G.to_undirected()"
   ]
  },
  {
   "cell_type": "code",
   "execution_count": 162,
   "metadata": {},
   "outputs": [],
   "source": [
    "def edge_to_remove(graph):\n",
    "  G_dict = nx.edge_betweenness_centrality(graph)\n",
    "  edge = ()\n",
    "\n",
    "  # extract the edge with highest edge betweenness centrality score\n",
    "  for key, value in sorted(G_dict.items(), key=lambda item: item[1], reverse = True):\n",
    "      edge = key\n",
    "      break\n",
    "\n",
    "  return edge"
   ]
  },
  {
   "cell_type": "code",
   "execution_count": 163,
   "metadata": {},
   "outputs": [],
   "source": [
    "def girvan_newman(graph):\n",
    "\t# find number of connected components\n",
    "\tsg = nx.connected_components(graph)\n",
    "\tsg_count = nx.number_connected_components(graph)\n",
    "\n",
    "\twhile(sg_count == 1):\n",
    "\t\tgraph.remove_edge(edge_to_remove(graph)[0], edge_to_remove(graph)[1])\n",
    "\t\tsg = nx.connected_components(graph)\n",
    "\t\tsg_count = nx.number_connected_components(graph)\n",
    "\n",
    "\treturn sg"
   ]
  },
  {
   "cell_type": "code",
   "execution_count": 164,
   "metadata": {},
   "outputs": [],
   "source": [
    "# find communities in the graph\n",
    "c = girvan_newman(new_G.copy())\n",
    "\n",
    "# find the nodes forming the communities\n",
    "node_groups = []\n",
    "\n",
    "for i in c:\n",
    "  node_groups.append(list(i))"
   ]
  },
  {
   "cell_type": "code",
   "execution_count": 8,
   "metadata": {},
   "outputs": [
    {
     "ename": "NameError",
     "evalue": "name 'node_groups' is not defined",
     "output_type": "error",
     "traceback": [
      "\u001b[1;31m---------------------------------------------------------------------------\u001b[0m",
      "\u001b[1;31mNameError\u001b[0m                                 Traceback (most recent call last)",
      "\u001b[1;32m<ipython-input-8-1cf7bc92cded>\u001b[0m in \u001b[0;36m<module>\u001b[1;34m\u001b[0m\n\u001b[0;32m      1\u001b[0m \u001b[0mdummy\u001b[0m\u001b[1;33m[\u001b[0m\u001b[1;34m'Colour_GN'\u001b[0m\u001b[1;33m]\u001b[0m\u001b[1;33m=\u001b[0m\u001b[1;36m0\u001b[0m\u001b[1;33m\u001b[0m\u001b[1;33m\u001b[0m\u001b[0m\n\u001b[0;32m      2\u001b[0m \u001b[1;33m\u001b[0m\u001b[0m\n\u001b[1;32m----> 3\u001b[1;33m \u001b[1;32mfor\u001b[0m \u001b[0mgroup\u001b[0m \u001b[1;32min\u001b[0m \u001b[0mrange\u001b[0m\u001b[1;33m(\u001b[0m\u001b[1;36m0\u001b[0m\u001b[1;33m,\u001b[0m\u001b[0mlen\u001b[0m\u001b[1;33m(\u001b[0m\u001b[0mnode_groups\u001b[0m\u001b[1;33m)\u001b[0m\u001b[1;33m)\u001b[0m\u001b[1;33m:\u001b[0m\u001b[1;33m\u001b[0m\u001b[1;33m\u001b[0m\u001b[0m\n\u001b[0m\u001b[0;32m      4\u001b[0m     \u001b[1;32mfor\u001b[0m \u001b[0midx\u001b[0m \u001b[1;32min\u001b[0m \u001b[0mnode_groups\u001b[0m\u001b[1;33m[\u001b[0m\u001b[0mgroup\u001b[0m\u001b[1;33m]\u001b[0m\u001b[1;33m:\u001b[0m\u001b[1;33m\u001b[0m\u001b[1;33m\u001b[0m\u001b[0m\n\u001b[0;32m      5\u001b[0m         \u001b[0msubset\u001b[0m\u001b[1;33m=\u001b[0m\u001b[0mnodes\u001b[0m\u001b[1;33m[\u001b[0m\u001b[0mnodes\u001b[0m\u001b[1;33m.\u001b[0m\u001b[0mId\u001b[0m\u001b[1;33m==\u001b[0m\u001b[0mint\u001b[0m\u001b[1;33m(\u001b[0m\u001b[0midx\u001b[0m\u001b[1;33m)\u001b[0m\u001b[1;33m]\u001b[0m\u001b[1;33m\u001b[0m\u001b[1;33m\u001b[0m\u001b[0m\n",
      "\u001b[1;31mNameError\u001b[0m: name 'node_groups' is not defined"
     ]
    }
   ],
   "source": [
    "nodes['Colour_GN']=0\n",
    "\n",
    "for group in range(0,len(node_groups)):\n",
    "    for idx in node_groups[group]:\n",
    "        subset=nodes[nodes.Id==int(idx)]\n",
    "        if subset.empty == False:\n",
    "            sub_index=subset.index\n",
    "            nodes.at[sub_index,'Colour_GN']=group+1\n",
    "        else:\n",
    "            continue"
   ]
  },
  {
   "cell_type": "code",
   "execution_count": 3,
   "metadata": {},
   "outputs": [
    {
     "ename": "NameError",
     "evalue": "name 'dummy' is not defined",
     "output_type": "error",
     "traceback": [
      "\u001b[1;31m---------------------------------------------------------------------------\u001b[0m",
      "\u001b[1;31mNameError\u001b[0m                                 Traceback (most recent call last)",
      "\u001b[1;32m<ipython-input-3-3f4fdc02383a>\u001b[0m in \u001b[0;36m<module>\u001b[1;34m\u001b[0m\n\u001b[1;32m----> 1\u001b[1;33m \u001b[0mdummy\u001b[0m\u001b[1;33m[\u001b[0m\u001b[1;34m\"Colour\"\u001b[0m\u001b[1;33m]\u001b[0m\u001b[1;33m.\u001b[0m\u001b[0munique\u001b[0m\u001b[1;33m(\u001b[0m\u001b[1;33m)\u001b[0m\u001b[1;33m\u001b[0m\u001b[1;33m\u001b[0m\u001b[0m\n\u001b[0m",
      "\u001b[1;31mNameError\u001b[0m: name 'dummy' is not defined"
     ]
    }
   ],
   "source": [
    "dummy[\"Colour\"].unique()"
   ]
  },
  {
   "cell_type": "code",
   "execution_count": 181,
   "metadata": {},
   "outputs": [],
   "source": [
    "nodes.to_csv(\"nodes_df6_tot.csv\", index=False)"
   ]
  },
  {
   "cell_type": "code",
   "execution_count": 4,
   "metadata": {},
   "outputs": [
    {
     "ename": "NameError",
     "evalue": "name 'nodes' is not defined",
     "output_type": "error",
     "traceback": [
      "\u001b[1;31m---------------------------------------------------------------------------\u001b[0m",
      "\u001b[1;31mNameError\u001b[0m                                 Traceback (most recent call last)",
      "\u001b[1;32m<ipython-input-4-50f61bb6a662>\u001b[0m in \u001b[0;36m<module>\u001b[1;34m\u001b[0m\n\u001b[1;32m----> 1\u001b[1;33m \u001b[0mnodes\u001b[0m\u001b[1;33m[\u001b[0m\u001b[1;34m\"Colour_GN\"\u001b[0m\u001b[1;33m]\u001b[0m\u001b[1;33m.\u001b[0m\u001b[0munique\u001b[0m\u001b[1;33m(\u001b[0m\u001b[1;33m)\u001b[0m\u001b[1;33m\u001b[0m\u001b[1;33m\u001b[0m\u001b[0m\n\u001b[0m",
      "\u001b[1;31mNameError\u001b[0m: name 'nodes' is not defined"
     ]
    }
   ],
   "source": [
    "nodes[\"Colour_GN\"].unique()"
   ]
  },
  {
   "cell_type": "markdown",
   "metadata": {},
   "source": [
    "#### Valutazione Grafo"
   ]
  },
  {
   "cell_type": "code",
   "execution_count": 5,
   "metadata": {},
   "outputs": [],
   "source": [
    "import scipy.stats as stats"
   ]
  },
  {
   "cell_type": "code",
   "execution_count": 9,
   "metadata": {},
   "outputs": [],
   "source": [
    "G_directed=nx.from_pandas_edgelist(new_edges,source='Source',target='Target',create_using=nx.DiGraph())"
   ]
  },
  {
   "cell_type": "code",
   "execution_count": 11,
   "metadata": {},
   "outputs": [
    {
     "data": {
      "text/plain": [
       "5190"
      ]
     },
     "execution_count": 11,
     "metadata": {},
     "output_type": "execute_result"
    }
   ],
   "source": [
    "len(G_directed.nodes)"
   ]
  },
  {
   "cell_type": "code",
   "execution_count": 106,
   "metadata": {},
   "outputs": [],
   "source": [
    "G_multi_directed=nx.from_pandas_edgelist(new_edges,source='Source',target='Target',create_using=nx.MultiDiGraph())"
   ]
  },
  {
   "cell_type": "code",
   "execution_count": 107,
   "metadata": {},
   "outputs": [],
   "source": [
    "#creazione grafo in networkx della Giant Component\n",
    "G_nx=nx.from_pandas_edgelist(new_edges,source='Source',target='Target')"
   ]
  },
  {
   "cell_type": "markdown",
   "metadata": {},
   "source": [
    "Assortativity"
   ]
  },
  {
   "cell_type": "code",
   "execution_count": 108,
   "metadata": {},
   "outputs": [
    {
     "data": {
      "text/plain": [
       "-0.2152581913514963"
      ]
     },
     "execution_count": 108,
     "metadata": {},
     "output_type": "execute_result"
    }
   ],
   "source": [
    "#Assortativity per intero grafo\n",
    "#nx.degree_assortativity_coefficient(g_nx)\n",
    "Assortativity=nx.degree_pearson_correlation_coefficient(g_nx) #più veloce\n",
    "Assortativity"
   ]
  },
  {
   "cell_type": "code",
   "execution_count": 110,
   "metadata": {},
   "outputs": [
    {
     "data": {
      "text/plain": [
       "-0.20792062392886407"
      ]
     },
     "execution_count": 110,
     "metadata": {},
     "output_type": "execute_result"
    }
   ],
   "source": [
    "#Assortativity per la sola giant component\n",
    "nx.degree_pearson_correlation_coefficient(G_directed)"
   ]
  },
  {
   "cell_type": "markdown",
   "metadata": {},
   "source": [
    "La nostra rete è quindi disassortativa:\n",
    "- Hubs tend to connect to small nodes.\n",
    "- Disassortative networks have difficulty forming a giant\n",
    "component (ops? ahahah)\n",
    "- Hub removal is more damaging in disassortative networks, as in these the\n",
    "hubs connect to many small-degree nodes, which fall off the network\n",
    "once a hub is deleted."
   ]
  },
  {
   "cell_type": "markdown",
   "metadata": {},
   "source": [
    "Altri indici"
   ]
  },
  {
   "cell_type": "code",
   "execution_count": 37,
   "metadata": {},
   "outputs": [],
   "source": [
    "#nx.degree_mixing_dict(g_nx) #cos'è??"
   ]
  },
  {
   "cell_type": "code",
   "execution_count": 112,
   "metadata": {},
   "outputs": [
    {
     "name": "stdout",
     "output_type": "stream",
     "text": [
      "0\n",
      "1\n",
      "0\n"
     ]
    }
   ],
   "source": [
    "#Structural cohesion:\n",
    "# Connectivity measures the minimum number of elements (vertices or edges) that must be removed to \n",
    "# disconnect the graph\n",
    "# edge connectivity\n",
    "print(nx.edge_connectivity(g_nx))\n",
    "print(nx.edge_connectivity(G_nx))\n",
    "print(nx.edge_connectivity(G_directed))"
   ]
  },
  {
   "cell_type": "code",
   "execution_count": 113,
   "metadata": {},
   "outputs": [
    {
     "name": "stdout",
     "output_type": "stream",
     "text": [
      "0\n",
      "1\n",
      "0\n"
     ]
    }
   ],
   "source": [
    "#node connectivity\n",
    "print(nx.node_connectivity(g_nx))\n",
    "print(nx.node_connectivity(G_nx))\n",
    "print(nx.node_connectivity(G_directed))"
   ]
  },
  {
   "cell_type": "code",
   "execution_count": 114,
   "metadata": {},
   "outputs": [
    {
     "name": "stdout",
     "output_type": "stream",
     "text": [
      "0.00047724496871439607\n",
      "0.0005404199115440214\n",
      "0.000270692672471892\n"
     ]
    }
   ],
   "source": [
    "#density\n",
    "#The density of a graph is a measure of how many ties between actors exist compared to how many \n",
    "#ties between actors are possible. A dense graph is a graph in which the number of edges is close \n",
    "#to the maximal number of edges. \n",
    "#NB: The density is 0 for a graph without edges and 1 for a complete graph\n",
    "print(nx.density(g_nx))\n",
    "print(nx.density(G_nx))\n",
    "print(nx.density(G_directed))\n",
    "#il nostro grafo è sparso"
   ]
  },
  {
   "cell_type": "code",
   "execution_count": 117,
   "metadata": {},
   "outputs": [],
   "source": [
    "#print(nx.eccentricity(g_nx)) grafo non connesso, non si può calcolare l'eccentricity\n",
    "# It is defined as the maximum distance of one vertex from other vertex. The maximum distance \n",
    "# between a vertex to all other vertices is considered as the eccentricity of the vertex.\n",
    "eccentricity=nx.eccentricity(G_nx)"
   ]
  },
  {
   "cell_type": "code",
   "execution_count": 118,
   "metadata": {},
   "outputs": [
    {
     "data": {
      "text/plain": [
       "7"
      ]
     },
     "execution_count": 118,
     "metadata": {},
     "output_type": "execute_result"
    }
   ],
   "source": [
    "#The radius of G is the value of the smallest eccentricity.\n",
    "nx.radius(G_nx)\n",
    "#min(eccentricity.values())"
   ]
  },
  {
   "cell_type": "code",
   "execution_count": 119,
   "metadata": {},
   "outputs": [
    {
     "data": {
      "text/plain": [
       "14"
      ]
     },
     "execution_count": 119,
     "metadata": {},
     "output_type": "execute_result"
    }
   ],
   "source": [
    "#The diameter of G is the value of the greatest eccentricity.\n",
    "nx.diameter(G_nx)\n",
    "#max(eccentricity.values())"
   ]
  },
  {
   "cell_type": "code",
   "execution_count": 120,
   "metadata": {},
   "outputs": [
    {
     "data": {
      "text/plain": [
       "0.0035665294924554186"
      ]
     },
     "execution_count": 120,
     "metadata": {},
     "output_type": "execute_result"
    }
   ],
   "source": [
    "#reciprocity is a measure of the likelihood of vertices in a directed network to be mutually \n",
    "# linked\n",
    "overall_reciprocity=nx.overall_reciprocity(G_directed)\n",
    "overall_reciprocity\n",
    "\n",
    "# 0 -> non ci sono scambi di retweet?"
   ]
  },
  {
   "cell_type": "markdown",
   "metadata": {},
   "source": [
    "Degree Analysis (HUBS & Spamm Users)"
   ]
  },
  {
   "cell_type": "code",
   "execution_count": null,
   "metadata": {},
   "outputs": [],
   "source": [
    "#DEGREE\n",
    "#Degree is a simple centrality measure that counts how many neighbors a node has. \n",
    "# If the network is directed, we have two versions of the measure: \n",
    "# in-degree is the number of in-coming links, or the number of predecessor nodes; \n",
    "# out-degree is the number of out-going links, or the number of successor nodes."
   ]
  },
  {
   "cell_type": "code",
   "execution_count": 121,
   "metadata": {},
   "outputs": [
    {
     "data": {
      "text/html": [
       "<div>\n",
       "<style scoped>\n",
       "    .dataframe tbody tr th:only-of-type {\n",
       "        vertical-align: middle;\n",
       "    }\n",
       "\n",
       "    .dataframe tbody tr th {\n",
       "        vertical-align: top;\n",
       "    }\n",
       "\n",
       "    .dataframe thead th {\n",
       "        text-align: right;\n",
       "    }\n",
       "</style>\n",
       "<table border=\"1\" class=\"dataframe\">\n",
       "  <thead>\n",
       "    <tr style=\"text-align: right;\">\n",
       "      <th></th>\n",
       "      <th>id_utente</th>\n",
       "      <th>rt_fatti</th>\n",
       "      <th>Label</th>\n",
       "    </tr>\n",
       "  </thead>\n",
       "  <tbody>\n",
       "    <tr>\n",
       "      <th>0</th>\n",
       "      <td>366660837</td>\n",
       "      <td>38</td>\n",
       "      <td>_fiorucci</td>\n",
       "    </tr>\n",
       "    <tr>\n",
       "      <th>1</th>\n",
       "      <td>810235254870937600</td>\n",
       "      <td>32</td>\n",
       "      <td>ferillo2</td>\n",
       "    </tr>\n",
       "    <tr>\n",
       "      <th>2</th>\n",
       "      <td>1174780873075544069</td>\n",
       "      <td>26</td>\n",
       "      <td>rosaroccaforte</td>\n",
       "    </tr>\n",
       "    <tr>\n",
       "      <th>3</th>\n",
       "      <td>1042691054</td>\n",
       "      <td>26</td>\n",
       "      <td>MastroRadu</td>\n",
       "    </tr>\n",
       "    <tr>\n",
       "      <th>4</th>\n",
       "      <td>2535751839</td>\n",
       "      <td>24</td>\n",
       "      <td>MarySpes</td>\n",
       "    </tr>\n",
       "  </tbody>\n",
       "</table>\n",
       "</div>"
      ],
      "text/plain": [
       "             id_utente  rt_fatti           Label\n",
       "0            366660837        38       _fiorucci\n",
       "1   810235254870937600        32        ferillo2\n",
       "2  1174780873075544069        26  rosaroccaforte\n",
       "3           1042691054        26      MastroRadu\n",
       "4           2535751839        24        MarySpes"
      ]
     },
     "execution_count": 121,
     "metadata": {},
     "output_type": "execute_result"
    }
   ],
   "source": [
    "out_degrees=dict(G_directed.out_degree())\n",
    "out_degrees_sort=dict(sorted(out_degrees.items(), key=lambda item: item[1], reverse= True))\n",
    "top5_twitters=pd.DataFrame(list(out_degrees_sort.items())[:5],columns=(\"id_utente\",\"rt_fatti\"))\n",
    "top5_twitters=pd.merge(top5_twitters,nodes[[\"Id\",\"Label\"]],left_on=\"id_utente\",right_on=\"Id\",how=\"left\")\n",
    "top5_twitters.drop(\"Id\",axis=1,inplace=True)\n",
    "top5_twitters\n",
    "top5_twitters"
   ]
  },
  {
   "cell_type": "code",
   "execution_count": 122,
   "metadata": {},
   "outputs": [],
   "source": [
    "#df dei gradi entranti di ciascun nodo\n",
    "df_gradi_in=pd.DataFrame(in_degrees.items(),columns=[\"nodi\",\"grado\"])"
   ]
  },
  {
   "cell_type": "code",
   "execution_count": 123,
   "metadata": {},
   "outputs": [
    {
     "data": {
      "text/html": [
       "<div>\n",
       "<style scoped>\n",
       "    .dataframe tbody tr th:only-of-type {\n",
       "        vertical-align: middle;\n",
       "    }\n",
       "\n",
       "    .dataframe tbody tr th {\n",
       "        vertical-align: top;\n",
       "    }\n",
       "\n",
       "    .dataframe thead th {\n",
       "        text-align: right;\n",
       "    }\n",
       "</style>\n",
       "<table border=\"1\" class=\"dataframe\">\n",
       "  <thead>\n",
       "    <tr style=\"text-align: right;\">\n",
       "      <th></th>\n",
       "      <th>nodi</th>\n",
       "    </tr>\n",
       "    <tr>\n",
       "      <th>grado</th>\n",
       "      <th></th>\n",
       "    </tr>\n",
       "  </thead>\n",
       "  <tbody>\n",
       "    <tr>\n",
       "      <th>0</th>\n",
       "      <td>3304</td>\n",
       "    </tr>\n",
       "    <tr>\n",
       "      <th>1</th>\n",
       "      <td>68</td>\n",
       "    </tr>\n",
       "    <tr>\n",
       "      <th>2</th>\n",
       "      <td>37</td>\n",
       "    </tr>\n",
       "    <tr>\n",
       "      <th>3</th>\n",
       "      <td>21</td>\n",
       "    </tr>\n",
       "    <tr>\n",
       "      <th>4</th>\n",
       "      <td>15</td>\n",
       "    </tr>\n",
       "  </tbody>\n",
       "</table>\n",
       "</div>"
      ],
      "text/plain": [
       "       nodi\n",
       "grado      \n",
       "0      3304\n",
       "1        68\n",
       "2        37\n",
       "3        21\n",
       "4        15"
      ]
     },
     "execution_count": 123,
     "metadata": {},
     "output_type": "execute_result"
    }
   ],
   "source": [
    "#distribuzione dei nodi per i 5 gradi più ricorrenti\n",
    "df_gradi_in.groupby(\"grado\").count().head()"
   ]
  },
  {
   "cell_type": "code",
   "execution_count": 124,
   "metadata": {},
   "outputs": [
    {
     "data": {
      "text/plain": [
       "0.9368"
      ]
     },
     "execution_count": 124,
     "metadata": {},
     "output_type": "execute_result"
    }
   ],
   "source": [
    "#percentuale di nodi con grado=0 (nessun retweet ricevuto)\n",
    "round(df_gradi_in[df_gradi_in[\"grado\"]==0][\"grado\"].count()/df_gradi_in[\"grado\"].count(),4)"
   ]
  },
  {
   "cell_type": "code",
   "execution_count": null,
   "metadata": {},
   "outputs": [
    {
     "data": {
      "image/png": "[encoded data removed]",
      "text/plain": [
       "<Figure size 432x288 with 1 Axes>"
      ]
     },
     "metadata": {
      "needs_background": "light"
     },
     "output_type": "display_data"
    }
   ],
   "source": [
    "import matplotlib.pyplot as plt\n",
    "#distribuzione numero del numero dei retweet ricevuti in un range tra 5 e 100\n",
    "def plot_in_degree_dist(G):\n",
    "    bins=np.arange(10,1000,5)  \n",
    "    degrees = sorted([G.in_degree(n) for n in G.nodes()])\n",
    "    plt.hist(degrees, bins, color='green')\n",
    "    plt.ylabel('utenti')\n",
    "    plt.xlabel('retweet ricevuti (range:5-100)')\n",
    "    plt.title('Distribuzione retweet ricevuti')\n",
    "    plt.show()\n",
    "\n",
    "plot_in_degree_dist(G_directed)\n",
    "\n",
    "# da questo plot possiamo farci un idea della distribuzione degli hub \n",
    "# (nodi con un numero di archi entranti anomalo rispetto al resto della rete )"
   ]
  },
  {
   "cell_type": "code",
   "execution_count": 33,
   "metadata": {},
   "outputs": [
    {
     "data": {
      "text/plain": [
       "{442083142: 0,\n",
       " 1364298062919794688: 1080,\n",
       " 305255857: 0,\n",
       " 977383349235961857: 5,\n",
       " 950098070771036160: 0,\n",
       " 1438546161955229703: 36,\n",
       " 229160327: 0,\n",
       " 1054851091: 0,\n",
       " 3292300398: 0,\n",
       " 1272523678140555274: 0,\n",
       " 1435590896502849538: 0,\n",
       " 1430162268: 0,\n",
       " 95106953: 4,\n",
       " 1396921468127170567: 0,\n",
       " 1136537422836244480: 10,\n",
       " 1275154423: 0,\n",
       " 206832958: 2,\n",
       " 1017975031: 0,\n",
       " 2322424306: 29,\n",
       " 1037003822: 0,\n",
       " 1425830479006035970: 0,\n",
       " 2535751839: 0,\n",
       " 1455070299813257218: 0,\n",
       " 942266220: 7,\n",
       " 1063948830: 0,\n",
       " 1369640371697942528: 0,\n",
       " 1224287141947232256: 0,\n",
       " 1392230741875040256: 0,\n",
       " 757521873743798272: 10,\n",
       " 416346211: 0,\n",
       " 1405888434917593098: 0,\n",
       " 828376782407663617: 0,\n",
       " 3252394091: 0,\n",
       " 1168202277091516418: 0,\n",
       " 1416344428147585025: 0,\n",
       " 1004766856434110464: 0,\n",
       " 1349467232: 0,\n",
       " 1225034977: 0,\n",
       " 751180558936530944: 1,\n",
       " 2353382138: 2,\n",
       " 847096890: 0,\n",
       " 934809157055799299: 0,\n",
       " 1052894605: 5,\n",
       " 2360365059: 1,\n",
       " 1199127172990021633: 0,\n",
       " 750752094840320001: 0,\n",
       " 1090989921454747648: 25,\n",
       " 1429096741945716741: 0,\n",
       " 1223954414807011328: 0,\n",
       " 100812291: 1,\n",
       " 82083043: 0,\n",
       " 1434532915417919488: 109,\n",
       " 1300884946878427137: 0,\n",
       " 508688015: 0,\n",
       " 1288876471583481862: 0,\n",
       " 1364225080859926540: 0,\n",
       " 1036307375744016386: 4,\n",
       " 872076729535406080: 37,\n",
       " 1463177545784848385: 0,\n",
       " 1297495287720706048: 0,\n",
       " 896778150755139584: 0,\n",
       " 1475223019140354048: 1,\n",
       " 1601926596: 0,\n",
       " 792793865489117184: 0,\n",
       " 249593744: 0,\n",
       " 1296006171862667264: 2,\n",
       " 1125143117856944130: 0,\n",
       " 85838534: 0,\n",
       " 1433304175249657856: 0,\n",
       " 15178183: 0,\n",
       " 1111915132102344706: 0,\n",
       " 1410870161985388546: 0,\n",
       " 1413591361186672642: 4,\n",
       " 1062862212: 0,\n",
       " 1434786662681296896: 0,\n",
       " 457693768: 0,\n",
       " 503223395: 0,\n",
       " 1424671436627709956: 0,\n",
       " 1249412358637666304: 0,\n",
       " 1466803693: 0,\n",
       " 2175971759: 0,\n",
       " 1246917715941634062: 0,\n",
       " 489331719: 0,\n",
       " 1233740003047608322: 2,\n",
       " 1322543941: 0,\n",
       " 1433103620413788164: 8,\n",
       " 1366086962164154371: 3,\n",
       " 1366508379812880387: 0,\n",
       " 3179223957: 1,\n",
       " 892482377590636545: 0,\n",
       " 984895994755211265: 12,\n",
       " 468497275: 0,\n",
       " 1373354712460886020: 0,\n",
       " 1347929926910038025: 1,\n",
       " 1342223197131993088: 0,\n",
       " 803567193875169280: 1,\n",
       " 1337596044: 0,\n",
       " 791939621630255104: 0,\n",
       " 702614277472034818: 0,\n",
       " 56548389: 0,\n",
       " 1402397995321147401: 2,\n",
       " 568142347: 0,\n",
       " 1269882038439591943: 0,\n",
       " 1728224730: 0,\n",
       " 876095223864209409: 6,\n",
       " 70624474: 0,\n",
       " 456848255: 28,\n",
       " 1006873192374382592: 0,\n",
       " 132492502: 0,\n",
       " 945102892956086272: 15,\n",
       " 1157781200: 0,\n",
       " 1053632622465818624: 0,\n",
       " 710520401735057409: 15,\n",
       " 1290192406797836290: 0,\n",
       " 1258867179191259140: 2,\n",
       " 1442488093131436042: 0,\n",
       " 1143393739: 0,\n",
       " 1134540091983114240: 1,\n",
       " 468521672: 0,\n",
       " 2469167444: 0,\n",
       " 1045558848: 0,\n",
       " 1035460693: 0,\n",
       " 432637066: 0,\n",
       " 1455293360051216385: 0,\n",
       " 430544226: 0,\n",
       " 1359101255373774852: 0,\n",
       " 523682869: 5,\n",
       " 847888050239807489: 0,\n",
       " 2240528067: 0,\n",
       " 978197286076510208: 0,\n",
       " 1439537158365323266: 0,\n",
       " 2348635034: 0,\n",
       " 553736272: 0,\n",
       " 1125778520720990208: 0,\n",
       " 1166401156492464129: 0,\n",
       " 1390653288136290307: 0,\n",
       " 471995227: 0,\n",
       " 1310565298920136705: 4,\n",
       " 1264187873923907584: 0,\n",
       " 1498818084: 0,\n",
       " 501783959: 0,\n",
       " 387745397: 0,\n",
       " 2327839710: 0,\n",
       " 1262811458603225088: 0,\n",
       " 446380041: 6,\n",
       " 943045818814169088: 0,\n",
       " 420931672: 8,\n",
       " 1417045292667576323: 0,\n",
       " 1262834658250838023: 0,\n",
       " 1080786410980950017: 0,\n",
       " 769740390: 0,\n",
       " 1126839683357585408: 0,\n",
       " 482033828: 0,\n",
       " 425365609: 0,\n",
       " 1337734677340282885: 0,\n",
       " 235712668: 0,\n",
       " 145802194: 0,\n",
       " 1459473555100475400: 0,\n",
       " 22004738: 0,\n",
       " 1187380629085790208: 0,\n",
       " 1218946952924213251: 0,\n",
       " 1408365643490119680: 0,\n",
       " 1446432167513542673: 5,\n",
       " 422152255: 0,\n",
       " 194930568: 0,\n",
       " 1288901307093450752: 0,\n",
       " 2577415332: 0,\n",
       " 1418645210645549056: 0,\n",
       " 1436091919726170114: 0,\n",
       " 1173244890001678336: 0,\n",
       " 1020380156194631680: 0,\n",
       " 564688749: 1,\n",
       " 2312589291: 0,\n",
       " 280451887: 0,\n",
       " 370705320: 0,\n",
       " 612356867: 0,\n",
       " 404946715: 0,\n",
       " 1079458256949575680: 0,\n",
       " 1111179646538842112: 0,\n",
       " 354778269: 0,\n",
       " 38903873: 0,\n",
       " 1085531312: 1,\n",
       " 1197916593289859073: 0,\n",
       " 447383139: 1,\n",
       " 4853695089: 0,\n",
       " 1074085537089314817: 30,\n",
       " 1585400108: 0,\n",
       " 1474256774190579714: 0,\n",
       " 1208811826743521280: 0,\n",
       " 437321566: 0,\n",
       " 871143564947988483: 0,\n",
       " 4549605137: 0,\n",
       " 2876208495: 0,\n",
       " 1442745694700326917: 0,\n",
       " 1426639026824564737: 0,\n",
       " 2773663610: 0,\n",
       " 1155459166380744709: 31,\n",
       " 1158758131448590336: 0,\n",
       " 2397689598: 0,\n",
       " 1459205005802708997: 0,\n",
       " 1469591492993896450: 0,\n",
       " 1459539183891107843: 0,\n",
       " 872116496373338112: 0,\n",
       " 1329936777105338373: 0,\n",
       " 598772700: 0,\n",
       " 93369052: 1,\n",
       " 4611000693: 0,\n",
       " 1407948418836803585: 0,\n",
       " 745351426117869568: 0,\n",
       " 4220897650: 0,\n",
       " 1205428460719620096: 0,\n",
       " 283416650: 0,\n",
       " 752155127054753793: 0,\n",
       " 1389814780349853696: 0,\n",
       " 1177756580: 0,\n",
       " 1197549995832070147: 0,\n",
       " 1407830436945014787: 0,\n",
       " 978660801241403392: 0,\n",
       " 328473338: 0,\n",
       " 1382258084567998469: 0,\n",
       " 3363886649: 0,\n",
       " 1094718444837265408: 0,\n",
       " 1034446975: 0,\n",
       " 1189193624958816256: 0,\n",
       " 1455843673795698689: 1,\n",
       " 4645281629: 0,\n",
       " 1377439021: 0,\n",
       " 1450062950010691590: 0,\n",
       " 446397123: 0,\n",
       " 1455484372556070923: 8,\n",
       " 1363754714454757378: 0,\n",
       " 1427632842075475968: 0,\n",
       " 174643719: 1,\n",
       " 1448727801411026944: 5,\n",
       " 993774130293067776: 0,\n",
       " 1410898242397691905: 0,\n",
       " 3372869746: 0,\n",
       " 2711375137: 0,\n",
       " 25141258: 4,\n",
       " 1468584911045283840: 0,\n",
       " 1363805346: 1,\n",
       " 1429231388394467332: 0,\n",
       " 273897097: 0,\n",
       " 470242115: 0,\n",
       " 229764451: 0,\n",
       " 1470798619997573131: 0,\n",
       " 1460634559113043973: 12,\n",
       " 1343937223947919360: 0,\n",
       " 1279126399295651841: 0,\n",
       " 975616683611181057: 70,\n",
       " 133167075: 0,\n",
       " 1118997350: 1,\n",
       " 1915578642: 0,\n",
       " 141529750: 0,\n",
       " 1009031048762679296: 0,\n",
       " 1334430294670254080: 0,\n",
       " 1169382144969465856: 0,\n",
       " 493833883: 0,\n",
       " 768270710670233600: 0,\n",
       " 1389495200607883266: 0,\n",
       " 1059728797610708993: 0,\n",
       " 1015512337: 0,\n",
       " 475732955: 0,\n",
       " 1032615842: 0,\n",
       " 3184776298: 0,\n",
       " 1070688754342473728: 0,\n",
       " 1361786933194719232: 0,\n",
       " 1055560390720008195: 0,\n",
       " 1247558843955064836: 0,\n",
       " 1398742674031747075: 2,\n",
       " 730973286: 0,\n",
       " 1370732523135893510: 0,\n",
       " 3352779975: 0,\n",
       " 443926629: 0,\n",
       " 910876959399452673: 0,\n",
       " 973863191037071360: 0,\n",
       " 1632805556: 0,\n",
       " 1241292304004022272: 0,\n",
       " 1318295995: 0,\n",
       " 1283766291799715843: 0,\n",
       " 1972520815: 0,\n",
       " 1151954305659936769: 0,\n",
       " 440247035: 0,\n",
       " 796260694144548864: 0,\n",
       " 493285850: 0,\n",
       " 1208458128523743233: 0,\n",
       " 1312802310830125057: 0,\n",
       " 392728431: 0,\n",
       " 319322393: 0,\n",
       " 2764665148: 0,\n",
       " 912000926826815491: 0,\n",
       " 1012267874143080448: 1,\n",
       " 1435676887603458061: 0,\n",
       " 1439222482662268932: 1,\n",
       " 923171889891209217: 18,\n",
       " 2643488104: 0,\n",
       " 986811270: 5,\n",
       " 1423290967746961418: 1,\n",
       " 1414955644596129799: 0,\n",
       " 466402810: 1,\n",
       " 1360232480: 8,\n",
       " 1468933392326610954: 3,\n",
       " 2394684582: 5,\n",
       " 2306307694: 0,\n",
       " 738344440851468288: 0,\n",
       " 342074085: 2,\n",
       " 761170444904964096: 1,\n",
       " 919568303894515712: 42,\n",
       " 35259388: 3,\n",
       " 1248307267: 2,\n",
       " 1364303913273483266: 3,\n",
       " 1301919962873974784: 2,\n",
       " 1447835681254948865: 0,\n",
       " 424084271: 2,\n",
       " 1094253615420706816: 0,\n",
       " 4204183834: 0,\n",
       " 1889472642: 0,\n",
       " 957072768: 0,\n",
       " 833545501: 0,\n",
       " 1421936444675923969: 0,\n",
       " 126727689: 0,\n",
       " 865205076159344640: 0,\n",
       " 742693486563053568: 0,\n",
       " 1388566135826694146: 0,\n",
       " 2175887381: 9,\n",
       " 251106558: 0,\n",
       " 1417490129866924033: 0,\n",
       " 287566348: 0,\n",
       " 1391077456325525504: 0,\n",
       " 2773450417: 0,\n",
       " 1086984555352023040: 0,\n",
       " 2390676985: 0,\n",
       " 1013117294: 0,\n",
       " 927122457894453248: 0,\n",
       " 730116701589753857: 0,\n",
       " 1355767833922306050: 7,\n",
       " 1099277078: 0,\n",
       " 1238800491632607232: 207,\n",
       " 73418713: 0,\n",
       " 1323023005304430592: 0,\n",
       " 324580620: 9,\n",
       " 2363018685: 0,\n",
       " 498068054: 0,\n",
       " 147943469: 0,\n",
       " 739708146655100928: 0,\n",
       " 1317396407326806017: 0,\n",
       " 729861715970658308: 0,\n",
       " 1420711554270511107: 32,\n",
       " 205442172: 0,\n",
       " 71593119: 0,\n",
       " 898297518: 0,\n",
       " 1223200116670115850: 0,\n",
       " 1434078813063876608: 5,\n",
       " 91591882: 0,\n",
       " 1006493750: 0,\n",
       " 984081495231954944: 0,\n",
       " 1181573622588231681: 0,\n",
       " 1353030410796720129: 0,\n",
       " 141509471: 13,\n",
       " 1376226833000173576: 0,\n",
       " 3719734875: 0,\n",
       " 3004247111: 0,\n",
       " 1005873765203501056: 0,\n",
       " 312691936: 0,\n",
       " 502961596: 0,\n",
       " 1029104546: 0,\n",
       " 446609691: 6,\n",
       " 2585035709: 0,\n",
       " 1472024600447963139: 0,\n",
       " 1448002220360933383: 2,\n",
       " 1438170887111520259: 0,\n",
       " 1161834389170479104: 0,\n",
       " 1338197570020122624: 0,\n",
       " 1162426204705697793: 1,\n",
       " 1344997483429179394: 0,\n",
       " 433485990: 0,\n",
       " 100878763: 0,\n",
       " 4047552142: 0,\n",
       " 3244161467: 0,\n",
       " 936010797217656832: 0,\n",
       " 955276178461478914: 0,\n",
       " 1398897288098033667: 0,\n",
       " 393423439: 23,\n",
       " 416177225: 0,\n",
       " 479467597: 0,\n",
       " 193009291: 0,\n",
       " 461019019: 0,\n",
       " 335247158: 0,\n",
       " 1272217437371609088: 0,\n",
       " 1454821005877288970: 6,\n",
       " 1313354509968642048: 0,\n",
       " 589178819: 0,\n",
       " 1089107530247221249: 2,\n",
       " 1372630004270530561: 0,\n",
       " 1459654405280698368: 0,\n",
       " 1004886276: 0,\n",
       " 1145102592: 0,\n",
       " 1231957350828957697: 0,\n",
       " 1266634908: 0,\n",
       " 1156830576592203776: 0,\n",
       " 1250388882694307841: 0,\n",
       " 2511415512: 0,\n",
       " 582265897: 0,\n",
       " 386158314: 0,\n",
       " 125374717: 0,\n",
       " 3172430939: 0,\n",
       " 2195968707: 0,\n",
       " 1352326627477377025: 13,\n",
       " 585968039: 2,\n",
       " 1337899721545879555: 0,\n",
       " 1446500137602322440: 0,\n",
       " 1404095153095200770: 0,\n",
       " 1673451542: 0,\n",
       " 1234744238228803585: 0,\n",
       " 1259795247925690371: 0,\n",
       " 1438842563184762884: 0,\n",
       " 558560470: 0,\n",
       " 1020502986: 0,\n",
       " 177164070: 3,\n",
       " 1455912609417502727: 0,\n",
       " 1352465678: 0,\n",
       " 701168995: 0,\n",
       " 1273686762691297280: 0,\n",
       " 242954953: 0,\n",
       " 1435036992056737810: 0,\n",
       " 1448042555871055876: 0,\n",
       " 326150500: 0,\n",
       " 175166079: 0,\n",
       " 1011308525807693829: 0,\n",
       " 337152978: 0,\n",
       " 452013510: 0,\n",
       " 1238143563017474049: 0,\n",
       " 1174780873075544069: 0,\n",
       " 452350565: 0,\n",
       " 4889385693: 0,\n",
       " 1322010178078859264: 0,\n",
       " 164655159: 0,\n",
       " 1380854935189909506: 0,\n",
       " 1401942238544990219: 0,\n",
       " 230310402: 0,\n",
       " 1418228852040470533: 0,\n",
       " 373950389: 0,\n",
       " 3176594760: 3,\n",
       " 4160203479: 0,\n",
       " 2336489501: 0,\n",
       " 1108660999731728384: 0,\n",
       " 1029434331394129924: 0,\n",
       " 2389687188: 0,\n",
       " 1428767360: 3,\n",
       " 2876249524: 0,\n",
       " 1248557329882271744: 0,\n",
       " 1283167465: 0,\n",
       " 121466746: 0,\n",
       " 1266649207: 0,\n",
       " 1222246382188318720: 0,\n",
       " 57358236: 17,\n",
       " 1372227242638577671: 0,\n",
       " 740077770001244160: 0,\n",
       " 1449282200030126082: 0,\n",
       " 1390396681452244999: 0,\n",
       " 1076779266619121665: 0,\n",
       " 1191558961: 0,\n",
       " 1025143716: 0,\n",
       " 799007315034800128: 0,\n",
       " 1462909584289320967: 0,\n",
       " 3077196184: 0,\n",
       " 992799917524516864: 0,\n",
       " 1467497788938280960: 1,\n",
       " 1427276891023626240: 0,\n",
       " 482815449: 0,\n",
       " 153163420: 0,\n",
       " 903357817020706816: 0,\n",
       " 1221013968: 0,\n",
       " 1170008913758052353: 0,\n",
       " 1380302501812047872: 0,\n",
       " 4788106457: 0,\n",
       " 1426437286015770625: 0,\n",
       " 970409903033651200: 0,\n",
       " 1454539859406753796: 0,\n",
       " 1035376896: 0,\n",
       " 1473977401071841286: 0,\n",
       " 2825259495: 0,\n",
       " 781635668195827716: 0,\n",
       " 595852215: 0,\n",
       " 2571088997: 8,\n",
       " 1363957089425649671: 0,\n",
       " 778693643976581120: 0,\n",
       " 1337144779772194819: 2,\n",
       " 1434111209528299524: 0,\n",
       " 950114153955553281: 0,\n",
       " 558064469: 0,\n",
       " 2436207123: 0,\n",
       " 19281320: 0,\n",
       " 473801365: 0,\n",
       " 1124542915: 0,\n",
       " 1257383280732704776: 0,\n",
       " 6012422: 1,\n",
       " 1283784692: 0,\n",
       " 1037076323599114241: 0,\n",
       " 1369668257347739648: 0,\n",
       " 1229014265673256961: 0,\n",
       " 2512399892: 0,\n",
       " 856279160: 0,\n",
       " 2941915384: 0,\n",
       " 3010293559: 0,\n",
       " 1377619729137946628: 1,\n",
       " 15317484: 0,\n",
       " 1426431723085172740: 2,\n",
       " 3438529882: 0,\n",
       " 1675887912: 0,\n",
       " 1449468040245035011: 0,\n",
       " 1442589814449078272: 3,\n",
       " 1324680509977481219: 0,\n",
       " 540845601: 1,\n",
       " 1231573077722632192: 1,\n",
       " 1294681861889888258: 0,\n",
       " 1319999334025494529: 0,\n",
       " 1439545402542497796: 0,\n",
       " 1474443337038012421: 0,\n",
       " 1361833561972686849: 22,\n",
       " 1362144619: 0,\n",
       " 1429938235082424324: 0,\n",
       " 86938862: 2,\n",
       " 69064023: 0,\n",
       " 2437178138: 0,\n",
       " 1415066695018983424: 0,\n",
       " 521620495: 0,\n",
       " 1432682708539424770: 0,\n",
       " 1174514317238112256: 5,\n",
       " 1379520397: 0,\n",
       " 2877822448: 0,\n",
       " 3047940471: 0,\n",
       " 3288652618: 0,\n",
       " 568574630: 0,\n",
       " 2155461192: 0,\n",
       " 1460246270757552128: 0,\n",
       " 428588499: 0,\n",
       " 1033990615267270657: 0,\n",
       " 315438318: 0,\n",
       " 941772138008268801: 1,\n",
       " 1442876232102600712: 0,\n",
       " 213602829: 0,\n",
       " 572125780: 0,\n",
       " 517380398: 0,\n",
       " 1437067632: 0,\n",
       " 50267238: 0,\n",
       " 568418849: 0,\n",
       " 2178455382: 0,\n",
       " 1243299289062932482: 0,\n",
       " 1429676806307782659: 0,\n",
       " 3305939879: 0,\n",
       " 1432941587324092418: 0,\n",
       " 755099236065222656: 1,\n",
       " 4463821833: 0,\n",
       " 1457843622439702531: 0,\n",
       " 104637433: 0,\n",
       " 433224751: 0,\n",
       " 1076072359147249667: 0,\n",
       " 790652959193440257: 0,\n",
       " 1449784597697417218: 0,\n",
       " 2386807670: 0,\n",
       " 912792614843355138: 0,\n",
       " 1130521967864500226: 0,\n",
       " 1442950706915315712: 0,\n",
       " 1228301834: 0,\n",
       " 59716246: 0,\n",
       " 1337831564785422337: 0,\n",
       " 1464312736272297992: 0,\n",
       " 294535863: 0,\n",
       " 782329487899947008: 0,\n",
       " 2968605063: 0,\n",
       " 421862447: 0,\n",
       " 1050393979777441792: 0,\n",
       " 30439070: 0,\n",
       " 1683235070: 0,\n",
       " 1171336100: 0,\n",
       " 283188007: 0,\n",
       " 704078981591646208: 0,\n",
       " 1428239568088797186: 0,\n",
       " 1227988316: 0,\n",
       " 1429511600915034118: 0,\n",
       " 800436732: 0,\n",
       " 1378701952163405824: 0,\n",
       " 20552360: 0,\n",
       " 2570328789: 0,\n",
       " 4458653776: 0,\n",
       " 209249028: 0,\n",
       " 1445848857703694343: 0,\n",
       " 1186406702: 0,\n",
       " 1444662885427318784: 0,\n",
       " 275993167: 0,\n",
       " 1345129094619537408: 0,\n",
       " 2713176561: 0,\n",
       " 1430984925273104389: 0,\n",
       " 48182327: 0,\n",
       " 1295001682850525188: 0,\n",
       " 455631190: 0,\n",
       " 1436670330953773062: 0,\n",
       " 1370300701: 0,\n",
       " 488237950: 0,\n",
       " 834419884205469696: 0,\n",
       " 473323380: 0,\n",
       " 1417438566511222805: 0,\n",
       " 904751544: 0,\n",
       " 939484063: 0,\n",
       " 1431329628988362766: 13,\n",
       " 1302708024360996872: 0,\n",
       " 1359605405010300930: 2,\n",
       " 198867994: 0,\n",
       " 2313764153: 0,\n",
       " 858438226188611586: 0,\n",
       " 497279830: 0,\n",
       " 2334178698: 0,\n",
       " 1668915986: 0,\n",
       " 346692486: 2,\n",
       " 1377302048929153024: 0,\n",
       " 1474418591005130755: 0,\n",
       " 458729603: 0,\n",
       " 1236336724399329280: 0,\n",
       " 103303397: 0,\n",
       " 1224996284: 0,\n",
       " 2175541491: 0,\n",
       " 2954454747: 0,\n",
       " 1425194624033902594: 0,\n",
       " 1347607267546456073: 0,\n",
       " 1120686824073179136: 0,\n",
       " 1473916953098174466: 0,\n",
       " 1011902735845863424: 0,\n",
       " 1459104939788193798: 0,\n",
       " 471435689: 0,\n",
       " 1123179943037423617: 0,\n",
       " 972147007279321088: 0,\n",
       " 1445111196558974982: 0,\n",
       " 319116894: 0,\n",
       " 1025345033384411137: 2,\n",
       " 1082608591008399366: 0,\n",
       " 1448583716209635329: 0,\n",
       " 508858817: 0,\n",
       " 278743750: 0,\n",
       " 1044958567: 8,\n",
       " 1457059909502177280: 0,\n",
       " 1456547128155820032: 0,\n",
       " 1438838832774930443: 0,\n",
       " 1123858502118776834: 2,\n",
       " 1162441321598128128: 0,\n",
       " 1851884437: 0,\n",
       " 1273786244087066624: 0,\n",
       " 2766569631: 0,\n",
       " 760770547022237700: 0,\n",
       " 1364918233: 0,\n",
       " 50372471: 0,\n",
       " 1443994474301038595: 0,\n",
       " 962088641198788609: 0,\n",
       " 426152264: 0,\n",
       " 24388245: 0,\n",
       " 35700912: 0,\n",
       " 1236255995984297986: 0,\n",
       " 202822143: 0,\n",
       " 1383506379902574594: 0,\n",
       " 950834626360172544: 0,\n",
       " 149183666: 0,\n",
       " 1620000878: 0,\n",
       " 4463456536: 0,\n",
       " 1356930348433760257: 0,\n",
       " 383254576: 0,\n",
       " 1214181278334865408: 0,\n",
       " 1032209514513293312: 0,\n",
       " 260376774: 0,\n",
       " 1431516303374827522: 0,\n",
       " 468772443: 0,\n",
       " 1007028370377531392: 0,\n",
       " 1460029354436661248: 0,\n",
       " 503338054: 0,\n",
       " 1356156544229003265: 0,\n",
       " 1125440833099112448: 0,\n",
       " 318325648: 0,\n",
       " 1196018762593525765: 0,\n",
       " 501801081: 0,\n",
       " 473003190: 0,\n",
       " 4171327882: 0,\n",
       " 1249813315427209216: 0,\n",
       " 1200449290973396996: 35,\n",
       " 826833620727975936: 0,\n",
       " 1036611673: 0,\n",
       " 766601799155449857: 0,\n",
       " 199620260: 9,\n",
       " 365633533: 0,\n",
       " 1231252408568877058: 0,\n",
       " 881963377123364864: 0,\n",
       " 1337835585034186753: 0,\n",
       " 1210915390928211976: 0,\n",
       " 2803957169: 0,\n",
       " 951070429179011072: 0,\n",
       " 917038232: 0,\n",
       " 84193474: 0,\n",
       " 2951425072: 0,\n",
       " 324987074: 1,\n",
       " 175557075: 0,\n",
       " 1442884202748317706: 0,\n",
       " 1168756376946040832: 0,\n",
       " 1367027810: 0,\n",
       " 302484971: 0,\n",
       " 379083449: 0,\n",
       " 742397759991480320: 0,\n",
       " 186221116: 2,\n",
       " 22646471: 0,\n",
       " 1646281124: 0,\n",
       " 1088748639349100544: 0,\n",
       " 1474296028702691346: 0,\n",
       " 620945099: 0,\n",
       " 869963379204608000: 0,\n",
       " 734074574275514368: 0,\n",
       " 1254390256557871104: 0,\n",
       " 1324253602471464960: 5,\n",
       " 1343955493212065794: 1,\n",
       " 2364202434: 0,\n",
       " 2901246066: 0,\n",
       " 1350851479045877763: 6,\n",
       " 487914485: 0,\n",
       " 436632575: 0,\n",
       " 1633923900: 0,\n",
       " 1464199037993857029: 0,\n",
       " 2950763536: 0,\n",
       " 966702165095059457: 0,\n",
       " 1451961097016184838: 0,\n",
       " 1478297786: 0,\n",
       " 984126296094597121: 1,\n",
       " 2272008636: 0,\n",
       " 3105415553: 0,\n",
       " 2359406918: 0,\n",
       " 1172883227125735424: 1,\n",
       " 62285317: 0,\n",
       " 484592863: 0,\n",
       " 1438600206883377156: 0,\n",
       " 3366460893: 0,\n",
       " 1432801281081548808: 1,\n",
       " 3368018859: 0,\n",
       " 323239274: 0,\n",
       " 397961650: 0,\n",
       " 917304116270989312: 0,\n",
       " 972602601865916417: 0,\n",
       " 1210948801575321600: 12,\n",
       " 850324301450555392: 0,\n",
       " 1038124587341570049: 0,\n",
       " 1356572433793351683: 0,\n",
       " 1366069487104122887: 0,\n",
       " 3243517432: 0,\n",
       " 1309012362620473345: 0,\n",
       " 3362645254: 11,\n",
       " 1143922956: 0,\n",
       " 1412500075: 3,\n",
       " 2577810538: 0,\n",
       " 1224399006744436736: 5,\n",
       " 566772201: 0,\n",
       " 736098260796854272: 0,\n",
       " 1557557558: 17,\n",
       " 1447170272826642432: 0,\n",
       " 536736517: 2,\n",
       " 79198695: 0,\n",
       " 1315234951927869441: 0,\n",
       " 498611410: 0,\n",
       " 1260526777295949824: 0,\n",
       " 303154968: 0,\n",
       " 1122630542866952192: 0,\n",
       " 1214986704492339206: 0,\n",
       " 708318936513777664: 0,\n",
       " 1405120559755759618: 11,\n",
       " 877493316803276800: 0,\n",
       " 450555112: 0,\n",
       " 703508760807997440: 0,\n",
       " 971351566325370881: 0,\n",
       " 1433154131653500937: 0,\n",
       " 928345597182177286: 0,\n",
       " 308121897: 0,\n",
       " 896701976960016384: 0,\n",
       " 937966642184810496: 0,\n",
       " 710554164770816000: 0,\n",
       " 265679140: 0,\n",
       " 560412535: 0,\n",
       " 450556892: 0,\n",
       " 564497761: 0,\n",
       " 2408576268: 0,\n",
       " 420419717: 0,\n",
       " 725968843563225088: 0,\n",
       " 1323957701341306880: 0,\n",
       " 1101534236086026242: 0,\n",
       " 1431343585048285185: 0,\n",
       " 4882542093: 148,\n",
       " 222475722: 0,\n",
       " 1935290473: 0,\n",
       " 548569689: 0,\n",
       " 1332284698475761664: 0,\n",
       " 1461843481995972614: 0,\n",
       " 1665475068: 0,\n",
       " 1453282570582568960: 32,\n",
       " 4869405783: 0,\n",
       " 14561296: 0,\n",
       " 396864128: 0,\n",
       " 4362453375: 0,\n",
       " 2267751849: 0,\n",
       " 3306725673: 0,\n",
       " 40455396: 0,\n",
       " 3697596857: 0,\n",
       " 1274344507803385857: 0,\n",
       " 1444189918276767750: 0,\n",
       " 396103653: 0,\n",
       " 337767301: 16,\n",
       " 1197417991689912320: 2,\n",
       " 1377304137751220227: 0,\n",
       " 1477983924: 0,\n",
       " 2595566549: 0,\n",
       " 1441073314634649609: 0,\n",
       " 146738509: 0,\n",
       " 942438880220975105: 0,\n",
       " 1220332021026885632: 0,\n",
       " 2635093335: 0,\n",
       " 1386786871439659011: 0,\n",
       " 1347585595657383940: 0,\n",
       " 1427591372912185349: 0,\n",
       " 783981059344130048: 0,\n",
       " 738448251578355712: 0,\n",
       " 957237487209996288: 0,\n",
       " 3063998776: 0,\n",
       " 557292057: 5,\n",
       " 1247136845995167745: 0,\n",
       " 2747514027: 0,\n",
       " 1332783882198978561: 0,\n",
       " 1216467327962750977: 0,\n",
       " 1338185335948324864: 0,\n",
       " 171447577: 0,\n",
       " 230787831: 0,\n",
       " 294848675: 0,\n",
       " 4893676696: 0,\n",
       " 1247063129693065216: 0,\n",
       " 2984387777: 1,\n",
       " 1033993296203472896: 0,\n",
       " 1447131849482964993: 0,\n",
       " 1401072119568650240: 1,\n",
       " 1459457697288445956: 0,\n",
       " 1349364292894793730: 0,\n",
       " 1388868781934514180: 0,\n",
       " 2911298461: 0,\n",
       " 1042691054: 2,\n",
       " 452951935: 0,\n",
       " 1419778460290060289: 0,\n",
       " 1396364775295234049: 0,\n",
       " 1253740719728189440: 0,\n",
       " 1183534806: 0,\n",
       " 110654085: 0,\n",
       " 509897044: 0,\n",
       " 974419373531324418: 0,\n",
       " 1461703425679364116: 0,\n",
       " 4635116367: 0,\n",
       " 848477487269113856: 0,\n",
       " 913718930404990977: 0,\n",
       " 1379486747474718722: 9,\n",
       " 782065777: 0,\n",
       " 1424422564303183873: 1,\n",
       " 3047103415: 0,\n",
       " 1362438933066448896: 0,\n",
       " 1319900551363108864: 0,\n",
       " 3084886731: 0,\n",
       " 1431990401259421704: 0,\n",
       " 1302616789348691968: 145,\n",
       " 210376076: 0,\n",
       " 1159393215855976449: 0,\n",
       " 53773490: 0,\n",
       " 1446184244867477511: 0,\n",
       " 375544141: 0,\n",
       " 161649422: 0,\n",
       " 1068039158285819904: 0,\n",
       " 1006057344042766336: 0,\n",
       " 1263042661: 0,\n",
       " 1593720860: 0,\n",
       " 1448996773154930706: 0,\n",
       " 398032197: 0,\n",
       " 1445103330120904709: 2,\n",
       " 2494075937: 0,\n",
       " 353251479: 0,\n",
       " 1250825548756107264: 0,\n",
       " 761199432: 0,\n",
       " 308997199: 0,\n",
       " 1409830264977645570: 0,\n",
       " 1312086658481901569: 0,\n",
       " 1143894122765438976: 0,\n",
       " 1121265637: 0,\n",
       " 1271793704374861825: 3,\n",
       " 737129292811866112: 0,\n",
       " 1133374725764337672: 0,\n",
       " 946972735: 0,\n",
       " 503847121: 0,\n",
       " 923948842948624385: 0,\n",
       " 919417542: 0,\n",
       " 3386953695: 0,\n",
       " 2529337990: 0,\n",
       " 311162501: 0,\n",
       " 464855487: 0,\n",
       " 2256287230: 0,\n",
       " 2300213626: 0,\n",
       " 1455671798473842694: 0,\n",
       " 1421035162587045891: 0,\n",
       " 1427835702130135040: 0,\n",
       " 1367203155440771082: 0,\n",
       " 1456681235401543684: 0,\n",
       " 1011141461084172288: 0,\n",
       " 500929319: 0,\n",
       " 2430808297: 0,\n",
       " 796313694825226240: 0,\n",
       " 896829755298914304: 0,\n",
       " 1225774964642631681: 0,\n",
       " 2398008923: 0,\n",
       " 2339747697: 0,\n",
       " 2967886973: 0,\n",
       " 1373294098715643906: 0,\n",
       " 128855697: 0,\n",
       " 358270300: 0,\n",
       " 1424014391712829444: 1,\n",
       " 840991431414161410: 0,\n",
       " 995657337393287168: 0,\n",
       " 2343158218: 2,\n",
       " 68638274: 0,\n",
       " 1435252991746101252: 0,\n",
       " 771724582923431936: 0,\n",
       " 1443803222: 0,\n",
       " 390208721: 0,\n",
       " 2902601895: 0,\n",
       " 312615662: 0,\n",
       " 1374632486681055232: 0,\n",
       " 1296390431190679553: 21,\n",
       " 1445115166815830020: 0,\n",
       " 780037081468895232: 0,\n",
       " 1401425662401974279: 0,\n",
       " 920005244: 0,\n",
       " 784004960493199360: 0,\n",
       " 1243305305162866691: 0,\n",
       " 302188259: 0,\n",
       " 2189394718: 0,\n",
       " 2330388670: 0,\n",
       " 1167030798: 0,\n",
       " 576150349: 0,\n",
       " 1450765089372524552: 0,\n",
       " 470349216: 0,\n",
       " 2928096323: 0,\n",
       " 1352193336585711616: 0,\n",
       " 1472699056849838084: 0,\n",
       " 2216051760: 0,\n",
       " 455888650: 0,\n",
       " 727975628: 0,\n",
       " 496075532: 0,\n",
       " 96576495: 0,\n",
       " 1286108228565245955: 0,\n",
       " 332133904: 0,\n",
       " 1447476230517927936: 22,\n",
       " 44726798: 0,\n",
       " 1109104534775914496: 0,\n",
       " 1164614972422459394: 0,\n",
       " 1422305016619151362: 0,\n",
       " 1562770316: 0,\n",
       " 3054506993: 0,\n",
       " 1339923900801708033: 0,\n",
       " 2239941328: 0,\n",
       " 3599907255: 0,\n",
       " 1333439161479598087: 0,\n",
       " 1120989916668878848: 0,\n",
       " 488844512: 0,\n",
       " 3631495096: 0,\n",
       " 137023882: 0,\n",
       " 970720216551485440: 0,\n",
       " 1095076850: 0,\n",
       " 993443536937865216: 0,\n",
       " 1264620892312780801: 0,\n",
       " 1387394419305947136: 0,\n",
       " 4192961459: 0,\n",
       " 1338614814: 0,\n",
       " 416583838: 0,\n",
       " 2380463039: 29,\n",
       " 866705562049945600: 0,\n",
       " 1275458021661933568: 8,\n",
       " 1156303286: 0,\n",
       " 1081200388945178624: 0,\n",
       " 1283518398: 0,\n",
       " 2942486068: 0,\n",
       " 186124512: 0,\n",
       " 2216427653: 0,\n",
       " 1430032390366375936: 0,\n",
       " 1421443456170352647: 0,\n",
       " 1245445880540467203: 1,\n",
       " 1064799155833487360: 0,\n",
       " 761516052970889220: 0,\n",
       " 944382516: 0,\n",
       " 4827091311: 0,\n",
       " 83478644: 0,\n",
       " 366660837: 0,\n",
       " 1337805700869795845: 0,\n",
       " 1263526453997600768: 0,\n",
       " 272945830: 0,\n",
       " 2197175103: 0,\n",
       " 1163011455584747521: 0,\n",
       " 1198015322839830528: 0,\n",
       " 1242089940143538176: 0,\n",
       " ...}"
      ]
     },
     "execution_count": 33,
     "metadata": {},
     "output_type": "execute_result"
    }
   ],
   "source": [
    "in_degrees"
   ]
  },
  {
   "cell_type": "code",
   "execution_count": 32,
   "metadata": {},
   "outputs": [
    {
     "data": {
      "text/html": [
       "<div>\n",
       "<style scoped>\n",
       "    .dataframe tbody tr th:only-of-type {\n",
       "        vertical-align: middle;\n",
       "    }\n",
       "\n",
       "    .dataframe tbody tr th {\n",
       "        vertical-align: top;\n",
       "    }\n",
       "\n",
       "    .dataframe thead th {\n",
       "        text-align: right;\n",
       "    }\n",
       "</style>\n",
       "<table border=\"1\" class=\"dataframe\">\n",
       "  <thead>\n",
       "    <tr style=\"text-align: right;\">\n",
       "      <th></th>\n",
       "      <th>id_utente</th>\n",
       "      <th>rt_ricevuti</th>\n",
       "      <th>Label</th>\n",
       "    </tr>\n",
       "  </thead>\n",
       "  <tbody>\n",
       "    <tr>\n",
       "      <th>0</th>\n",
       "      <td>1364298062919794688</td>\n",
       "      <td>1080</td>\n",
       "      <td>Lorenzo62752880</td>\n",
       "    </tr>\n",
       "    <tr>\n",
       "      <th>1</th>\n",
       "      <td>22038676</td>\n",
       "      <td>579</td>\n",
       "      <td>mariannaaprile</td>\n",
       "    </tr>\n",
       "    <tr>\n",
       "      <th>2</th>\n",
       "      <td>231902290</td>\n",
       "      <td>415</td>\n",
       "      <td>Cartabellotta</td>\n",
       "    </tr>\n",
       "    <tr>\n",
       "      <th>3</th>\n",
       "      <td>270839361</td>\n",
       "      <td>332</td>\n",
       "      <td>matteosalvinimi</td>\n",
       "    </tr>\n",
       "    <tr>\n",
       "      <th>4</th>\n",
       "      <td>215699843</td>\n",
       "      <td>245</td>\n",
       "      <td>CasaPoundItalia</td>\n",
       "    </tr>\n",
       "  </tbody>\n",
       "</table>\n",
       "</div>"
      ],
      "text/plain": [
       "             id_utente  rt_ricevuti            Label\n",
       "0  1364298062919794688         1080  Lorenzo62752880\n",
       "1             22038676          579   mariannaaprile\n",
       "2            231902290          415    Cartabellotta\n",
       "3            270839361          332  matteosalvinimi\n",
       "4            215699843          245  CasaPoundItalia"
      ]
     },
     "execution_count": 32,
     "metadata": {},
     "output_type": "execute_result"
    }
   ],
   "source": [
    "in_degrees=dict(G_directed.in_degree())\n",
    "in_degrees_sort=dict(sorted(in_degrees.items(), key=lambda item: item[1], reverse= True))\n",
    "top5_HUBS=pd.DataFrame(list(in_degrees_sort.items())[:5],columns=(\"id_utente\",\"rt_ricevuti\"))\n",
    "top5_HUBS=pd.merge(top5_HUBS,nodes[[\"Id\",\"Label\"]],left_on=\"id_utente\",right_on=\"Id\",how=\"left\")\n",
    "top5_HUBS.drop(\"Id\",axis=1,inplace=True)\n",
    "top5_HUBS"
   ]
  },
  {
   "cell_type": "code",
   "execution_count": 126,
   "metadata": {},
   "outputs": [
    {
     "name": "stdout",
     "output_type": "stream",
     "text": [
      "0\n",
      "1080\n"
     ]
    }
   ],
   "source": [
    "print(min(in_degrees_sort.values()))\n",
    "print(max(in_degrees_sort.values()))"
   ]
  },
  {
   "cell_type": "markdown",
   "metadata": {},
   "source": [
    "Centrality"
   ]
  },
  {
   "cell_type": "code",
   "execution_count": 127,
   "metadata": {},
   "outputs": [
    {
     "data": {
      "text/plain": [
       "[(1364298062919794688, 0.20813258816727692),\n",
       " (22038676, 0.11158219310079012),\n",
       " (231902290, 0.0799768741568703),\n",
       " (270839361, 0.06398149932549624),\n",
       " (215699843, 0.047215263056465596),\n",
       " (1238800491632607232, 0.039892079398728075),\n",
       " (4882542093, 0.028521873193293502),\n",
       " (1302616789348691968, 0.027943727115051067),\n",
       " (419622371, 0.027558296396222776),\n",
       " (1434532915417919488, 0.021005974176141837)]"
      ]
     },
     "execution_count": 127,
     "metadata": {},
     "output_type": "execute_result"
    }
   ],
   "source": [
    "#The in-degree centrality for a node v is the fraction of nodes its incoming edges are connected to\n",
    "#top10 dei nodi con il maggior numero di archi entranti (i più retwettati)--> HUBS\n",
    "in_degree_centrality=nx.in_degree_centrality(G_directed)\n",
    "in_degree_centrality_sort=dict(sorted(in_degree_centrality.items(), key=lambda item: item[1], reverse= True))\n",
    "top10_IN_C=list(in_degree_centrality_sort.items())[:10]\n",
    "top10_IN_C"
   ]
  },
  {
   "cell_type": "code",
   "execution_count": 128,
   "metadata": {},
   "outputs": [
    {
     "data": {
      "text/plain": [
       "[(366660837, 0.007323183657737521),\n",
       " (810235254870937600, 0.0061668915012526495),\n",
       " (1174780873075544069, 0.005010599344767778),\n",
       " (1042691054, 0.005010599344767778),\n",
       " (2535751839, 0.004625168625939487),\n",
       " (358626243, 0.004625168625939487),\n",
       " (1382258084567998469, 0.003854307188282906),\n",
       " (354778269, 0.0036615918288687606),\n",
       " (1310209976, 0.00327616111004047),\n",
       " (1409830264977645570, 0.002698015031798034)]"
      ]
     },
     "execution_count": 128,
     "metadata": {},
     "output_type": "execute_result"
    }
   ],
   "source": [
    "#The out-degree centrality for a node v is the fraction of nodes its outcoming edges are connected to\n",
    "#top10 dei nodi con il maggior numero di archi uscenti (chi ha retwittato di più)\n",
    "out_degree_centrality=nx.out_degree_centrality(G_directed)\n",
    "out_degree_centrality_sort=dict(sorted(out_degree_centrality.items(), key=lambda item: item[1], reverse= True))\n",
    "top10_OUT_C=list(out_degree_centrality_sort.items())[:10]\n",
    "top10_OUT_C"
   ]
  },
  {
   "cell_type": "code",
   "execution_count": 131,
   "metadata": {},
   "outputs": [],
   "source": [
    "#CLOSENESS CENTRALITY\n",
    "# of a node is a measure of centrality in a network, \n",
    "# calculated as the reciprocal of the sum of the length of the shortest paths between the node \n",
    "# and all other nodes in the graph. Thus, the more central a node is, the closer it is to all \n",
    "# other nodes.\n",
    "closeness_centrality=nx.closeness_centrality(G_directed)"
   ]
  },
  {
   "cell_type": "code",
   "execution_count": 132,
   "metadata": {},
   "outputs": [
    {
     "data": {
      "text/html": [
       "<div>\n",
       "<style scoped>\n",
       "    .dataframe tbody tr th:only-of-type {\n",
       "        vertical-align: middle;\n",
       "    }\n",
       "\n",
       "    .dataframe tbody tr th {\n",
       "        vertical-align: top;\n",
       "    }\n",
       "\n",
       "    .dataframe thead th {\n",
       "        text-align: right;\n",
       "    }\n",
       "</style>\n",
       "<table border=\"1\" class=\"dataframe\">\n",
       "  <thead>\n",
       "    <tr style=\"text-align: right;\">\n",
       "      <th></th>\n",
       "      <th>id_utente</th>\n",
       "      <th>closeness centrality</th>\n",
       "      <th>Label</th>\n",
       "    </tr>\n",
       "  </thead>\n",
       "  <tbody>\n",
       "    <tr>\n",
       "      <th>0</th>\n",
       "      <td>1364298062919794688</td>\n",
       "      <td>0.199657</td>\n",
       "      <td>Lorenzo62752880</td>\n",
       "    </tr>\n",
       "    <tr>\n",
       "      <th>1</th>\n",
       "      <td>22038676</td>\n",
       "      <td>0.135710</td>\n",
       "      <td>mariannaaprile</td>\n",
       "    </tr>\n",
       "    <tr>\n",
       "      <th>2</th>\n",
       "      <td>231902290</td>\n",
       "      <td>0.080743</td>\n",
       "      <td>Cartabellotta</td>\n",
       "    </tr>\n",
       "    <tr>\n",
       "      <th>3</th>\n",
       "      <td>4882542093</td>\n",
       "      <td>0.057145</td>\n",
       "      <td>lordfed3</td>\n",
       "    </tr>\n",
       "    <tr>\n",
       "      <th>4</th>\n",
       "      <td>215699843</td>\n",
       "      <td>0.049076</td>\n",
       "      <td>CasaPoundItalia</td>\n",
       "    </tr>\n",
       "  </tbody>\n",
       "</table>\n",
       "</div>"
      ],
      "text/plain": [
       "             id_utente  closeness centrality            Label\n",
       "0  1364298062919794688              0.199657  Lorenzo62752880\n",
       "1             22038676              0.135710   mariannaaprile\n",
       "2            231902290              0.080743    Cartabellotta\n",
       "3           4882542093              0.057145         lordfed3\n",
       "4            215699843              0.049076  CasaPoundItalia"
      ]
     },
     "execution_count": 132,
     "metadata": {},
     "output_type": "execute_result"
    }
   ],
   "source": [
    "#trovo i top5 utenti per closeness_centrality\n",
    "closeness_centrality_sort=dict(sorted(closeness_centrality.items(), key=lambda item: item[1], reverse= True))\n",
    "top10_CC=pd.DataFrame(list(closeness_centrality_sort.items())[:5],columns=(\"id_utente\",\"closeness centrality\"))\n",
    "top10_CC=pd.merge(top10_CC,nodes[[\"Id\",\"Label\"]],left_on=\"id_utente\",right_on=\"Id\",how=\"left\")\n",
    "top10_CC.drop(\"Id\",axis=1,inplace=True)\n",
    "top10_CC"
   ]
  },
  {
   "cell_type": "code",
   "execution_count": 129,
   "metadata": {},
   "outputs": [],
   "source": [
    "#BETWEENNESS CENTRALITY\n",
    "#betweenness centrality is a measure of centrality in a graph based on shortest paths. \n",
    "#Centrality misura l’importanza di un nodo nelle «comunicazioni» con gli altri nodi e\n",
    "#quindi l’ influenza all'interno di una rete in virtù del «controllo sulle informazioni» che passano,\n",
    "#pertanto si riferisce a quanto un nodo sia di passaggio \n",
    "betweenness_centrality=nx.betweenness_centrality(G_nx)"
   ]
  },
  {
   "cell_type": "code",
   "execution_count": 130,
   "metadata": {},
   "outputs": [
    {
     "data": {
      "text/html": [
       "<div>\n",
       "<style scoped>\n",
       "    .dataframe tbody tr th:only-of-type {\n",
       "        vertical-align: middle;\n",
       "    }\n",
       "\n",
       "    .dataframe tbody tr th {\n",
       "        vertical-align: top;\n",
       "    }\n",
       "\n",
       "    .dataframe thead th {\n",
       "        text-align: right;\n",
       "    }\n",
       "</style>\n",
       "<table border=\"1\" class=\"dataframe\">\n",
       "  <thead>\n",
       "    <tr style=\"text-align: right;\">\n",
       "      <th></th>\n",
       "      <th>id_utente</th>\n",
       "      <th>betweenness centrality</th>\n",
       "      <th>Label</th>\n",
       "    </tr>\n",
       "  </thead>\n",
       "  <tbody>\n",
       "    <tr>\n",
       "      <th>0</th>\n",
       "      <td>1364298062919794688</td>\n",
       "      <td>0.468372</td>\n",
       "      <td>Lorenzo62752880</td>\n",
       "    </tr>\n",
       "    <tr>\n",
       "      <th>1</th>\n",
       "      <td>22038676</td>\n",
       "      <td>0.376630</td>\n",
       "      <td>mariannaaprile</td>\n",
       "    </tr>\n",
       "    <tr>\n",
       "      <th>2</th>\n",
       "      <td>231902290</td>\n",
       "      <td>0.171784</td>\n",
       "      <td>Cartabellotta</td>\n",
       "    </tr>\n",
       "    <tr>\n",
       "      <th>3</th>\n",
       "      <td>270839361</td>\n",
       "      <td>0.137820</td>\n",
       "      <td>matteosalvinimi</td>\n",
       "    </tr>\n",
       "    <tr>\n",
       "      <th>4</th>\n",
       "      <td>419622371</td>\n",
       "      <td>0.087509</td>\n",
       "      <td>EnricoLetta</td>\n",
       "    </tr>\n",
       "  </tbody>\n",
       "</table>\n",
       "</div>"
      ],
      "text/plain": [
       "             id_utente  betweenness centrality            Label\n",
       "0  1364298062919794688                0.468372  Lorenzo62752880\n",
       "1             22038676                0.376630   mariannaaprile\n",
       "2            231902290                0.171784    Cartabellotta\n",
       "3            270839361                0.137820  matteosalvinimi\n",
       "4            419622371                0.087509      EnricoLetta"
      ]
     },
     "execution_count": 130,
     "metadata": {},
     "output_type": "execute_result"
    }
   ],
   "source": [
    "#trovo i top5 utenti per betweenness_centrality\n",
    "betweenness_centrality_sort=dict(sorted(betweenness_centrality.items(), key=lambda item: item[1], reverse= True))\n",
    "top5_BC=pd.DataFrame(list(betweenness_centrality_sort.items())[:5],columns=(\"id_utente\",\"betweenness centrality\"))\n",
    "top5_BC=pd.merge(top5_BC,nodes[[\"Id\",\"Label\"]],left_on=\"id_utente\",right_on=\"Id\",how=\"left\")\n",
    "top5_BC.drop(\"Id\",axis=1,inplace=True)\n",
    "top5_BC"
   ]
  },
  {
   "cell_type": "markdown",
   "metadata": {},
   "source": [
    "##### Percolation?"
   ]
  },
  {
   "cell_type": "code",
   "execution_count": 47,
   "metadata": {},
   "outputs": [
    {
     "ename": "ModuleNotFoundError",
     "evalue": "No module named 'percolation'",
     "output_type": "error",
     "traceback": [
      "\u001b[1;31m---------------------------------------------------------------------------\u001b[0m",
      "\u001b[1;31mModuleNotFoundError\u001b[0m                       Traceback (most recent call last)",
      "\u001b[1;32m<ipython-input-47-189de6747d2e>\u001b[0m in \u001b[0;36m<module>\u001b[1;34m\u001b[0m\n\u001b[1;32m----> 1\u001b[1;33m \u001b[1;32mfrom\u001b[0m \u001b[0mpercolation\u001b[0m \u001b[1;32mimport\u001b[0m \u001b[1;33m*\u001b[0m\u001b[1;33m\u001b[0m\u001b[1;33m\u001b[0m\u001b[0m\n\u001b[0m",
      "\u001b[1;31mModuleNotFoundError\u001b[0m: No module named 'percolation'"
     ]
    }
   ],
   "source": [
    "from percolation import *"
   ]
  },
  {
   "cell_type": "code",
   "execution_count": null,
   "metadata": {},
   "outputs": [],
   "source": [
    "percolation_centrality"
   ]
  }
 ],
 "metadata": {
  "interpreter": {
   "hash": "df2666e76e52a2f771a8cfba8f6cfbfdd93be2d7973ee6ffbf7a2267d71ba071"
  },
  "kernelspec": {
   "display_name": "Python 3.8.10 64-bit (windows store)",
   "language": "python",
   "name": "python3"
  },
  "language_info": {
   "codemirror_mode": {
    "name": "ipython",
    "version": 3
   },
   "file_extension": ".py",
   "mimetype": "text/x-python",
   "name": "python",
   "nbconvert_exporter": "python",
   "pygments_lexer": "ipython3",
   "version": "3.8.5"
  },
  "orig_nbformat": 4
 },
 "nbformat": 4,
 "nbformat_minor": 2
}
