{
 "cells": [
  {
   "cell_type": "code",
   "execution_count": 18,
   "metadata": {},
   "outputs": [],
   "source": [
    "from igraph import Graph\n",
    "import pandas as pd"
   ]
  },
  {
   "cell_type": "code",
   "execution_count": 161,
   "metadata": {},
   "outputs": [],
   "source": [
    "import igraph\n",
    "import networkx as nx"
   ]
  },
  {
   "cell_type": "code",
   "execution_count": 106,
   "metadata": {},
   "outputs": [],
   "source": [
    "nodes=pd.read_csv('Nodes_df4.csv')"
   ]
  },
  {
   "cell_type": "code",
   "execution_count": 28,
   "metadata": {},
   "outputs": [],
   "source": [
    "edges=pd.read_csv('Edges_df4.csv')"
   ]
  },
  {
   "cell_type": "code",
   "execution_count": 21,
   "metadata": {},
   "outputs": [
    {
     "data": {
      "text/plain": [
       "Index(['Source', 'Target', 'Type', 'Kind', 'Id', 'Label', 'Interval',\n",
       "       'Weight'],\n",
       "      dtype='object')"
      ]
     },
     "execution_count": 21,
     "metadata": {},
     "output_type": "execute_result"
    }
   ],
   "source": [
    "edges.columns"
   ]
  },
  {
   "cell_type": "markdown",
   "metadata": {},
   "source": [
    "#### prove con igraph"
   ]
  },
  {
   "cell_type": "code",
   "execution_count": 29,
   "metadata": {},
   "outputs": [],
   "source": [
    "g=Graph.DataFrame(edges=edges[['Source','Target']],directed=True)"
   ]
  },
  {
   "cell_type": "code",
   "execution_count": 30,
   "metadata": {},
   "outputs": [],
   "source": [
    "dendogram=g.community_edge_betweenness(directed=True)"
   ]
  },
  {
   "cell_type": "code",
   "execution_count": 160,
   "metadata": {},
   "outputs": [],
   "source": [
    "clustered=dendogram.as_clustering(84)"
   ]
  },
  {
   "cell_type": "code",
   "execution_count": 49,
   "metadata": {},
   "outputs": [],
   "source": [
    "giant_component=clustered.giant()\n",
    "dendogram_giant=giant_component.community_edge_betweenness(directed=True)\n",
    "clustered_giant=dendogram_giant.as_clustering(3)\n",
    "clustered_giant_graph_nodes=clustered_giant.graph.vs[\"name\"]"
   ]
  },
  {
   "cell_type": "code",
   "execution_count": 86,
   "metadata": {},
   "outputs": [],
   "source": [
    "memberships=clustered_giant.membership"
   ]
  },
  {
   "cell_type": "code",
   "execution_count": 104,
   "metadata": {},
   "outputs": [],
   "source": [
    "nodes_df=pd.DataFrame()\n",
    "\n",
    "nodes_df['node']=clustered_giant_graph_nodes\n",
    "nodes_df['cluster']=memberships"
   ]
  },
  {
   "cell_type": "code",
   "execution_count": 107,
   "metadata": {},
   "outputs": [
    {
     "data": {
      "text/plain": [
       "Index(['Id', 'Label', 'Interval', 'Colour'], dtype='object')"
      ]
     },
     "execution_count": 107,
     "metadata": {},
     "output_type": "execute_result"
    }
   ],
   "source": [
    "nodes.columns"
   ]
  },
  {
   "cell_type": "code",
   "execution_count": 187,
   "metadata": {},
   "outputs": [],
   "source": [
    "nodes['Colour']='#aaaacc'"
   ]
  },
  {
   "cell_type": "code",
   "execution_count": 188,
   "metadata": {},
   "outputs": [],
   "source": [
    "colour=[]\n",
    "for index, row in nodes_df.iterrows():\n",
    "    subset=nodes[nodes.Id==int(row['node'])]\n",
    "    if subset.empty == False:\n",
    "        sub_index=subset.index\n",
    "        if row['cluster']==0:\n",
    "            nodes.at[sub_index,'Colour']='#fb1239'\n",
    "        if row['cluster']==1:\n",
    "            nodes.at[sub_index,'Colour']='#007474'\n",
    "        if row['cluster']==2:\n",
    "            nodes.at[sub_index,'Colour']='#042069'\n",
    "    else:\n",
    "        continue"
   ]
  },
  {
   "cell_type": "code",
   "execution_count": 189,
   "metadata": {},
   "outputs": [],
   "source": [
    "nodes.to_csv('Nodes_df4_cluster.csv',index=False)"
   ]
  },
  {
   "cell_type": "markdown",
   "metadata": {},
   "source": [
    "#### prove con networkx"
   ]
  },
  {
   "cell_type": "code",
   "execution_count": 168,
   "metadata": {},
   "outputs": [],
   "source": [
    "g_nx=nx.from_pandas_edgelist(edges,source='Source',target='Target')"
   ]
  },
  {
   "cell_type": "code",
   "execution_count": 169,
   "metadata": {},
   "outputs": [],
   "source": [
    "component_subgraph_list = list(nx.connected_components(g_nx))"
   ]
  },
  {
   "cell_type": "code",
   "execution_count": 172,
   "metadata": {},
   "outputs": [],
   "source": [
    "largest_component = list(max(component_subgraph_list,key=len))"
   ]
  },
  {
   "cell_type": "code",
   "execution_count": 235,
   "metadata": {},
   "outputs": [],
   "source": [
    "nodes=pd.read_csv('Nodes_df4.csv')"
   ]
  },
  {
   "cell_type": "code",
   "execution_count": 236,
   "metadata": {},
   "outputs": [
    {
     "data": {
      "text/html": [
       "<div>\n",
       "<style scoped>\n",
       "    .dataframe tbody tr th:only-of-type {\n",
       "        vertical-align: middle;\n",
       "    }\n",
       "\n",
       "    .dataframe tbody tr th {\n",
       "        vertical-align: top;\n",
       "    }\n",
       "\n",
       "    .dataframe thead th {\n",
       "        text-align: right;\n",
       "    }\n",
       "</style>\n",
       "<table border=\"1\" class=\"dataframe\">\n",
       "  <thead>\n",
       "    <tr style=\"text-align: right;\">\n",
       "      <th></th>\n",
       "      <th>Id</th>\n",
       "      <th>Label</th>\n",
       "      <th>Interval</th>\n",
       "      <th>Colour</th>\n",
       "    </tr>\n",
       "  </thead>\n",
       "  <tbody>\n",
       "    <tr>\n",
       "      <th>0</th>\n",
       "      <td>321228288</td>\n",
       "      <td>marsion65</td>\n",
       "      <td>NaN</td>\n",
       "      <td>#fb1239</td>\n",
       "    </tr>\n",
       "    <tr>\n",
       "      <th>1</th>\n",
       "      <td>1426639026824564737</td>\n",
       "      <td>MaurizioCimino2</td>\n",
       "      <td>NaN</td>\n",
       "      <td>#fb1239</td>\n",
       "    </tr>\n",
       "    <tr>\n",
       "      <th>2</th>\n",
       "      <td>272945830</td>\n",
       "      <td>AleC226</td>\n",
       "      <td>NaN</td>\n",
       "      <td>#fb1239</td>\n",
       "    </tr>\n",
       "    <tr>\n",
       "      <th>3</th>\n",
       "      <td>745351426117869568</td>\n",
       "      <td>Massimi8900</td>\n",
       "      <td>NaN</td>\n",
       "      <td>#fb1239</td>\n",
       "    </tr>\n",
       "    <tr>\n",
       "      <th>4</th>\n",
       "      <td>798461063494828032</td>\n",
       "      <td>IvanoPioli</td>\n",
       "      <td>NaN</td>\n",
       "      <td>#fb1239</td>\n",
       "    </tr>\n",
       "    <tr>\n",
       "      <th>...</th>\n",
       "      <td>...</td>\n",
       "      <td>...</td>\n",
       "      <td>...</td>\n",
       "      <td>...</td>\n",
       "    </tr>\n",
       "    <tr>\n",
       "      <th>3730</th>\n",
       "      <td>280175586</td>\n",
       "      <td>nunziapenelope</td>\n",
       "      <td>NaN</td>\n",
       "      <td>#aaaacc</td>\n",
       "    </tr>\n",
       "    <tr>\n",
       "      <th>3731</th>\n",
       "      <td>1262438419755683840</td>\n",
       "      <td>MedicinePop</td>\n",
       "      <td>NaN</td>\n",
       "      <td>#aaaacc</td>\n",
       "    </tr>\n",
       "    <tr>\n",
       "      <th>3732</th>\n",
       "      <td>26143609</td>\n",
       "      <td>emmevilla</td>\n",
       "      <td>NaN</td>\n",
       "      <td>#aaaacc</td>\n",
       "    </tr>\n",
       "    <tr>\n",
       "      <th>3733</th>\n",
       "      <td>780706530811219968</td>\n",
       "      <td>Manuel_Pomaro</td>\n",
       "      <td>NaN</td>\n",
       "      <td>#aaaacc</td>\n",
       "    </tr>\n",
       "    <tr>\n",
       "      <th>3734</th>\n",
       "      <td>542530025</td>\n",
       "      <td>Alacantdevega</td>\n",
       "      <td>NaN</td>\n",
       "      <td>#aaaacc</td>\n",
       "    </tr>\n",
       "  </tbody>\n",
       "</table>\n",
       "<p>3735 rows × 4 columns</p>\n",
       "</div>"
      ],
      "text/plain": [
       "                       Id            Label  Interval   Colour\n",
       "0               321228288        marsion65       NaN  #fb1239\n",
       "1     1426639026824564737  MaurizioCimino2       NaN  #fb1239\n",
       "2               272945830          AleC226       NaN  #fb1239\n",
       "3      745351426117869568      Massimi8900       NaN  #fb1239\n",
       "4      798461063494828032       IvanoPioli       NaN  #fb1239\n",
       "...                   ...              ...       ...      ...\n",
       "3730            280175586   nunziapenelope       NaN  #aaaacc\n",
       "3731  1262438419755683840      MedicinePop       NaN  #aaaacc\n",
       "3732             26143609        emmevilla       NaN  #aaaacc\n",
       "3733   780706530811219968    Manuel_Pomaro       NaN  #aaaacc\n",
       "3734            542530025    Alacantdevega       NaN  #aaaacc\n",
       "\n",
       "[3735 rows x 4 columns]"
      ]
     },
     "execution_count": 236,
     "metadata": {},
     "output_type": "execute_result"
    }
   ],
   "source": [
    "nodes"
   ]
  },
  {
   "cell_type": "code",
   "execution_count": 200,
   "metadata": {},
   "outputs": [],
   "source": [
    "nodes_list=list(nodes.Id)"
   ]
  },
  {
   "cell_type": "code",
   "execution_count": 205,
   "metadata": {},
   "outputs": [],
   "source": [
    "new_edges=edges[(edges['Source'].isin(largest_component)) & (edges['Target'].isin(largest_component))]"
   ]
  },
  {
   "cell_type": "code",
   "execution_count": 207,
   "metadata": {},
   "outputs": [],
   "source": [
    "new_g=Graph.DataFrame(edges=new_edges[['Source','Target']],directed=True)"
   ]
  },
  {
   "cell_type": "code",
   "execution_count": 208,
   "metadata": {},
   "outputs": [],
   "source": [
    "dendogram=new_g.community_edge_betweenness(directed=True)"
   ]
  },
  {
   "cell_type": "code",
   "execution_count": 214,
   "metadata": {},
   "outputs": [],
   "source": [
    "clustered=dendogram.as_clustering(5)"
   ]
  },
  {
   "cell_type": "code",
   "execution_count": 216,
   "metadata": {},
   "outputs": [
    {
     "name": "stderr",
     "output_type": "stream",
     "text": [
      "C:\\Users\\Eric\\AppData\\Local\\Packages\\PythonSoftwareFoundation.Python.3.8_qbz5n2kfra8p0\\LocalCache\\local-packages\\Python38\\site-packages\\igraph\\__init__.py:1281: RuntimeWarning: This method was developed for undirected graphs at src/community/leading_eigenvector.c:530\n",
      "  membership, _, q = GraphBase.community_leading_eigenvector(\n"
     ]
    }
   ],
   "source": [
    "eigen=new_g.community_leading_eigenvector(5)"
   ]
  },
  {
   "cell_type": "code",
   "execution_count": 218,
   "metadata": {},
   "outputs": [
    {
     "data": {
      "text/plain": [
       "'Clustering with 3527 elements and 5 clusters'"
      ]
     },
     "execution_count": 218,
     "metadata": {},
     "output_type": "execute_result"
    }
   ],
   "source": [
    "eigen.summary()"
   ]
  },
  {
   "cell_type": "code",
   "execution_count": 225,
   "metadata": {},
   "outputs": [],
   "source": [
    "eigen_nodes=eigen.graph.vs[\"name\"]"
   ]
  },
  {
   "cell_type": "code",
   "execution_count": 232,
   "metadata": {},
   "outputs": [],
   "source": [
    "df_eigen=pd.DataFrame({'nodes':eigen_nodes,'clusters':eigen._membership})"
   ]
  },
  {
   "cell_type": "code",
   "execution_count": 219,
   "metadata": {},
   "outputs": [
    {
     "data": {
      "text/plain": [
       "array([[<AxesSubplot:title={'center':'0'}>]], dtype=object)"
      ]
     },
     "execution_count": 219,
     "metadata": {},
     "output_type": "execute_result"
    },
    {
     "data": {
      "image/png": "[encoded data removed]",
      "text/plain": [
       "<Figure size 432x288 with 1 Axes>"
      ]
     },
     "metadata": {
      "needs_background": "light"
     },
     "output_type": "display_data"
    }
   ],
   "source": [
    "pd.DataFrame(eigen._membership).hist()"
   ]
  },
  {
   "cell_type": "code",
   "execution_count": 233,
   "metadata": {},
   "outputs": [
    {
     "data": {
      "text/html": [
       "<div>\n",
       "<style scoped>\n",
       "    .dataframe tbody tr th:only-of-type {\n",
       "        vertical-align: middle;\n",
       "    }\n",
       "\n",
       "    .dataframe tbody tr th {\n",
       "        vertical-align: top;\n",
       "    }\n",
       "\n",
       "    .dataframe thead th {\n",
       "        text-align: right;\n",
       "    }\n",
       "</style>\n",
       "<table border=\"1\" class=\"dataframe\">\n",
       "  <thead>\n",
       "    <tr style=\"text-align: right;\">\n",
       "      <th></th>\n",
       "      <th>nodes</th>\n",
       "      <th>clusters</th>\n",
       "    </tr>\n",
       "  </thead>\n",
       "  <tbody>\n",
       "    <tr>\n",
       "      <th>0</th>\n",
       "      <td>2279301</td>\n",
       "      <td>0</td>\n",
       "    </tr>\n",
       "    <tr>\n",
       "      <th>1</th>\n",
       "      <td>5253961</td>\n",
       "      <td>0</td>\n",
       "    </tr>\n",
       "    <tr>\n",
       "      <th>2</th>\n",
       "      <td>5718002</td>\n",
       "      <td>1</td>\n",
       "    </tr>\n",
       "    <tr>\n",
       "      <th>3</th>\n",
       "      <td>6012422</td>\n",
       "      <td>0</td>\n",
       "    </tr>\n",
       "    <tr>\n",
       "      <th>4</th>\n",
       "      <td>6243422</td>\n",
       "      <td>0</td>\n",
       "    </tr>\n",
       "    <tr>\n",
       "      <th>...</th>\n",
       "      <td>...</td>\n",
       "      <td>...</td>\n",
       "    </tr>\n",
       "    <tr>\n",
       "      <th>3522</th>\n",
       "      <td>1474895624843800581</td>\n",
       "      <td>0</td>\n",
       "    </tr>\n",
       "    <tr>\n",
       "      <th>3523</th>\n",
       "      <td>1475049574809186307</td>\n",
       "      <td>0</td>\n",
       "    </tr>\n",
       "    <tr>\n",
       "      <th>3524</th>\n",
       "      <td>1475122883164876805</td>\n",
       "      <td>4</td>\n",
       "    </tr>\n",
       "    <tr>\n",
       "      <th>3525</th>\n",
       "      <td>1475496660268638210</td>\n",
       "      <td>0</td>\n",
       "    </tr>\n",
       "    <tr>\n",
       "      <th>3526</th>\n",
       "      <td>1475645745990619139</td>\n",
       "      <td>0</td>\n",
       "    </tr>\n",
       "  </tbody>\n",
       "</table>\n",
       "<p>3527 rows × 2 columns</p>\n",
       "</div>"
      ],
      "text/plain": [
       "                    nodes  clusters\n",
       "0                 2279301         0\n",
       "1                 5253961         0\n",
       "2                 5718002         1\n",
       "3                 6012422         0\n",
       "4                 6243422         0\n",
       "...                   ...       ...\n",
       "3522  1474895624843800581         0\n",
       "3523  1475049574809186307         0\n",
       "3524  1475122883164876805         4\n",
       "3525  1475496660268638210         0\n",
       "3526  1475645745990619139         0\n",
       "\n",
       "[3527 rows x 2 columns]"
      ]
     },
     "execution_count": 233,
     "metadata": {},
     "output_type": "execute_result"
    }
   ],
   "source": [
    "df_eigen"
   ]
  },
  {
   "cell_type": "code",
   "execution_count": 198,
   "metadata": {},
   "outputs": [
    {
     "data": {
      "text/html": [
       "<div>\n",
       "<style scoped>\n",
       "    .dataframe tbody tr th:only-of-type {\n",
       "        vertical-align: middle;\n",
       "    }\n",
       "\n",
       "    .dataframe tbody tr th {\n",
       "        vertical-align: top;\n",
       "    }\n",
       "\n",
       "    .dataframe thead th {\n",
       "        text-align: right;\n",
       "    }\n",
       "</style>\n",
       "<table border=\"1\" class=\"dataframe\">\n",
       "  <thead>\n",
       "    <tr style=\"text-align: right;\">\n",
       "      <th></th>\n",
       "      <th>Source</th>\n",
       "      <th>Target</th>\n",
       "      <th>Type</th>\n",
       "      <th>Kind</th>\n",
       "      <th>Id</th>\n",
       "      <th>Label</th>\n",
       "      <th>Interval</th>\n",
       "      <th>Weight</th>\n",
       "    </tr>\n",
       "  </thead>\n",
       "  <tbody>\n",
       "    <tr>\n",
       "      <th>0</th>\n",
       "      <td>321228288</td>\n",
       "      <td>1173223843</td>\n",
       "      <td>Directed</td>\n",
       "      <td>NaN</td>\n",
       "      <td>1</td>\n",
       "      <td>NaN</td>\n",
       "      <td>NaN</td>\n",
       "      <td>1.0</td>\n",
       "    </tr>\n",
       "    <tr>\n",
       "      <th>1</th>\n",
       "      <td>1426639026824564737</td>\n",
       "      <td>1364298062919794688</td>\n",
       "      <td>Directed</td>\n",
       "      <td>NaN</td>\n",
       "      <td>2</td>\n",
       "      <td>NaN</td>\n",
       "      <td>NaN</td>\n",
       "      <td>1.0</td>\n",
       "    </tr>\n",
       "    <tr>\n",
       "      <th>2</th>\n",
       "      <td>272945830</td>\n",
       "      <td>2380463039</td>\n",
       "      <td>Directed</td>\n",
       "      <td>NaN</td>\n",
       "      <td>3</td>\n",
       "      <td>NaN</td>\n",
       "      <td>NaN</td>\n",
       "      <td>1.0</td>\n",
       "    </tr>\n",
       "    <tr>\n",
       "      <th>3</th>\n",
       "      <td>745351426117869568</td>\n",
       "      <td>1238800491632607232</td>\n",
       "      <td>Directed</td>\n",
       "      <td>NaN</td>\n",
       "      <td>4</td>\n",
       "      <td>NaN</td>\n",
       "      <td>NaN</td>\n",
       "      <td>1.0</td>\n",
       "    </tr>\n",
       "    <tr>\n",
       "      <th>4</th>\n",
       "      <td>798461063494828032</td>\n",
       "      <td>1173223843</td>\n",
       "      <td>Directed</td>\n",
       "      <td>NaN</td>\n",
       "      <td>5</td>\n",
       "      <td>NaN</td>\n",
       "      <td>NaN</td>\n",
       "      <td>1.0</td>\n",
       "    </tr>\n",
       "    <tr>\n",
       "      <th>...</th>\n",
       "      <td>...</td>\n",
       "      <td>...</td>\n",
       "      <td>...</td>\n",
       "      <td>...</td>\n",
       "      <td>...</td>\n",
       "      <td>...</td>\n",
       "      <td>...</td>\n",
       "      <td>...</td>\n",
       "    </tr>\n",
       "    <tr>\n",
       "      <th>5582</th>\n",
       "      <td>613859050</td>\n",
       "      <td>231902290</td>\n",
       "      <td>Directed</td>\n",
       "      <td>NaN</td>\n",
       "      <td>5583</td>\n",
       "      <td>NaN</td>\n",
       "      <td>NaN</td>\n",
       "      <td>1.0</td>\n",
       "    </tr>\n",
       "    <tr>\n",
       "      <th>5583</th>\n",
       "      <td>40653660</td>\n",
       "      <td>77031813</td>\n",
       "      <td>Directed</td>\n",
       "      <td>NaN</td>\n",
       "      <td>5584</td>\n",
       "      <td>NaN</td>\n",
       "      <td>NaN</td>\n",
       "      <td>1.0</td>\n",
       "    </tr>\n",
       "    <tr>\n",
       "      <th>5584</th>\n",
       "      <td>709020928</td>\n",
       "      <td>542530025</td>\n",
       "      <td>Directed</td>\n",
       "      <td>NaN</td>\n",
       "      <td>5585</td>\n",
       "      <td>NaN</td>\n",
       "      <td>NaN</td>\n",
       "      <td>1.0</td>\n",
       "    </tr>\n",
       "    <tr>\n",
       "      <th>5585</th>\n",
       "      <td>195333276</td>\n",
       "      <td>231902290</td>\n",
       "      <td>Directed</td>\n",
       "      <td>NaN</td>\n",
       "      <td>5586</td>\n",
       "      <td>NaN</td>\n",
       "      <td>NaN</td>\n",
       "      <td>1.0</td>\n",
       "    </tr>\n",
       "    <tr>\n",
       "      <th>5586</th>\n",
       "      <td>241972508</td>\n",
       "      <td>52036241</td>\n",
       "      <td>Directed</td>\n",
       "      <td>NaN</td>\n",
       "      <td>5587</td>\n",
       "      <td>NaN</td>\n",
       "      <td>NaN</td>\n",
       "      <td>1.0</td>\n",
       "    </tr>\n",
       "  </tbody>\n",
       "</table>\n",
       "<p>5587 rows × 8 columns</p>\n",
       "</div>"
      ],
      "text/plain": [
       "                   Source               Target      Type  Kind    Id  Label  \\\n",
       "0               321228288           1173223843  Directed   NaN     1    NaN   \n",
       "1     1426639026824564737  1364298062919794688  Directed   NaN     2    NaN   \n",
       "2               272945830           2380463039  Directed   NaN     3    NaN   \n",
       "3      745351426117869568  1238800491632607232  Directed   NaN     4    NaN   \n",
       "4      798461063494828032           1173223843  Directed   NaN     5    NaN   \n",
       "...                   ...                  ...       ...   ...   ...    ...   \n",
       "5582            613859050            231902290  Directed   NaN  5583    NaN   \n",
       "5583             40653660             77031813  Directed   NaN  5584    NaN   \n",
       "5584            709020928            542530025  Directed   NaN  5585    NaN   \n",
       "5585            195333276            231902290  Directed   NaN  5586    NaN   \n",
       "5586            241972508             52036241  Directed   NaN  5587    NaN   \n",
       "\n",
       "      Interval  Weight  \n",
       "0          NaN     1.0  \n",
       "1          NaN     1.0  \n",
       "2          NaN     1.0  \n",
       "3          NaN     1.0  \n",
       "4          NaN     1.0  \n",
       "...        ...     ...  \n",
       "5582       NaN     1.0  \n",
       "5583       NaN     1.0  \n",
       "5584       NaN     1.0  \n",
       "5585       NaN     1.0  \n",
       "5586       NaN     1.0  \n",
       "\n",
       "[5587 rows x 8 columns]"
      ]
     },
     "execution_count": 198,
     "metadata": {},
     "output_type": "execute_result"
    }
   ],
   "source": [
    "df_rows=[]\n",
    "\n",
    "for idx,row in nodes.iterrows():\n",
    "    \n"
   ]
  },
  {
   "cell_type": "code",
   "execution_count": 206,
   "metadata": {},
   "outputs": [
    {
     "ename": "AttributeError",
     "evalue": "'DataFrame' object has no attribute 'community_edge_betweenness'",
     "output_type": "error",
     "traceback": [
      "\u001b[1;31m---------------------------------------------------------------------------\u001b[0m",
      "\u001b[1;31mAttributeError\u001b[0m                            Traceback (most recent call last)",
      "\u001b[1;32m~\\AppData\\Local\\Temp/ipykernel_7400/3724083441.py\u001b[0m in \u001b[0;36m<module>\u001b[1;34m\u001b[0m\n\u001b[1;32m----> 1\u001b[1;33m \u001b[0mdendogram\u001b[0m\u001b[1;33m=\u001b[0m\u001b[0mnew_edges\u001b[0m\u001b[1;33m.\u001b[0m\u001b[0mcommunity_edge_betweenness\u001b[0m\u001b[1;33m(\u001b[0m\u001b[0mdirected\u001b[0m\u001b[1;33m=\u001b[0m\u001b[1;32mTrue\u001b[0m\u001b[1;33m)\u001b[0m\u001b[1;33m\u001b[0m\u001b[1;33m\u001b[0m\u001b[0m\n\u001b[0m",
      "\u001b[1;32m~\\AppData\\Local\\Packages\\PythonSoftwareFoundation.Python.3.8_qbz5n2kfra8p0\\LocalCache\\local-packages\\Python38\\site-packages\\pandas\\core\\generic.py\u001b[0m in \u001b[0;36m__getattr__\u001b[1;34m(self, name)\u001b[0m\n\u001b[0;32m   5485\u001b[0m         ):\n\u001b[0;32m   5486\u001b[0m             \u001b[1;32mreturn\u001b[0m \u001b[0mself\u001b[0m\u001b[1;33m[\u001b[0m\u001b[0mname\u001b[0m\u001b[1;33m]\u001b[0m\u001b[1;33m\u001b[0m\u001b[1;33m\u001b[0m\u001b[0m\n\u001b[1;32m-> 5487\u001b[1;33m         \u001b[1;32mreturn\u001b[0m \u001b[0mobject\u001b[0m\u001b[1;33m.\u001b[0m\u001b[0m__getattribute__\u001b[0m\u001b[1;33m(\u001b[0m\u001b[0mself\u001b[0m\u001b[1;33m,\u001b[0m \u001b[0mname\u001b[0m\u001b[1;33m)\u001b[0m\u001b[1;33m\u001b[0m\u001b[1;33m\u001b[0m\u001b[0m\n\u001b[0m\u001b[0;32m   5488\u001b[0m \u001b[1;33m\u001b[0m\u001b[0m\n\u001b[0;32m   5489\u001b[0m     \u001b[1;32mdef\u001b[0m \u001b[0m__setattr__\u001b[0m\u001b[1;33m(\u001b[0m\u001b[0mself\u001b[0m\u001b[1;33m,\u001b[0m \u001b[0mname\u001b[0m\u001b[1;33m:\u001b[0m \u001b[0mstr\u001b[0m\u001b[1;33m,\u001b[0m \u001b[0mvalue\u001b[0m\u001b[1;33m)\u001b[0m \u001b[1;33m->\u001b[0m \u001b[1;32mNone\u001b[0m\u001b[1;33m:\u001b[0m\u001b[1;33m\u001b[0m\u001b[1;33m\u001b[0m\u001b[0m\n",
      "\u001b[1;31mAttributeError\u001b[0m: 'DataFrame' object has no attribute 'community_edge_betweenness'"
     ]
    }
   ],
   "source": [
    "dendogram=new_edges.community_edge_betweenness(directed=True)"
   ]
  },
  {
   "cell_type": "code",
   "execution_count": 240,
   "metadata": {},
   "outputs": [],
   "source": [
    "nodes['Colour']='#aaaacc'\n",
    "\n",
    "colour=[]\n",
    "for index, row in df_eigen.iterrows():\n",
    "    subset=nodes[nodes.Id==int(row['nodes'])]\n",
    "    if subset.empty == False:\n",
    "        sub_index=subset.index\n",
    "        if row['clusters']==0:\n",
    "            nodes.at[sub_index,'Colour']=1\n",
    "        if row['clusters']==1:\n",
    "            nodes.at[sub_index,'Colour']=2\n",
    "        if row['clusters']==2:\n",
    "            nodes.at[sub_index,'Colour']=3\n",
    "        if row['clusters']==3:\n",
    "            nodes.at[sub_index,'Colour']=4\n",
    "        if row['clusters']==4:\n",
    "            nodes.at[sub_index,'Colour']=5\n",
    "    else:\n",
    "        continue"
   ]
  },
  {
   "cell_type": "code",
   "execution_count": 195,
   "metadata": {},
   "outputs": [],
   "source": [
    "nodes['Colour']='#aaaacc'\n",
    "\n",
    "colour=[]\n",
    "for index in eigen_nodes:\n",
    "    subset=nodes[nodes.Id==index]\n",
    "    if subset.empty == False:\n",
    "        sub_index=subset.index\n",
    "        nodes.at[sub_index,'Colour']='#fb1239'\n",
    "    else:\n",
    "        continue"
   ]
  },
  {
   "cell_type": "code",
   "execution_count": 241,
   "metadata": {},
   "outputs": [],
   "source": [
    "nodes.to_csv('Nodes_df4_cluster.csv',index=False)"
   ]
  }
 ],
 "metadata": {
  "interpreter": {
   "hash": "df2666e76e52a2f771a8cfba8f6cfbfdd93be2d7973ee6ffbf7a2267d71ba071"
  },
  "kernelspec": {
   "display_name": "Python 3.8.10 64-bit (windows store)",
   "language": "python",
   "name": "python3"
  },
  "language_info": {
   "codemirror_mode": {
    "name": "ipython",
    "version": 3
   },
   "file_extension": ".py",
   "mimetype": "text/x-python",
   "name": "python",
   "nbconvert_exporter": "python",
   "pygments_lexer": "ipython3",
   "version": "3.8.10"
  },
  "orig_nbformat": 4
 },
 "nbformat": 4,
 "nbformat_minor": 2
}
