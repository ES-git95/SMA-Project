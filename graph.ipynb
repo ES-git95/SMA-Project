{
 "cells": [
  {
   "cell_type": "code",
   "execution_count": 2,
   "metadata": {},
   "outputs": [],
   "source": [
    "from igraph import Graph\n",
    "import pandas as pd\n",
    "import igraph\n",
    "import networkx as nx"
   ]
  },
  {
   "cell_type": "code",
   "execution_count": 3,
   "metadata": {},
   "outputs": [],
   "source": [
    "nodes=pd.read_csv('Nodes_df4.csv')\n",
    "edges=pd.read_csv('Edges_df4.csv')"
   ]
  },
  {
   "cell_type": "markdown",
   "metadata": {},
   "source": [
    "#### Individuiamo il Giant Component"
   ]
  },
  {
   "cell_type": "code",
   "execution_count": 4,
   "metadata": {},
   "outputs": [],
   "source": [
    "g_nx=nx.from_pandas_edgelist(edges,source='Source',target='Target')\n",
    "component_subgraph_list = list(nx.connected_components(g_nx))\n",
    "largest_component = list(max(component_subgraph_list,key=len))\n"
   ]
  },
  {
   "cell_type": "code",
   "execution_count": 5,
   "metadata": {},
   "outputs": [],
   "source": [
    "nodes_list=list(nodes.Id)\n",
    "new_edges=edges[(edges['Source'].isin(largest_component)) & (edges['Target'].isin(largest_component))]\n",
    "new_g=Graph.DataFrame(edges=new_edges[['Source','Target']],directed=True)"
   ]
  },
  {
   "cell_type": "code",
   "execution_count": 26,
   "metadata": {},
   "outputs": [],
   "source": [
    "#codice per identificare giant component\n",
    "nodes['Giant_Component']=0\n",
    "\n",
    "colour=[]\n",
    "for index in largest_component:\n",
    "    subset=nodes[nodes.Id==index]\n",
    "    if subset.empty == False:\n",
    "        sub_index=subset.index\n",
    "        nodes.at[sub_index,'Giant_Component']=1\n",
    "    else:\n",
    "        continue"
   ]
  },
  {
   "cell_type": "markdown",
   "metadata": {},
   "source": [
    "#### Applichiamo leading eigenvector"
   ]
  },
  {
   "cell_type": "code",
   "execution_count": 27,
   "metadata": {},
   "outputs": [
    {
     "name": "stderr",
     "output_type": "stream",
     "text": [
      "C:\\ProgramData\\Anaconda3\\lib\\site-packages\\igraph\\__init__.py:1281: RuntimeWarning: This method was developed for undirected graphs at src/community/leading_eigenvector.c:530\n",
      "  membership, _, q = GraphBase.community_leading_eigenvector(\n"
     ]
    },
    {
     "data": {
      "text/plain": [
       "'Clustering with 3527 elements and 2 clusters'"
      ]
     },
     "execution_count": 27,
     "metadata": {},
     "output_type": "execute_result"
    }
   ],
   "source": [
    "eigen=new_g.community_leading_eigenvector(2)\n",
    "eigen.summary()"
   ]
  },
  {
   "cell_type": "code",
   "execution_count": 28,
   "metadata": {},
   "outputs": [],
   "source": [
    "eigen_nodes=eigen.graph.vs[\"name\"]\n",
    "df_eigen=pd.DataFrame({'nodes':eigen_nodes,'clusters':eigen._membership})"
   ]
  },
  {
   "cell_type": "code",
   "execution_count": 29,
   "metadata": {},
   "outputs": [
    {
     "data": {
      "text/html": [
       "<div>\n",
       "<style scoped>\n",
       "    .dataframe tbody tr th:only-of-type {\n",
       "        vertical-align: middle;\n",
       "    }\n",
       "\n",
       "    .dataframe tbody tr th {\n",
       "        vertical-align: top;\n",
       "    }\n",
       "\n",
       "    .dataframe thead th {\n",
       "        text-align: right;\n",
       "    }\n",
       "</style>\n",
       "<table border=\"1\" class=\"dataframe\">\n",
       "  <thead>\n",
       "    <tr style=\"text-align: right;\">\n",
       "      <th></th>\n",
       "      <th>nodes</th>\n",
       "      <th>clusters</th>\n",
       "    </tr>\n",
       "  </thead>\n",
       "  <tbody>\n",
       "    <tr>\n",
       "      <th>0</th>\n",
       "      <td>2279301</td>\n",
       "      <td>0</td>\n",
       "    </tr>\n",
       "    <tr>\n",
       "      <th>1</th>\n",
       "      <td>5253961</td>\n",
       "      <td>0</td>\n",
       "    </tr>\n",
       "    <tr>\n",
       "      <th>2</th>\n",
       "      <td>5718002</td>\n",
       "      <td>1</td>\n",
       "    </tr>\n",
       "    <tr>\n",
       "      <th>3</th>\n",
       "      <td>6012422</td>\n",
       "      <td>0</td>\n",
       "    </tr>\n",
       "    <tr>\n",
       "      <th>4</th>\n",
       "      <td>6243422</td>\n",
       "      <td>0</td>\n",
       "    </tr>\n",
       "    <tr>\n",
       "      <th>...</th>\n",
       "      <td>...</td>\n",
       "      <td>...</td>\n",
       "    </tr>\n",
       "    <tr>\n",
       "      <th>3522</th>\n",
       "      <td>1474895624843800581</td>\n",
       "      <td>0</td>\n",
       "    </tr>\n",
       "    <tr>\n",
       "      <th>3523</th>\n",
       "      <td>1475049574809186307</td>\n",
       "      <td>0</td>\n",
       "    </tr>\n",
       "    <tr>\n",
       "      <th>3524</th>\n",
       "      <td>1475122883164876805</td>\n",
       "      <td>0</td>\n",
       "    </tr>\n",
       "    <tr>\n",
       "      <th>3525</th>\n",
       "      <td>1475496660268638210</td>\n",
       "      <td>0</td>\n",
       "    </tr>\n",
       "    <tr>\n",
       "      <th>3526</th>\n",
       "      <td>1475645745990619139</td>\n",
       "      <td>0</td>\n",
       "    </tr>\n",
       "  </tbody>\n",
       "</table>\n",
       "<p>3527 rows × 2 columns</p>\n",
       "</div>"
      ],
      "text/plain": [
       "                    nodes  clusters\n",
       "0                 2279301         0\n",
       "1                 5253961         0\n",
       "2                 5718002         1\n",
       "3                 6012422         0\n",
       "4                 6243422         0\n",
       "...                   ...       ...\n",
       "3522  1474895624843800581         0\n",
       "3523  1475049574809186307         0\n",
       "3524  1475122883164876805         0\n",
       "3525  1475496660268638210         0\n",
       "3526  1475645745990619139         0\n",
       "\n",
       "[3527 rows x 2 columns]"
      ]
     },
     "execution_count": 29,
     "metadata": {},
     "output_type": "execute_result"
    }
   ],
   "source": [
    "df_eigen"
   ]
  },
  {
   "cell_type": "code",
   "execution_count": 30,
   "metadata": {},
   "outputs": [
    {
     "data": {
      "text/plain": [
       "<AxesSubplot:>"
      ]
     },
     "execution_count": 30,
     "metadata": {},
     "output_type": "execute_result"
    },
    {
     "data": {
      "image/png": "[encoded data removed]",
      "text/plain": [
       "<Figure size 432x288 with 1 Axes>"
      ]
     },
     "metadata": {
      "needs_background": "light"
     },
     "output_type": "display_data"
    }
   ],
   "source": [
    "df_eigen[\"clusters\"].hist()"
   ]
  },
  {
   "cell_type": "code",
   "execution_count": 31,
   "metadata": {},
   "outputs": [
    {
     "data": {
      "text/plain": [
       "clusters\n",
       "0    2608\n",
       "1     919\n",
       "Name: clusters, dtype: int64"
      ]
     },
     "execution_count": 31,
     "metadata": {},
     "output_type": "execute_result"
    }
   ],
   "source": [
    "df_eigen.groupby(\"clusters\")[\"clusters\"].count()"
   ]
  },
  {
   "cell_type": "code",
   "execution_count": 32,
   "metadata": {},
   "outputs": [],
   "source": [
    "def color_clusters(cluster_df,cluster_field,new_cluster_field_name):\n",
    "    clusters=list(set(cluster_df[cluster_field]))\n",
    "    nodes[new_cluster_field_name]=0\n",
    "\n",
    "    for index, row in cluster_df.iterrows():\n",
    "        subset=nodes[nodes.Id==int(row['nodes'])]\n",
    "        if subset.empty == False:\n",
    "            sub_index=subset.index\n",
    "            for cluster in clusters:\n",
    "                if row['clusters']==cluster:\n",
    "                    nodes.at[sub_index,new_cluster_field_name]=cluster+1\n",
    "        else:\n",
    "            continue"
   ]
  },
  {
   "cell_type": "code",
   "execution_count": 34,
   "metadata": {},
   "outputs": [],
   "source": [
    "color_clusters(df_eigen,'clusters','cluster_eigen')"
   ]
  },
  {
   "cell_type": "code",
   "execution_count": 8,
   "metadata": {},
   "outputs": [],
   "source": [
    "#clusters=list(set(df_eigen.clusters))\n",
    "#nodes['Cluster_eigen']=0\n",
    "#\n",
    "#colour=[]\n",
    "#for index, row in df_eigen.iterrows():\n",
    "#    subset=nodes[nodes.Id==int(row['nodes'])]\n",
    "#    if subset.empty == False:\n",
    "#        sub_index=subset.index\n",
    "#        for cluster in clusters:\n",
    "#            if row['clusters']==cluster:\n",
    "#                nodes.at[sub_index,'Cluster_eigen']=cluster+1\n",
    "#    else:\n",
    "#        continue"
   ]
  },
  {
   "cell_type": "code",
   "execution_count": 33,
   "metadata": {},
   "outputs": [],
   "source": [
    "#utile solo nel caso che il dataframe di partenza presenti gli hex colors invece dei cluster\n",
    "\n",
    "#for i,r in dummy.iterrows():\n",
    "#    if r['Colour']=='#aaaacc':\n",
    "#        dummy.at[i,'Colour']=0\n",
    "#    if r['Colour']=='#007474':\n",
    "#        dummy.at[i,'Colour']=1\n",
    "#    if r['Colour']=='#fb1239':\n",
    "#        dummy.at[i,'Colour']=2"
   ]
  },
  {
   "cell_type": "markdown",
   "metadata": {},
   "source": [
    "#### Creazione indice e applicazione k-means"
   ]
  },
  {
   "cell_type": "code",
   "execution_count": 36,
   "metadata": {},
   "outputs": [],
   "source": [
    "contiguous_nodes_dict={}\n",
    "\n",
    "for node in nodes.Id:\n",
    "    lista_target=list(new_edges[new_edges.Source==node]['Target'])\n",
    "    lista_source=list(new_edges[new_edges.Target==node]['Source'])\n",
    "    lista_tot=lista_target+lista_source\n",
    "    if lista_tot != []:\n",
    "        contiguous_nodes_dict[node]=lista_tot"
   ]
  },
  {
   "cell_type": "code",
   "execution_count": 37,
   "metadata": {},
   "outputs": [],
   "source": [
    "def Jaccard(nodesA,nodesB):\n",
    "    intersect = [value for value in nodesA if value in nodesB]\n",
    "    union=list(set(nodesA+nodesB))\n",
    "    compute_jaccard=len(intersect)/len(union)\n",
    "    return compute_jaccard"
   ]
  },
  {
   "cell_type": "code",
   "execution_count": 38,
   "metadata": {},
   "outputs": [],
   "source": [
    "distance_matrix_j=[[ Jaccard(values_col,values_row) for values_row in contiguous_nodes_dict.values()] for values_col in contiguous_nodes_dict.values()]"
   ]
  },
  {
   "cell_type": "code",
   "execution_count": 39,
   "metadata": {},
   "outputs": [],
   "source": [
    "from sklearn.cluster import KMeans\n",
    "kmeans = KMeans(n_clusters=2, random_state=0,n_init=100,max_iter=1000,algorithm=\"elkan\").fit(distance_matrix_j)"
   ]
  },
  {
   "cell_type": "code",
   "execution_count": 40,
   "metadata": {},
   "outputs": [
    {
     "data": {
      "text/plain": [
       "array([[<AxesSubplot:title={'center':'0'}>]], dtype=object)"
      ]
     },
     "execution_count": 40,
     "metadata": {},
     "output_type": "execute_result"
    },
    {
     "data": {
      "image/png": "[encoded data removed]",
      "text/plain": [
       "<Figure size 432x288 with 1 Axes>"
      ]
     },
     "metadata": {
      "needs_background": "light"
     },
     "output_type": "display_data"
    }
   ],
   "source": [
    "pd.DataFrame(kmeans.labels_).hist()"
   ]
  },
  {
   "cell_type": "code",
   "execution_count": 41,
   "metadata": {},
   "outputs": [],
   "source": [
    "df_means=pd.DataFrame({'nodes':contiguous_nodes_dict.keys(),'clusters':kmeans.labels_})"
   ]
  },
  {
   "cell_type": "code",
   "execution_count": 46,
   "metadata": {},
   "outputs": [],
   "source": [
    "color_clusters(df_means,'clusters','cluster_kmeans')"
   ]
  },
  {
   "cell_type": "code",
   "execution_count": 47,
   "metadata": {},
   "outputs": [],
   "source": [
    "nodes.to_csv(\"nodes_provvisorio.csv\")"
   ]
  },
  {
   "cell_type": "code",
   "execution_count": 378,
   "metadata": {},
   "outputs": [],
   "source": [
    "#nodes['Colour']='#aaaacc'\n",
    "#\n",
    "#colour=[]\n",
    "#for index, row in df_means.iterrows():\n",
    "#    subset=nodes[nodes.Id==int(row['nodes'])]\n",
    "#    if subset.empty == False:\n",
    "#        sub_index=subset.index\n",
    "#        if row['clusters']==0:\n",
    "#            nodes.at[sub_index,'Colour']='1'\n",
    "#        if row['clusters']==1:\n",
    "#            nodes.at[sub_index,'Colour']='2'\n",
    "#    else:\n",
    "#        continue"
   ]
  },
  {
   "cell_type": "markdown",
   "metadata": {},
   "source": [
    "#### Modularity maximization"
   ]
  },
  {
   "cell_type": "code",
   "execution_count": 130,
   "metadata": {},
   "outputs": [],
   "source": [
    "new_G = nx.from_edgelist([(names[x[0]], names[x[1]])\n",
    "                      for names in [new_g.vs['name']] # simply a let\n",
    "                      for x in new_g.get_edgelist()], nx.DiGraph())"
   ]
  },
  {
   "cell_type": "code",
   "execution_count": 131,
   "metadata": {},
   "outputs": [],
   "source": [
    "new_G=new_G.to_undirected()"
   ]
  },
  {
   "cell_type": "code",
   "execution_count": 132,
   "metadata": {},
   "outputs": [],
   "source": [
    "from networkx.algorithms.community import modularity_max\n",
    "c = list(modularity_max.greedy_modularity_communities(new_G))"
   ]
  },
  {
   "cell_type": "code",
   "execution_count": 456,
   "metadata": {},
   "outputs": [],
   "source": [
    "nodes['Cluster_mod']='#aaaacc'\n",
    "\n",
    "colours_list=list(range(0,24))\n",
    "i=0\n",
    "for community in c:\n",
    "    colour=[]\n",
    "    for node in list(community):\n",
    "        subset=nodes[nodes.Id==int(node)]\n",
    "        if subset.empty == False:\n",
    "            sub_index=subset.index\n",
    "            nodes.at[sub_index,'Cluster_mod']=colours_list[i]\n",
    "        else:\n",
    "            continue\n",
    "    i+=1"
   ]
  },
  {
   "cell_type": "markdown",
   "metadata": {},
   "source": [
    "#### Girvan-Newman"
   ]
  },
  {
   "cell_type": "code",
   "execution_count": 414,
   "metadata": {},
   "outputs": [],
   "source": [
    "new_G = nx.from_edgelist([(names[x[0]], names[x[1]])\n",
    "                      for names in [new_g.vs['name']] # simply a let\n",
    "                      for x in new_g.get_edgelist()], nx.DiGraph())"
   ]
  },
  {
   "cell_type": "code",
   "execution_count": 415,
   "metadata": {},
   "outputs": [],
   "source": [
    "new_G=new_G.to_undirected()"
   ]
  },
  {
   "cell_type": "code",
   "execution_count": 397,
   "metadata": {},
   "outputs": [],
   "source": [
    "def edge_to_remove(graph):\n",
    "  G_dict = nx.edge_betweenness_centrality(graph)\n",
    "  edge = ()\n",
    "\n",
    "  # extract the edge with highest edge betweenness centrality score\n",
    "  for key, value in sorted(G_dict.items(), key=lambda item: item[1], reverse = True):\n",
    "      edge = key\n",
    "      break\n",
    "\n",
    "  return edge"
   ]
  },
  {
   "cell_type": "code",
   "execution_count": 398,
   "metadata": {},
   "outputs": [],
   "source": [
    "def girvan_newman(graph):\n",
    "\t# find number of connected components\n",
    "\tsg = nx.connected_components(graph)\n",
    "\tsg_count = nx.number_connected_components(graph)\n",
    "\n",
    "\twhile(sg_count == 1):\n",
    "\t\tgraph.remove_edge(edge_to_remove(graph)[0], edge_to_remove(graph)[1])\n",
    "\t\tsg = nx.connected_components(graph)\n",
    "\t\tsg_count = nx.number_connected_components(graph)\n",
    "\n",
    "\treturn sg"
   ]
  },
  {
   "cell_type": "code",
   "execution_count": 416,
   "metadata": {},
   "outputs": [],
   "source": [
    "# find communities in the graph\n",
    "c = girvan_newman(new_G.copy())\n",
    "\n",
    "# find the nodes forming the communities\n",
    "node_groups = []\n",
    "\n",
    "for i in c:\n",
    "  node_groups.append(list(i))"
   ]
  },
  {
   "cell_type": "code",
   "execution_count": 417,
   "metadata": {},
   "outputs": [],
   "source": [
    "nodes['Colour_GN']=0\n",
    "\n",
    "for group in range(0,len(node_groups)):\n",
    "    for idx in node_groups[group]:\n",
    "        subset=nodes[nodes.Id==int(idx)]\n",
    "        if subset.empty == False:\n",
    "            sub_index=subset.index\n",
    "            nodes.at[sub_index,'Colour_GN']=group+1\n",
    "        else:\n",
    "            continue"
   ]
  },
  {
   "cell_type": "code",
   "execution_count": 418,
   "metadata": {},
   "outputs": [],
   "source": [
    "nodes.to_csv('Nodes_df4_cluster.csv',index=False)"
   ]
  },
  {
   "cell_type": "markdown",
   "metadata": {},
   "source": [
    "#### Valutazione Grafo"
   ]
  },
  {
   "cell_type": "code",
   "execution_count": 6,
   "metadata": {},
   "outputs": [],
   "source": [
    "#creazione grafo in networkx della Giant Component\n",
    "G_nx=nx.from_pandas_edgelist(new_edges,source='Source',target='Target')"
   ]
  },
  {
   "cell_type": "markdown",
   "metadata": {},
   "source": [
    "Assortativity"
   ]
  },
  {
   "cell_type": "code",
   "execution_count": 7,
   "metadata": {},
   "outputs": [
    {
     "data": {
      "text/plain": [
       "-0.3604330966037621"
      ]
     },
     "execution_count": 7,
     "metadata": {},
     "output_type": "execute_result"
    }
   ],
   "source": [
    "#Assortativity per intero grafo\n",
    "#nx.degree_assortativity_coefficient(g_nx)\n",
    "nx.degree_pearson_correlation_coefficient(g_nx) #più veloce"
   ]
  },
  {
   "cell_type": "code",
   "execution_count": 60,
   "metadata": {},
   "outputs": [
    {
     "data": {
      "text/plain": [
       "-0.37425282150701356"
      ]
     },
     "execution_count": 60,
     "metadata": {},
     "output_type": "execute_result"
    }
   ],
   "source": [
    "#Assortativity per la sola giant component\n",
    "nx.degree_pearson_correlation_coefficient(G_nx)"
   ]
  },
  {
   "cell_type": "markdown",
   "metadata": {},
   "source": [
    "La nostra rete è quindi disassortativa:\n",
    "- Hubs tend to connect to small nodes.\n",
    "- Disassortative networks have difficulty forming a giant\n",
    "component (ops? ahahah)\n",
    "- Hub removal is more damaging in disassortative networks, as in these the\n",
    "hubs connect to many small-degree nodes, which fall off the network\n",
    "once a hub is deleted."
   ]
  },
  {
   "cell_type": "markdown",
   "metadata": {},
   "source": [
    "Degree"
   ]
  },
  {
   "cell_type": "code",
   "execution_count": 14,
   "metadata": {},
   "outputs": [
    {
     "data": {
      "text/plain": [
       "{888: {1: 527,\n",
       "  4: 50,\n",
       "  2: 183,\n",
       "  5: 17,\n",
       "  7: 4,\n",
       "  3: 83,\n",
       "  6: 11,\n",
       "  30: 1,\n",
       "  18: 1,\n",
       "  10: 1,\n",
       "  8: 4,\n",
       "  9: 1,\n",
       "  12: 1,\n",
       "  13: 1,\n",
       "  11: 2,\n",
       "  20: 1},\n",
       " 1: {888: 527,\n",
       "  111: 42,\n",
       "  20: 18,\n",
       "  12: 36,\n",
       "  148: 39,\n",
       "  324: 178,\n",
       "  579: 500,\n",
       "  235: 187,\n",
       "  7: 19,\n",
       "  30: 10,\n",
       "  207: 67,\n",
       "  188: 81,\n",
       "  2: 51,\n",
       "  14: 20,\n",
       "  426: 331,\n",
       "  11: 33,\n",
       "  87: 70,\n",
       "  8: 30,\n",
       "  1: 118,\n",
       "  51: 21,\n",
       "  3: 37,\n",
       "  13: 15,\n",
       "  56: 24,\n",
       "  10: 5,\n",
       "  29: 6,\n",
       "  6: 35,\n",
       "  40: 18,\n",
       "  42: 46,\n",
       "  18: 27,\n",
       "  35: 15,\n",
       "  4: 30,\n",
       "  86: 35,\n",
       "  5: 21,\n",
       "  26: 11,\n",
       "  63: 38,\n",
       "  92: 27,\n",
       "  28: 18,\n",
       "  16: 5,\n",
       "  25: 12,\n",
       "  9: 13,\n",
       "  19: 2,\n",
       "  15: 6},\n",
       " 4: {888: 50,\n",
       "  324: 17,\n",
       "  40: 6,\n",
       "  7: 5,\n",
       "  15: 12,\n",
       "  13: 4,\n",
       "  86: 10,\n",
       "  5: 8,\n",
       "  51: 2,\n",
       "  148: 20,\n",
       "  2: 20,\n",
       "  426: 4,\n",
       "  87: 1,\n",
       "  579: 2,\n",
       "  19: 5,\n",
       "  1: 30,\n",
       "  4: 10,\n",
       "  6: 6,\n",
       "  188: 16,\n",
       "  207: 23,\n",
       "  111: 12,\n",
       "  3: 9,\n",
       "  63: 1,\n",
       "  8: 9,\n",
       "  14: 1,\n",
       "  42: 2,\n",
       "  235: 1,\n",
       "  18: 2,\n",
       "  35: 1,\n",
       "  11: 4,\n",
       "  29: 7,\n",
       "  92: 11,\n",
       "  12: 3,\n",
       "  20: 7,\n",
       "  56: 2,\n",
       "  16: 1,\n",
       "  10: 1,\n",
       "  30: 3,\n",
       "  9: 1,\n",
       "  26: 1},\n",
       " 2: {20: 17,\n",
       "  86: 14,\n",
       "  888: 183,\n",
       "  188: 47,\n",
       "  6: 21,\n",
       "  148: 37,\n",
       "  324: 59,\n",
       "  207: 58,\n",
       "  92: 22,\n",
       "  1: 51,\n",
       "  28: 6,\n",
       "  25: 3,\n",
       "  235: 34,\n",
       "  56: 9,\n",
       "  3: 30,\n",
       "  8: 16,\n",
       "  426: 65,\n",
       "  4: 20,\n",
       "  11: 16,\n",
       "  2: 34,\n",
       "  87: 8,\n",
       "  5: 15,\n",
       "  42: 18,\n",
       "  51: 10,\n",
       "  579: 56,\n",
       "  63: 18,\n",
       "  18: 10,\n",
       "  111: 30,\n",
       "  35: 9,\n",
       "  16: 5,\n",
       "  12: 18,\n",
       "  13: 14,\n",
       "  30: 6,\n",
       "  7: 3,\n",
       "  14: 3,\n",
       "  19: 1,\n",
       "  15: 4,\n",
       "  40: 7,\n",
       "  9: 3,\n",
       "  26: 7,\n",
       "  29: 6,\n",
       "  10: 1},\n",
       " 5: {111: 7,\n",
       "  28: 2,\n",
       "  2: 15,\n",
       "  888: 17,\n",
       "  12: 3,\n",
       "  20: 4,\n",
       "  207: 5,\n",
       "  92: 5,\n",
       "  188: 6,\n",
       "  56: 2,\n",
       "  5: 10,\n",
       "  35: 2,\n",
       "  4: 8,\n",
       "  1: 21,\n",
       "  148: 4,\n",
       "  86: 5,\n",
       "  3: 8,\n",
       "  7: 2,\n",
       "  87: 1,\n",
       "  426: 5,\n",
       "  235: 3,\n",
       "  6: 5,\n",
       "  579: 4,\n",
       "  324: 12,\n",
       "  51: 1,\n",
       "  29: 1,\n",
       "  42: 3,\n",
       "  25: 2,\n",
       "  19: 2,\n",
       "  15: 6,\n",
       "  8: 2,\n",
       "  13: 4,\n",
       "  30: 1,\n",
       "  9: 2,\n",
       "  40: 1,\n",
       "  18: 1,\n",
       "  14: 1},\n",
       " 7: {30: 1,\n",
       "  92: 4,\n",
       "  324: 5,\n",
       "  207: 4,\n",
       "  888: 4,\n",
       "  18: 2,\n",
       "  4: 5,\n",
       "  148: 2,\n",
       "  111: 2,\n",
       "  51: 2,\n",
       "  29: 2,\n",
       "  188: 2,\n",
       "  12: 1,\n",
       "  86: 1,\n",
       "  6: 3,\n",
       "  15: 2,\n",
       "  8: 2,\n",
       "  2: 3,\n",
       "  1: 19,\n",
       "  3: 4,\n",
       "  5: 2,\n",
       "  16: 1,\n",
       "  56: 1,\n",
       "  35: 1,\n",
       "  10: 1,\n",
       "  40: 1},\n",
       " 3: {148: 28,\n",
       "  888: 83,\n",
       "  111: 14,\n",
       "  5: 8,\n",
       "  4: 9,\n",
       "  207: 35,\n",
       "  56: 11,\n",
       "  86: 9,\n",
       "  92: 16,\n",
       "  1: 37,\n",
       "  3: 18,\n",
       "  63: 3,\n",
       "  87: 5,\n",
       "  235: 10,\n",
       "  6: 6,\n",
       "  2: 30,\n",
       "  324: 40,\n",
       "  426: 13,\n",
       "  25: 6,\n",
       "  188: 27,\n",
       "  30: 6,\n",
       "  35: 4,\n",
       "  40: 3,\n",
       "  18: 6,\n",
       "  20: 4,\n",
       "  51: 10,\n",
       "  8: 14,\n",
       "  579: 9,\n",
       "  26: 5,\n",
       "  13: 8,\n",
       "  12: 7,\n",
       "  42: 10,\n",
       "  11: 5,\n",
       "  10: 1,\n",
       "  7: 4,\n",
       "  15: 6,\n",
       "  29: 3,\n",
       "  19: 2,\n",
       "  28: 1,\n",
       "  14: 1,\n",
       "  16: 2,\n",
       "  9: 2},\n",
       " 6: {51: 3,\n",
       "  148: 5,\n",
       "  888: 11,\n",
       "  207: 8,\n",
       "  12: 4,\n",
       "  324: 3,\n",
       "  7: 3,\n",
       "  13: 3,\n",
       "  86: 2,\n",
       "  56: 3,\n",
       "  579: 3,\n",
       "  1: 35,\n",
       "  2: 21,\n",
       "  4: 6,\n",
       "  3: 6,\n",
       "  5: 5,\n",
       "  8: 1,\n",
       "  14: 2,\n",
       "  35: 1,\n",
       "  188: 3,\n",
       "  29: 2,\n",
       "  111: 2,\n",
       "  92: 4,\n",
       "  30: 2,\n",
       "  20: 2,\n",
       "  19: 1,\n",
       "  6: 2,\n",
       "  10: 2,\n",
       "  11: 2,\n",
       "  42: 2,\n",
       "  87: 2,\n",
       "  25: 1,\n",
       "  63: 1,\n",
       "  426: 1},\n",
       " 30: {888: 1, 1: 10, 2: 6, 5: 1, 3: 6, 4: 3, 6: 2, 7: 1},\n",
       " 18: {1: 27, 3: 6, 8: 5, 2: 10, 5: 1, 4: 2, 888: 1, 7: 2},\n",
       " 10: {8: 2,\n",
       "  2: 1,\n",
       "  3: 1,\n",
       "  1: 5,\n",
       "  6: 2,\n",
       "  7: 1,\n",
       "  888: 1,\n",
       "  12: 1,\n",
       "  92: 1,\n",
       "  188: 1,\n",
       "  324: 1,\n",
       "  26: 1,\n",
       "  148: 1,\n",
       "  4: 1},\n",
       " 8: {888: 4,\n",
       "  51: 2,\n",
       "  148: 6,\n",
       "  18: 5,\n",
       "  6: 1,\n",
       "  324: 4,\n",
       "  9: 3,\n",
       "  40: 1,\n",
       "  3: 14,\n",
       "  10: 2,\n",
       "  7: 2,\n",
       "  4: 9,\n",
       "  13: 3,\n",
       "  1: 30,\n",
       "  2: 16,\n",
       "  63: 1,\n",
       "  42: 1,\n",
       "  579: 2,\n",
       "  426: 1,\n",
       "  20: 1,\n",
       "  5: 2,\n",
       "  56: 2,\n",
       "  111: 1,\n",
       "  188: 3,\n",
       "  35: 1,\n",
       "  11: 1,\n",
       "  92: 1,\n",
       "  207: 1,\n",
       "  15: 4,\n",
       "  19: 1,\n",
       "  86: 1,\n",
       "  8: 1},\n",
       " 9: {15: 1,\n",
       "  1: 13,\n",
       "  2: 3,\n",
       "  20: 2,\n",
       "  86: 1,\n",
       "  148: 1,\n",
       "  888: 1,\n",
       "  5: 2,\n",
       "  13: 1,\n",
       "  207: 1,\n",
       "  324: 1,\n",
       "  9: 2,\n",
       "  3: 2,\n",
       "  8: 3,\n",
       "  4: 1,\n",
       "  188: 1},\n",
       " 12: {2: 18,\n",
       "  6: 4,\n",
       "  63: 1,\n",
       "  3: 7,\n",
       "  1: 36,\n",
       "  5: 3,\n",
       "  579: 1,\n",
       "  426: 1,\n",
       "  4: 3,\n",
       "  10: 1,\n",
       "  7: 1,\n",
       "  12: 2,\n",
       "  29: 1,\n",
       "  26: 1,\n",
       "  20: 1,\n",
       "  888: 1,\n",
       "  207: 1,\n",
       "  324: 1},\n",
       " 13: {6: 3,\n",
       "  8: 3,\n",
       "  3: 8,\n",
       "  5: 4,\n",
       "  4: 4,\n",
       "  86: 1,\n",
       "  19: 1,\n",
       "  15: 3,\n",
       "  2: 14,\n",
       "  1: 15,\n",
       "  20: 1,\n",
       "  92: 1,\n",
       "  188: 1,\n",
       "  888: 1,\n",
       "  324: 1,\n",
       "  207: 1,\n",
       "  35: 1,\n",
       "  40: 1,\n",
       "  9: 1},\n",
       " 11: {1: 33,\n",
       "  2: 16,\n",
       "  4: 4,\n",
       "  3: 5,\n",
       "  8: 1,\n",
       "  11: 4,\n",
       "  6: 2,\n",
       "  15: 1,\n",
       "  207: 2,\n",
       "  56: 1,\n",
       "  888: 2,\n",
       "  29: 1,\n",
       "  20: 1,\n",
       "  40: 1,\n",
       "  148: 1},\n",
       " 20: {3: 4,\n",
       "  2: 17,\n",
       "  1: 18,\n",
       "  5: 4,\n",
       "  13: 1,\n",
       "  4: 7,\n",
       "  6: 2,\n",
       "  12: 1,\n",
       "  11: 1,\n",
       "  9: 2,\n",
       "  888: 1,\n",
       "  8: 1,\n",
       "  86: 1},\n",
       " 148: {3: 28,\n",
       "  7: 2,\n",
       "  1: 39,\n",
       "  6: 5,\n",
       "  5: 4,\n",
       "  4: 20,\n",
       "  2: 37,\n",
       "  8: 6,\n",
       "  111: 1,\n",
       "  148: 1,\n",
       "  9: 1,\n",
       "  15: 1,\n",
       "  10: 1,\n",
       "  11: 1},\n",
       " 111: {1: 42, 3: 14, 5: 7, 2: 30, 7: 2, 4: 12, 8: 1, 6: 2, 148: 1},\n",
       " 15: {8: 4,\n",
       "  1: 6,\n",
       "  4: 12,\n",
       "  5: 6,\n",
       "  3: 6,\n",
       "  13: 3,\n",
       "  15: 6,\n",
       "  19: 3,\n",
       "  86: 3,\n",
       "  9: 1,\n",
       "  2: 4,\n",
       "  148: 1,\n",
       "  7: 2,\n",
       "  28: 1,\n",
       "  11: 1,\n",
       "  56: 1},\n",
       " 86: {1: 35,\n",
       "  20: 1,\n",
       "  2: 14,\n",
       "  86: 1,\n",
       "  19: 1,\n",
       "  15: 3,\n",
       "  6: 2,\n",
       "  3: 9,\n",
       "  5: 5,\n",
       "  7: 1,\n",
       "  4: 10,\n",
       "  13: 1,\n",
       "  8: 1,\n",
       "  9: 1},\n",
       " 324: {1: 178,\n",
       "  2: 59,\n",
       "  4: 17,\n",
       "  5: 12,\n",
       "  3: 40,\n",
       "  6: 3,\n",
       "  8: 4,\n",
       "  7: 5,\n",
       "  207: 1,\n",
       "  40: 1,\n",
       "  10: 1,\n",
       "  13: 1,\n",
       "  9: 1,\n",
       "  12: 1},\n",
       " 40: {3: 3, 2: 7, 1: 18, 4: 6, 324: 1, 5: 1, 7: 1, 11: 1, 13: 1, 8: 1},\n",
       " 188: {7: 2, 1: 81, 2: 47, 3: 27, 6: 3, 4: 16, 5: 6, 8: 3, 13: 1, 10: 1, 9: 1},\n",
       " 51: {3: 10, 6: 3, 1: 21, 4: 2, 5: 1, 2: 10, 8: 2, 7: 2},\n",
       " 207: {4: 23,\n",
       "  2: 58,\n",
       "  1: 67,\n",
       "  11: 2,\n",
       "  3: 35,\n",
       "  6: 8,\n",
       "  5: 5,\n",
       "  7: 4,\n",
       "  12: 1,\n",
       "  324: 1,\n",
       "  8: 1,\n",
       "  9: 1,\n",
       "  13: 1},\n",
       " 92: {1: 27, 2: 22, 3: 16, 8: 1, 7: 4, 4: 11, 5: 5, 6: 4, 13: 1, 10: 1},\n",
       " 579: {2: 56, 1: 500, 6: 3, 3: 9, 4: 2, 5: 4, 12: 1, 8: 2, 426: 1, 42: 1},\n",
       " 235: {1: 187, 2: 34, 3: 10, 4: 1, 5: 3},\n",
       " 28: {1: 18, 2: 6, 5: 2, 3: 1, 15: 1},\n",
       " 25: {426: 1, 2: 3, 3: 6, 1: 12, 6: 1, 5: 2},\n",
       " 56: {2: 9, 1: 24, 3: 11, 4: 2, 5: 2, 8: 2, 11: 1, 6: 3, 7: 1, 15: 1},\n",
       " 14: {1: 20, 6: 2, 2: 3, 5: 1, 4: 1, 3: 1},\n",
       " 426: {1: 331,\n",
       "  2: 65,\n",
       "  5: 5,\n",
       "  4: 4,\n",
       "  3: 13,\n",
       "  25: 1,\n",
       "  426: 1,\n",
       "  6: 1,\n",
       "  579: 1,\n",
       "  12: 1,\n",
       "  42: 1,\n",
       "  8: 1},\n",
       " 87: {1: 70, 2: 8, 3: 5, 4: 1, 6: 2, 5: 1},\n",
       " 19: {86: 1, 8: 1, 1: 2, 4: 5, 13: 1, 5: 2, 6: 1, 2: 1, 15: 3, 3: 2},\n",
       " 29: {3: 3, 5: 1, 11: 1, 2: 6, 4: 7, 1: 6, 12: 1, 6: 2, 7: 2},\n",
       " 63: {2: 18, 3: 3, 1: 38, 6: 1, 4: 1, 12: 1, 8: 1},\n",
       " 42: {1: 46, 2: 18, 3: 10, 6: 2, 8: 1, 4: 2, 426: 1, 5: 3, 579: 1},\n",
       " 35: {6: 1, 1: 15, 3: 4, 7: 1, 2: 9, 8: 1, 4: 1, 13: 1, 5: 2},\n",
       " 26: {2: 7, 3: 5, 1: 11, 4: 1, 12: 1, 10: 1},\n",
       " 16: {2: 5, 1: 5, 3: 2, 16: 1, 4: 1, 7: 1}}"
      ]
     },
     "execution_count": 14,
     "metadata": {},
     "output_type": "execute_result"
    }
   ],
   "source": [
    "nx.degree_mixing_dict(g_nx) #cos'è??"
   ]
  },
  {
   "cell_type": "code",
   "execution_count": 19,
   "metadata": {},
   "outputs": [
    {
     "ename": "NetworkXNotImplemented",
     "evalue": "not implemented for undirected type",
     "output_type": "error",
     "traceback": [
      "\u001b[1;31m---------------------------------------------------------------------------\u001b[0m",
      "\u001b[1;31mNetworkXNotImplemented\u001b[0m                    Traceback (most recent call last)",
      "\u001b[1;32m<ipython-input-19-b89a57156b33>\u001b[0m in \u001b[0;36m<module>\u001b[1;34m\u001b[0m\n\u001b[1;32m----> 1\u001b[1;33m \u001b[0mnx\u001b[0m\u001b[1;33m.\u001b[0m\u001b[0mout_degree_centrality\u001b[0m\u001b[1;33m(\u001b[0m\u001b[0mg_nx\u001b[0m\u001b[1;33m)\u001b[0m\u001b[1;33m\u001b[0m\u001b[1;33m\u001b[0m\u001b[0m\n\u001b[0m",
      "\u001b[1;32m<decorator-gen-275>\u001b[0m in \u001b[0;36mout_degree_centrality\u001b[1;34m(G)\u001b[0m\n",
      "\u001b[1;32mC:\\ProgramData\\Anaconda3\\lib\\site-packages\\networkx\\utils\\decorators.py\u001b[0m in \u001b[0;36m_not_implemented_for\u001b[1;34m(not_implement_for_func, *args, **kwargs)\u001b[0m\n\u001b[0;32m     74\u001b[0m         \u001b[1;32mif\u001b[0m \u001b[0mmatch\u001b[0m\u001b[1;33m:\u001b[0m\u001b[1;33m\u001b[0m\u001b[1;33m\u001b[0m\u001b[0m\n\u001b[0;32m     75\u001b[0m             \u001b[0mmsg\u001b[0m \u001b[1;33m=\u001b[0m \u001b[1;34mf\"not implemented for {' '.join(graph_types)} type\"\u001b[0m\u001b[1;33m\u001b[0m\u001b[1;33m\u001b[0m\u001b[0m\n\u001b[1;32m---> 76\u001b[1;33m             \u001b[1;32mraise\u001b[0m \u001b[0mnx\u001b[0m\u001b[1;33m.\u001b[0m\u001b[0mNetworkXNotImplemented\u001b[0m\u001b[1;33m(\u001b[0m\u001b[0mmsg\u001b[0m\u001b[1;33m)\u001b[0m\u001b[1;33m\u001b[0m\u001b[1;33m\u001b[0m\u001b[0m\n\u001b[0m\u001b[0;32m     77\u001b[0m         \u001b[1;32melse\u001b[0m\u001b[1;33m:\u001b[0m\u001b[1;33m\u001b[0m\u001b[1;33m\u001b[0m\u001b[0m\n\u001b[0;32m     78\u001b[0m             \u001b[1;32mreturn\u001b[0m \u001b[0mnot_implement_for_func\u001b[0m\u001b[1;33m(\u001b[0m\u001b[1;33m*\u001b[0m\u001b[0margs\u001b[0m\u001b[1;33m,\u001b[0m \u001b[1;33m**\u001b[0m\u001b[0mkwargs\u001b[0m\u001b[1;33m)\u001b[0m\u001b[1;33m\u001b[0m\u001b[1;33m\u001b[0m\u001b[0m\n",
      "\u001b[1;31mNetworkXNotImplemented\u001b[0m: not implemented for undirected type"
     ]
    }
   ],
   "source": [
    "nx.out_degree_centrality(g_nx)"
   ]
  },
  {
   "cell_type": "code",
   "execution_count": 74,
   "metadata": {},
   "outputs": [
    {
     "data": {
      "text/plain": [
       "0"
      ]
     },
     "execution_count": 74,
     "metadata": {},
     "output_type": "execute_result"
    }
   ],
   "source": [
    "#Connectivity measures the minimum number of elements (vertices or edges) that must be removed to disconnect the graph\n",
    "nx.edge_connectivity(g_nx)"
   ]
  },
  {
   "cell_type": "code",
   "execution_count": 75,
   "metadata": {},
   "outputs": [
    {
     "data": {
      "text/plain": [
       "1"
      ]
     },
     "execution_count": 75,
     "metadata": {},
     "output_type": "execute_result"
    }
   ],
   "source": [
    "nx.edge_connectivity(G_nx)"
   ]
  },
  {
   "cell_type": "markdown",
   "metadata": {},
   "source": [
    "##### Percolation?"
   ]
  },
  {
   "cell_type": "code",
   "execution_count": 71,
   "metadata": {},
   "outputs": [],
   "source": [
    "#nx.percolation.percolation_centrality"
   ]
  }
 ],
 "metadata": {
  "interpreter": {
   "hash": "df2666e76e52a2f771a8cfba8f6cfbfdd93be2d7973ee6ffbf7a2267d71ba071"
  },
  "kernelspec": {
   "display_name": "Python 3.8.10 64-bit (windows store)",
   "language": "python",
   "name": "python3"
  },
  "language_info": {
   "codemirror_mode": {
    "name": "ipython",
    "version": 3
   },
   "file_extension": ".py",
   "mimetype": "text/x-python",
   "name": "python",
   "nbconvert_exporter": "python",
   "pygments_lexer": "ipython3",
   "version": "3.8.5"
  },
  "orig_nbformat": 4
 },
 "nbformat": 4,
 "nbformat_minor": 2
}
