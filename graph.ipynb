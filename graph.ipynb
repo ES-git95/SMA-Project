{
 "cells": [
  {
   "cell_type": "code",
   "execution_count": 1,
   "metadata": {},
   "outputs": [],
   "source": [
    "from igraph import Graph\n",
    "import pandas as pd\n",
    "import igraph\n",
    "import networkx as nx"
   ]
  },
  {
   "cell_type": "code",
   "execution_count": 2,
   "metadata": {},
   "outputs": [],
   "source": [
    "nodes=pd.read_csv('Nodes_df4.csv')\n",
    "edges=pd.read_csv('Edges_df4.csv')"
   ]
  },
  {
   "cell_type": "markdown",
   "metadata": {},
   "source": [
    "#### Individuiamo il Giant Component"
   ]
  },
  {
   "cell_type": "code",
   "execution_count": 3,
   "metadata": {},
   "outputs": [],
   "source": [
    "g_nx=nx.from_pandas_edgelist(edges,source='Source',target='Target')\n",
    "component_subgraph_list = list(nx.connected_components(g_nx))\n",
    "largest_component = list(max(component_subgraph_list,key=len))\n"
   ]
  },
  {
   "cell_type": "code",
   "execution_count": 4,
   "metadata": {},
   "outputs": [],
   "source": [
    "nodes_list=list(nodes.Id)\n",
    "new_edges=edges[(edges['Source'].isin(largest_component)) & (edges['Target'].isin(largest_component))]\n",
    "new_g=Graph.DataFrame(edges=new_edges[['Source','Target']],directed=True)"
   ]
  },
  {
   "cell_type": "code",
   "execution_count": null,
   "metadata": {},
   "outputs": [],
   "source": [
    "#codice per identificare giant component\n",
    "nodes['Giant_Component']=0\n",
    "\n",
    "colour=[]\n",
    "for index in largest_component:\n",
    "    subset=nodes[nodes.Id==index]\n",
    "    if subset.empty == False:\n",
    "        sub_index=subset.index\n",
    "        nodes.at[sub_index,'Giant_Component']=1\n",
    "    else:\n",
    "        continue"
   ]
  },
  {
   "cell_type": "markdown",
   "metadata": {},
   "source": [
    "#### Applichiamo leading eigenvector"
   ]
  },
  {
   "cell_type": "code",
   "execution_count": 5,
   "metadata": {},
   "outputs": [
    {
     "name": "stderr",
     "output_type": "stream",
     "text": [
      "C:\\Users\\Eric\\AppData\\Local\\Packages\\PythonSoftwareFoundation.Python.3.8_qbz5n2kfra8p0\\LocalCache\\local-packages\\Python38\\site-packages\\igraph\\__init__.py:1281: RuntimeWarning: This method was developed for undirected graphs at src/community/leading_eigenvector.c:530\n",
      "  membership, _, q = GraphBase.community_leading_eigenvector(\n"
     ]
    },
    {
     "data": {
      "text/plain": [
       "'Clustering with 3527 elements and 2 clusters'"
      ]
     },
     "execution_count": 5,
     "metadata": {},
     "output_type": "execute_result"
    }
   ],
   "source": [
    "eigen=new_g.community_leading_eigenvector(2)\n",
    "eigen.summary()"
   ]
  },
  {
   "cell_type": "code",
   "execution_count": 6,
   "metadata": {},
   "outputs": [],
   "source": [
    "eigen_nodes=eigen.graph.vs[\"name\"]\n",
    "df_eigen=pd.DataFrame({'nodes':eigen_nodes,'clusters':eigen._membership})"
   ]
  },
  {
   "cell_type": "code",
   "execution_count": 7,
   "metadata": {},
   "outputs": [
    {
     "data": {
      "text/plain": [
       "array([[<AxesSubplot:title={'center':'0'}>]], dtype=object)"
      ]
     },
     "execution_count": 7,
     "metadata": {},
     "output_type": "execute_result"
    },
    {
     "data": {
      "image/png": "[encoded data removed]",
      "text/plain": [
       "<Figure size 432x288 with 1 Axes>"
      ]
     },
     "metadata": {
      "needs_background": "light"
     },
     "output_type": "display_data"
    }
   ],
   "source": [
    "pd.DataFrame(eigen._membership).hist()"
   ]
  },
  {
   "cell_type": "code",
   "execution_count": 8,
   "metadata": {},
   "outputs": [],
   "source": [
    "nodes['Cluster_eigen']=0\n",
    "\n",
    "colour=[]\n",
    "for index, row in df_eigen.iterrows():\n",
    "    subset=nodes[nodes.Id==int(row['nodes'])]\n",
    "    if subset.empty == False:\n",
    "        sub_index=subset.index\n",
    "        if row['clusters']==0:\n",
    "            nodes.at[sub_index,'Cluster_eigen']=1\n",
    "        if row['clusters']==1:\n",
    "            nodes.at[sub_index,'Cluster_eigen']=2\n",
    "    else:\n",
    "        continue"
   ]
  },
  {
   "cell_type": "code",
   "execution_count": 524,
   "metadata": {},
   "outputs": [],
   "source": [
    "nodes.to_csv('Nodes_df4_cluster.csv',index=False)"
   ]
  },
  {
   "cell_type": "code",
   "execution_count": 9,
   "metadata": {},
   "outputs": [],
   "source": [
    "for i,r in nodes.iterrows():\n",
    "    if r['Colour']=='#aaaacc':\n",
    "        nodes.at[i,'Colour']=0\n",
    "    if r['Colour']=='#007474':\n",
    "        nodes.at[i,'Colour']=1\n",
    "    if r['Colour']=='#fb1239':\n",
    "        nodes.at[i,'Colour']=2"
   ]
  },
  {
   "cell_type": "code",
   "execution_count": 36,
   "metadata": {},
   "outputs": [
    {
     "data": {
      "image/png": "[encoded data removed]",
      "text/plain": [
       "<Figure size 432x288 with 2 Axes>"
      ]
     },
     "metadata": {
      "needs_background": "light"
     },
     "output_type": "display_data"
    }
   ],
   "source": [
    "from sklearn.metrics import confusion_matrix\n",
    "import matplotlib.pyplot as plt\n",
    "import numpy as np\n",
    "\n",
    "conf_mat=confusion_matrix(list(nodes.Colour), list(nodes.Cluster_eigen))"
   ]
  },
  {
   "cell_type": "code",
   "execution_count": 93,
   "metadata": {},
   "outputs": [
    {
     "data": {
      "image/png": "[encoded data removed]",
      "text/plain": [
       "<Figure size 288x288 with 2 Axes>"
      ]
     },
     "metadata": {
      "needs_background": "light"
     },
     "output_type": "display_data"
    }
   ],
   "source": [
    "df_conf_norm = pd.DataFrame(conf_mat)\n",
    "df_conf_norm_r=pd.DataFrame(conf_mat/np.array( [conf_mat.sum(axis=1),conf_mat.sum(axis=1),conf_mat.sum(axis=1)]).T)\n",
    "plt.matshow(df_conf_norm_r, cmap='Reds')\n",
    "plt.colorbar()\n",
    "\n",
    "for (i, j), z in np.ndenumerate(df_conf_norm.to_numpy()):\n",
    "    plt.text(j, i, '{:0.0f}'.format(z), ha='center', va='center')\n",
    "\n",
    "plt.xlabel('Predicted')\n",
    "plt.ylabel('Actual')\n",
    "\n",
    "plt.show()"
   ]
  },
  {
   "cell_type": "code",
   "execution_count": null,
   "metadata": {},
   "outputs": [],
   "source": [
    "#misure di performance\n"
   ]
  },
  {
   "cell_type": "markdown",
   "metadata": {},
   "source": [
    "#### Creazione indice e applicazione k-means"
   ]
  },
  {
   "cell_type": "code",
   "execution_count": 340,
   "metadata": {},
   "outputs": [],
   "source": [
    "contiguous_nodes_dict={}\n",
    "\n",
    "for node in nodes.Id:\n",
    "    lista_target=list(new_edges[new_edges.Source==node]['Target'])\n",
    "    lista_source=list(new_edges[new_edges.Target==node]['Source'])\n",
    "    lista_tot=lista_target+lista_source\n",
    "    if lista_tot != []:\n",
    "        contiguous_nodes_dict[node]=lista_tot"
   ]
  },
  {
   "cell_type": "code",
   "execution_count": 341,
   "metadata": {},
   "outputs": [],
   "source": [
    "def Jaccard(nodesA,nodesB):\n",
    "    intersect = [value for value in nodesA if value in nodesB]\n",
    "    union=list(set(nodesA+nodesB))\n",
    "    compute_jaccard=len(intersect)/len(union)\n",
    "    return compute_jaccard"
   ]
  },
  {
   "cell_type": "code",
   "execution_count": 342,
   "metadata": {},
   "outputs": [],
   "source": [
    "distance_matrix_j=[[ Jaccard(values_col,values_row) for values_row in contiguous_nodes_dict.values()] for values_col in contiguous_nodes_dict.values()]"
   ]
  },
  {
   "cell_type": "code",
   "execution_count": 375,
   "metadata": {},
   "outputs": [],
   "source": [
    "from sklearn.cluster import KMeans\n",
    "kmeans = KMeans(n_clusters=2, random_state=0,n_init=100,max_iter=1000,algorithm=\"elkan\").fit(distance_matrix_j)"
   ]
  },
  {
   "cell_type": "code",
   "execution_count": 376,
   "metadata": {},
   "outputs": [
    {
     "data": {
      "text/plain": [
       "array([[<AxesSubplot:title={'center':'0'}>]], dtype=object)"
      ]
     },
     "execution_count": 376,
     "metadata": {},
     "output_type": "execute_result"
    },
    {
     "data": {
      "image/png": "[encoded data removed]",
      "text/plain": [
       "<Figure size 432x288 with 1 Axes>"
      ]
     },
     "metadata": {
      "needs_background": "light"
     },
     "output_type": "display_data"
    }
   ],
   "source": [
    "pd.DataFrame(kmeans.labels_).hist()"
   ]
  },
  {
   "cell_type": "code",
   "execution_count": 377,
   "metadata": {},
   "outputs": [],
   "source": [
    "df_means=pd.DataFrame({'nodes':contiguous_nodes_dict.keys(),'clusters':kmeans.labels_})"
   ]
  },
  {
   "cell_type": "code",
   "execution_count": 378,
   "metadata": {},
   "outputs": [],
   "source": [
    "nodes['Colour']='#aaaacc'\n",
    "\n",
    "colour=[]\n",
    "for index, row in df_means.iterrows():\n",
    "    subset=nodes[nodes.Id==int(row['nodes'])]\n",
    "    if subset.empty == False:\n",
    "        sub_index=subset.index\n",
    "        if row['clusters']==0:\n",
    "            nodes.at[sub_index,'Colour']='1'\n",
    "        if row['clusters']==1:\n",
    "            nodes.at[sub_index,'Colour']='2'\n",
    "    else:\n",
    "        continue"
   ]
  },
  {
   "cell_type": "code",
   "execution_count": 379,
   "metadata": {},
   "outputs": [],
   "source": [
    "nodes.to_csv('Nodes_df4_cluster.csv',index=False)"
   ]
  },
  {
   "cell_type": "markdown",
   "metadata": {},
   "source": [
    "#### Modularity maximization"
   ]
  },
  {
   "cell_type": "code",
   "execution_count": 422,
   "metadata": {},
   "outputs": [],
   "source": [
    "new_G = nx.from_edgelist([(names[x[0]], names[x[1]])\n",
    "                      for names in [new_g.vs['name']] # simply a let\n",
    "                      for x in new_g.get_edgelist()], nx.DiGraph())"
   ]
  },
  {
   "cell_type": "code",
   "execution_count": 427,
   "metadata": {},
   "outputs": [],
   "source": [
    "new_G=new_G.to_undirected()"
   ]
  },
  {
   "cell_type": "code",
   "execution_count": 435,
   "metadata": {},
   "outputs": [],
   "source": [
    "from networkx.algorithms.community import modularity_max\n",
    "c = list(modularity_max.greedy_modularity_communities(new_G))\n"
   ]
  },
  {
   "cell_type": "code",
   "execution_count": 456,
   "metadata": {},
   "outputs": [],
   "source": [
    "nodes['Colour']='#aaaacc'\n",
    "\n",
    "colours_list=list(range(0,24))\n",
    "i=0\n",
    "for community in c:\n",
    "    colour=[]\n",
    "    for node in list(community):\n",
    "        subset=nodes[nodes.Id==int(node)]\n",
    "        if subset.empty == False:\n",
    "            sub_index=subset.index\n",
    "            nodes.at[sub_index,'Colour']=colours_list[i]\n",
    "        else:\n",
    "            continue\n",
    "    i+=1"
   ]
  },
  {
   "cell_type": "code",
   "execution_count": 457,
   "metadata": {},
   "outputs": [],
   "source": [
    "nodes.to_csv('Nodes_df4_cluster.csv',index=False)"
   ]
  },
  {
   "cell_type": "markdown",
   "metadata": {},
   "source": [
    "#### Girvan-Newman"
   ]
  },
  {
   "cell_type": "code",
   "execution_count": 414,
   "metadata": {},
   "outputs": [],
   "source": [
    "new_G = nx.from_edgelist([(names[x[0]], names[x[1]])\n",
    "                      for names in [new_g.vs['name']] # simply a let\n",
    "                      for x in new_g.get_edgelist()], nx.DiGraph())"
   ]
  },
  {
   "cell_type": "code",
   "execution_count": 415,
   "metadata": {},
   "outputs": [],
   "source": [
    "new_G=new_G.to_undirected()"
   ]
  },
  {
   "cell_type": "code",
   "execution_count": 397,
   "metadata": {},
   "outputs": [],
   "source": [
    "def edge_to_remove(graph):\n",
    "  G_dict = nx.edge_betweenness_centrality(graph)\n",
    "  edge = ()\n",
    "\n",
    "  # extract the edge with highest edge betweenness centrality score\n",
    "  for key, value in sorted(G_dict.items(), key=lambda item: item[1], reverse = True):\n",
    "      edge = key\n",
    "      break\n",
    "\n",
    "  return edge"
   ]
  },
  {
   "cell_type": "code",
   "execution_count": 398,
   "metadata": {},
   "outputs": [],
   "source": [
    "def girvan_newman(graph):\n",
    "\t# find number of connected components\n",
    "\tsg = nx.connected_components(graph)\n",
    "\tsg_count = nx.number_connected_components(graph)\n",
    "\n",
    "\twhile(sg_count == 1):\n",
    "\t\tgraph.remove_edge(edge_to_remove(graph)[0], edge_to_remove(graph)[1])\n",
    "\t\tsg = nx.connected_components(graph)\n",
    "\t\tsg_count = nx.number_connected_components(graph)\n",
    "\n",
    "\treturn sg"
   ]
  },
  {
   "cell_type": "code",
   "execution_count": 416,
   "metadata": {},
   "outputs": [],
   "source": [
    "# find communities in the graph\n",
    "c = girvan_newman(new_G.copy())\n",
    "\n",
    "# find the nodes forming the communities\n",
    "node_groups = []\n",
    "\n",
    "for i in c:\n",
    "  node_groups.append(list(i))"
   ]
  },
  {
   "cell_type": "code",
   "execution_count": 408,
   "metadata": {},
   "outputs": [
    {
     "data": {
      "text/plain": [
       "1449"
      ]
     },
     "execution_count": 408,
     "metadata": {},
     "output_type": "execute_result"
    }
   ],
   "source": [
    "len(node_groups[1])"
   ]
  },
  {
   "cell_type": "code",
   "execution_count": 417,
   "metadata": {},
   "outputs": [],
   "source": [
    "nodes['Colour']='#aaaacc'\n",
    "\n",
    "colour=[]\n",
    "for idx in node_groups[0]:\n",
    "    subset=nodes[nodes.Id==int(idx)]\n",
    "    if subset.empty == False:\n",
    "        sub_index=subset.index\n",
    "        nodes.at[sub_index,'Colour']='1'\n",
    "    else:\n",
    "        continue\n",
    "\n",
    "colour=[]\n",
    "for idx in node_groups[1]:\n",
    "    subset=nodes[nodes.Id==int(idx)]\n",
    "    if subset.empty == False:\n",
    "        sub_index=subset.index\n",
    "        nodes.at[sub_index,'Colour']='2'\n",
    "    else:\n",
    "        continue\n"
   ]
  },
  {
   "cell_type": "code",
   "execution_count": 418,
   "metadata": {},
   "outputs": [],
   "source": [
    "nodes.to_csv('Nodes_df4_cluster.csv',index=False)"
   ]
  }
 ],
 "metadata": {
  "interpreter": {
   "hash": "df2666e76e52a2f771a8cfba8f6cfbfdd93be2d7973ee6ffbf7a2267d71ba071"
  },
  "kernelspec": {
   "display_name": "Python 3.8.10 64-bit (windows store)",
   "language": "python",
   "name": "python3"
  },
  "language_info": {
   "codemirror_mode": {
    "name": "ipython",
    "version": 3
   },
   "file_extension": ".py",
   "mimetype": "text/x-python",
   "name": "python",
   "nbconvert_exporter": "python",
   "pygments_lexer": "ipython3",
   "version": "3.8.10"
  },
  "orig_nbformat": 4
 },
 "nbformat": 4,
 "nbformat_minor": 2
}
