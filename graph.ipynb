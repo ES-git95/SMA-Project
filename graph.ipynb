{
 "cells": [
  {
   "cell_type": "code",
   "execution_count": 9,
   "metadata": {},
   "outputs": [],
   "source": [
    "from igraph import Graph\n",
    "import numpy as np\n",
    "import pandas as pd\n",
    "import igraph\n",
    "import networkx as nx"
   ]
  },
  {
   "cell_type": "code",
   "execution_count": 2,
   "metadata": {},
   "outputs": [],
   "source": [
    "nodes=pd.read_csv('Nodes_df4.csv')\n",
    "edges=pd.read_csv('Edges_df4.csv')"
   ]
  },
  {
   "cell_type": "markdown",
   "metadata": {},
   "source": [
    "#### Individuiamo il Giant Component"
   ]
  },
  {
   "cell_type": "code",
   "execution_count": 3,
   "metadata": {},
   "outputs": [],
   "source": [
    "g_nx=nx.from_pandas_edgelist(edges,source='Source',target='Target')\n",
    "component_subgraph_list = list(nx.connected_components(g_nx))\n",
    "largest_component = list(max(component_subgraph_list,key=len))\n"
   ]
  },
  {
   "cell_type": "code",
   "execution_count": 4,
   "metadata": {},
   "outputs": [],
   "source": [
    "nodes_list=list(nodes.Id)\n",
    "new_edges=edges[(edges['Source'].isin(largest_component)) & (edges['Target'].isin(largest_component))]\n",
    "new_g=Graph.DataFrame(edges=new_edges[['Source','Target']],directed=True)"
   ]
  },
  {
   "cell_type": "code",
   "execution_count": 26,
   "metadata": {},
   "outputs": [],
   "source": [
    "#codice per identificare giant component\n",
    "nodes['Giant_Component']=0\n",
    "\n",
    "colour=[]\n",
    "for index in largest_component:\n",
    "    subset=nodes[nodes.Id==index]\n",
    "    if subset.empty == False:\n",
    "        sub_index=subset.index\n",
    "        nodes.at[sub_index,'Giant_Component']=1\n",
    "    else:\n",
    "        continue"
   ]
  },
  {
   "cell_type": "markdown",
   "metadata": {},
   "source": [
    "#### Applichiamo leading eigenvector"
   ]
  },
  {
   "cell_type": "code",
   "execution_count": 27,
   "metadata": {},
   "outputs": [
    {
     "name": "stderr",
     "output_type": "stream",
     "text": [
      "C:\\ProgramData\\Anaconda3\\lib\\site-packages\\igraph\\__init__.py:1281: RuntimeWarning: This method was developed for undirected graphs at src/community/leading_eigenvector.c:530\n",
      "  membership, _, q = GraphBase.community_leading_eigenvector(\n"
     ]
    },
    {
     "data": {
      "text/plain": [
       "'Clustering with 3527 elements and 2 clusters'"
      ]
     },
     "execution_count": 27,
     "metadata": {},
     "output_type": "execute_result"
    }
   ],
   "source": [
    "eigen=new_g.community_leading_eigenvector(2)\n",
    "eigen.summary()"
   ]
  },
  {
   "cell_type": "code",
   "execution_count": 28,
   "metadata": {},
   "outputs": [],
   "source": [
    "eigen_nodes=eigen.graph.vs[\"name\"]\n",
    "df_eigen=pd.DataFrame({'nodes':eigen_nodes,'clusters':eigen._membership})"
   ]
  },
  {
   "cell_type": "code",
   "execution_count": 29,
   "metadata": {},
   "outputs": [
    {
     "data": {
      "text/html": [
       "<div>\n",
       "<style scoped>\n",
       "    .dataframe tbody tr th:only-of-type {\n",
       "        vertical-align: middle;\n",
       "    }\n",
       "\n",
       "    .dataframe tbody tr th {\n",
       "        vertical-align: top;\n",
       "    }\n",
       "\n",
       "    .dataframe thead th {\n",
       "        text-align: right;\n",
       "    }\n",
       "</style>\n",
       "<table border=\"1\" class=\"dataframe\">\n",
       "  <thead>\n",
       "    <tr style=\"text-align: right;\">\n",
       "      <th></th>\n",
       "      <th>nodes</th>\n",
       "      <th>clusters</th>\n",
       "    </tr>\n",
       "  </thead>\n",
       "  <tbody>\n",
       "    <tr>\n",
       "      <th>0</th>\n",
       "      <td>2279301</td>\n",
       "      <td>0</td>\n",
       "    </tr>\n",
       "    <tr>\n",
       "      <th>1</th>\n",
       "      <td>5253961</td>\n",
       "      <td>0</td>\n",
       "    </tr>\n",
       "    <tr>\n",
       "      <th>2</th>\n",
       "      <td>5718002</td>\n",
       "      <td>1</td>\n",
       "    </tr>\n",
       "    <tr>\n",
       "      <th>3</th>\n",
       "      <td>6012422</td>\n",
       "      <td>0</td>\n",
       "    </tr>\n",
       "    <tr>\n",
       "      <th>4</th>\n",
       "      <td>6243422</td>\n",
       "      <td>0</td>\n",
       "    </tr>\n",
       "    <tr>\n",
       "      <th>...</th>\n",
       "      <td>...</td>\n",
       "      <td>...</td>\n",
       "    </tr>\n",
       "    <tr>\n",
       "      <th>3522</th>\n",
       "      <td>1474895624843800581</td>\n",
       "      <td>0</td>\n",
       "    </tr>\n",
       "    <tr>\n",
       "      <th>3523</th>\n",
       "      <td>1475049574809186307</td>\n",
       "      <td>0</td>\n",
       "    </tr>\n",
       "    <tr>\n",
       "      <th>3524</th>\n",
       "      <td>1475122883164876805</td>\n",
       "      <td>0</td>\n",
       "    </tr>\n",
       "    <tr>\n",
       "      <th>3525</th>\n",
       "      <td>1475496660268638210</td>\n",
       "      <td>0</td>\n",
       "    </tr>\n",
       "    <tr>\n",
       "      <th>3526</th>\n",
       "      <td>1475645745990619139</td>\n",
       "      <td>0</td>\n",
       "    </tr>\n",
       "  </tbody>\n",
       "</table>\n",
       "<p>3527 rows × 2 columns</p>\n",
       "</div>"
      ],
      "text/plain": [
       "                    nodes  clusters\n",
       "0                 2279301         0\n",
       "1                 5253961         0\n",
       "2                 5718002         1\n",
       "3                 6012422         0\n",
       "4                 6243422         0\n",
       "...                   ...       ...\n",
       "3522  1474895624843800581         0\n",
       "3523  1475049574809186307         0\n",
       "3524  1475122883164876805         0\n",
       "3525  1475496660268638210         0\n",
       "3526  1475645745990619139         0\n",
       "\n",
       "[3527 rows x 2 columns]"
      ]
     },
     "execution_count": 29,
     "metadata": {},
     "output_type": "execute_result"
    }
   ],
   "source": [
    "df_eigen"
   ]
  },
  {
   "cell_type": "code",
   "execution_count": 30,
   "metadata": {},
   "outputs": [
    {
     "data": {
      "text/plain": [
       "<AxesSubplot:>"
      ]
     },
     "execution_count": 30,
     "metadata": {},
     "output_type": "execute_result"
    },
    {
     "data": {
      "image/png": "[encoded data removed]",
      "text/plain": [
       "<Figure size 432x288 with 1 Axes>"
      ]
     },
     "metadata": {
      "needs_background": "light"
     },
     "output_type": "display_data"
    }
   ],
   "source": [
    "df_eigen[\"clusters\"].hist()"
   ]
  },
  {
   "cell_type": "code",
   "execution_count": 31,
   "metadata": {},
   "outputs": [
    {
     "data": {
      "text/plain": [
       "clusters\n",
       "0    2608\n",
       "1     919\n",
       "Name: clusters, dtype: int64"
      ]
     },
     "execution_count": 31,
     "metadata": {},
     "output_type": "execute_result"
    }
   ],
   "source": [
    "df_eigen.groupby(\"clusters\")[\"clusters\"].count()"
   ]
  },
  {
   "cell_type": "code",
   "execution_count": 32,
   "metadata": {},
   "outputs": [],
   "source": [
    "def color_clusters(cluster_df,cluster_field,new_cluster_field_name):\n",
    "    clusters=list(set(cluster_df[cluster_field]))\n",
    "    nodes[new_cluster_field_name]=0\n",
    "\n",
    "    for index, row in cluster_df.iterrows():\n",
    "        subset=nodes[nodes.Id==int(row['nodes'])]\n",
    "        if subset.empty == False:\n",
    "            sub_index=subset.index\n",
    "            for cluster in clusters:\n",
    "                if row['clusters']==cluster:\n",
    "                    nodes.at[sub_index,new_cluster_field_name]=cluster+1\n",
    "        else:\n",
    "            continue"
   ]
  },
  {
   "cell_type": "code",
   "execution_count": 34,
   "metadata": {},
   "outputs": [],
   "source": [
    "color_clusters(df_eigen,'clusters','cluster_eigen')"
   ]
  },
  {
   "cell_type": "code",
   "execution_count": 8,
   "metadata": {},
   "outputs": [],
   "source": [
    "#clusters=list(set(df_eigen.clusters))\n",
    "#nodes['Cluster_eigen']=0\n",
    "#\n",
    "#colour=[]\n",
    "#for index, row in df_eigen.iterrows():\n",
    "#    subset=nodes[nodes.Id==int(row['nodes'])]\n",
    "#    if subset.empty == False:\n",
    "#        sub_index=subset.index\n",
    "#        for cluster in clusters:\n",
    "#            if row['clusters']==cluster:\n",
    "#                nodes.at[sub_index,'Cluster_eigen']=cluster+1\n",
    "#    else:\n",
    "#        continue"
   ]
  },
  {
   "cell_type": "code",
   "execution_count": 33,
   "metadata": {},
   "outputs": [],
   "source": [
    "#utile solo nel caso che il dataframe di partenza presenti gli hex colors invece dei cluster\n",
    "\n",
    "#for i,r in dummy.iterrows():\n",
    "#    if r['Colour']=='#aaaacc':\n",
    "#        dummy.at[i,'Colour']=0\n",
    "#    if r['Colour']=='#007474':\n",
    "#        dummy.at[i,'Colour']=1\n",
    "#    if r['Colour']=='#fb1239':\n",
    "#        dummy.at[i,'Colour']=2"
   ]
  },
  {
   "cell_type": "markdown",
   "metadata": {},
   "source": [
    "#### Creazione indice e applicazione k-means"
   ]
  },
  {
   "cell_type": "code",
   "execution_count": 36,
   "metadata": {},
   "outputs": [],
   "source": [
    "contiguous_nodes_dict={}\n",
    "\n",
    "for node in nodes.Id:\n",
    "    lista_target=list(new_edges[new_edges.Source==node]['Target'])\n",
    "    lista_source=list(new_edges[new_edges.Target==node]['Source'])\n",
    "    lista_tot=lista_target+lista_source\n",
    "    if lista_tot != []:\n",
    "        contiguous_nodes_dict[node]=lista_tot"
   ]
  },
  {
   "cell_type": "code",
   "execution_count": 37,
   "metadata": {},
   "outputs": [],
   "source": [
    "def Jaccard(nodesA,nodesB):\n",
    "    intersect = [value for value in nodesA if value in nodesB]\n",
    "    union=list(set(nodesA+nodesB))\n",
    "    compute_jaccard=len(intersect)/len(union)\n",
    "    return compute_jaccard"
   ]
  },
  {
   "cell_type": "code",
   "execution_count": 38,
   "metadata": {},
   "outputs": [],
   "source": [
    "distance_matrix_j=[[ Jaccard(values_col,values_row) for values_row in contiguous_nodes_dict.values()] for values_col in contiguous_nodes_dict.values()]"
   ]
  },
  {
   "cell_type": "code",
   "execution_count": 39,
   "metadata": {},
   "outputs": [],
   "source": [
    "from sklearn.cluster import KMeans\n",
    "kmeans = KMeans(n_clusters=2, random_state=0,n_init=100,max_iter=1000,algorithm=\"elkan\").fit(distance_matrix_j)"
   ]
  },
  {
   "cell_type": "code",
   "execution_count": 40,
   "metadata": {},
   "outputs": [
    {
     "data": {
      "text/plain": [
       "array([[<AxesSubplot:title={'center':'0'}>]], dtype=object)"
      ]
     },
     "execution_count": 40,
     "metadata": {},
     "output_type": "execute_result"
    },
    {
     "data": {
      "image/png": "[encoded data removed]",
      "text/plain": [
       "<Figure size 432x288 with 1 Axes>"
      ]
     },
     "metadata": {
      "needs_background": "light"
     },
     "output_type": "display_data"
    }
   ],
   "source": [
    "pd.DataFrame(kmeans.labels_).hist()"
   ]
  },
  {
   "cell_type": "code",
   "execution_count": 41,
   "metadata": {},
   "outputs": [],
   "source": [
    "df_means=pd.DataFrame({'nodes':contiguous_nodes_dict.keys(),'clusters':kmeans.labels_})"
   ]
  },
  {
   "cell_type": "code",
   "execution_count": 46,
   "metadata": {},
   "outputs": [],
   "source": [
    "color_clusters(df_means,'clusters','cluster_kmeans')"
   ]
  },
  {
   "cell_type": "code",
   "execution_count": 47,
   "metadata": {},
   "outputs": [],
   "source": [
    "nodes.to_csv(\"nodes_provvisorio.csv\")"
   ]
  },
  {
   "cell_type": "code",
   "execution_count": 378,
   "metadata": {},
   "outputs": [],
   "source": [
    "#nodes['Colour']='#aaaacc'\n",
    "#\n",
    "#colour=[]\n",
    "#for index, row in df_means.iterrows():\n",
    "#    subset=nodes[nodes.Id==int(row['nodes'])]\n",
    "#    if subset.empty == False:\n",
    "#        sub_index=subset.index\n",
    "#        if row['clusters']==0:\n",
    "#            nodes.at[sub_index,'Colour']='1'\n",
    "#        if row['clusters']==1:\n",
    "#            nodes.at[sub_index,'Colour']='2'\n",
    "#    else:\n",
    "#        continue"
   ]
  },
  {
   "cell_type": "markdown",
   "metadata": {},
   "source": [
    "#### Modularity maximization"
   ]
  },
  {
   "cell_type": "code",
   "execution_count": 130,
   "metadata": {},
   "outputs": [],
   "source": [
    "new_G = nx.from_edgelist([(names[x[0]], names[x[1]])\n",
    "                      for names in [new_g.vs['name']] # simply a let\n",
    "                      for x in new_g.get_edgelist()], nx.DiGraph())"
   ]
  },
  {
   "cell_type": "code",
   "execution_count": 131,
   "metadata": {},
   "outputs": [],
   "source": [
    "new_G=new_G.to_undirected()"
   ]
  },
  {
   "cell_type": "code",
   "execution_count": 132,
   "metadata": {},
   "outputs": [],
   "source": [
    "from networkx.algorithms.community import modularity_max\n",
    "c = list(modularity_max.greedy_modularity_communities(new_G))"
   ]
  },
  {
   "cell_type": "code",
   "execution_count": 456,
   "metadata": {},
   "outputs": [],
   "source": [
    "nodes['Cluster_mod']='#aaaacc'\n",
    "\n",
    "colours_list=list(range(0,24))\n",
    "i=0\n",
    "for community in c:\n",
    "    colour=[]\n",
    "    for node in list(community):\n",
    "        subset=nodes[nodes.Id==int(node)]\n",
    "        if subset.empty == False:\n",
    "            sub_index=subset.index\n",
    "            nodes.at[sub_index,'Cluster_mod']=colours_list[i]\n",
    "        else:\n",
    "            continue\n",
    "    i+=1"
   ]
  },
  {
   "cell_type": "markdown",
   "metadata": {},
   "source": [
    "#### Girvan-Newman"
   ]
  },
  {
   "cell_type": "code",
   "execution_count": 414,
   "metadata": {},
   "outputs": [],
   "source": [
    "new_G = nx.from_edgelist([(names[x[0]], names[x[1]])\n",
    "                      for names in [new_g.vs['name']] # simply a let\n",
    "                      for x in new_g.get_edgelist()], nx.DiGraph())"
   ]
  },
  {
   "cell_type": "code",
   "execution_count": 415,
   "metadata": {},
   "outputs": [],
   "source": [
    "new_G=new_G.to_undirected()"
   ]
  },
  {
   "cell_type": "code",
   "execution_count": 397,
   "metadata": {},
   "outputs": [],
   "source": [
    "def edge_to_remove(graph):\n",
    "  G_dict = nx.edge_betweenness_centrality(graph)\n",
    "  edge = ()\n",
    "\n",
    "  # extract the edge with highest edge betweenness centrality score\n",
    "  for key, value in sorted(G_dict.items(), key=lambda item: item[1], reverse = True):\n",
    "      edge = key\n",
    "      break\n",
    "\n",
    "  return edge"
   ]
  },
  {
   "cell_type": "code",
   "execution_count": 398,
   "metadata": {},
   "outputs": [],
   "source": [
    "def girvan_newman(graph):\n",
    "\t# find number of connected components\n",
    "\tsg = nx.connected_components(graph)\n",
    "\tsg_count = nx.number_connected_components(graph)\n",
    "\n",
    "\twhile(sg_count == 1):\n",
    "\t\tgraph.remove_edge(edge_to_remove(graph)[0], edge_to_remove(graph)[1])\n",
    "\t\tsg = nx.connected_components(graph)\n",
    "\t\tsg_count = nx.number_connected_components(graph)\n",
    "\n",
    "\treturn sg"
   ]
  },
  {
   "cell_type": "code",
   "execution_count": 416,
   "metadata": {},
   "outputs": [],
   "source": [
    "# find communities in the graph\n",
    "c = girvan_newman(new_G.copy())\n",
    "\n",
    "# find the nodes forming the communities\n",
    "node_groups = []\n",
    "\n",
    "for i in c:\n",
    "  node_groups.append(list(i))"
   ]
  },
  {
   "cell_type": "code",
   "execution_count": 417,
   "metadata": {},
   "outputs": [],
   "source": [
    "nodes['Colour_GN']=0\n",
    "\n",
    "for group in range(0,len(node_groups)):\n",
    "    for idx in node_groups[group]:\n",
    "        subset=nodes[nodes.Id==int(idx)]\n",
    "        if subset.empty == False:\n",
    "            sub_index=subset.index\n",
    "            nodes.at[sub_index,'Colour_GN']=group+1\n",
    "        else:\n",
    "            continue"
   ]
  },
  {
   "cell_type": "code",
   "execution_count": 418,
   "metadata": {},
   "outputs": [],
   "source": [
    "nodes.to_csv('Nodes_df4_cluster.csv',index=False)"
   ]
  },
  {
   "cell_type": "markdown",
   "metadata": {},
   "source": [
    "#### Valutazione Grafo"
   ]
  },
  {
   "cell_type": "code",
   "execution_count": 5,
   "metadata": {},
   "outputs": [],
   "source": [
    "import scipy.stats as stats"
   ]
  },
  {
   "cell_type": "code",
   "execution_count": 6,
   "metadata": {},
   "outputs": [],
   "source": [
    "G_directed=nx.from_pandas_edgelist(new_edges,source='Source',target='Target',create_using=nx.DiGraph())"
   ]
  },
  {
   "cell_type": "code",
   "execution_count": 7,
   "metadata": {},
   "outputs": [],
   "source": [
    "G_multi_directed=nx.from_pandas_edgelist(new_edges,source='Source',target='Target',create_using=nx.MultiDiGraph())"
   ]
  },
  {
   "cell_type": "code",
   "execution_count": 7,
   "metadata": {},
   "outputs": [],
   "source": [
    "#creazione grafo in networkx della Giant Component\n",
    "G_nx=nx.from_pandas_edgelist(new_edges,source='Source',target='Target')"
   ]
  },
  {
   "cell_type": "markdown",
   "metadata": {},
   "source": [
    "Assortativity"
   ]
  },
  {
   "cell_type": "code",
   "execution_count": 7,
   "metadata": {},
   "outputs": [
    {
     "data": {
      "text/plain": [
       "-0.3604330966037621"
      ]
     },
     "execution_count": 7,
     "metadata": {},
     "output_type": "execute_result"
    }
   ],
   "source": [
    "#Assortativity per intero grafo\n",
    "#nx.degree_assortativity_coefficient(g_nx)\n",
    "Assortativity=nx.degree_pearson_correlation_coefficient(g_nx) #più veloce\n",
    "Assortativity"
   ]
  },
  {
   "cell_type": "code",
   "execution_count": 60,
   "metadata": {},
   "outputs": [
    {
     "data": {
      "text/plain": [
       "-0.37425282150701356"
      ]
     },
     "execution_count": 60,
     "metadata": {},
     "output_type": "execute_result"
    }
   ],
   "source": [
    "#Assortativity per la sola giant component\n",
    "nx.degree_pearson_correlation_coefficient(G_nx)"
   ]
  },
  {
   "cell_type": "code",
   "execution_count": null,
   "metadata": {},
   "outputs": [],
   "source": [
    "# degree-degree matrix? serve grafo indiretto?\n",
    "xy=nx.node_degree_xy(G_nx)\n",
    "x,y=zip(*xy)"
   ]
  },
  {
   "cell_type": "markdown",
   "metadata": {},
   "source": [
    "La nostra rete è quindi disassortativa:\n",
    "- Hubs tend to connect to small nodes.\n",
    "- Disassortative networks have difficulty forming a giant\n",
    "component (ops? ahahah)\n",
    "- Hub removal is more damaging in disassortative networks, as in these the\n",
    "hubs connect to many small-degree nodes, which fall off the network\n",
    "once a hub is deleted."
   ]
  },
  {
   "cell_type": "markdown",
   "metadata": {},
   "source": [
    "Altri indici"
   ]
  },
  {
   "cell_type": "code",
   "execution_count": 37,
   "metadata": {},
   "outputs": [],
   "source": [
    "#nx.degree_mixing_dict(g_nx) #cos'è??"
   ]
  },
  {
   "cell_type": "code",
   "execution_count": 60,
   "metadata": {},
   "outputs": [],
   "source": [
    "#nx.out_degree_centrality(g_nx) serve grafo indiretto"
   ]
  },
  {
   "cell_type": "code",
   "execution_count": 14,
   "metadata": {},
   "outputs": [
    {
     "name": "stdout",
     "output_type": "stream",
     "text": [
      "0\n",
      "1\n",
      "1\n"
     ]
    }
   ],
   "source": [
    "#Structural cohesion:\n",
    "# Connectivity measures the minimum number of elements (vertices or edges) that must be removed to \n",
    "# disconnect the graph\n",
    "# edge connectivity\n",
    "print(nx.edge_connectivity(g_nx))\n",
    "print(nx.edge_connectivity(G_nx))\n",
    "print(nx.edge_connectivity(G_multi))"
   ]
  },
  {
   "cell_type": "code",
   "execution_count": 1,
   "metadata": {},
   "outputs": [
    {
     "ename": "NameError",
     "evalue": "name 'nx' is not defined",
     "output_type": "error",
     "traceback": [
      "\u001b[1;31m---------------------------------------------------------------------------\u001b[0m",
      "\u001b[1;31mNameError\u001b[0m                                 Traceback (most recent call last)",
      "\u001b[1;32m<ipython-input-1-06f863c7dbc7>\u001b[0m in \u001b[0;36m<module>\u001b[1;34m\u001b[0m\n\u001b[1;32m----> 1\u001b[1;33m \u001b[0mprint\u001b[0m\u001b[1;33m(\u001b[0m\u001b[0mnx\u001b[0m\u001b[1;33m.\u001b[0m\u001b[0medge_connectivity\u001b[0m\u001b[1;33m(\u001b[0m\u001b[0mG_directed\u001b[0m\u001b[1;33m)\u001b[0m\u001b[1;33m)\u001b[0m\u001b[1;33m\u001b[0m\u001b[1;33m\u001b[0m\u001b[0m\n\u001b[0m\u001b[0;32m      2\u001b[0m \u001b[0mprint\u001b[0m\u001b[1;33m(\u001b[0m\u001b[0mnx\u001b[0m\u001b[1;33m.\u001b[0m\u001b[0medge_connectivity\u001b[0m\u001b[1;33m(\u001b[0m\u001b[0mG_multi_directed\u001b[0m\u001b[1;33m)\u001b[0m\u001b[1;33m)\u001b[0m\u001b[1;33m\u001b[0m\u001b[1;33m\u001b[0m\u001b[0m\n",
      "\u001b[1;31mNameError\u001b[0m: name 'nx' is not defined"
     ]
    }
   ],
   "source": [
    "print(nx.edge_connectivity(G_directed))\n",
    "print(nx.edge_connectivity(G_multi_directed))"
   ]
  },
  {
   "cell_type": "code",
   "execution_count": 16,
   "metadata": {},
   "outputs": [
    {
     "name": "stdout",
     "output_type": "stream",
     "text": [
      "0\n",
      "1\n",
      "1\n"
     ]
    }
   ],
   "source": [
    "#node connectivity\n",
    "print(nx.node_connectivity(g_nx))\n",
    "print(nx.node_connectivity(G_nx))\n",
    "print(nx.node_connectivity(G_multi))"
   ]
  },
  {
   "cell_type": "code",
   "execution_count": 15,
   "metadata": {},
   "outputs": [
    {
     "name": "stdout",
     "output_type": "stream",
     "text": [
      "0.000687197997488974\n",
      "0.0007489424826003952\n",
      "0.0008761517382879435\n"
     ]
    }
   ],
   "source": [
    "#density\n",
    "#The density of a graph is a measure of how many ties between actors exist compared to how many \n",
    "#ties between actors are possible. A dense graph is a graph in which the number of edges is close \n",
    "#to the maximal number of edges. \n",
    "#NB: The density is 0 for a graph without edges and 1 for a complete graph\n",
    "print(nx.density(g_nx))\n",
    "print(nx.density(G_nx))\n",
    "print(nx.density(G_multi))\n",
    "#il nostro grafo è sparso"
   ]
  },
  {
   "cell_type": "code",
   "execution_count": 67,
   "metadata": {},
   "outputs": [],
   "source": [
    "#print(nx.eccentricity(g_nx)) grafo non connesso, non si può calcolare l'eccentricity\n",
    "# It is defined as the maximum distance of one vertex from other vertex. The maximum distance \n",
    "# between a vertex to all other vertices is considered as the eccentricity of the vertex.\n",
    "eccentricity=nx.eccentricity(G_nx)"
   ]
  },
  {
   "cell_type": "code",
   "execution_count": 65,
   "metadata": {},
   "outputs": [
    {
     "data": {
      "text/plain": [
       "7"
      ]
     },
     "execution_count": 65,
     "metadata": {},
     "output_type": "execute_result"
    }
   ],
   "source": [
    "#The radius of G is the value of the smallest eccentricity.\n",
    "nx.radius(G_nx)\n",
    "#min(eccentricity.values())"
   ]
  },
  {
   "cell_type": "code",
   "execution_count": 74,
   "metadata": {},
   "outputs": [
    {
     "data": {
      "text/plain": [
       "13"
      ]
     },
     "execution_count": 74,
     "metadata": {},
     "output_type": "execute_result"
    }
   ],
   "source": [
    "#The diameter of G is the value of the greatest eccentricity.\n",
    "nx.diameter(G_nx)\n",
    "#max(eccentricity.values())"
   ]
  },
  {
   "cell_type": "code",
   "execution_count": 78,
   "metadata": {},
   "outputs": [
    {
     "data": {
      "text/plain": [
       "0.0"
      ]
     },
     "execution_count": 78,
     "metadata": {},
     "output_type": "execute_result"
    }
   ],
   "source": [
    "#reciprocity is a measure of the likelihood of vertices in a directed network to be mutually \n",
    "# linked\n",
    "overall_reciprocity=nx.overall_reciprocity(G_nx)\n",
    "overall_reciprocity\n",
    "\n",
    "# 0 -> non ci sono scambi di retweet"
   ]
  },
  {
   "cell_type": "markdown",
   "metadata": {},
   "source": [
    "Centrality"
   ]
  },
  {
   "cell_type": "code",
   "execution_count": null,
   "metadata": {},
   "outputs": [],
   "source": [
    "#DEGREE\n",
    "#Degree is a simple centrality measure that counts how many neighbors a node has. \n",
    "# If the network is directed, we have two versions of the measure: \n",
    "# in-degree is the number of in-coming links, or the number of predecessor nodes; \n",
    "# out-degree is the number of out-going links, or the number of successor nodes."
   ]
  },
  {
   "cell_type": "code",
   "execution_count": 61,
   "metadata": {},
   "outputs": [
    {
     "data": {
      "text/html": [
       "<div>\n",
       "<style scoped>\n",
       "    .dataframe tbody tr th:only-of-type {\n",
       "        vertical-align: middle;\n",
       "    }\n",
       "\n",
       "    .dataframe tbody tr th {\n",
       "        vertical-align: top;\n",
       "    }\n",
       "\n",
       "    .dataframe thead th {\n",
       "        text-align: right;\n",
       "    }\n",
       "</style>\n",
       "<table border=\"1\" class=\"dataframe\">\n",
       "  <thead>\n",
       "    <tr style=\"text-align: right;\">\n",
       "      <th></th>\n",
       "      <th>id_utente</th>\n",
       "      <th>rt_fatti</th>\n",
       "      <th>Label</th>\n",
       "    </tr>\n",
       "  </thead>\n",
       "  <tbody>\n",
       "    <tr>\n",
       "      <th>0</th>\n",
       "      <td>1223954414807011328</td>\n",
       "      <td>12</td>\n",
       "      <td>Sakurauchi_Hime</td>\n",
       "    </tr>\n",
       "    <tr>\n",
       "      <th>1</th>\n",
       "      <td>1432941587324092418</td>\n",
       "      <td>11</td>\n",
       "      <td>natyslucevita</td>\n",
       "    </tr>\n",
       "    <tr>\n",
       "      <th>2</th>\n",
       "      <td>1036611673</td>\n",
       "      <td>10</td>\n",
       "      <td>GiancarloChimie</td>\n",
       "    </tr>\n",
       "    <tr>\n",
       "      <th>3</th>\n",
       "      <td>1036307375744016386</td>\n",
       "      <td>10</td>\n",
       "      <td>Stebox2</td>\n",
       "    </tr>\n",
       "    <tr>\n",
       "      <th>4</th>\n",
       "      <td>1436400225292259360</td>\n",
       "      <td>9</td>\n",
       "      <td>scc68samu</td>\n",
       "    </tr>\n",
       "  </tbody>\n",
       "</table>\n",
       "</div>"
      ],
      "text/plain": [
       "             id_utente  rt_fatti            Label\n",
       "0  1223954414807011328        12  Sakurauchi_Hime\n",
       "1  1432941587324092418        11    natyslucevita\n",
       "2           1036611673        10  GiancarloChimie\n",
       "3  1036307375744016386        10          Stebox2\n",
       "4  1436400225292259360         9        scc68samu"
      ]
     },
     "execution_count": 61,
     "metadata": {},
     "output_type": "execute_result"
    }
   ],
   "source": [
    "out_degrees=dict(G_directed.out_degree())\n",
    "out_degrees_sort=dict(sorted(out_degrees.items(), key=lambda item: item[1], reverse= True))\n",
    "top5_twitters=pd.DataFrame(list(out_degrees_sort.items())[:5],columns=(\"id_utente\",\"rt_fatti\"))\n",
    "top5_twitters=pd.merge(top5_twitters,nodes[[\"Id\",\"Label\"]],left_on=\"id_utente\",right_on=\"Id\",how=\"left\")\n",
    "top5_twitters.drop(\"Id\",axis=1,inplace=True)\n",
    "top5_twitters\n",
    "top5_twitters"
   ]
  },
  {
   "cell_type": "code",
   "execution_count": 12,
   "metadata": {},
   "outputs": [
    {
     "data": {
      "text/html": [
       "<div>\n",
       "<style scoped>\n",
       "    .dataframe tbody tr th:only-of-type {\n",
       "        vertical-align: middle;\n",
       "    }\n",
       "\n",
       "    .dataframe tbody tr th {\n",
       "        vertical-align: top;\n",
       "    }\n",
       "\n",
       "    .dataframe thead th {\n",
       "        text-align: right;\n",
       "    }\n",
       "</style>\n",
       "<table border=\"1\" class=\"dataframe\">\n",
       "  <thead>\n",
       "    <tr style=\"text-align: right;\">\n",
       "      <th></th>\n",
       "      <th>id_utente</th>\n",
       "      <th>rt_ricevuti</th>\n",
       "      <th>Label</th>\n",
       "    </tr>\n",
       "  </thead>\n",
       "  <tbody>\n",
       "    <tr>\n",
       "      <th>0</th>\n",
       "      <td>1364298062919794688</td>\n",
       "      <td>888</td>\n",
       "      <td>Lorenzo62752880</td>\n",
       "    </tr>\n",
       "    <tr>\n",
       "      <th>1</th>\n",
       "      <td>22038676</td>\n",
       "      <td>579</td>\n",
       "      <td>mariannaaprile</td>\n",
       "    </tr>\n",
       "    <tr>\n",
       "      <th>2</th>\n",
       "      <td>231902290</td>\n",
       "      <td>424</td>\n",
       "      <td>Cartabellotta</td>\n",
       "    </tr>\n",
       "    <tr>\n",
       "      <th>3</th>\n",
       "      <td>1155459166380744709</td>\n",
       "      <td>324</td>\n",
       "      <td>ArmoniosiAccent</td>\n",
       "    </tr>\n",
       "    <tr>\n",
       "      <th>4</th>\n",
       "      <td>1087731393633939462</td>\n",
       "      <td>235</td>\n",
       "      <td>Sfrida2</td>\n",
       "    </tr>\n",
       "  </tbody>\n",
       "</table>\n",
       "</div>"
      ],
      "text/plain": [
       "             id_utente  rt_ricevuti            Label\n",
       "0  1364298062919794688          888  Lorenzo62752880\n",
       "1             22038676          579   mariannaaprile\n",
       "2            231902290          424    Cartabellotta\n",
       "3  1155459166380744709          324  ArmoniosiAccent\n",
       "4  1087731393633939462          235          Sfrida2"
      ]
     },
     "execution_count": 12,
     "metadata": {},
     "output_type": "execute_result"
    }
   ],
   "source": [
    "in_degrees=dict(G_directed.in_degree())\n",
    "in_degrees_sort=dict(sorted(in_degrees.items(), key=lambda item: item[1], reverse= True))\n",
    "top5_HUBS=pd.DataFrame(list(in_degrees_sort.items())[:5],columns=(\"id_utente\",\"rt_ricevuti\"))\n",
    "top5_HUBS=pd.merge(top5_HUBS,nodes[[\"Id\",\"Label\"]],left_on=\"id_utente\",right_on=\"Id\",how=\"left\")\n",
    "top5_HUBS.drop(\"Id\",axis=1,inplace=True)\n",
    "top5_HUBS"
   ]
  },
  {
   "cell_type": "code",
   "execution_count": 66,
   "metadata": {},
   "outputs": [
    {
     "name": "stdout",
     "output_type": "stream",
     "text": [
      "0\n",
      "888\n"
     ]
    }
   ],
   "source": [
    "print(min(in_degrees_sort.values()))\n",
    "print(max(in_degrees_sort.values()))"
   ]
  },
  {
   "cell_type": "code",
   "execution_count": 89,
   "metadata": {},
   "outputs": [],
   "source": [
    "#df dei gradi di ciascun nodo\n",
    "df_gradi=pd.DataFrame(in_degrees.items(),columns=[\"nodi\",\"grado\"])"
   ]
  },
  {
   "cell_type": "code",
   "execution_count": 90,
   "metadata": {},
   "outputs": [
    {
     "data": {
      "text/html": [
       "<div>\n",
       "<style scoped>\n",
       "    .dataframe tbody tr th:only-of-type {\n",
       "        vertical-align: middle;\n",
       "    }\n",
       "\n",
       "    .dataframe tbody tr th {\n",
       "        vertical-align: top;\n",
       "    }\n",
       "\n",
       "    .dataframe thead th {\n",
       "        text-align: right;\n",
       "    }\n",
       "</style>\n",
       "<table border=\"1\" class=\"dataframe\">\n",
       "  <thead>\n",
       "    <tr style=\"text-align: right;\">\n",
       "      <th></th>\n",
       "      <th>nodi</th>\n",
       "    </tr>\n",
       "    <tr>\n",
       "      <th>grado</th>\n",
       "      <th></th>\n",
       "    </tr>\n",
       "  </thead>\n",
       "  <tbody>\n",
       "    <tr>\n",
       "      <th>0</th>\n",
       "      <td>3304</td>\n",
       "    </tr>\n",
       "    <tr>\n",
       "      <th>1</th>\n",
       "      <td>68</td>\n",
       "    </tr>\n",
       "    <tr>\n",
       "      <th>2</th>\n",
       "      <td>37</td>\n",
       "    </tr>\n",
       "    <tr>\n",
       "      <th>3</th>\n",
       "      <td>21</td>\n",
       "    </tr>\n",
       "    <tr>\n",
       "      <th>4</th>\n",
       "      <td>15</td>\n",
       "    </tr>\n",
       "  </tbody>\n",
       "</table>\n",
       "</div>"
      ],
      "text/plain": [
       "       nodi\n",
       "grado      \n",
       "0      3304\n",
       "1        68\n",
       "2        37\n",
       "3        21\n",
       "4        15"
      ]
     },
     "execution_count": 90,
     "metadata": {},
     "output_type": "execute_result"
    }
   ],
   "source": [
    "#distribuzione dei nodi per i 5 gradi più ricorrenti\n",
    "df_gradi.groupby(\"grado\").count().head()"
   ]
  },
  {
   "cell_type": "code",
   "execution_count": 91,
   "metadata": {},
   "outputs": [
    {
     "data": {
      "text/plain": [
       "0.9368"
      ]
     },
     "execution_count": 91,
     "metadata": {},
     "output_type": "execute_result"
    }
   ],
   "source": [
    "#percentuale di nodi con grado=0 (nessun retweet ricevuto)\n",
    "round(df_gradi[df_gradi[\"grado\"]==0][\"grado\"].count()/df_gradi[\"grado\"].count(),4)"
   ]
  },
  {
   "cell_type": "code",
   "execution_count": 25,
   "metadata": {},
   "outputs": [],
   "source": [
    "import matplotlib.pyplot as plt"
   ]
  },
  {
   "cell_type": "code",
   "execution_count": 48,
   "metadata": {},
   "outputs": [
    {
     "data": {
      "image/png": "[encoded data removed]",
      "text/plain": [
       "<Figure size 432x288 with 1 Axes>"
      ]
     },
     "metadata": {
      "needs_background": "light"
     },
     "output_type": "display_data"
    }
   ],
   "source": [
    "#distribuzione numero del numero dei retweet ricevuti in un range tra 5 e 100\n",
    "def plot_in_degree_dist(G):\n",
    "    bins=np.arange(5,100,5)  \n",
    "    degrees = sorted([G.in_degree(n) for n in G.nodes()])\n",
    "    plt.hist(degrees, bins, color='green')\n",
    "    plt.ylabel('utenti')\n",
    "    plt.xlabel('retweet ricevuti (range:5-100)')\n",
    "    plt.title('Distribuzione retweet ricevuti')\n",
    "    plt.show()\n",
    "\n",
    "plot_in_degree_dist(G_directed)"
   ]
  },
  {
   "cell_type": "code",
   "execution_count": 56,
   "metadata": {},
   "outputs": [
    {
     "data": {
      "text/html": [
       "<div>\n",
       "<style scoped>\n",
       "    .dataframe tbody tr th:only-of-type {\n",
       "        vertical-align: middle;\n",
       "    }\n",
       "\n",
       "    .dataframe tbody tr th {\n",
       "        vertical-align: top;\n",
       "    }\n",
       "\n",
       "    .dataframe thead th {\n",
       "        text-align: right;\n",
       "    }\n",
       "</style>\n",
       "<table border=\"1\" class=\"dataframe\">\n",
       "  <thead>\n",
       "    <tr style=\"text-align: right;\">\n",
       "      <th></th>\n",
       "      <th>nodo</th>\n",
       "      <th>grado</th>\n",
       "    </tr>\n",
       "  </thead>\n",
       "  <tbody>\n",
       "    <tr>\n",
       "      <th>0</th>\n",
       "      <td>321228288</td>\n",
       "      <td>0</td>\n",
       "    </tr>\n",
       "    <tr>\n",
       "      <th>1</th>\n",
       "      <td>1173223843</td>\n",
       "      <td>18</td>\n",
       "    </tr>\n",
       "    <tr>\n",
       "      <th>2</th>\n",
       "      <td>1426639026824564737</td>\n",
       "      <td>0</td>\n",
       "    </tr>\n",
       "    <tr>\n",
       "      <th>3</th>\n",
       "      <td>1364298062919794688</td>\n",
       "      <td>888</td>\n",
       "    </tr>\n",
       "    <tr>\n",
       "      <th>4</th>\n",
       "      <td>272945830</td>\n",
       "      <td>0</td>\n",
       "    </tr>\n",
       "    <tr>\n",
       "      <th>...</th>\n",
       "      <td>...</td>\n",
       "      <td>...</td>\n",
       "    </tr>\n",
       "    <tr>\n",
       "      <th>3522</th>\n",
       "      <td>1314673923271856128</td>\n",
       "      <td>0</td>\n",
       "    </tr>\n",
       "    <tr>\n",
       "      <th>3523</th>\n",
       "      <td>613859050</td>\n",
       "      <td>0</td>\n",
       "    </tr>\n",
       "    <tr>\n",
       "      <th>3524</th>\n",
       "      <td>40653660</td>\n",
       "      <td>0</td>\n",
       "    </tr>\n",
       "    <tr>\n",
       "      <th>3525</th>\n",
       "      <td>195333276</td>\n",
       "      <td>0</td>\n",
       "    </tr>\n",
       "    <tr>\n",
       "      <th>3526</th>\n",
       "      <td>241972508</td>\n",
       "      <td>0</td>\n",
       "    </tr>\n",
       "  </tbody>\n",
       "</table>\n",
       "<p>3527 rows × 2 columns</p>\n",
       "</div>"
      ],
      "text/plain": [
       "                     nodo  grado\n",
       "0               321228288      0\n",
       "1              1173223843     18\n",
       "2     1426639026824564737      0\n",
       "3     1364298062919794688    888\n",
       "4               272945830      0\n",
       "...                   ...    ...\n",
       "3522  1314673923271856128      0\n",
       "3523            613859050      0\n",
       "3524             40653660      0\n",
       "3525            195333276      0\n",
       "3526            241972508      0\n",
       "\n",
       "[3527 rows x 2 columns]"
      ]
     },
     "execution_count": 56,
     "metadata": {},
     "output_type": "execute_result"
    }
   ],
   "source": [
    "pd.DataFrame(G_directed.in_degree(),columns=[\"nodo\",\"grado\"])"
   ]
  },
  {
   "cell_type": "code",
   "execution_count": 62,
   "metadata": {},
   "outputs": [
    {
     "data": {
      "text/plain": [
       "[(1364298062919794688, 0.25184344866704483),\n",
       " (22038676, 0.16420873511060693),\n",
       " (231902290, 0.12024957458876916),\n",
       " (1155459166380744709, 0.09188882586500284),\n",
       " (1087731393633939462, 0.06664775950085083),\n",
       " (872076729535406080, 0.058423142370958595),\n",
       " (1360232480, 0.053034600113443),\n",
       " (1238800491632607232, 0.04140669313669881),\n",
       " (4882542093, 0.031480431083380604),\n",
       " (1095412353427013633, 0.026091888825865005)]"
      ]
     },
     "execution_count": 62,
     "metadata": {},
     "output_type": "execute_result"
    }
   ],
   "source": [
    "#The in-degree centrality for a node v is the fraction of nodes its incoming edges are connected to\n",
    "#top10 dei nodi con il maggior numero di archi entranti (i più retwettati)--> HUBS\n",
    "in_degree_centrality=nx.in_degree_centrality(G_directed)\n",
    "in_degree_centrality_sort=dict(sorted(in_degree_centrality.items(), key=lambda item: item[1], reverse= True))\n",
    "top10_IN_C=list(in_degree_centrality_sort.items())[:10]\n",
    "top10_IN_C"
   ]
  },
  {
   "cell_type": "code",
   "execution_count": 63,
   "metadata": {},
   "outputs": [
    {
     "data": {
      "text/plain": [
       "[(1223954414807011328, 0.003403289846851957),\n",
       " (1432941587324092418, 0.003119682359614294),\n",
       " (1036611673, 0.002836074872376631),\n",
       " (1036307375744016386, 0.002836074872376631),\n",
       " (1436400225292259360, 0.0025524673851389677),\n",
       " (4192961459, 0.0022688598979013048),\n",
       " (71593119, 0.0022688598979013048),\n",
       " (1042906497129361408, 0.0022688598979013048),\n",
       " (1420711554270511107, 0.0022688598979013048),\n",
       " (1227171998356443136, 0.0022688598979013048)]"
      ]
     },
     "execution_count": 63,
     "metadata": {},
     "output_type": "execute_result"
    }
   ],
   "source": [
    "#The out-degree centrality for a node v is the fraction of nodes its outcoming edges are connected to\n",
    "#top10 dei nodi con il maggior numero di archi uscenti (chi ha retwittato di più)\n",
    "out_degree_centrality=nx.out_degree_centrality(G_directed)\n",
    "out_degree_centrality_sort=dict(sorted(out_degree_centrality.items(), key=lambda item: item[1], reverse= True))\n",
    "top10_OUT_C=list(out_degree_centrality_sort.items())[:10]\n",
    "top10_OUT_C"
   ]
  },
  {
   "cell_type": "code",
   "execution_count": 66,
   "metadata": {},
   "outputs": [],
   "source": [
    "#CLOSENESS CENTRALITY\n",
    "# of a node is a measure of centrality in a network, \n",
    "# calculated as the reciprocal of the sum of the length of the shortest paths between the node \n",
    "# and all other nodes in the graph. Thus, the more central a node is, the closer it is to all \n",
    "# other nodes.\n",
    "closeness_centrality=nx.closeness_centrality(G_directed)"
   ]
  },
  {
   "cell_type": "code",
   "execution_count": 68,
   "metadata": {},
   "outputs": [
    {
     "data": {
      "text/html": [
       "<div>\n",
       "<style scoped>\n",
       "    .dataframe tbody tr th:only-of-type {\n",
       "        vertical-align: middle;\n",
       "    }\n",
       "\n",
       "    .dataframe tbody tr th {\n",
       "        vertical-align: top;\n",
       "    }\n",
       "\n",
       "    .dataframe thead th {\n",
       "        text-align: right;\n",
       "    }\n",
       "</style>\n",
       "<table border=\"1\" class=\"dataframe\">\n",
       "  <thead>\n",
       "    <tr style=\"text-align: right;\">\n",
       "      <th></th>\n",
       "      <th>id_utente</th>\n",
       "      <th>closeness centrality</th>\n",
       "      <th>Label</th>\n",
       "    </tr>\n",
       "  </thead>\n",
       "  <tbody>\n",
       "    <tr>\n",
       "      <th>0</th>\n",
       "      <td>1364298062919794688</td>\n",
       "      <td>0.253195</td>\n",
       "      <td>Lorenzo62752880</td>\n",
       "    </tr>\n",
       "    <tr>\n",
       "      <th>1</th>\n",
       "      <td>22038676</td>\n",
       "      <td>0.198659</td>\n",
       "      <td>mariannaaprile</td>\n",
       "    </tr>\n",
       "    <tr>\n",
       "      <th>2</th>\n",
       "      <td>231902290</td>\n",
       "      <td>0.121286</td>\n",
       "      <td>Cartabellotta</td>\n",
       "    </tr>\n",
       "    <tr>\n",
       "      <th>3</th>\n",
       "      <td>1155459166380744709</td>\n",
       "      <td>0.108495</td>\n",
       "      <td>ArmoniosiAccent</td>\n",
       "    </tr>\n",
       "    <tr>\n",
       "      <th>4</th>\n",
       "      <td>1087731393633939462</td>\n",
       "      <td>0.066649</td>\n",
       "      <td>Sfrida2</td>\n",
       "    </tr>\n",
       "  </tbody>\n",
       "</table>\n",
       "</div>"
      ],
      "text/plain": [
       "             id_utente  closeness centrality            Label\n",
       "0  1364298062919794688              0.253195  Lorenzo62752880\n",
       "1             22038676              0.198659   mariannaaprile\n",
       "2            231902290              0.121286    Cartabellotta\n",
       "3  1155459166380744709              0.108495  ArmoniosiAccent\n",
       "4  1087731393633939462              0.066649          Sfrida2"
      ]
     },
     "execution_count": 68,
     "metadata": {},
     "output_type": "execute_result"
    }
   ],
   "source": [
    "#trovo i top5 utenti per closeness_centrality\n",
    "closeness_centrality_sort=dict(sorted(closeness_centrality.items(), key=lambda item: item[1], reverse= True))\n",
    "top10_CC=pd.DataFrame(list(closeness_centrality_sort.items())[:5],columns=(\"id_utente\",\"closeness centrality\"))\n",
    "top10_CC=pd.merge(top10_CC,nodes[[\"Id\",\"Label\"]],left_on=\"id_utente\",right_on=\"Id\",how=\"left\")\n",
    "top10_CC.drop(\"Id\",axis=1,inplace=True)\n",
    "top10_CC"
   ]
  },
  {
   "cell_type": "code",
   "execution_count": 70,
   "metadata": {},
   "outputs": [],
   "source": [
    "#BETWEENNESS CENTRALITY\n",
    "#betweenness centrality is a measure of centrality in a graph based on shortest paths. \n",
    "#Centrality misura l’importanza di un nodo nelle «comunicazioni» con gli altri nodi e\n",
    "#quindi l’ influenza all'interno di una rete in virtù del «controllo sulle informazioni» che passano,\n",
    "#pertanto si riferisce a quanto un nodo sia di passaggio \n",
    "betweenness_centrality=nx.betweenness_centrality(G_nx)"
   ]
  },
  {
   "cell_type": "code",
   "execution_count": 71,
   "metadata": {},
   "outputs": [
    {
     "data": {
      "text/html": [
       "<div>\n",
       "<style scoped>\n",
       "    .dataframe tbody tr th:only-of-type {\n",
       "        vertical-align: middle;\n",
       "    }\n",
       "\n",
       "    .dataframe tbody tr th {\n",
       "        vertical-align: top;\n",
       "    }\n",
       "\n",
       "    .dataframe thead th {\n",
       "        text-align: right;\n",
       "    }\n",
       "</style>\n",
       "<table border=\"1\" class=\"dataframe\">\n",
       "  <thead>\n",
       "    <tr style=\"text-align: right;\">\n",
       "      <th></th>\n",
       "      <th>id_utente</th>\n",
       "      <th>betweenness centrality</th>\n",
       "      <th>Label</th>\n",
       "    </tr>\n",
       "  </thead>\n",
       "  <tbody>\n",
       "    <tr>\n",
       "      <th>0</th>\n",
       "      <td>22038676</td>\n",
       "      <td>0.501206</td>\n",
       "      <td>mariannaaprile</td>\n",
       "    </tr>\n",
       "    <tr>\n",
       "      <th>1</th>\n",
       "      <td>1364298062919794688</td>\n",
       "      <td>0.461189</td>\n",
       "      <td>Lorenzo62752880</td>\n",
       "    </tr>\n",
       "    <tr>\n",
       "      <th>2</th>\n",
       "      <td>231902290</td>\n",
       "      <td>0.210094</td>\n",
       "      <td>Cartabellotta</td>\n",
       "    </tr>\n",
       "    <tr>\n",
       "      <th>3</th>\n",
       "      <td>1155459166380744709</td>\n",
       "      <td>0.140428</td>\n",
       "      <td>ArmoniosiAccent</td>\n",
       "    </tr>\n",
       "    <tr>\n",
       "      <th>4</th>\n",
       "      <td>872076729535406080</td>\n",
       "      <td>0.130191</td>\n",
       "      <td>laggiu17</td>\n",
       "    </tr>\n",
       "  </tbody>\n",
       "</table>\n",
       "</div>"
      ],
      "text/plain": [
       "             id_utente  betweenness centrality            Label\n",
       "0             22038676                0.501206   mariannaaprile\n",
       "1  1364298062919794688                0.461189  Lorenzo62752880\n",
       "2            231902290                0.210094    Cartabellotta\n",
       "3  1155459166380744709                0.140428  ArmoniosiAccent\n",
       "4   872076729535406080                0.130191         laggiu17"
      ]
     },
     "execution_count": 71,
     "metadata": {},
     "output_type": "execute_result"
    }
   ],
   "source": [
    "#trovo i top5 utenti per betweenness_centrality\n",
    "betweenness_centrality_sort=dict(sorted(betweenness_centrality.items(), key=lambda item: item[1], reverse= True))\n",
    "top5_BC=pd.DataFrame(list(betweenness_centrality_sort.items())[:5],columns=(\"id_utente\",\"betweenness centrality\"))\n",
    "top5_BC=pd.merge(top5_BC,nodes[[\"Id\",\"Label\"]],left_on=\"id_utente\",right_on=\"Id\",how=\"left\")\n",
    "top5_BC.drop(\"Id\",axis=1,inplace=True)\n",
    "top5_BC"
   ]
  },
  {
   "cell_type": "markdown",
   "metadata": {},
   "source": [
    "##### Percolation?"
   ]
  },
  {
   "cell_type": "code",
   "execution_count": 47,
   "metadata": {},
   "outputs": [
    {
     "ename": "ModuleNotFoundError",
     "evalue": "No module named 'percolation'",
     "output_type": "error",
     "traceback": [
      "\u001b[1;31m---------------------------------------------------------------------------\u001b[0m",
      "\u001b[1;31mModuleNotFoundError\u001b[0m                       Traceback (most recent call last)",
      "\u001b[1;32m<ipython-input-47-189de6747d2e>\u001b[0m in \u001b[0;36m<module>\u001b[1;34m\u001b[0m\n\u001b[1;32m----> 1\u001b[1;33m \u001b[1;32mfrom\u001b[0m \u001b[0mpercolation\u001b[0m \u001b[1;32mimport\u001b[0m \u001b[1;33m*\u001b[0m\u001b[1;33m\u001b[0m\u001b[1;33m\u001b[0m\u001b[0m\n\u001b[0m",
      "\u001b[1;31mModuleNotFoundError\u001b[0m: No module named 'percolation'"
     ]
    }
   ],
   "source": [
    "from percolation import *"
   ]
  },
  {
   "cell_type": "code",
   "execution_count": null,
   "metadata": {},
   "outputs": [],
   "source": [
    "percolation_centrality"
   ]
  }
 ],
 "metadata": {
  "interpreter": {
   "hash": "df2666e76e52a2f771a8cfba8f6cfbfdd93be2d7973ee6ffbf7a2267d71ba071"
  },
  "kernelspec": {
   "display_name": "Python 3.8.10 64-bit (windows store)",
   "language": "python",
   "name": "python3"
  },
  "language_info": {
   "codemirror_mode": {
    "name": "ipython",
    "version": 3
   },
   "file_extension": ".py",
   "mimetype": "text/x-python",
   "name": "python",
   "nbconvert_exporter": "python",
   "pygments_lexer": "ipython3",
   "version": "3.8.5"
  },
  "orig_nbformat": 4
 },
 "nbformat": 4,
 "nbformat_minor": 2
}
