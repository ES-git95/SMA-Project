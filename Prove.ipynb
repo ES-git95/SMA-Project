{
 "cells": [
  {
   "cell_type": "code",
   "execution_count": 2,
   "metadata": {},
   "outputs": [],
   "source": [
    "#Caricare le librerie\n",
    "import tweepy\n",
    "import numpy as np\n",
    "import pandas as pd\n",
    "import re\n"
   ]
  },
  {
   "cell_type": "code",
   "execution_count": 3,
   "metadata": {},
   "outputs": [],
   "source": [
    "consumer_key= \"rrR0Znz98oKkjfB8b72oLH9Qc\"\n",
    "consumer_secret= \"m7iOPX6iW8R3IalRf7x56YVeIb18o3I1bhUftg8JzlQ6fAjLgW\"\n",
    "access_token= \"1442250607-3cJYKYyh7Ae19nMcv5YoxOIB2XlvgVX0ROaDSJx\"\n",
    "access_token_secret= \"ZOnaaCTgO7DsKtmPjVruOlkvzBY8p6MbkKLjiYLdamBYE\"\n",
    "auth = tweepy.OAuthHandler(consumer_key, consumer_secret)\n",
    "auth.set_access_token(access_token, access_token_secret)\n",
    "api = tweepy.API(auth)"
   ]
  },
  {
   "cell_type": "code",
   "execution_count": 3,
   "metadata": {},
   "outputs": [
    {
     "name": "stdout",
     "output_type": "stream",
     "text": [
      "follower: kimilfung\n",
      "follower: werbond\n",
      "follower: a____capo\n",
      "follower: SalsaConAndrea\n"
     ]
    }
   ],
   "source": [
    "#Mostra i miei follower\n",
    "for user in tweepy.Cursor(api.get_followers, screen_name=\"davide_pstars\").items():\n",
    "  print('follower: ' + user.screen_name)"
   ]
  },
  {
   "cell_type": "code",
   "execution_count": 4,
   "metadata": {},
   "outputs": [
    {
     "name": "stdout",
     "output_type": "stream",
     "text": [
      "friend: reportrai3\n"
     ]
    }
   ],
   "source": [
    "#Mostra chi seguo (amici)\n",
    "#Nel metodo items si può inserire un numero intero, a signifcare il numero di risultati da restituire.\n",
    "for user in tweepy.Cursor(api.get_friends, screen_name=\"@davide_pstars\").items():\n",
    "  print('friend: ' + user.screen_name)"
   ]
  },
  {
   "cell_type": "code",
   "execution_count": 5,
   "metadata": {},
   "outputs": [],
   "source": [
    "# Mostro la mia timeline \n",
    "stuff = api.user_timeline(screen_name = '@davide_pstars', count = 10)"
   ]
  },
  {
   "cell_type": "code",
   "execution_count": 5,
   "metadata": {},
   "outputs": [
    {
     "ename": "IndentationError",
     "evalue": "unindent does not match any outer indentation level (<tokenize>, line 7)",
     "output_type": "error",
     "traceback": [
      "\u001b[1;36m  File \u001b[1;32m\"<tokenize>\"\u001b[1;36m, line \u001b[1;32m7\u001b[0m\n\u001b[1;33m    else: #non è un retweet\u001b[0m\n\u001b[1;37m    ^\u001b[0m\n\u001b[1;31mIndentationError\u001b[0m\u001b[1;31m:\u001b[0m unindent does not match any outer indentation level\n"
     ]
    }
   ],
   "source": [
    "if hasattr(status, \"retweeted_status\"):  # Controlla se è un retweet\n",
    "            try: #prova a mantenere testo intero\n",
    "                text=status.extended_tweet[\"full_text\"] \n",
    "            except AttributeError:\n",
    "                text=status.text\n",
    "            retweet=True\n",
    "        else: #non è un retweet\n",
    "            try: #prova a mantenere testo intero\n",
    "                text=status.extended_tweet[\"full_text\"]\n",
    "            except AttributeError:\n",
    "                text=status.text\n",
    "            retweet=False"
   ]
  },
  {
   "cell_type": "code",
   "execution_count": 11,
   "metadata": {},
   "outputs": [
    {
     "data": {
      "text/html": [
       "<div>\n",
       "<style scoped>\n",
       "    .dataframe tbody tr th:only-of-type {\n",
       "        vertical-align: middle;\n",
       "    }\n",
       "\n",
       "    .dataframe tbody tr th {\n",
       "        vertical-align: top;\n",
       "    }\n",
       "\n",
       "    .dataframe thead th {\n",
       "        text-align: right;\n",
       "    }\n",
       "</style>\n",
       "<table border=\"1\" class=\"dataframe\">\n",
       "  <thead>\n",
       "    <tr style=\"text-align: right;\">\n",
       "      <th></th>\n",
       "      <th>date</th>\n",
       "      <th>id</th>\n",
       "      <th>text</th>\n",
       "      <th>like</th>\n",
       "      <th>n_rt</th>\n",
       "      <th>location</th>\n",
       "      <th>author</th>\n",
       "      <th>retweet</th>\n",
       "    </tr>\n",
       "  </thead>\n",
       "  <tbody>\n",
       "    <tr>\n",
       "      <th>0</th>\n",
       "      <td>2021-12-12 15:01:50+00:00</td>\n",
       "      <td>1470046239836286980</td>\n",
       "      <td>Io a Vero: vorrei un papà come Fedez! Vero: ma...</td>\n",
       "      <td>3</td>\n",
       "      <td>0</td>\n",
       "      <td>San Donà di Piave, Veneto</td>\n",
       "      <td>fedevitale_</td>\n",
       "      <td>False</td>\n",
       "    </tr>\n",
       "    <tr>\n",
       "      <th>1</th>\n",
       "      <td>2021-12-12 15:00:11+00:00</td>\n",
       "      <td>1470045825325678596</td>\n",
       "      <td>Ma quindi oggi #Fedez farà il colloquio ad #Am...</td>\n",
       "      <td>4</td>\n",
       "      <td>0</td>\n",
       "      <td>Milano</td>\n",
       "      <td>MartaZavattoni</td>\n",
       "      <td>False</td>\n",
       "    </tr>\n",
       "    <tr>\n",
       "      <th>2</th>\n",
       "      <td>2021-12-12 14:43:42+00:00</td>\n",
       "      <td>1470041674919419906</td>\n",
       "      <td>@VateGabriele I guerrieri scompariranno e al g...</td>\n",
       "      <td>1</td>\n",
       "      <td>0</td>\n",
       "      <td>INTEGRALISTA ITALIANO</td>\n",
       "      <td>TerrierBullFN</td>\n",
       "      <td>False</td>\n",
       "    </tr>\n",
       "    <tr>\n",
       "      <th>3</th>\n",
       "      <td>2021-12-12 14:09:57+00:00</td>\n",
       "      <td>1470033181441085444</td>\n",
       "      <td>Guè Pequeno contro Fedez e Achille Lauro \"Vedo...</td>\n",
       "      <td>0</td>\n",
       "      <td>0</td>\n",
       "      <td></td>\n",
       "      <td>MondoTV241</td>\n",
       "      <td>False</td>\n",
       "    </tr>\n",
       "    <tr>\n",
       "      <th>4</th>\n",
       "      <td>2021-12-12 13:51:38+00:00</td>\n",
       "      <td>1470028572203102212</td>\n",
       "      <td>RT @rtl1025: 📀 Parte degli incassi di #Disuman...</td>\n",
       "      <td>0</td>\n",
       "      <td>5</td>\n",
       "      <td>Roma, Lazio</td>\n",
       "      <td>rotaruchristina</td>\n",
       "      <td>True</td>\n",
       "    </tr>\n",
       "  </tbody>\n",
       "</table>\n",
       "</div>"
      ],
      "text/plain": [
       "                       date                   id  \\\n",
       "0 2021-12-12 15:01:50+00:00  1470046239836286980   \n",
       "1 2021-12-12 15:00:11+00:00  1470045825325678596   \n",
       "2 2021-12-12 14:43:42+00:00  1470041674919419906   \n",
       "3 2021-12-12 14:09:57+00:00  1470033181441085444   \n",
       "4 2021-12-12 13:51:38+00:00  1470028572203102212   \n",
       "\n",
       "                                                text  like  n_rt  \\\n",
       "0  Io a Vero: vorrei un papà come Fedez! Vero: ma...     3     0   \n",
       "1  Ma quindi oggi #Fedez farà il colloquio ad #Am...     4     0   \n",
       "2  @VateGabriele I guerrieri scompariranno e al g...     1     0   \n",
       "3  Guè Pequeno contro Fedez e Achille Lauro \"Vedo...     0     0   \n",
       "4  RT @rtl1025: 📀 Parte degli incassi di #Disuman...     0     5   \n",
       "\n",
       "                    location           author retweet  \n",
       "0  San Donà di Piave, Veneto      fedevitale_   False  \n",
       "1                     Milano   MartaZavattoni   False  \n",
       "2      INTEGRALISTA ITALIANO    TerrierBullFN   False  \n",
       "3                                  MondoTV241   False  \n",
       "4                Roma, Lazio  rotaruchristina    True  "
      ]
     },
     "execution_count": 11,
     "metadata": {},
     "output_type": "execute_result"
    }
   ],
   "source": [
    "#Scaricare in un dataframe i tweet in base ad un hashtag (until=\"2021-12-21\")\n",
    "hashtag=\"#fedez\"\n",
    "list_tweet=[]\n",
    "for tweet in tweepy.Cursor(api.search_tweets,q=hashtag,count=100,lang=\"it\",until=\"2021-12-16\").items(100):\n",
    "  #print(tweet.text)\n",
    "  #print('')\n",
    "  list_status=np.where(hasattr(tweet, \"retweeted_status\"),True,False)\n",
    "  list_tweet.append([tweet.created_at, tweet.id, tweet.text, \n",
    "                     tweet.favorite_count, tweet.retweet_count, \n",
    "                    tweet.user.location,tweet.user.screen_name,list_status])\n",
    "tweets = pd.DataFrame(list_tweet[1:], \n",
    "                      columns=['date','id','text','like','n_rt','location','author',\"retweet\"])\n",
    "tweets.head()"
   ]
  },
  {
   "cell_type": "code",
   "execution_count": 7,
   "metadata": {},
   "outputs": [
    {
     "data": {
      "text/plain": [
       "array(False)"
      ]
     },
     "execution_count": 7,
     "metadata": {},
     "output_type": "execute_result"
    }
   ],
   "source": [
    "list_status"
   ]
  },
  {
   "cell_type": "code",
   "execution_count": 93,
   "metadata": {},
   "outputs": [],
   "source": [
    "import json"
   ]
  },
  {
   "cell_type": "code",
   "execution_count": 99,
   "metadata": {},
   "outputs": [
    {
     "ename": "TypeError",
     "evalue": "the JSON object must be str, bytes or bytearray, not Status",
     "output_type": "error",
     "traceback": [
      "\u001b[1;31m---------------------------------------------------------------------------\u001b[0m",
      "\u001b[1;31mTypeError\u001b[0m                                 Traceback (most recent call last)",
      "\u001b[1;32m<ipython-input-99-42d1faf169be>\u001b[0m in \u001b[0;36m<module>\u001b[1;34m\u001b[0m\n\u001b[0;32m      1\u001b[0m \u001b[0mb\u001b[0m\u001b[1;33m=\u001b[0m\u001b[1;34m\"1469027313912365062\"\u001b[0m\u001b[1;33m\u001b[0m\u001b[1;33m\u001b[0m\u001b[0m\n\u001b[0;32m      2\u001b[0m \u001b[1;33m\u001b[0m\u001b[0m\n\u001b[1;32m----> 3\u001b[1;33m \u001b[0mdata\u001b[0m \u001b[1;33m=\u001b[0m \u001b[0mjson\u001b[0m\u001b[1;33m.\u001b[0m\u001b[0mloads\u001b[0m\u001b[1;33m(\u001b[0m\u001b[0mapi\u001b[0m\u001b[1;33m.\u001b[0m\u001b[0mget_status\u001b[0m\u001b[1;33m(\u001b[0m\u001b[0mb\u001b[0m\u001b[1;33m)\u001b[0m\u001b[1;33m)\u001b[0m\u001b[1;33m\u001b[0m\u001b[1;33m\u001b[0m\u001b[0m\n\u001b[0m",
      "\u001b[1;32mC:\\ProgramData\\Anaconda3\\lib\\json\\__init__.py\u001b[0m in \u001b[0;36mloads\u001b[1;34m(s, cls, object_hook, parse_float, parse_int, parse_constant, object_pairs_hook, **kw)\u001b[0m\n\u001b[0;32m    339\u001b[0m     \u001b[1;32melse\u001b[0m\u001b[1;33m:\u001b[0m\u001b[1;33m\u001b[0m\u001b[1;33m\u001b[0m\u001b[0m\n\u001b[0;32m    340\u001b[0m         \u001b[1;32mif\u001b[0m \u001b[1;32mnot\u001b[0m \u001b[0misinstance\u001b[0m\u001b[1;33m(\u001b[0m\u001b[0ms\u001b[0m\u001b[1;33m,\u001b[0m \u001b[1;33m(\u001b[0m\u001b[0mbytes\u001b[0m\u001b[1;33m,\u001b[0m \u001b[0mbytearray\u001b[0m\u001b[1;33m)\u001b[0m\u001b[1;33m)\u001b[0m\u001b[1;33m:\u001b[0m\u001b[1;33m\u001b[0m\u001b[1;33m\u001b[0m\u001b[0m\n\u001b[1;32m--> 341\u001b[1;33m             raise TypeError(f'the JSON object must be str, bytes or bytearray, '\n\u001b[0m\u001b[0;32m    342\u001b[0m                             f'not {s.__class__.__name__}')\n\u001b[0;32m    343\u001b[0m         \u001b[0ms\u001b[0m \u001b[1;33m=\u001b[0m \u001b[0ms\u001b[0m\u001b[1;33m.\u001b[0m\u001b[0mdecode\u001b[0m\u001b[1;33m(\u001b[0m\u001b[0mdetect_encoding\u001b[0m\u001b[1;33m(\u001b[0m\u001b[0ms\u001b[0m\u001b[1;33m)\u001b[0m\u001b[1;33m,\u001b[0m \u001b[1;34m'surrogatepass'\u001b[0m\u001b[1;33m)\u001b[0m\u001b[1;33m\u001b[0m\u001b[1;33m\u001b[0m\u001b[0m\n",
      "\u001b[1;31mTypeError\u001b[0m: the JSON object must be str, bytes or bytearray, not Status"
     ]
    }
   ],
   "source": [
    "b=\"1469027313912365062\"\n",
    "api.get_status(b)\n",
    "data = json.loads(json_string)"
   ]
  }
 ],
 "metadata": {
  "interpreter": {
   "hash": "b3ba2566441a7c06988d0923437866b63cedc61552a5af99d1f4fb67d367b25f"
  },
  "kernelspec": {
   "display_name": "Python 3.8.5 64-bit ('base': conda)",
   "language": "python",
   "name": "python3"
  },
  "language_info": {
   "codemirror_mode": {
    "name": "ipython",
    "version": 3
   },
   "file_extension": ".py",
   "mimetype": "text/x-python",
   "name": "python",
   "nbconvert_exporter": "python",
   "pygments_lexer": "ipython3",
   "version": "3.8.5"
  },
  "orig_nbformat": 4
 },
 "nbformat": 4,
 "nbformat_minor": 2
}
