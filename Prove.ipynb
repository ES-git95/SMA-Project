{
 "cells": [
  {
   "cell_type": "code",
   "execution_count": 4,
   "metadata": {},
   "outputs": [],
   "source": [
    "#Caricare le librerie\n",
    "import tweepy\n",
    "import pandas as pd\n",
    "import numpy as np\n",
    "import re\n"
   ]
  },
  {
   "cell_type": "code",
   "execution_count": 2,
   "metadata": {},
   "outputs": [],
   "source": [
    "consumer_key= \"rrR0Znz98oKkjfB8b72oLH9Qc\"\n",
    "consumer_secret= \"m7iOPX6iW8R3IalRf7x56YVeIb18o3I1bhUftg8JzlQ6fAjLgW\"\n",
    "access_token= \"1442250607-3cJYKYyh7Ae19nMcv5YoxOIB2XlvgVX0ROaDSJx\"\n",
    "access_token_secret= \"ZOnaaCTgO7DsKtmPjVruOlkvzBY8p6MbkKLjiYLdamBYE\"\n",
    "auth = tweepy.OAuthHandler(consumer_key, consumer_secret)\n",
    "auth.set_access_token(access_token, access_token_secret)\n",
    "api = tweepy.API(auth)"
   ]
  },
  {
   "cell_type": "code",
   "execution_count": 5,
   "metadata": {},
   "outputs": [
    {
     "name": "stdout",
     "output_type": "stream",
     "text": [
      "follower: kimilfung\n",
      "follower: werbond\n",
      "follower: a____capo\n",
      "follower: SalsaConAndrea\n"
     ]
    }
   ],
   "source": [
    "#Mostra i miei follower\n",
    "for user in tweepy.Cursor(api.get_followers, screen_name=\"davide_pstars\").items():\n",
    "  print('follower: ' + user.screen_name)"
   ]
  },
  {
   "cell_type": "code",
   "execution_count": 6,
   "metadata": {},
   "outputs": [
    {
     "name": "stdout",
     "output_type": "stream",
     "text": [
      "friend: reportrai3\n"
     ]
    }
   ],
   "source": [
    "#Mostra chi seguo (amici)\n",
    "#Nel metodo items si può inserire un numero intero, a signifcare il numero di risultati da restituire.\n",
    "for user in tweepy.Cursor(api.get_friends, screen_name=\"@davide_pstars\").items():\n",
    "  print('friend: ' + user.screen_name)"
   ]
  },
  {
   "cell_type": "code",
   "execution_count": 7,
   "metadata": {},
   "outputs": [],
   "source": [
    "# Mostro la mia timeline \n",
    "stuff = api.user_timeline(screen_name = '@davide_pstars', count = 10)"
   ]
  },
  {
   "cell_type": "code",
   "execution_count": 137,
   "metadata": {},
   "outputs": [
    {
     "data": {
      "text/html": [
       "<div>\n",
       "<style scoped>\n",
       "    .dataframe tbody tr th:only-of-type {\n",
       "        vertical-align: middle;\n",
       "    }\n",
       "\n",
       "    .dataframe tbody tr th {\n",
       "        vertical-align: top;\n",
       "    }\n",
       "\n",
       "    .dataframe thead th {\n",
       "        text-align: right;\n",
       "    }\n",
       "</style>\n",
       "<table border=\"1\" class=\"dataframe\">\n",
       "  <thead>\n",
       "    <tr style=\"text-align: right;\">\n",
       "      <th></th>\n",
       "      <th>date</th>\n",
       "      <th>id</th>\n",
       "      <th>text</th>\n",
       "      <th>like</th>\n",
       "      <th>n_rt</th>\n",
       "      <th>location</th>\n",
       "      <th>author</th>\n",
       "      <th>retweet</th>\n",
       "      <th>reply_name</th>\n",
       "      <th>retwitted_author</th>\n",
       "    </tr>\n",
       "  </thead>\n",
       "  <tbody>\n",
       "    <tr>\n",
       "      <th>0</th>\n",
       "      <td>2021-12-18 23:10:47+00:00</td>\n",
       "      <td>1472343616978931712</td>\n",
       "      <td>#FEDEZ salta sul divano come il tizio saltava ...</td>\n",
       "      <td>0</td>\n",
       "      <td>0</td>\n",
       "      <td></td>\n",
       "      <td>LiaCharlie1</td>\n",
       "      <td>False</td>\n",
       "      <td>None</td>\n",
       "      <td>None</td>\n",
       "    </tr>\n",
       "    <tr>\n",
       "      <th>1</th>\n",
       "      <td>2021-12-18 22:57:00+00:00</td>\n",
       "      <td>1472340146846638080</td>\n",
       "      <td>Chiara Ferragni e Fedez la reazione alla forte...</td>\n",
       "      <td>0</td>\n",
       "      <td>0</td>\n",
       "      <td>Italia</td>\n",
       "      <td>zazoomblog</td>\n",
       "      <td>False</td>\n",
       "      <td>None</td>\n",
       "      <td>None</td>\n",
       "    </tr>\n",
       "    <tr>\n",
       "      <th>2</th>\n",
       "      <td>2021-12-18 22:46:32+00:00</td>\n",
       "      <td>1472337513171886082</td>\n",
       "      <td>RT @Lanternaweb: Alcuni soggetti non hanno pro...</td>\n",
       "      <td>0</td>\n",
       "      <td>1</td>\n",
       "      <td>Lazio, Italia</td>\n",
       "      <td>AleVerrelli</td>\n",
       "      <td>True</td>\n",
       "      <td>None</td>\n",
       "      <td>Lanternaweb</td>\n",
       "    </tr>\n",
       "    <tr>\n",
       "      <th>3</th>\n",
       "      <td>2021-12-18 22:20:46+00:00</td>\n",
       "      <td>1472331028148768775</td>\n",
       "      <td>La cosa più interessante de #TheFerragnezLaSer...</td>\n",
       "      <td>10</td>\n",
       "      <td>0</td>\n",
       "      <td>Roma</td>\n",
       "      <td>FabrizioDelpret</td>\n",
       "      <td>False</td>\n",
       "      <td>None</td>\n",
       "      <td>None</td>\n",
       "    </tr>\n",
       "    <tr>\n",
       "      <th>4</th>\n",
       "      <td>2021-12-18 22:17:23+00:00</td>\n",
       "      <td>1472330177795530755</td>\n",
       "      <td>Io voglio Leone fotografo ufficiale della nost...</td>\n",
       "      <td>0</td>\n",
       "      <td>0</td>\n",
       "      <td>Bari, Puglia</td>\n",
       "      <td>francescomusto_</td>\n",
       "      <td>False</td>\n",
       "      <td>None</td>\n",
       "      <td>None</td>\n",
       "    </tr>\n",
       "  </tbody>\n",
       "</table>\n",
       "</div>"
      ],
      "text/plain": [
       "                       date                   id  \\\n",
       "0 2021-12-18 23:10:47+00:00  1472343616978931712   \n",
       "1 2021-12-18 22:57:00+00:00  1472340146846638080   \n",
       "2 2021-12-18 22:46:32+00:00  1472337513171886082   \n",
       "3 2021-12-18 22:20:46+00:00  1472331028148768775   \n",
       "4 2021-12-18 22:17:23+00:00  1472330177795530755   \n",
       "\n",
       "                                                text  like  n_rt  \\\n",
       "0  #FEDEZ salta sul divano come il tizio saltava ...     0     0   \n",
       "1  Chiara Ferragni e Fedez la reazione alla forte...     0     0   \n",
       "2  RT @Lanternaweb: Alcuni soggetti non hanno pro...     0     1   \n",
       "3  La cosa più interessante de #TheFerragnezLaSer...    10     0   \n",
       "4  Io voglio Leone fotografo ufficiale della nost...     0     0   \n",
       "\n",
       "        location           author  retweet reply_name retwitted_author  \n",
       "0                     LiaCharlie1    False       None             None  \n",
       "1         Italia       zazoomblog    False       None             None  \n",
       "2  Lazio, Italia      AleVerrelli     True       None      Lanternaweb  \n",
       "3           Roma  FabrizioDelpret    False       None             None  \n",
       "4   Bari, Puglia  francescomusto_    False       None             None  "
      ]
     },
     "execution_count": 137,
     "metadata": {},
     "output_type": "execute_result"
    }
   ],
   "source": [
    "#Scaricare in un dataframe i tweet in base ad un hashtag (until=\"2021-12-21\")\n",
    "#NB: hasattr(obj, name, /) Return whether the object has an attribute with the given name.\n",
    "hashtag=\"#fedez\"\n",
    "list_tweet=[]\n",
    "list_originals=[]\n",
    "n=100\n",
    "for tweet in tweepy.Cursor(api.search_tweets,q=hashtag,count=100,lang=\"it\").items(n):\n",
    "  #print(tweet.text)\n",
    "  #print('')\n",
    "  try:\n",
    "    list_originals.append(tweet.retweeted_status.user.screen_name)\n",
    "  except:\n",
    "    list_originals.append(None)\n",
    "  list_tweet.append([tweet.created_at, tweet.id, tweet.text, \n",
    "                     tweet.favorite_count, tweet.retweet_count, \n",
    "                     tweet.user.location,tweet.user.screen_name,\n",
    "                     hasattr(tweet, \"retweeted_status\"),\n",
    "                     tweet.in_reply_to_screen_name])\n",
    "tweets = pd.DataFrame(list_tweet[1:], \n",
    "                      columns=['date','id','text','like','n_rt','location','author',\n",
    "                               \"retweet\",\"reply_name\"])\n",
    "tweets[\"retwitted_author\"]=list_originals[1:]\n",
    "tweets.head()"
   ]
  }
 ],
 "metadata": {
  "interpreter": {
   "hash": "b3ba2566441a7c06988d0923437866b63cedc61552a5af99d1f4fb67d367b25f"
  },
  "kernelspec": {
   "display_name": "Python 3.8.5 64-bit ('base': conda)",
   "language": "python",
   "name": "python3"
  },
  "language_info": {
   "codemirror_mode": {
    "name": "ipython",
    "version": 3
   },
   "file_extension": ".py",
   "mimetype": "text/x-python",
   "name": "python",
   "nbconvert_exporter": "python",
   "pygments_lexer": "ipython3",
   "version": "3.8.5"
  },
  "orig_nbformat": 4
 },
 "nbformat": 4,
 "nbformat_minor": 2
}
