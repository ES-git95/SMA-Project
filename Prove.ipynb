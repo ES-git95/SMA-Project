{
 "cells": [
  {
   "cell_type": "code",
   "execution_count": 4,
   "metadata": {},
   "outputs": [],
   "source": [
    "#Caricare le librerie\n",
    "import tweepy\n",
    "import pandas as pd\n",
    "import numpy as np\n",
    "import re\n"
   ]
  },
  {
   "cell_type": "code",
   "execution_count": 2,
   "metadata": {},
   "outputs": [],
   "source": [
    "consumer_key= \"rrR0Znz98oKkjfB8b72oLH9Qc\"\n",
    "consumer_secret= \"m7iOPX6iW8R3IalRf7x56YVeIb18o3I1bhUftg8JzlQ6fAjLgW\"\n",
    "access_token= \"1442250607-3cJYKYyh7Ae19nMcv5YoxOIB2XlvgVX0ROaDSJx\"\n",
    "access_token_secret= \"ZOnaaCTgO7DsKtmPjVruOlkvzBY8p6MbkKLjiYLdamBYE\"\n",
    "auth = tweepy.OAuthHandler(consumer_key, consumer_secret)\n",
    "auth.set_access_token(access_token, access_token_secret)\n",
    "api = tweepy.API(auth)"
   ]
  },
  {
   "cell_type": "code",
   "execution_count": 5,
   "metadata": {},
   "outputs": [
    {
     "name": "stdout",
     "output_type": "stream",
     "text": [
      "follower: kimilfung\n",
      "follower: werbond\n",
      "follower: a____capo\n",
      "follower: SalsaConAndrea\n"
     ]
    }
   ],
   "source": [
    "#Mostra i miei follower\n",
    "for user in tweepy.Cursor(api.get_followers, screen_name=\"davide_pstars\").items():\n",
    "  print('follower: ' + user.screen_name)"
   ]
  },
  {
   "cell_type": "code",
   "execution_count": 6,
   "metadata": {},
   "outputs": [
    {
     "name": "stdout",
     "output_type": "stream",
     "text": [
      "friend: reportrai3\n"
     ]
    }
   ],
   "source": [
    "#Mostra chi seguo (amici)\n",
    "#Nel metodo items si può inserire un numero intero, a signifcare il numero di risultati da restituire.\n",
    "for user in tweepy.Cursor(api.get_friends, screen_name=\"@davide_pstars\").items():\n",
    "  print('friend: ' + user.screen_name)"
   ]
  },
  {
   "cell_type": "code",
   "execution_count": 7,
   "metadata": {},
   "outputs": [],
   "source": [
    "# Mostro la mia timeline \n",
    "stuff = api.user_timeline(screen_name = '@davide_pstars', count = 10)"
   ]
  },
  {
   "cell_type": "code",
   "execution_count": 5,
   "metadata": {},
   "outputs": [
    {
     "data": {
      "text/html": [
       "<div>\n",
       "<style scoped>\n",
       "    .dataframe tbody tr th:only-of-type {\n",
       "        vertical-align: middle;\n",
       "    }\n",
       "\n",
       "    .dataframe tbody tr th {\n",
       "        vertical-align: top;\n",
       "    }\n",
       "\n",
       "    .dataframe thead th {\n",
       "        text-align: right;\n",
       "    }\n",
       "</style>\n",
       "<table border=\"1\" class=\"dataframe\">\n",
       "  <thead>\n",
       "    <tr style=\"text-align: right;\">\n",
       "      <th></th>\n",
       "      <th>date</th>\n",
       "      <th>id</th>\n",
       "      <th>text</th>\n",
       "      <th>like</th>\n",
       "      <th>n_rt</th>\n",
       "      <th>location</th>\n",
       "      <th>author</th>\n",
       "      <th>retweet</th>\n",
       "    </tr>\n",
       "  </thead>\n",
       "  <tbody>\n",
       "    <tr>\n",
       "      <th>0</th>\n",
       "      <td>2021-12-18 21:20:40+00:00</td>\n",
       "      <td>1472315904230924296</td>\n",
       "      <td>RT @rtl1025: 📌 Anche #Fedez e #ChiaraFerragni,...</td>\n",
       "      <td>0</td>\n",
       "      <td>4</td>\n",
       "      <td></td>\n",
       "      <td>Bianca34874951</td>\n",
       "      <td>True</td>\n",
       "    </tr>\n",
       "    <tr>\n",
       "      <th>1</th>\n",
       "      <td>2021-12-18 21:14:28+00:00</td>\n",
       "      <td>1472314343358443530</td>\n",
       "      <td>Quando vuoi passare per furba, ma ti dimostri ...</td>\n",
       "      <td>0</td>\n",
       "      <td>0</td>\n",
       "      <td></td>\n",
       "      <td>ElisabettaZano7</td>\n",
       "      <td>False</td>\n",
       "    </tr>\n",
       "    <tr>\n",
       "      <th>2</th>\n",
       "      <td>2021-12-18 21:12:50+00:00</td>\n",
       "      <td>1472313933004423175</td>\n",
       "      <td>@Fedez: Ci ritroveremo sempre qua.\\nChiara che...</td>\n",
       "      <td>0</td>\n",
       "      <td>0</td>\n",
       "      <td></td>\n",
       "      <td>Vera220302</td>\n",
       "      <td>False</td>\n",
       "    </tr>\n",
       "    <tr>\n",
       "      <th>3</th>\n",
       "      <td>2021-12-18 20:59:51+00:00</td>\n",
       "      <td>1472310666824400896</td>\n",
       "      <td>@redazionerumors Ovvio, ha il delirio di onnip...</td>\n",
       "      <td>0</td>\n",
       "      <td>0</td>\n",
       "      <td></td>\n",
       "      <td>ElisabettaZano7</td>\n",
       "      <td>False</td>\n",
       "    </tr>\n",
       "    <tr>\n",
       "      <th>4</th>\n",
       "      <td>2021-12-18 20:49:45+00:00</td>\n",
       "      <td>1472308122865881088</td>\n",
       "      <td>RT @IlContiAndrea: E comunque la nonna di #Fed...</td>\n",
       "      <td>0</td>\n",
       "      <td>4</td>\n",
       "      <td>Italy , Rome</td>\n",
       "      <td>flamanc24</td>\n",
       "      <td>True</td>\n",
       "    </tr>\n",
       "  </tbody>\n",
       "</table>\n",
       "</div>"
      ],
      "text/plain": [
       "                       date                   id  \\\n",
       "0 2021-12-18 21:20:40+00:00  1472315904230924296   \n",
       "1 2021-12-18 21:14:28+00:00  1472314343358443530   \n",
       "2 2021-12-18 21:12:50+00:00  1472313933004423175   \n",
       "3 2021-12-18 20:59:51+00:00  1472310666824400896   \n",
       "4 2021-12-18 20:49:45+00:00  1472308122865881088   \n",
       "\n",
       "                                                text  like  n_rt  \\\n",
       "0  RT @rtl1025: 📌 Anche #Fedez e #ChiaraFerragni,...     0     4   \n",
       "1  Quando vuoi passare per furba, ma ti dimostri ...     0     0   \n",
       "2  @Fedez: Ci ritroveremo sempre qua.\\nChiara che...     0     0   \n",
       "3  @redazionerumors Ovvio, ha il delirio di onnip...     0     0   \n",
       "4  RT @IlContiAndrea: E comunque la nonna di #Fed...     0     4   \n",
       "\n",
       "       location           author retweet  \n",
       "0                 Bianca34874951    True  \n",
       "1                ElisabettaZano7   False  \n",
       "2                     Vera220302   False  \n",
       "3                ElisabettaZano7   False  \n",
       "4  Italy , Rome        flamanc24    True  "
      ]
     },
     "execution_count": 5,
     "metadata": {},
     "output_type": "execute_result"
    }
   ],
   "source": [
    "#Scaricare in un dataframe i tweet in base ad un hashtag (until=\"2021-12-21\")\n",
    "hashtag=\"#fedez\"\n",
    "list_tweet=[]\n",
    "for tweet in tweepy.Cursor(api.search_tweets,q=hashtag,count=100,lang=\"it\").items(100):\n",
    "  #print(tweet.text)\n",
    "  #print('')\n",
    "  list_status=np.where(hasattr(tweet, \"retweeted_status\"),True,False)\n",
    "  list_tweet.append([tweet.created_at, tweet.id, tweet.text, \n",
    "                     tweet.favorite_count, tweet.retweet_count, \n",
    "                    tweet.user.location,tweet.user.screen_name,list_status])\n",
    "  \n",
    "tweets = pd.DataFrame(list_tweet[1:], \n",
    "                      columns=['date','id','text','like','n_rt','location','author',\"retweet\"])\n",
    "tweets.head()"
   ]
  },
  {
   "cell_type": "code",
   "execution_count": 77,
   "metadata": {},
   "outputs": [
    {
     "name": "stdout",
     "output_type": "stream",
     "text": [
      "Object `remove` not found.\n"
     ]
    }
   ],
   "source": []
  },
  {
   "cell_type": "code",
   "execution_count": null,
   "metadata": {},
   "outputs": [],
   "source": []
  }
 ],
 "metadata": {
  "interpreter": {
   "hash": "b3ba2566441a7c06988d0923437866b63cedc61552a5af99d1f4fb67d367b25f"
  },
  "kernelspec": {
   "display_name": "Python 3.8.5 64-bit ('base': conda)",
   "language": "python",
   "name": "python3"
  },
  "language_info": {
   "codemirror_mode": {
    "name": "ipython",
    "version": 3
   },
   "file_extension": ".py",
   "mimetype": "text/x-python",
   "name": "python",
   "nbconvert_exporter": "python",
   "pygments_lexer": "ipython3",
   "version": "3.8.5"
  },
  "orig_nbformat": 4
 },
 "nbformat": 4,
 "nbformat_minor": 2
}
