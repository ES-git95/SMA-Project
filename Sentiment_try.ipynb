{
 "cells": [
  {
   "cell_type": "code",
   "execution_count": 3,
   "metadata": {},
   "outputs": [],
   "source": [
    "import pandas as pd\n",
    "from nltk.corpus import stopwords\n",
    "from wordcloud import WordCloud, STOPWORDS\n",
    "import spacy\n",
    "import re\n",
    "\n",
    "retweeted=pd.read_csv('retweeted.csv')"
   ]
  },
  {
   "cell_type": "code",
   "execution_count": 4,
   "metadata": {},
   "outputs": [
    {
     "name": "stderr",
     "output_type": "stream",
     "text": [
      "C:\\Users\\Eric\\AppData\\Local\\Temp/ipykernel_17760/3555625496.py:21: FutureWarning: The default value of regex will change from True to False in a future version.\n",
      "  retweeted['text_preprocessed'] = retweeted['text_preprocessed'].str.replace('[^\\w\\s]',' ')\n",
      "C:\\Users\\Eric\\AppData\\Local\\Temp/ipykernel_17760/3555625496.py:36: SettingWithCopyWarning: \n",
      "A value is trying to be set on a copy of a slice from a DataFrame\n",
      "\n",
      "See the caveats in the documentation: https://pandas.pydata.org/pandas-docs/stable/user_guide/indexing.html#returning-a-view-versus-a-copy\n",
      "  retweeted['text_preprocessed_new'][i]=result\n"
     ]
    }
   ],
   "source": [
    "nlp = spacy.load('it_core_news_lg') #, disable=['parser', 'ner'])\n",
    "#lowercase\n",
    "retweeted['text_preprocessed']=retweeted['text_complete'].apply(lambda x: \" \".join(x.lower() for x in x.split()))\n",
    "from nltk.corpus import stopwords\n",
    "from wordcloud import WordCloud, STOPWORDS\n",
    "\n",
    "#pulizia da simboli\n",
    "new_text=[]\n",
    "for index,row in retweeted.iterrows():\n",
    "    l1=[ t for t in row['text_preprocessed'].split() if t.startswith('#') ]\n",
    "    l2=[ t for t in row['text_preprocessed'].split() if t.startswith('http') ]\n",
    "    l3=[ t for t in row['text_preprocessed'].split() if t.startswith('@') ]\n",
    "    stopword=l1+l2+l3\n",
    "    querywords=row['text_preprocessed'].split()\n",
    "    resultwords=[word for word in querywords if word.lower() not in stopword]\n",
    "    result = ' '.join(resultwords)\n",
    "    new_text.append(result)\n",
    "\n",
    "retweeted['text_preprocessed']=new_text\n",
    "#vengono cancellati tutti i termini che non sono alfanumerici o che non corrispondono a spazi vuoti\n",
    "retweeted['text_preprocessed'] = retweeted['text_preprocessed'].str.replace('[^\\w\\s]',' ')\n",
    "\n",
    "stop = stopwords.words('italian')\n",
    "\n",
    "#rimozione caratteri speciali, stopwords, hyperlink, punteggiatura\n",
    "retweeted['text_preprocessed_new']=' '\n",
    "\n",
    "for i in range(0,len(retweeted.text_preprocessed)):\n",
    "    l1=[ t for t in retweeted['text_preprocessed'][i].split() if t.startswith('http') ]\n",
    "    stopword=l1+stop\n",
    "    querywords=retweeted['text_preprocessed'][i].split()\n",
    "    resultwords=[word for word in querywords if word.lower() not in stopword]\n",
    "    result = ' '.join(resultwords)\n",
    "    result=result.replace('[^\\w\\s]','')\n",
    "    result=result.translate ({ord(c): \"\" for c in \"!@#$%^&*()[]{};:,./<>?\\|`~-=_+\"})\n",
    "    retweeted['text_preprocessed_new'][i]=result\n",
    "\n",
    "#applicazione per lemmatization con spacy\n",
    "def space(comment):\n",
    "    doc = nlp(comment)\n",
    "    return \" \".join([token.lemma_ for token in doc])\n",
    "\n",
    "retweeted['text_preprocessed_new']= retweeted['text_preprocessed_new'].apply(space)\n",
    "\n"
   ]
  },
  {
   "cell_type": "code",
   "execution_count": null,
   "metadata": {},
   "outputs": [],
   "source": [
    "#preparazione del lexicon\n",
    "sentix=pd.read_csv(\"sentix.csv\", header=None,delimiter=';')\n",
    "\n",
    "#riscaliamo i valori della sentiment come i precedenti valori del lexicon vader\n",
    "#consideriamo valori estremi di vader lexicon -4 e +4\n",
    "#consideriamo valori estremi di sentix lexicon -1 e +1\n",
    "\n",
    "with open(\"sentix.txt\",'w',encoding=\"utf-8\") as txt_file:\n",
    "    for index,line in sentix.iterrows():\n",
    "        scaled_score=(((float(line[5]) + 1)/2)*(8))-4\n",
    "        txt_file.write(str(line[0])+'\\t'+str(scaled_score)+'\\n')\n",
    "\n",
    "#creo un dizionario per updatare il lexicon nltk di vader\n",
    "d= dict([(parola,score) for parola, score in zip(sentix[0],sentix[5])])\n",
    "sentix_dict=d\n",
    "\n",
    "\n",
    "#arricchimento vader lexicon per multi-vader\n",
    "with open('lexicon_vader_enriched.txt','w',encoding=\"utf-8\") as newfile:\n",
    "    with open('vader_lexicon.txt') as vader_file:\n",
    "        for line in vader_file:\n",
    "            newfile.write(line)\n",
    "    with open('sentix.txt',encoding=\"utf-8\") as sentix_file:\n",
    "        for line in sentix_file:\n",
    "            newfile.write(line)\n",
    "#Algoritmo nltk"
   ]
  },
  {
   "cell_type": "code",
   "execution_count": 4,
   "metadata": {},
   "outputs": [
    {
     "ename": "NameError",
     "evalue": "name 'sentix_dict' is not defined",
     "output_type": "error",
     "traceback": [
      "\u001b[1;31m---------------------------------------------------------------------------\u001b[0m",
      "\u001b[1;31mNameError\u001b[0m                                 Traceback (most recent call last)",
      "\u001b[1;32m~\\AppData\\Local\\Temp/ipykernel_15920/1270839655.py\u001b[0m in \u001b[0;36m<module>\u001b[1;34m\u001b[0m\n\u001b[0;32m      3\u001b[0m \u001b[0mAnalyzer\u001b[0m \u001b[1;33m=\u001b[0m \u001b[0mvader\u001b[0m\u001b[1;33m.\u001b[0m\u001b[0mSentimentIntensityAnalyzer\u001b[0m\u001b[1;33m(\u001b[0m\u001b[1;33m)\u001b[0m\u001b[1;33m\u001b[0m\u001b[1;33m\u001b[0m\u001b[0m\n\u001b[0;32m      4\u001b[0m \u001b[1;33m\u001b[0m\u001b[0m\n\u001b[1;32m----> 5\u001b[1;33m \u001b[0mAnalyzer\u001b[0m\u001b[1;33m.\u001b[0m\u001b[0mlexicon\u001b[0m\u001b[1;33m.\u001b[0m\u001b[0mupdate\u001b[0m\u001b[1;33m(\u001b[0m\u001b[0msentix_dict\u001b[0m\u001b[1;33m)\u001b[0m\u001b[1;33m\u001b[0m\u001b[1;33m\u001b[0m\u001b[0m\n\u001b[0m\u001b[0;32m      6\u001b[0m \u001b[1;31m#vader-multi\u001b[0m\u001b[1;33m\u001b[0m\u001b[1;33m\u001b[0m\u001b[1;33m\u001b[0m\u001b[0m\n\u001b[0;32m      7\u001b[0m \u001b[1;32mfrom\u001b[0m \u001b[0mvaderSentiment\u001b[0m \u001b[1;32mimport\u001b[0m \u001b[0mvaderSentiment\u001b[0m\u001b[1;33m\u001b[0m\u001b[1;33m\u001b[0m\u001b[0m\n",
      "\u001b[1;31mNameError\u001b[0m: name 'sentix_dict' is not defined"
     ]
    }
   ],
   "source": [
    "from nltk.sentiment import vader\n",
    "\n",
    "Analyzer = vader.SentimentIntensityAnalyzer()\n",
    "\n",
    "Analyzer.lexicon.update(sentix_dict)\n",
    "#vader-multi\n",
    "from vaderSentiment import vaderSentiment\n",
    "\n",
    "#non facciamo pulizia del testo sulle emojii\n",
    "analyzer = vaderSentiment.SentimentIntensityAnalyzer(lexicon_file='lexicon_vader_enriched.txt',emoji_lexicon='emoji_utf8_lexicon.txt')\n",
    "\n",
    "#il termine \"positivo\" è stato modificato associandolo a un sentiment negativo\n",
    "#il termine \"negativo\" è associato a un sentiment neutro\n",
    "\n",
    "#vader\n",
    "from vader_sentiment.vader_sentiment import SentimentIntensityAnalyzer\n",
    "analyzer2=SentimentIntensityAnalyzer(lexicon_file='sentix.txt',emoji_lexicon='emoji_utf8_lexicon.txt')\n",
    "#varie prove di confronto tra i 3 algoritmi"
   ]
  },
  {
   "cell_type": "code",
   "execution_count": 5,
   "metadata": {},
   "outputs": [],
   "source": [
    "from vaderSentiment import vaderSentiment\n",
    "\n",
    "#non facciamo pulizia del testo sulle emojii\n",
    "analyzer = vaderSentiment.SentimentIntensityAnalyzer(lexicon_file='lexicon_vader_enriched.txt',emoji_lexicon='emoji_utf8_lexicon.txt')"
   ]
  },
  {
   "cell_type": "code",
   "execution_count": null,
   "metadata": {},
   "outputs": [],
   "source": [
    "testo=retweeted['text_preprocessed'][16]\n",
    "#testo='positivo'\n",
    "\n",
    "print(testo)\n",
    "print('\\n')\n",
    "print('NLTK: ',Analyzer.polarity_scores(testo))\n",
    "print('VADER-MULTI: ', analyzer.polarity_scores(testo)) #algoritmo migliore\n",
    "print('VADER: ', analyzer2.polarity_scores(testo))\n"
   ]
  },
  {
   "cell_type": "code",
   "execution_count": 101,
   "metadata": {},
   "outputs": [],
   "source": [
    "index_list=list(retweeted[retweeted.sentiment==0.0].index)"
   ]
  },
  {
   "cell_type": "code",
   "execution_count": 102,
   "metadata": {},
   "outputs": [
    {
     "data": {
      "text/plain": [
       "94"
      ]
     },
     "execution_count": 102,
     "metadata": {},
     "output_type": "execute_result"
    }
   ],
   "source": [
    "len(index_list)"
   ]
  },
  {
   "cell_type": "code",
   "execution_count": 100,
   "metadata": {},
   "outputs": [
    {
     "name": "stdout",
     "output_type": "stream",
     "text": [
      "exception handled, iteration reached:  428\n",
      "exception:  HTTP Error 429: Too Many Requests\n"
     ]
    }
   ],
   "source": [
    "#retweeted=retweeted.reset_index(drop=True)\n",
    "#retweeted['sentiment']=0.0\n",
    "\n",
    "for index in index_list:\n",
    "    if index > 337 :\n",
    "        try:\n",
    "            retweeted.at[index,'sentiment']=analyzer.polarity_scores(retweeted.loc[index,'text_preprocessed'])['compound']\n",
    "        except Exception as e:\n",
    "            print('exception handled, iteration reached: ',index)\n",
    "            print('exception: ',e)\n",
    "            break"
   ]
  },
  {
   "cell_type": "code",
   "execution_count": 103,
   "metadata": {},
   "outputs": [],
   "source": [
    "retweeted.to_csv('retweeted_sentiment.csv')"
   ]
  },
  {
   "cell_type": "code",
   "execution_count": 7,
   "metadata": {},
   "outputs": [],
   "source": [
    "def deEmojify(text):\n",
    "    regrex_pattern = re.compile(pattern = \"[\"\n",
    "        u\"\\U0001F600-\\U0001F64F\"  # emoticons\n",
    "        u\"\\U0001F300-\\U0001F5FF\"  # symbols & pictographs\n",
    "        u\"\\U0001F680-\\U0001F6FF\"  # transport & map symbols\n",
    "        u\"\\U0001F1E0-\\U0001F1FF\"  # flags (iOS)\n",
    "                           \"]+\", flags = re.UNICODE)\n",
    "    return regrex_pattern.sub(r'',text)\n"
   ]
  },
  {
   "cell_type": "code",
   "execution_count": null,
   "metadata": {},
   "outputs": [],
   "source": [
    "no_vax=retweeted[(retweeted.colours_y==0) | (retweeted.colours_y==2)]['text_preprocessed_new']\n",
    "pro_vax=retweeted[(retweeted.colours_y==1)]['text_preprocessed_new']\n",
    "\n",
    "#creazione lista novax provax\n",
    "listone_novax=' '.join(no_vax)\n",
    "listone_provax=' '.join(pro_vax)\n",
    "\n",
    "listone_novax= deEmojify(listone_novax)\n",
    "listone_provax= deEmojify(listone_provax)\n",
    "\n",
    "#creazione wordcloud con calibrazione dei parametri\n",
    "wordcloud_novax = WordCloud(width = 2000, height = 1000, random_state=1, prefer_horizontal=1,\n",
    "                              background_color='white', colormap='Set2', \n",
    "                              collocations=False,max_words=75,relative_scaling=0.5,\n",
    "                              stopwords=['potere','essere','dovere','ogni','tre','poi','cè','me','qui','lamore','volere','fare','cosa','stare','l','e','mai','così','tutto','ciò','avere','molto','anno','tanto','quindi','grazia','dire','solo','andare','giorno','te','prendere','vaccinare','nn','gg','dm','dose','quando','già']).generate(listone_novax)\n",
    "\n",
    "wordcloud_provax = WordCloud(width = 2000, height = 1000, random_state=1, prefer_horizontal=1,\n",
    "                               background_color='white', colormap='Set2',\n",
    "                               collocations=False,max_words=75,relative_scaling=.5,\n",
    "                               stopwords=['potere','essere','dovere','ogni','tre','poi','cè','me','qui','lamore','volere','fare','cosa','stare','l','e','mai','così','tutto','ciò','avere','molto','anno','tanto','quindi','grazia','dire','solo','andare','giorno','te','prendere','vaccinare','nn','gg','dm','dose','quando','già']).generate(listone_provax)\n",
    "import matplotlib.pyplot as plt\n",
    "%matplotlib inline\n",
    "\n",
    "def plot_cloud(wordcloud):\n",
    "    # Set figure size\n",
    "    plt.figure(figsize=(20, 10))\n",
    "    # Display image\n",
    "    plt.imshow(wordcloud) \n",
    "    # No axis details\n",
    "    plt.axis(\"off\")"
   ]
  },
  {
   "cell_type": "code",
   "execution_count": 4,
   "metadata": {},
   "outputs": [],
   "source": [
    "retweeted=pd.read_csv('retweeted_sentiment.csv')"
   ]
  },
  {
   "cell_type": "code",
   "execution_count": 5,
   "metadata": {},
   "outputs": [],
   "source": [
    "mapping={'#007474':'pro_Vax', '#042069':'no_Vax', '#99cccc':'no_Vax', '#b00b69':'pro_Vax', '#fb1239':'no_Vax'}"
   ]
  },
  {
   "cell_type": "code",
   "execution_count": 6,
   "metadata": {},
   "outputs": [],
   "source": [
    "retweeted_plt=retweeted.replace({'Colour':mapping})"
   ]
  },
  {
   "cell_type": "code",
   "execution_count": 7,
   "metadata": {},
   "outputs": [
    {
     "data": {
      "text/plain": [
       "<AxesSubplot:xlabel='Colour', ylabel='sentiment'>"
      ]
     },
     "execution_count": 7,
     "metadata": {},
     "output_type": "execute_result"
    },
    {
     "data": {
      "image/png": "[encoded data removed]",
      "text/plain": [
       "<Figure size 432x288 with 1 Axes>"
      ]
     },
     "metadata": {
      "needs_background": "light"
     },
     "output_type": "display_data"
    }
   ],
   "source": [
    "import seaborn as sns\n",
    "\n",
    "sns.violinplot(x='Colour',y='sentiment',data=retweeted_plt)"
   ]
  },
  {
   "cell_type": "code",
   "execution_count": 12,
   "metadata": {},
   "outputs": [
    {
     "data": {
      "text/plain": [
       "['@roberto2_lamela #Poverementi #novax,il vaccino protegge non facendo miracolosam. sparire il virus,ma rinforzando le difese immunitarie in modo mirato,ti puoi infettare,ma hai già dentro di te buone armi per combatterlo e non ammalarti.\\n+vaccinati= -terreno fertile per il virus.\\n#vaccinatevi ✌️']"
      ]
     },
     "execution_count": 12,
     "metadata": {},
     "output_type": "execute_result"
    }
   ],
   "source": [
    "list(retweeted_plt[retweeted_plt.sentiment==max(list(retweeted_plt.sentiment))]['text_complete'])"
   ]
  },
  {
   "cell_type": "code",
   "execution_count": 13,
   "metadata": {},
   "outputs": [
    {
     "data": {
      "text/plain": [
       "[\"Ma come c@zzo è possibile soltanto pensare che una persona possa morire dopo aver fatto un' iniezione e dire che hai un sospetto. È una certezza, chiaro?! \\n#NoGreenPass #NoDittatura #giulemanidaibambini #governodeipeggiori https://t.co/47vbtTs9rs\"]"
      ]
     },
     "execution_count": 13,
     "metadata": {},
     "output_type": "execute_result"
    }
   ],
   "source": [
    "list(retweeted_plt[retweeted_plt.sentiment==min(list(retweeted_plt.sentiment))]['text_complete'])"
   ]
  },
  {
   "cell_type": "code",
   "execution_count": null,
   "metadata": {},
   "outputs": [],
   "source": [
    "nodes_definitivo=pd.read_csv('nodes_definitivo.csv')"
   ]
  }
 ],
 "metadata": {
  "interpreter": {
   "hash": "df2666e76e52a2f771a8cfba8f6cfbfdd93be2d7973ee6ffbf7a2267d71ba071"
  },
  "kernelspec": {
   "display_name": "Python 3.8.10 64-bit (windows store)",
   "language": "python",
   "name": "python3"
  },
  "language_info": {
   "codemirror_mode": {
    "name": "ipython",
    "version": 3
   },
   "file_extension": ".py",
   "mimetype": "text/x-python",
   "name": "python",
   "nbconvert_exporter": "python",
   "pygments_lexer": "ipython3",
   "version": "3.8.10"
  },
  "orig_nbformat": 4
 },
 "nbformat": 4,
 "nbformat_minor": 2
}
