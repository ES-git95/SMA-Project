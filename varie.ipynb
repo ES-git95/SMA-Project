{
 "cells": [
  {
   "cell_type": "code",
   "execution_count": null,
   "metadata": {},
   "outputs": [],
   "source": [
    "#Mostra i miei follower\n",
    "for user in tweepy.Cursor(api.get_followers, screen_name=\"davide_pstars\").items():\n",
    "  print('follower: ' + user.screen_name)\n",
    "\n",
    "#Mostra chi seguo (amici)\n",
    "#Nel metodo items si può inserire un numero intero, a signifcare il numero di risultati da restituire.\n",
    "for user in tweepy.Cursor(api.get_friends, screen_name=\"@davide_pstars\").items():\n",
    "  print('friend: ' + user.screen_name)\n",
    "  \n",
    "# Mostro la mia timeline \n",
    "stuff = api.user_timeline(screen_name = '@davide_pstars', count = 10)"
   ]
  }
 ],
 "metadata": {
  "language_info": {
   "name": "python"
  },
  "orig_nbformat": 4
 },
 "nbformat": 4,
 "nbformat_minor": 2
}
