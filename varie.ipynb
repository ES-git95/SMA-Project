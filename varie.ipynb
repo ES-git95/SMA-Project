{
 "cells": [
  {
   "cell_type": "markdown",
   "metadata": {},
   "source": [
    "##### Comandi utili con tweepy"
   ]
  },
  {
   "cell_type": "code",
   "execution_count": null,
   "metadata": {},
   "outputs": [],
   "source": [
    "#Mostra i miei follower\n",
    "for user in tweepy.Cursor(api.get_followers, screen_name=\"davide_pstars\").items():\n",
    "  print('follower: ' + user.screen_name)\n",
    "\n",
    "#Mostra chi seguo (amici)\n",
    "#Nel metodo items si può inserire un numero intero, a signifcare il numero di risultati da restituire.\n",
    "for user in tweepy.Cursor(api.get_friends, screen_name=\"@davide_pstars\").items():\n",
    "  print('friend: ' + user.screen_name)\n",
    "  \n",
    "# Mostro la mia timeline \n",
    "stuff = api.user_timeline(screen_name = '@davide_pstars', count = 10)"
   ]
  },
  {
   "cell_type": "markdown",
   "metadata": {},
   "source": [
    "##### Usare SQL in python"
   ]
  },
  {
   "cell_type": "code",
   "execution_count": null,
   "metadata": {},
   "outputs": [],
   "source": [
    "#Open the terminal and run-   pip install U pandasql\n",
    "#Open your Jupyter Notebook and in any cell run-    !pip install -U pandasql\n",
    "import pandasql as ps\n",
    "q1 = \"\"\"SELECT id FROM df \"\"\"\n",
    "print(ps.sqldf(q1, locals()))\n",
    "\n",
    "#oppure\n",
    "import sqlite3\n",
    "conn = sqlite3.connect('test_database') \n",
    "c = conn.cursor()\n",
    "c.execute('''\n",
    "          SELECT*\n",
    "          FROM products\n",
    "          ''')\n",
    "\n",
    "df = pd.DataFrame(c.fetchall(), columns = ['product_id', 'product_name', 'price'])\n",
    "print (df)"
   ]
  }
 ],
 "metadata": {
  "language_info": {
   "name": "python"
  },
  "orig_nbformat": 4
 },
 "nbformat": 4,
 "nbformat_minor": 2
}
