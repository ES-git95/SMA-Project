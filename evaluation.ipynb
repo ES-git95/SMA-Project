{
 "cells": [
  {
   "cell_type": "code",
   "execution_count": null,
   "metadata": {},
   "outputs": [],
   "source": [
    "import pandas as pd \n",
    "\n",
    "nodes=pd.read_csv('Edges_df4.csv')"
   ]
  },
  {
   "cell_type": "code",
   "execution_count": null,
   "metadata": {},
   "outputs": [],
   "source": [
    "#AAA prima delle valutazioni è necessario rimuovere gli elementi del cluster 0 (elementi esterni al gian component)"
   ]
  },
  {
   "cell_type": "code",
   "execution_count": null,
   "metadata": {},
   "outputs": [],
   "source": [
    "from sklearn.metrics import confusion_matrix\n",
    "import matplotlib.pyplot as plt\n",
    "import numpy as np\n",
    "from sklearn import metrics"
   ]
  },
  {
   "cell_type": "code",
   "execution_count": null,
   "metadata": {},
   "outputs": [],
   "source": [
    "class Evaluations:\n",
    "\n",
    "    def __init__(self, df, clusters_col_name):\n",
    "        self.df=df\n",
    "        self.clusters_col_name=clusters_col_name\n",
    "\n",
    "    def conf_matrix(self):\n",
    "        conf_mat=confusion_matrix(list(self.df.Colour), list(self.df[self.clusters_col_name]))\n",
    "        df_conf_norm = pd.DataFrame(conf_mat)\n",
    "        df_conf_norm_r=pd.DataFrame(conf_mat/np.array( [conf_mat.sum(axis=1),conf_mat.sum(axis=1),conf_mat.sum(axis=1)]).T)\n",
    "        plt.matshow(df_conf_norm_r, cmap='Reds')\n",
    "        plt.colorbar()\n",
    "\n",
    "        for (i, j), z in np.ndenumerate(df_conf_norm.to_numpy()):\n",
    "            plt.text(j, i, '{:0.0f}'.format(z), ha='center', va='center')\n",
    "\n",
    "        plt.xlabel('Predicted')\n",
    "        plt.ylabel('Actual')\n",
    "\n",
    "        plt.show()\n",
    "\n",
    "    def metric(self):\n",
    "        m=metrics.classification_report(list(nodes.Colour), list(nodes.Cluster), digits=3)\n",
    "        print(m)"
   ]
  },
  {
   "cell_type": "markdown",
   "metadata": {},
   "source": [
    "#### Evaluation leading eigenvector"
   ]
  },
  {
   "cell_type": "code",
   "execution_count": null,
   "metadata": {},
   "outputs": [],
   "source": []
  }
 ],
 "metadata": {
  "language_info": {
   "name": "python"
  },
  "orig_nbformat": 4
 },
 "nbformat": 4,
 "nbformat_minor": 2
}
