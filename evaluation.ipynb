{
 "cells": [
  {
   "cell_type": "code",
   "execution_count": 7,
   "metadata": {},
   "outputs": [],
   "source": [
    "import pandas as pd \n",
    "nodes=pd.read_csv('nodes_provvisorio.csv')"
   ]
  },
  {
   "cell_type": "code",
   "execution_count": 11,
   "metadata": {},
   "outputs": [
    {
     "data": {
      "text/plain": [
       "Index(['Unnamed: 0', 'Id', 'Label', 'Interval', 'Colour', 'Giant_Component',\n",
       "       'cluster_eigen', 'cluster_kmeans'],\n",
       "      dtype='object')"
      ]
     },
     "execution_count": 11,
     "metadata": {},
     "output_type": "execute_result"
    }
   ],
   "source": [
    "nodes.columns"
   ]
  },
  {
   "cell_type": "code",
   "execution_count": null,
   "metadata": {},
   "outputs": [],
   "source": [
    "#AAA prima delle valutazioni è necessario rimuovere gli elementi del cluster 0 (elementi esterni al gian component)"
   ]
  },
  {
   "cell_type": "code",
   "execution_count": 8,
   "metadata": {},
   "outputs": [],
   "source": [
    "from sklearn.metrics import confusion_matrix\n",
    "import matplotlib.pyplot as plt\n",
    "import numpy as np\n",
    "from sklearn import metrics"
   ]
  },
  {
   "cell_type": "code",
   "execution_count": 9,
   "metadata": {},
   "outputs": [],
   "source": [
    "class Evaluations:\n",
    "\n",
    "    def __init__(self, df, clusters_col_name):\n",
    "        self.df=df\n",
    "        self.clusters_col_name=clusters_col_name\n",
    "\n",
    "    def conf_matrix(self):\n",
    "        conf_mat=confusion_matrix(list(self.df.Colour), list(self.df[self.clusters_col_name]))\n",
    "        df_conf_norm = pd.DataFrame(conf_mat)\n",
    "        df_conf_norm_r=pd.DataFrame(conf_mat/np.array( [conf_mat.sum(axis=1),conf_mat.sum(axis=1),conf_mat.sum(axis=1)]).T)\n",
    "        plt.matshow(df_conf_norm_r, cmap='Reds')\n",
    "        plt.colorbar()\n",
    "\n",
    "        for (i, j), z in np.ndenumerate(df_conf_norm.to_numpy()):\n",
    "            plt.text(j, i, '{:0.0f}'.format(z), ha='center', va='center')\n",
    "\n",
    "        plt.xlabel('Predicted')\n",
    "        plt.ylabel('Actual')\n",
    "\n",
    "        plt.show()\n",
    "\n",
    "    def metric(self):\n",
    "        m=metrics.classification_report(list(nodes.Colour), list(nodes.Cluster), digits=3)\n",
    "        print(m)"
   ]
  },
  {
   "cell_type": "markdown",
   "metadata": {},
   "source": [
    "#### Evaluation leading eigenvector"
   ]
  }
 ],
 "metadata": {
  "interpreter": {
   "hash": "b3ba2566441a7c06988d0923437866b63cedc61552a5af99d1f4fb67d367b25f"
  },
  "kernelspec": {
   "display_name": "Python 3.8.5 64-bit ('base': conda)",
   "language": "python",
   "name": "python3"
  },
  "language_info": {
   "codemirror_mode": {
    "name": "ipython",
    "version": 3
   },
   "file_extension": ".py",
   "mimetype": "text/x-python",
   "name": "python",
   "nbconvert_exporter": "python",
   "pygments_lexer": "ipython3",
   "version": "3.8.5"
  },
  "orig_nbformat": 4
 },
 "nbformat": 4,
 "nbformat_minor": 2
}
