{
 "cells": [
  {
   "cell_type": "markdown",
   "metadata": {},
   "source": [
    "##### Models Performance"
   ]
  },
  {
   "cell_type": "code",
   "execution_count": 44,
   "metadata": {},
   "outputs": [],
   "source": [
    "import pandas as pd \n",
    "nodes=pd.read_csv('nodes_df6_tot.csv')"
   ]
  },
  {
   "cell_type": "markdown",
   "metadata": {},
   "source": [
    "Data preprocessing"
   ]
  },
  {
   "cell_type": "code",
   "execution_count": 45,
   "metadata": {},
   "outputs": [],
   "source": [
    "nodes.rename(columns={\"Colour_GN\": \"cluster_GN\"},inplace=True)"
   ]
  },
  {
   "cell_type": "code",
   "execution_count": 46,
   "metadata": {},
   "outputs": [],
   "source": [
    "#aggiungiamo a nodes gli hashtag\n",
    "hashtags=[]\n",
    "for index,row in nodes.iterrows():\n",
    "    if row['Colour']==\"#b00b69\":\n",
    "        hashtags.append(\"@EnricoLetta\")\n",
    "    if row['Colour']==\"#fb1239\":\n",
    "        hashtags.append(\"#NoGreenPass\")\n",
    "    if row['Colour']==\"#99cccc\":\n",
    "        hashtags.append(\"@matteosalvinimi\")\n",
    "    if row['Colour']==\"#042069\":\n",
    "        hashtags.append(\"@CasaPoundItalia\")\n",
    "    if row['Colour']==\"#007474\":\n",
    "        hashtags.append(\"#vaccinatevi\")\n",
    "\n",
    "nodes['hashtags']=hashtags"
   ]
  },
  {
   "cell_type": "code",
   "execution_count": 51,
   "metadata": {},
   "outputs": [],
   "source": [
    "#associo a 1 gli hashtag ritenuti antivax, associo a 2 quelli ritenuti pro vaccino\n",
    "gruppo=[]\n",
    "\n",
    "for index,row in nodes.iterrows():\n",
    "    if row['hashtags']==\"#NoGreenPass\":\n",
    "        gruppo.append(1)\n",
    "    if row['hashtags']==\"#vaccinatevi\":\n",
    "        gruppo.append(2)\n",
    "    if row['hashtags']==\"@CasaPoundItalia\":\n",
    "        gruppo.append(1)\n",
    "    if row['hashtags']==\"@matteosalvinimi\":\n",
    "        gruppo.append(1)\n",
    "    if row['hashtags']==\"@EnricoLetta\":\n",
    "        gruppo.append(2)\n",
    "\n",
    "nodes['gruppo']=gruppo"
   ]
  },
  {
   "cell_type": "code",
   "execution_count": 63,
   "metadata": {},
   "outputs": [],
   "source": [
    "nodes.to_csv(\"nodes_definitivo.csv\",index=False)"
   ]
  },
  {
   "cell_type": "code",
   "execution_count": 53,
   "metadata": {},
   "outputs": [],
   "source": [
    "# Prima delle valutazioni è necessario rimuovere gli elementi  esterni al giant component\n",
    "nodes_eval=nodes[nodes[\"Giant_Component\"]==1]"
   ]
  },
  {
   "cell_type": "code",
   "execution_count": 55,
   "metadata": {},
   "outputs": [
    {
     "name": "stdout",
     "output_type": "stream",
     "text": [
      "[1 2]\n",
      "[1 2]\n",
      "[1 2]\n",
      "[1 2]\n"
     ]
    }
   ],
   "source": [
    "print(nodes_eval[\"cluster_eigen\"].unique())\n",
    "print(nodes_eval[\"cluster_kmeans\"].unique())\n",
    "print(nodes_eval[\"cluster_GN\"].unique())\n",
    "print(nodes_eval[\"gruppo\"].unique())\n",
    "# i nomi dei cluster sono standardizzati, possiamo applicare l'evaluation"
   ]
  },
  {
   "cell_type": "markdown",
   "metadata": {},
   "source": [
    "NB: bisogna invertire i valori dei cluster di cluster_eigen e cluster_kmeans"
   ]
  },
  {
   "cell_type": "code",
   "execution_count": 56,
   "metadata": {},
   "outputs": [],
   "source": [
    "from sklearn.metrics import confusion_matrix\n",
    "import matplotlib.pyplot as plt\n",
    "import numpy as np\n",
    "from sklearn import metrics"
   ]
  },
  {
   "cell_type": "code",
   "execution_count": 57,
   "metadata": {},
   "outputs": [],
   "source": [
    "class Evaluations:\n",
    "\n",
    "    def __init__(self, df, clusters_col_name):\n",
    "        self.df=df\n",
    "        self.clusters_col_name=clusters_col_name\n",
    "\n",
    "    def conf_matrix(self):\n",
    "        conf_mat=confusion_matrix(list(self.df.gruppo), list(self.df[self.clusters_col_name]))\n",
    "        df_conf_norm = pd.DataFrame(conf_mat)\n",
    "        df_conf_norm_r=pd.DataFrame(conf_mat/np.array( [conf_mat.sum(axis=1),conf_mat.sum(axis=1),conf_mat.sum(axis=1)]).T)\n",
    "        plt.matshow(df_conf_norm_r, cmap='Reds')\n",
    "        plt.colorbar()\n",
    "\n",
    "        for (i, j), z in np.ndenumerate(df_conf_norm.to_numpy()):\n",
    "            plt.text(j, i, '{:0.0f}'.format(z), ha='center', va='center')\n",
    "\n",
    "        plt.xlabel('Predicted')\n",
    "        plt.ylabel('Actual')\n",
    "\n",
    "        plt.show()\n",
    "\n",
    "    def metric(self):\n",
    "        m=metrics.classification_report(list(self.df.gruppo), list(self.df[self.clusters_col_name]), digits=3)\n",
    "        print(m)"
   ]
  },
  {
   "cell_type": "markdown",
   "metadata": {},
   "source": [
    "##### Eigen Evaluation"
   ]
  },
  {
   "cell_type": "code",
   "execution_count": 58,
   "metadata": {},
   "outputs": [
    {
     "name": "stdout",
     "output_type": "stream",
     "text": [
      "              precision    recall  f1-score   support\n",
      "\n",
      "           1      0.478     0.647     0.550      3010\n",
      "           2      0.048     0.025     0.033      2180\n",
      "\n",
      "    accuracy                          0.386      5190\n",
      "   macro avg      0.263     0.336     0.291      5190\n",
      "weighted avg      0.298     0.386     0.333      5190\n",
      "\n"
     ]
    }
   ],
   "source": [
    "eval_eigen=Evaluations(nodes_eval,\"cluster_eigen\")\n",
    "eval_eigen.metric()"
   ]
  },
  {
   "cell_type": "code",
   "execution_count": 60,
   "metadata": {},
   "outputs": [
    {
     "name": "stdout",
     "output_type": "stream",
     "text": [
      "              precision    recall  f1-score   support\n",
      "\n",
      "           1      0.514     0.758     0.612      3010\n",
      "           2      0.025     0.009     0.013      2180\n",
      "\n",
      "    accuracy                          0.443      5190\n",
      "   macro avg      0.270     0.383     0.313      5190\n",
      "weighted avg      0.309     0.443     0.361      5190\n",
      "\n"
     ]
    }
   ],
   "source": [
    "eval_kmeans=Evaluations(nodes_eval,\"cluster_kmeans\")\n",
    "eval_kmeans.metric()"
   ]
  },
  {
   "cell_type": "code",
   "execution_count": 61,
   "metadata": {},
   "outputs": [
    {
     "name": "stdout",
     "output_type": "stream",
     "text": [
      "              precision    recall  f1-score   support\n",
      "\n",
      "           1      0.911     0.961     0.935      3010\n",
      "           2      0.941     0.870     0.904      2180\n",
      "\n",
      "    accuracy                          0.923      5190\n",
      "   macro avg      0.926     0.915     0.920      5190\n",
      "weighted avg      0.924     0.923     0.922      5190\n",
      "\n"
     ]
    }
   ],
   "source": [
    "eval_kmeans=Evaluations(nodes_eval,\"cluster_GN\")\n",
    "eval_kmeans.metric()"
   ]
  }
 ],
 "metadata": {
  "interpreter": {
   "hash": "b3ba2566441a7c06988d0923437866b63cedc61552a5af99d1f4fb67d367b25f"
  },
  "kernelspec": {
   "display_name": "Python 3.8.5 64-bit ('base': conda)",
   "language": "python",
   "name": "python3"
  },
  "language_info": {
   "codemirror_mode": {
    "name": "ipython",
    "version": 3
   },
   "file_extension": ".py",
   "mimetype": "text/x-python",
   "name": "python",
   "nbconvert_exporter": "python",
   "pygments_lexer": "ipython3",
   "version": "3.8.5"
  },
  "orig_nbformat": 4
 },
 "nbformat": 4,
 "nbformat_minor": 2
}
