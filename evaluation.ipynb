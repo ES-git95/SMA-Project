{
 "cells": [
  {
   "cell_type": "markdown",
   "metadata": {},
   "source": [
    "##### Models Performance"
   ]
  },
  {
   "cell_type": "code",
   "execution_count": 1,
   "metadata": {},
   "outputs": [],
   "source": [
    "import pandas as pd \n",
    "nodes=pd.read_csv('nodes_df6_tot.csv')\n",
    "#   @EnricoLetta==#b00b69\n",
    "#   #NoGreenPass==#fb1239\n",
    "#   @MatteoSalvinimi==#99cccc\n",
    "#   @CasaPoundItalia==#042069\n",
    "#   #Vaccinatevi==#007474"
   ]
  },
  {
   "cell_type": "code",
   "execution_count": 14,
   "metadata": {},
   "outputs": [],
   "source": [
    "#aggiungiamo a nodes gli hashtag\n",
    "hashtags=[]\n",
    "for index,row in nodes.iterrows():\n",
    "    if row['Colour']==\"#b00b69\":\n",
    "        hashtags.append(\"@EnricoLetta\")\n",
    "    if row['Colour']==\"#fb1239\":\n",
    "        hashtags.append(\"#NoGreenPass\")\n",
    "    if row['Colour']==\"#99cccc\":\n",
    "        hashtags.append(\"@matteosalvinimi\")\n",
    "    if row['Colour']==\"#042069\":\n",
    "        hashtags.append(\"@CasaPoundItalia\")\n",
    "    if row['Colour']==\"#007474\":\n",
    "        hashtags.append(\"#vaccinatevi\")\n",
    "\n",
    "nodes['hashtags']=hashtags"
   ]
  },
  {
   "cell_type": "code",
   "execution_count": 15,
   "metadata": {},
   "outputs": [
    {
     "data": {
      "text/html": [
       "<div>\n",
       "<style scoped>\n",
       "    .dataframe tbody tr th:only-of-type {\n",
       "        vertical-align: middle;\n",
       "    }\n",
       "\n",
       "    .dataframe tbody tr th {\n",
       "        vertical-align: top;\n",
       "    }\n",
       "\n",
       "    .dataframe thead th {\n",
       "        text-align: right;\n",
       "    }\n",
       "</style>\n",
       "<table border=\"1\" class=\"dataframe\">\n",
       "  <thead>\n",
       "    <tr style=\"text-align: right;\">\n",
       "      <th></th>\n",
       "      <th>Id</th>\n",
       "      <th>Label</th>\n",
       "      <th>Interval</th>\n",
       "      <th>Colour</th>\n",
       "      <th>Giant_Component</th>\n",
       "      <th>cluster_eigen</th>\n",
       "      <th>cluster_kmeans</th>\n",
       "      <th>Colour_GN</th>\n",
       "      <th>Cluster_mod</th>\n",
       "      <th>hashtags</th>\n",
       "    </tr>\n",
       "  </thead>\n",
       "  <tbody>\n",
       "    <tr>\n",
       "      <th>0</th>\n",
       "      <td>1086702385</td>\n",
       "      <td>paolaokaasan</td>\n",
       "      <td>NaN</td>\n",
       "      <td>#99cccc</td>\n",
       "      <td>1</td>\n",
       "      <td>1</td>\n",
       "      <td>1</td>\n",
       "      <td>1</td>\n",
       "      <td>#aaaacc</td>\n",
       "      <td>@matteosalvinimi</td>\n",
       "    </tr>\n",
       "    <tr>\n",
       "      <th>1</th>\n",
       "      <td>1427012746273492992</td>\n",
       "      <td>Ben_di_</td>\n",
       "      <td>NaN</td>\n",
       "      <td>#99cccc</td>\n",
       "      <td>1</td>\n",
       "      <td>1</td>\n",
       "      <td>1</td>\n",
       "      <td>1</td>\n",
       "      <td>#aaaacc</td>\n",
       "      <td>@matteosalvinimi</td>\n",
       "    </tr>\n",
       "    <tr>\n",
       "      <th>2</th>\n",
       "      <td>894286780945641472</td>\n",
       "      <td>Mereditella</td>\n",
       "      <td>NaN</td>\n",
       "      <td>#99cccc</td>\n",
       "      <td>1</td>\n",
       "      <td>1</td>\n",
       "      <td>1</td>\n",
       "      <td>1</td>\n",
       "      <td>#aaaacc</td>\n",
       "      <td>@matteosalvinimi</td>\n",
       "    </tr>\n",
       "    <tr>\n",
       "      <th>3</th>\n",
       "      <td>1337144779772194819</td>\n",
       "      <td>manuel_y_jesus_</td>\n",
       "      <td>NaN</td>\n",
       "      <td>#99cccc</td>\n",
       "      <td>1</td>\n",
       "      <td>2</td>\n",
       "      <td>1</td>\n",
       "      <td>1</td>\n",
       "      <td>#aaaacc</td>\n",
       "      <td>@matteosalvinimi</td>\n",
       "    </tr>\n",
       "    <tr>\n",
       "      <th>4</th>\n",
       "      <td>1188727145247498240</td>\n",
       "      <td>EsseSandra2</td>\n",
       "      <td>NaN</td>\n",
       "      <td>#99cccc</td>\n",
       "      <td>1</td>\n",
       "      <td>1</td>\n",
       "      <td>1</td>\n",
       "      <td>1</td>\n",
       "      <td>#aaaacc</td>\n",
       "      <td>@matteosalvinimi</td>\n",
       "    </tr>\n",
       "  </tbody>\n",
       "</table>\n",
       "</div>"
      ],
      "text/plain": [
       "                    Id            Label  Interval   Colour  Giant_Component  \\\n",
       "0           1086702385     paolaokaasan       NaN  #99cccc                1   \n",
       "1  1427012746273492992          Ben_di_       NaN  #99cccc                1   \n",
       "2   894286780945641472      Mereditella       NaN  #99cccc                1   \n",
       "3  1337144779772194819  manuel_y_jesus_       NaN  #99cccc                1   \n",
       "4  1188727145247498240      EsseSandra2       NaN  #99cccc                1   \n",
       "\n",
       "   cluster_eigen  cluster_kmeans  Colour_GN Cluster_mod          hashtags  \n",
       "0              1               1          1     #aaaacc  @matteosalvinimi  \n",
       "1              1               1          1     #aaaacc  @matteosalvinimi  \n",
       "2              1               1          1     #aaaacc  @matteosalvinimi  \n",
       "3              2               1          1     #aaaacc  @matteosalvinimi  \n",
       "4              1               1          1     #aaaacc  @matteosalvinimi  "
      ]
     },
     "execution_count": 15,
     "metadata": {},
     "output_type": "execute_result"
    }
   ],
   "source": [
    "nodes.head()"
   ]
  },
  {
   "cell_type": "code",
   "execution_count": 16,
   "metadata": {},
   "outputs": [],
   "source": [
    "#associo a 0 gli hashtag ritenuti antivax, associo a 1 quelli ritenuti pro vaccino\n",
    "gruppo=[]\n",
    "\n",
    "for index,row in nodes.iterrows():\n",
    "    if row['hashtags']==\"#NoGreenPass\":\n",
    "        gruppo.append(0)\n",
    "    if row['hashtags']==\"#vaccinatevi\":\n",
    "        gruppo.append(1)\n",
    "    if row['hashtags']==\"@CasaPoundItalia\":\n",
    "        gruppo.append(0)\n",
    "    if row['hashtags']==\"@matteosalvinimi\":\n",
    "        gruppo.append(0)\n",
    "    if row['hashtags']==\"@EnricoLetta\":\n",
    "        gruppo.append(1)\n",
    "\n",
    "nodes['gruppo']=gruppo"
   ]
  },
  {
   "cell_type": "code",
   "execution_count": 18,
   "metadata": {},
   "outputs": [],
   "source": [
    "nodes.to_csv(\"nodes_definitivo\")"
   ]
  },
  {
   "cell_type": "code",
   "execution_count": 3,
   "metadata": {},
   "outputs": [],
   "source": [
    "#AAA prima delle valutazioni è necessario rimuovere gli elementi del cluster 0 (elementi esterni al gian component)"
   ]
  },
  {
   "cell_type": "code",
   "execution_count": 33,
   "metadata": {},
   "outputs": [],
   "source": [
    "from sklearn.metrics import confusion_matrix\n",
    "import matplotlib.pyplot as plt\n",
    "import numpy as np\n",
    "from sklearn import metrics"
   ]
  },
  {
   "cell_type": "code",
   "execution_count": 36,
   "metadata": {},
   "outputs": [],
   "source": [
    "class Evaluations:\n",
    "\n",
    "    def __init__(self, df, clusters_col_name):\n",
    "        self.df=df\n",
    "        self.clusters_col_name=clusters_col_name\n",
    "\n",
    "    def conf_matrix(self):\n",
    "        conf_mat=confusion_matrix(list(self.df.Colour), list(self.df[self.clusters_col_name]))\n",
    "        df_conf_norm = pd.DataFrame(conf_mat)\n",
    "        df_conf_norm_r=pd.DataFrame(conf_mat/np.array( [conf_mat.sum(axis=1),conf_mat.sum(axis=1),conf_mat.sum(axis=1)]).T)\n",
    "        plt.matshow(df_conf_norm_r, cmap='Reds')\n",
    "        plt.colorbar()\n",
    "\n",
    "        for (i, j), z in np.ndenumerate(df_conf_norm.to_numpy()):\n",
    "            plt.text(j, i, '{:0.0f}'.format(z), ha='center', va='center')\n",
    "\n",
    "        plt.xlabel('Predicted')\n",
    "        plt.ylabel('Actual')\n",
    "\n",
    "        plt.show()\n",
    "\n",
    "    def metric(self):\n",
    "        m=metrics.classification_report(list(nodes.Colour), list(self.df[self.clusters_col_name]), digits=3)\n",
    "        print(m)"
   ]
  },
  {
   "cell_type": "code",
   "execution_count": 42,
   "metadata": {},
   "outputs": [
    {
     "name": "stdout",
     "output_type": "stream",
     "text": [
      "              precision    recall  f1-score   support\n",
      "\n",
      "           0      0.534     0.178     0.267       624\n",
      "           1      0.506     0.964     0.663      1368\n",
      "           2      0.931     0.491     0.643      1743\n",
      "\n",
      "    accuracy                          0.612      3735\n",
      "   macro avg      0.657     0.544     0.524      3735\n",
      "weighted avg      0.709     0.612     0.588      3735\n",
      "\n"
     ]
    }
   ],
   "source": [
    "eval_eigen=Evaluations(nodes,\"cluster_eigen\")\n",
    "eval_eigen.metric()"
   ]
  },
  {
   "cell_type": "code",
   "execution_count": 41,
   "metadata": {},
   "outputs": [
    {
     "name": "stdout",
     "output_type": "stream",
     "text": [
      "              precision    recall  f1-score   support\n",
      "\n",
      "           0      0.534     0.178     0.267       624\n",
      "           1      0.458     0.964     0.621      1368\n",
      "           2      0.980     0.363     0.530      1743\n",
      "\n",
      "    accuracy                          0.552      3735\n",
      "   macro avg      0.657     0.502     0.473      3735\n",
      "weighted avg      0.714     0.552     0.519      3735\n",
      "\n"
     ]
    }
   ],
   "source": [
    "eval_kmeans=Evaluations(nodes,\"cluster_kmeans\")\n",
    "eval_kmeans.metric()"
   ]
  },
  {
   "cell_type": "code",
   "execution_count": null,
   "metadata": {},
   "outputs": [],
   "source": []
  }
 ],
 "metadata": {
  "interpreter": {
   "hash": "b3ba2566441a7c06988d0923437866b63cedc61552a5af99d1f4fb67d367b25f"
  },
  "kernelspec": {
   "display_name": "Python 3.8.5 64-bit ('base': conda)",
   "language": "python",
   "name": "python3"
  },
  "language_info": {
   "codemirror_mode": {
    "name": "ipython",
    "version": 3
   },
   "file_extension": ".py",
   "mimetype": "text/x-python",
   "name": "python",
   "nbconvert_exporter": "python",
   "pygments_lexer": "ipython3",
   "version": "3.8.5"
  },
  "orig_nbformat": 4
 },
 "nbformat": 4,
 "nbformat_minor": 2
}
