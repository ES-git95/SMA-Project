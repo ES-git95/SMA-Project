{
 "cells": [
  {
   "cell_type": "code",
   "execution_count": 30,
   "metadata": {},
   "outputs": [],
   "source": [
    "import pandas as pd \n",
    "nodes=pd.read_csv('nodes_provvisorio.csv')"
   ]
  },
  {
   "cell_type": "code",
   "execution_count": 31,
   "metadata": {},
   "outputs": [
    {
     "data": {
      "text/html": [
       "<div>\n",
       "<style scoped>\n",
       "    .dataframe tbody tr th:only-of-type {\n",
       "        vertical-align: middle;\n",
       "    }\n",
       "\n",
       "    .dataframe tbody tr th {\n",
       "        vertical-align: top;\n",
       "    }\n",
       "\n",
       "    .dataframe thead th {\n",
       "        text-align: right;\n",
       "    }\n",
       "</style>\n",
       "<table border=\"1\" class=\"dataframe\">\n",
       "  <thead>\n",
       "    <tr style=\"text-align: right;\">\n",
       "      <th></th>\n",
       "      <th>Unnamed: 0</th>\n",
       "      <th>Unnamed: 0.1</th>\n",
       "      <th>Id</th>\n",
       "      <th>Label</th>\n",
       "      <th>Interval</th>\n",
       "      <th>Colour</th>\n",
       "      <th>Giant_Component</th>\n",
       "      <th>cluster_eigen</th>\n",
       "      <th>cluster_kmeans</th>\n",
       "    </tr>\n",
       "  </thead>\n",
       "  <tbody>\n",
       "    <tr>\n",
       "      <th>0</th>\n",
       "      <td>0</td>\n",
       "      <td>0</td>\n",
       "      <td>321228288</td>\n",
       "      <td>marsion65</td>\n",
       "      <td>NaN</td>\n",
       "      <td>2</td>\n",
       "      <td>1</td>\n",
       "      <td>1</td>\n",
       "      <td>1</td>\n",
       "    </tr>\n",
       "    <tr>\n",
       "      <th>1</th>\n",
       "      <td>1</td>\n",
       "      <td>1</td>\n",
       "      <td>1426639026824564737</td>\n",
       "      <td>MaurizioCimino2</td>\n",
       "      <td>NaN</td>\n",
       "      <td>2</td>\n",
       "      <td>1</td>\n",
       "      <td>2</td>\n",
       "      <td>2</td>\n",
       "    </tr>\n",
       "    <tr>\n",
       "      <th>2</th>\n",
       "      <td>2</td>\n",
       "      <td>2</td>\n",
       "      <td>272945830</td>\n",
       "      <td>AleC226</td>\n",
       "      <td>NaN</td>\n",
       "      <td>2</td>\n",
       "      <td>1</td>\n",
       "      <td>2</td>\n",
       "      <td>2</td>\n",
       "    </tr>\n",
       "    <tr>\n",
       "      <th>3</th>\n",
       "      <td>3</td>\n",
       "      <td>3</td>\n",
       "      <td>745351426117869568</td>\n",
       "      <td>Massimi8900</td>\n",
       "      <td>NaN</td>\n",
       "      <td>2</td>\n",
       "      <td>1</td>\n",
       "      <td>2</td>\n",
       "      <td>2</td>\n",
       "    </tr>\n",
       "    <tr>\n",
       "      <th>4</th>\n",
       "      <td>4</td>\n",
       "      <td>4</td>\n",
       "      <td>798461063494828032</td>\n",
       "      <td>IvanoPioli</td>\n",
       "      <td>NaN</td>\n",
       "      <td>2</td>\n",
       "      <td>1</td>\n",
       "      <td>1</td>\n",
       "      <td>1</td>\n",
       "    </tr>\n",
       "  </tbody>\n",
       "</table>\n",
       "</div>"
      ],
      "text/plain": [
       "   Unnamed: 0  Unnamed: 0.1                   Id            Label  Interval  \\\n",
       "0           0             0            321228288        marsion65       NaN   \n",
       "1           1             1  1426639026824564737  MaurizioCimino2       NaN   \n",
       "2           2             2            272945830          AleC226       NaN   \n",
       "3           3             3   745351426117869568      Massimi8900       NaN   \n",
       "4           4             4   798461063494828032       IvanoPioli       NaN   \n",
       "\n",
       "   Colour  Giant_Component  cluster_eigen  cluster_kmeans  \n",
       "0       2                1              1               1  \n",
       "1       2                1              2               2  \n",
       "2       2                1              2               2  \n",
       "3       2                1              2               2  \n",
       "4       2                1              1               1  "
      ]
     },
     "execution_count": 31,
     "metadata": {},
     "output_type": "execute_result"
    }
   ],
   "source": [
    "nodes.head()"
   ]
  },
  {
   "cell_type": "code",
   "execution_count": 3,
   "metadata": {},
   "outputs": [],
   "source": [
    "#AAA prima delle valutazioni è necessario rimuovere gli elementi del cluster 0 (elementi esterni al gian component)"
   ]
  },
  {
   "cell_type": "code",
   "execution_count": 33,
   "metadata": {},
   "outputs": [],
   "source": [
    "from sklearn.metrics import confusion_matrix\n",
    "import matplotlib.pyplot as plt\n",
    "import numpy as np\n",
    "from sklearn import metrics"
   ]
  },
  {
   "cell_type": "code",
   "execution_count": 36,
   "metadata": {},
   "outputs": [],
   "source": [
    "class Evaluations:\n",
    "\n",
    "    def __init__(self, df, clusters_col_name):\n",
    "        self.df=df\n",
    "        self.clusters_col_name=clusters_col_name\n",
    "\n",
    "    def conf_matrix(self):\n",
    "        conf_mat=confusion_matrix(list(self.df.Colour), list(self.df[self.clusters_col_name]))\n",
    "        df_conf_norm = pd.DataFrame(conf_mat)\n",
    "        df_conf_norm_r=pd.DataFrame(conf_mat/np.array( [conf_mat.sum(axis=1),conf_mat.sum(axis=1),conf_mat.sum(axis=1)]).T)\n",
    "        plt.matshow(df_conf_norm_r, cmap='Reds')\n",
    "        plt.colorbar()\n",
    "\n",
    "        for (i, j), z in np.ndenumerate(df_conf_norm.to_numpy()):\n",
    "            plt.text(j, i, '{:0.0f}'.format(z), ha='center', va='center')\n",
    "\n",
    "        plt.xlabel('Predicted')\n",
    "        plt.ylabel('Actual')\n",
    "\n",
    "        plt.show()\n",
    "\n",
    "    def metric(self):\n",
    "        m=metrics.classification_report(list(nodes.Colour), list(self.df[self.clusters_col_name]), digits=3)\n",
    "        print(m)"
   ]
  },
  {
   "cell_type": "code",
   "execution_count": 42,
   "metadata": {},
   "outputs": [
    {
     "name": "stdout",
     "output_type": "stream",
     "text": [
      "              precision    recall  f1-score   support\n",
      "\n",
      "           0      0.534     0.178     0.267       624\n",
      "           1      0.506     0.964     0.663      1368\n",
      "           2      0.931     0.491     0.643      1743\n",
      "\n",
      "    accuracy                          0.612      3735\n",
      "   macro avg      0.657     0.544     0.524      3735\n",
      "weighted avg      0.709     0.612     0.588      3735\n",
      "\n"
     ]
    }
   ],
   "source": [
    "eval_eigen=Evaluations(nodes,\"cluster_eigen\")\n",
    "eval_eigen.metric()"
   ]
  },
  {
   "cell_type": "code",
   "execution_count": 41,
   "metadata": {},
   "outputs": [
    {
     "name": "stdout",
     "output_type": "stream",
     "text": [
      "              precision    recall  f1-score   support\n",
      "\n",
      "           0      0.534     0.178     0.267       624\n",
      "           1      0.458     0.964     0.621      1368\n",
      "           2      0.980     0.363     0.530      1743\n",
      "\n",
      "    accuracy                          0.552      3735\n",
      "   macro avg      0.657     0.502     0.473      3735\n",
      "weighted avg      0.714     0.552     0.519      3735\n",
      "\n"
     ]
    }
   ],
   "source": [
    "eval_kmeans=Evaluations(nodes,\"cluster_kmeans\")\n",
    "eval_kmeans.metric()"
   ]
  },
  {
   "cell_type": "code",
   "execution_count": null,
   "metadata": {},
   "outputs": [],
   "source": []
  },
  {
   "cell_type": "markdown",
   "metadata": {},
   "source": [
    "#### Evaluation leading eigenvector"
   ]
  }
 ],
 "metadata": {
  "interpreter": {
   "hash": "b3ba2566441a7c06988d0923437866b63cedc61552a5af99d1f4fb67d367b25f"
  },
  "kernelspec": {
   "display_name": "Python 3.8.5 64-bit ('base': conda)",
   "language": "python",
   "name": "python3"
  },
  "language_info": {
   "codemirror_mode": {
    "name": "ipython",
    "version": 3
   },
   "file_extension": ".py",
   "mimetype": "text/x-python",
   "name": "python",
   "nbconvert_exporter": "python",
   "pygments_lexer": "ipython3",
   "version": "3.8.5"
  },
  "orig_nbformat": 4
 },
 "nbformat": 4,
 "nbformat_minor": 2
}
