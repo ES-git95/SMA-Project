{
 "cells": [
  {
   "cell_type": "markdown",
   "metadata": {},
   "source": [
    "#### Estratto dal progetto di TMS:"
   ]
  },
  {
   "cell_type": "code",
   "execution_count": null,
   "metadata": {},
   "outputs": [],
   "source": [
    "import pandas as pd\n",
    "import re\n",
    "import nltk\n",
    "from nltk.stem.porter import PorterStemmer\n",
    "import string"
   ]
  },
  {
   "cell_type": "code",
   "execution_count": null,
   "metadata": {},
   "outputs": [],
   "source": [
    "returns = re.compile(r\"\\n\")\n",
    "multiple_spaces = re.compile(r\"\\s+\")\n",
    "\n",
    "# pre-defined stop words\n",
    "stop_words = nltk.corpus.stopwords.words('italian') \n",
    "porter = PorterStemmer()"
   ]
  },
  {
   "cell_type": "code",
   "execution_count": null,
   "metadata": {},
   "outputs": [],
   "source": [
    "def clean_text(full_text, returns = returns, multiple_spaces = multiple_spaces):\n",
    "\n",
    "    text = returns.split(full_text)\n",
    "    new_text = text.lower() # make lowercase\n",
    "    new_text = new_text.translate(str.maketrans(string.punctuation, ' '*len(string.punctuation))) # replace punctuation with a whitespace\n",
    "    new_text = multiple_spaces.sub(\" \", new_text) # remove multiple whitespaces\n",
    "    return new_text\n",
    "\n",
    "def stopwords_remover(lyric, stop_words = stop_words):\n",
    "    new_text = []\n",
    "    for token in new_text:\n",
    "        if token not in stop_words:\n",
    "            new_text.append(token)\n",
    "    return new_text\n",
    " "
   ]
  },
  {
   "cell_type": "markdown",
   "metadata": {},
   "source": [
    "#### Estratto dal progetto di DATAMAN:"
   ]
  },
  {
   "cell_type": "code",
   "execution_count": 2,
   "metadata": {},
   "outputs": [],
   "source": [
    "import pandas as pd\n",
    "from nltk.corpus import stopwords\n",
    "from wordcloud import WordCloud, STOPWORDS\n",
    "import spacy"
   ]
  },
  {
   "cell_type": "code",
   "execution_count": 3,
   "metadata": {},
   "outputs": [],
   "source": [
    "df_tweets=pd.read_csv('tweets2_nogreenpass_vaccinatevi_casapound.csv')"
   ]
  },
  {
   "cell_type": "code",
   "execution_count": 4,
   "metadata": {},
   "outputs": [
    {
     "data": {
      "text/plain": [
       "Index(['Unnamed: 0', 'date', 'id_x', 'user_id', 'text_x', 'author', 'retweet',\n",
       "       'id_retweet', 'user_id_retweet', 'text_complete', 'hashtags',\n",
       "       'colours'],\n",
       "      dtype='object')"
      ]
     },
     "execution_count": 4,
     "metadata": {},
     "output_type": "execute_result"
    }
   ],
   "source": [
    "df_tweets.columns"
   ]
  },
  {
   "cell_type": "code",
   "execution_count": 5,
   "metadata": {},
   "outputs": [],
   "source": [
    "df_retweeted=pd.read_csv('retweetted2_nogreenpass_vaccinatevi_casapound.csv')"
   ]
  },
  {
   "cell_type": "code",
   "execution_count": 6,
   "metadata": {},
   "outputs": [
    {
     "data": {
      "text/plain": [
       "Index(['Unnamed: 0', 'date', 'id', 'author_id', 'text', 'like', 'n_rt',\n",
       "       'author', 'colours'],\n",
       "      dtype='object')"
      ]
     },
     "execution_count": 6,
     "metadata": {},
     "output_type": "execute_result"
    }
   ],
   "source": [
    "df_retweeted.columns"
   ]
  },
  {
   "cell_type": "code",
   "execution_count": 7,
   "metadata": {},
   "outputs": [],
   "source": [
    "retweeted=df_retweeted.merge(df_tweets[['id_retweet','user_id_retweet','text_complete','hashtags','colours']],left_on=['id','author_id'],right_on=['id_retweet','user_id_retweet'],how='left')[['id', 'author_id', 'author','n_rt','text_complete','hashtags', 'colours_y']].reset_index(drop=True)"
   ]
  },
  {
   "cell_type": "code",
   "execution_count": 8,
   "metadata": {},
   "outputs": [],
   "source": [
    "retweeted=retweeted.drop_duplicates(['id','author_id','author']).reset_index(drop=True)"
   ]
  },
  {
   "cell_type": "code",
   "execution_count": 9,
   "metadata": {},
   "outputs": [
    {
     "data": {
      "text/plain": [
       "Index(['id', 'author_id', 'author', 'n_rt', 'text_complete', 'hashtags',\n",
       "       'colours_y'],\n",
       "      dtype='object')"
      ]
     },
     "execution_count": 9,
     "metadata": {},
     "output_type": "execute_result"
    }
   ],
   "source": [
    "retweeted.columns"
   ]
  },
  {
   "cell_type": "code",
   "execution_count": 109,
   "metadata": {},
   "outputs": [
    {
     "data": {
      "text/html": [
       "<div>\n",
       "<style scoped>\n",
       "    .dataframe tbody tr th:only-of-type {\n",
       "        vertical-align: middle;\n",
       "    }\n",
       "\n",
       "    .dataframe tbody tr th {\n",
       "        vertical-align: top;\n",
       "    }\n",
       "\n",
       "    .dataframe thead th {\n",
       "        text-align: right;\n",
       "    }\n",
       "</style>\n",
       "<table border=\"1\" class=\"dataframe\">\n",
       "  <thead>\n",
       "    <tr style=\"text-align: right;\">\n",
       "      <th></th>\n",
       "      <th>id</th>\n",
       "      <th>author_id</th>\n",
       "      <th>author</th>\n",
       "      <th>n_rt</th>\n",
       "      <th>text_complete</th>\n",
       "      <th>hashtags</th>\n",
       "      <th>colours_y</th>\n",
       "    </tr>\n",
       "  </thead>\n",
       "  <tbody>\n",
       "    <tr>\n",
       "      <th>0</th>\n",
       "      <td>1476028900312551426</td>\n",
       "      <td>2963478049</td>\n",
       "      <td>singerindubai</td>\n",
       "      <td>1</td>\n",
       "      <td>Ho appena visto #DontLookUp incredibile che lo...</td>\n",
       "      <td>['#NoGreenPass']</td>\n",
       "      <td>#fb1239</td>\n",
       "    </tr>\n",
       "    <tr>\n",
       "      <th>1</th>\n",
       "      <td>1475926285365006345</td>\n",
       "      <td>1364298062919794688</td>\n",
       "      <td>Lorenzo62752880</td>\n",
       "      <td>106</td>\n",
       "      <td>Anche il sindaco di Verona positivo nonostante...</td>\n",
       "      <td>['#NoGreenPass']</td>\n",
       "      <td>#fb1239</td>\n",
       "    </tr>\n",
       "    <tr>\n",
       "      <th>2</th>\n",
       "      <td>1476117524446130180</td>\n",
       "      <td>1296390431190679553</td>\n",
       "      <td>1nessuno100mil2</td>\n",
       "      <td>1</td>\n",
       "      <td>In Italia si respira una tensione enorme,  i n...</td>\n",
       "      <td>['#NoGreenPass']</td>\n",
       "      <td>#fb1239</td>\n",
       "    </tr>\n",
       "    <tr>\n",
       "      <th>3</th>\n",
       "      <td>1475960153648291841</td>\n",
       "      <td>1238800491632607232</td>\n",
       "      <td>gianluca826</td>\n",
       "      <td>60</td>\n",
       "      <td>Bassano del Grappa non si ferma. Resistenza do...</td>\n",
       "      <td>['#NoGreenPass']</td>\n",
       "      <td>#fb1239</td>\n",
       "    </tr>\n",
       "    <tr>\n",
       "      <th>4</th>\n",
       "      <td>1476095815525584896</td>\n",
       "      <td>1453282570582568960</td>\n",
       "      <td>IlDisilluso</td>\n",
       "      <td>19</td>\n",
       "      <td>\"Sono stati riportati più effetti avversi per ...</td>\n",
       "      <td>[]</td>\n",
       "      <td>#aaaacc</td>\n",
       "    </tr>\n",
       "    <tr>\n",
       "      <th>...</th>\n",
       "      <td>...</td>\n",
       "      <td>...</td>\n",
       "      <td>...</td>\n",
       "      <td>...</td>\n",
       "      <td>...</td>\n",
       "      <td>...</td>\n",
       "      <td>...</td>\n",
       "    </tr>\n",
       "    <tr>\n",
       "      <th>555</th>\n",
       "      <td>1473913473734258688</td>\n",
       "      <td>1028235695092051968</td>\n",
       "      <td>MarcoDiCastro1</td>\n",
       "      <td>2</td>\n",
       "      <td>E qualcuno dirà che adesso non è il momento. M...</td>\n",
       "      <td>['#casapound']</td>\n",
       "      <td>#042069</td>\n",
       "    </tr>\n",
       "    <tr>\n",
       "      <th>556</th>\n",
       "      <td>1469698310424477696</td>\n",
       "      <td>215699843</td>\n",
       "      <td>CasaPoundItalia</td>\n",
       "      <td>113</td>\n",
       "      <td>Super green pass, diversi flashmob di #CasaPou...</td>\n",
       "      <td>[]</td>\n",
       "      <td>#aaaacc</td>\n",
       "    </tr>\n",
       "    <tr>\n",
       "      <th>557</th>\n",
       "      <td>1470319310551851015</td>\n",
       "      <td>215699843</td>\n",
       "      <td>CasaPoundItalia</td>\n",
       "      <td>42</td>\n",
       "      <td>Video dei blitz di #CasaPound della giornata d...</td>\n",
       "      <td>[]</td>\n",
       "      <td>#aaaacc</td>\n",
       "    </tr>\n",
       "    <tr>\n",
       "      <th>558</th>\n",
       "      <td>1471763819693318151</td>\n",
       "      <td>215699843</td>\n",
       "      <td>CasaPoundItalia</td>\n",
       "      <td>15</td>\n",
       "      <td>Alcune delle iniziative in programma questo fi...</td>\n",
       "      <td>[]</td>\n",
       "      <td>#aaaacc</td>\n",
       "    </tr>\n",
       "    <tr>\n",
       "      <th>559</th>\n",
       "      <td>1473167268917960704</td>\n",
       "      <td>627579169</td>\n",
       "      <td>pirata_21</td>\n",
       "      <td>7</td>\n",
       "      <td>Alpinista sopravvive dopo una notte in un crep...</td>\n",
       "      <td>[]</td>\n",
       "      <td>#aaaacc</td>\n",
       "    </tr>\n",
       "  </tbody>\n",
       "</table>\n",
       "<p>560 rows × 7 columns</p>\n",
       "</div>"
      ],
      "text/plain": [
       "                      id            author_id           author  n_rt  \\\n",
       "0    1476028900312551426           2963478049    singerindubai     1   \n",
       "1    1475926285365006345  1364298062919794688  Lorenzo62752880   106   \n",
       "2    1476117524446130180  1296390431190679553  1nessuno100mil2     1   \n",
       "3    1475960153648291841  1238800491632607232      gianluca826    60   \n",
       "4    1476095815525584896  1453282570582568960      IlDisilluso    19   \n",
       "..                   ...                  ...              ...   ...   \n",
       "555  1473913473734258688  1028235695092051968   MarcoDiCastro1     2   \n",
       "556  1469698310424477696            215699843  CasaPoundItalia   113   \n",
       "557  1470319310551851015            215699843  CasaPoundItalia    42   \n",
       "558  1471763819693318151            215699843  CasaPoundItalia    15   \n",
       "559  1473167268917960704            627579169        pirata_21     7   \n",
       "\n",
       "                                         text_complete          hashtags  \\\n",
       "0    Ho appena visto #DontLookUp incredibile che lo...  ['#NoGreenPass']   \n",
       "1    Anche il sindaco di Verona positivo nonostante...  ['#NoGreenPass']   \n",
       "2    In Italia si respira una tensione enorme,  i n...  ['#NoGreenPass']   \n",
       "3    Bassano del Grappa non si ferma. Resistenza do...  ['#NoGreenPass']   \n",
       "4    \"Sono stati riportati più effetti avversi per ...                []   \n",
       "..                                                 ...               ...   \n",
       "555  E qualcuno dirà che adesso non è il momento. M...    ['#casapound']   \n",
       "556  Super green pass, diversi flashmob di #CasaPou...                []   \n",
       "557  Video dei blitz di #CasaPound della giornata d...                []   \n",
       "558  Alcune delle iniziative in programma questo fi...                []   \n",
       "559  Alpinista sopravvive dopo una notte in un crep...                []   \n",
       "\n",
       "    colours_y  \n",
       "0     #fb1239  \n",
       "1     #fb1239  \n",
       "2     #fb1239  \n",
       "3     #fb1239  \n",
       "4     #aaaacc  \n",
       "..        ...  \n",
       "555   #042069  \n",
       "556   #aaaacc  \n",
       "557   #aaaacc  \n",
       "558   #aaaacc  \n",
       "559   #aaaacc  \n",
       "\n",
       "[560 rows x 7 columns]"
      ]
     },
     "execution_count": 109,
     "metadata": {},
     "output_type": "execute_result"
    }
   ],
   "source": [
    "retweeted"
   ]
  },
  {
   "cell_type": "code",
   "execution_count": 10,
   "metadata": {},
   "outputs": [],
   "source": [
    "nlp = spacy.load('it_core_news_lg') #, disable=['parser', 'ner'])"
   ]
  },
  {
   "cell_type": "code",
   "execution_count": 11,
   "metadata": {},
   "outputs": [],
   "source": [
    "retweeted['text_preprocessed']=retweeted['text_complete'].apply(lambda x: \" \".join(x.lower() for x in x.split()))\n",
    "\n",
    "#df_2['new_text_1']=0\n",
    "#df_2=df_2.reset_index(drop=True)"
   ]
  },
  {
   "cell_type": "code",
   "execution_count": 12,
   "metadata": {},
   "outputs": [],
   "source": [
    "#pulizia da simboli\n",
    "new_text=[]\n",
    "for index,row in retweeted.iterrows():\n",
    "    l1=[ t for t in row['text_preprocessed'].split() if t.startswith('#') ]\n",
    "    l2=[ t for t in row['text_preprocessed'].split() if t.startswith('http') ]\n",
    "    l3=[ t for t in row['text_preprocessed'].split() if t.startswith('@') ]\n",
    "    stopword=l1+l2+l3\n",
    "    querywords=row['text_preprocessed'].split()\n",
    "    resultwords=[word for word in querywords if word.lower() not in stopword]\n",
    "    result = ' '.join(resultwords)\n",
    "    new_text.append(result)\n",
    "\n",
    "retweeted['text_preprocessed']=new_text"
   ]
  },
  {
   "cell_type": "code",
   "execution_count": 60,
   "metadata": {},
   "outputs": [
    {
     "data": {
      "text/plain": [
       "'ho appena visto incredibile che lo abbiano permesso:il personaggio filantropo ricorda b. gates/biden e i nuovi ricchi che spacciano le loro idee per scienza.da vedere subito. rispecchia lo stato attuale!'"
      ]
     },
     "execution_count": 60,
     "metadata": {},
     "output_type": "execute_result"
    }
   ],
   "source": [
    "retweeted['text_preprocessed'][0]"
   ]
  },
  {
   "cell_type": "code",
   "execution_count": 13,
   "metadata": {},
   "outputs": [
    {
     "name": "stderr",
     "output_type": "stream",
     "text": [
      "C:\\Users\\Eric\\AppData\\Local\\Temp/ipykernel_27632/2839750736.py:2: FutureWarning: The default value of regex will change from True to False in a future version.\n",
      "  retweeted['text_preprocessed'] = retweeted['text_preprocessed'].str.replace('[^\\w\\s]',' ')\n"
     ]
    }
   ],
   "source": [
    "#vengono cancellati tutti i termini che non sono alfanumerici o che non corrispondono a spazi vuoti\n",
    "retweeted['text_preprocessed'] = retweeted['text_preprocessed'].str.replace('[^\\w\\s]',' ')\n"
   ]
  },
  {
   "cell_type": "code",
   "execution_count": 14,
   "metadata": {},
   "outputs": [
    {
     "data": {
      "text/plain": [
       "'ho appena visto incredibile che lo abbiano permesso il personaggio filantropo ricorda b  gates biden e i nuovi ricchi che spacciano le loro idee per scienza da vedere subito  rispecchia lo stato attuale '"
      ]
     },
     "execution_count": 14,
     "metadata": {},
     "output_type": "execute_result"
    }
   ],
   "source": [
    "retweeted['text_preprocessed'][0]"
   ]
  },
  {
   "cell_type": "code",
   "execution_count": 63,
   "metadata": {},
   "outputs": [],
   "source": [
    "##pulizia da emoji e lemmatization usando la library Spacy\n",
    "#result=[]\n",
    "#for i in retweeted.index:\n",
    "#    stopword=['u001f600','u0001f64f','u0001f5ff','u0001f300','u0001f680','u0001f6ff','u0001f1e0','u0001f1ff','u00002702','u000027b0','u000024c2','u0001f251']\n",
    "#    querywords=retweeted['text_preprocessed'][i].split()\n",
    "#    resultwords=[word for word in querywords if word.lower() not in stopword]\n",
    "#    result.append(' '.join(resultwords))\n",
    "#    \n",
    "#retweeted['text_preprocessed']=result\n",
    "#\n",
    "#stop = stopwords.words('italian')\n",
    "#\n",
    "#retweeted['text_preprocessed'] = retweeted['text_preprocessed'].apply(lambda x: \" \".join(x for x in x.split() if x not in stop))\n"
   ]
  },
  {
   "cell_type": "code",
   "execution_count": 64,
   "metadata": {},
   "outputs": [
    {
     "data": {
      "text/plain": [
       "'appena visto incredibile permesso personaggio filantropo ricorda b gates biden nuovi ricchi spacciano idee scienza vedere subito rispecchia stato attuale'"
      ]
     },
     "execution_count": 64,
     "metadata": {},
     "output_type": "execute_result"
    }
   ],
   "source": [
    "retweeted['text_preprocessed'][0]"
   ]
  },
  {
   "cell_type": "code",
   "execution_count": 15,
   "metadata": {},
   "outputs": [],
   "source": [
    "def space(comment):\n",
    "    doc = nlp(comment)\n",
    "    return \" \".join([token.lemma_ for token in doc])\n",
    "\n",
    "retweeted['text_preprocessed']= retweeted['text_preprocessed'].apply(space)"
   ]
  },
  {
   "cell_type": "code",
   "execution_count": 15,
   "metadata": {},
   "outputs": [
    {
     "data": {
      "text/plain": [
       "'avere appena vistare incredibile che lo avere permettere il personaggio filantropo ricordare b   gates biden e il nuovo ricco che spacciare il loro idea per scienza da vedere subito   rispecchiare il stato attuale'"
      ]
     },
     "execution_count": 15,
     "metadata": {},
     "output_type": "execute_result"
    }
   ],
   "source": [
    "retweeted['text_preprocessed'][0]"
   ]
  },
  {
   "cell_type": "code",
   "execution_count": 16,
   "metadata": {},
   "outputs": [],
   "source": [
    "from nltk.sentiment import vader\n",
    "import nltk"
   ]
  },
  {
   "cell_type": "code",
   "execution_count": 21,
   "metadata": {},
   "outputs": [],
   "source": [
    "sentix=pd.read_csv(\"sentix.csv\", header=None,delimiter=';')"
   ]
  },
  {
   "cell_type": "code",
   "execution_count": 133,
   "metadata": {},
   "outputs": [],
   "source": [
    "#riscaliamo i valori della sentiment come i precedenti valori del lexicon vader\n",
    "#consideriamo valori estremi di vader lexicon -4 e +4\n",
    "#consideriamo valori estremi di sentix lexicon -1 e +1\n",
    "\n",
    "with open(\"sentix.txt\",'w',encoding=\"utf-8\") as txt_file:\n",
    "    for index,line in sentix.iterrows():\n",
    "        scaled_score=(((float(line[5]) + 1)/2)*(8))-4\n",
    "        txt_file.write(str(line[0])+'\\t'+str(scaled_score)+'\\n')"
   ]
  },
  {
   "cell_type": "code",
   "execution_count": 96,
   "metadata": {},
   "outputs": [
    {
     "data": {
      "text/html": [
       "<div>\n",
       "<style scoped>\n",
       "    .dataframe tbody tr th:only-of-type {\n",
       "        vertical-align: middle;\n",
       "    }\n",
       "\n",
       "    .dataframe tbody tr th {\n",
       "        vertical-align: top;\n",
       "    }\n",
       "\n",
       "    .dataframe thead th {\n",
       "        text-align: right;\n",
       "    }\n",
       "</style>\n",
       "<table border=\"1\" class=\"dataframe\">\n",
       "  <thead>\n",
       "    <tr style=\"text-align: right;\">\n",
       "      <th></th>\n",
       "      <th>0</th>\n",
       "      <th>1</th>\n",
       "      <th>2</th>\n",
       "      <th>3</th>\n",
       "      <th>4</th>\n",
       "      <th>5</th>\n",
       "      <th>6</th>\n",
       "    </tr>\n",
       "  </thead>\n",
       "  <tbody>\n",
       "    <tr>\n",
       "      <th>0</th>\n",
       "      <td>abile</td>\n",
       "      <td>a</td>\n",
       "      <td>1740</td>\n",
       "      <td>0.125</td>\n",
       "      <td>0.00</td>\n",
       "      <td>1.0</td>\n",
       "      <td>0.125</td>\n",
       "    </tr>\n",
       "    <tr>\n",
       "      <th>1</th>\n",
       "      <td>intelligente</td>\n",
       "      <td>a</td>\n",
       "      <td>1740</td>\n",
       "      <td>0.125</td>\n",
       "      <td>0.00</td>\n",
       "      <td>1.0</td>\n",
       "      <td>0.125</td>\n",
       "    </tr>\n",
       "    <tr>\n",
       "      <th>2</th>\n",
       "      <td>valente</td>\n",
       "      <td>a</td>\n",
       "      <td>1740</td>\n",
       "      <td>0.125</td>\n",
       "      <td>0.00</td>\n",
       "      <td>1.0</td>\n",
       "      <td>0.125</td>\n",
       "    </tr>\n",
       "    <tr>\n",
       "      <th>3</th>\n",
       "      <td>capace</td>\n",
       "      <td>a</td>\n",
       "      <td>1740</td>\n",
       "      <td>0.125</td>\n",
       "      <td>0.00</td>\n",
       "      <td>1.0</td>\n",
       "      <td>0.125</td>\n",
       "    </tr>\n",
       "    <tr>\n",
       "      <th>4</th>\n",
       "      <td>incapace</td>\n",
       "      <td>a</td>\n",
       "      <td>2098</td>\n",
       "      <td>0.000</td>\n",
       "      <td>0.75</td>\n",
       "      <td>-1.0</td>\n",
       "      <td>0.750</td>\n",
       "    </tr>\n",
       "  </tbody>\n",
       "</table>\n",
       "</div>"
      ],
      "text/plain": [
       "              0  1     2      3     4    5      6\n",
       "0         abile  a  1740  0.125  0.00  1.0  0.125\n",
       "1  intelligente  a  1740  0.125  0.00  1.0  0.125\n",
       "2       valente  a  1740  0.125  0.00  1.0  0.125\n",
       "3        capace  a  1740  0.125  0.00  1.0  0.125\n",
       "4      incapace  a  2098  0.000  0.75 -1.0  0.750"
      ]
     },
     "execution_count": 96,
     "metadata": {},
     "output_type": "execute_result"
    }
   ],
   "source": [
    "sentix.head()"
   ]
  },
  {
   "cell_type": "code",
   "execution_count": 9,
   "metadata": {},
   "outputs": [
    {
     "data": {
      "text/plain": [
       "{'a', 'n', 'r', 'v'}"
      ]
     },
     "execution_count": 9,
     "metadata": {},
     "output_type": "execute_result"
    }
   ],
   "source": [
    "set(list(sentix.iloc[:,1]))"
   ]
  },
  {
   "cell_type": "code",
   "execution_count": 22,
   "metadata": {},
   "outputs": [],
   "source": [
    "d= dict([(parola,score) for parola, score in zip(sentix[0],sentix[5])])\n",
    "sentix_dict=d"
   ]
  },
  {
   "cell_type": "code",
   "execution_count": 23,
   "metadata": {},
   "outputs": [],
   "source": [
    "Analyzer = vader.SentimentIntensityAnalyzer()\n",
    "\n",
    "Analyzer.lexicon.update(sentix_dict)"
   ]
  },
  {
   "cell_type": "code",
   "execution_count": 24,
   "metadata": {},
   "outputs": [],
   "source": [
    "from vaderSentiment import vaderSentiment"
   ]
  },
  {
   "cell_type": "code",
   "execution_count": 143,
   "metadata": {},
   "outputs": [],
   "source": [
    "#arricchimento vader lexicon\n",
    "with open('lexicon_vader_enriched.txt','w',encoding=\"utf-8\") as newfile:\n",
    "    with open('vader_lexicon.txt') as vader_file:\n",
    "        for line in vader_file:\n",
    "            newfile.write(line)\n",
    "    with open('sentix.txt',encoding=\"utf-8\") as sentix_file:\n",
    "        for line in sentix_file:\n",
    "            newfile.write(line)"
   ]
  },
  {
   "cell_type": "code",
   "execution_count": 25,
   "metadata": {},
   "outputs": [],
   "source": [
    "from vader_sentiment.vader_sentiment import SentimentIntensityAnalyzer"
   ]
  },
  {
   "cell_type": "code",
   "execution_count": 26,
   "metadata": {},
   "outputs": [],
   "source": [
    "analyzer2=SentimentIntensityAnalyzer(lexicon_file='sentix.txt',emoji_lexicon='emoji_utf8_lexicon.txt')"
   ]
  },
  {
   "cell_type": "code",
   "execution_count": 27,
   "metadata": {},
   "outputs": [],
   "source": [
    "#non facciamo pulizia del testo sulle emojii\n",
    "analyzer = vaderSentiment.SentimentIntensityAnalyzer(lexicon_file='lexicon_vader_enriched.txt',emoji_lexicon='emoji_utf8_lexicon.txt')\n",
    "\n",
    "#il termine \"positivo\" è stato modificato associandolo a un sentiment negativo\n",
    "#il termine \"negativo\" è associato a un sentiment neutro\n"
   ]
  },
  {
   "cell_type": "code",
   "execution_count": 46,
   "metadata": {},
   "outputs": [
    {
     "name": "stdout",
     "output_type": "stream",
     "text": [
      "2022   il futuro essere soltanto nostro il coord   emilia rom   invitare tutto il cittadino venerdì 31 dicembre   alla ora 15 00   presso piazzale jacchia del giardino margherita di per celebrare il nuovo anno in uno evento comporre da parola   teatro   poesia e musica\n",
      "\n",
      "\n",
      "NLTK:  {'neg': 0.141, 'neu': 0.572, 'pos': 0.286, 'compound': 0.6798}\n",
      "VADER-MULTI:  {'neg': 0.101, 'neu': 0.791, 'pos': 0.108, 'compound': -0.1779}\n",
      "VADER:  {'neg': 0.211, 'neu': 0.359, 'pos': 0.43, 'compound': 0.9655}\n"
     ]
    }
   ],
   "source": [
    "testo=retweeted['text_preprocessed'][16]\n",
    "#testo='positivo'\n",
    "\n",
    "print(testo)\n",
    "print('\\n')\n",
    "print('NLTK: ',Analyzer.polarity_scores(testo))\n",
    "print('VADER-MULTI: ', analyzer.polarity_scores(testo)) #algoritmo migliore\n",
    "print('VADER: ', analyzer2.polarity_scores(testo))"
   ]
  },
  {
   "cell_type": "code",
   "execution_count": null,
   "metadata": {},
   "outputs": [],
   "source": []
  }
 ],
 "metadata": {
  "interpreter": {
   "hash": "df2666e76e52a2f771a8cfba8f6cfbfdd93be2d7973ee6ffbf7a2267d71ba071"
  },
  "kernelspec": {
   "display_name": "Python 3.8.10 64-bit (windows store)",
   "language": "python",
   "name": "python3"
  },
  "language_info": {
   "codemirror_mode": {
    "name": "ipython",
    "version": 3
   },
   "file_extension": ".py",
   "mimetype": "text/x-python",
   "name": "python",
   "nbconvert_exporter": "python",
   "pygments_lexer": "ipython3",
   "version": "3.8.10"
  },
  "orig_nbformat": 4
 },
 "nbformat": 4,
 "nbformat_minor": 2
}
